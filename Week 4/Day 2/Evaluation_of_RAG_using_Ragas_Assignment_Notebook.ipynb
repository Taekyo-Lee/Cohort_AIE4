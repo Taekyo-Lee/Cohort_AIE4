{
  "cells": [
    {
      "cell_type": "markdown",
      "metadata": {
        "id": "wa8ykQk92aLX"
      },
      "source": [
        "# Evaluation of RAG Using Ragas\n",
        "\n",
        "In the following notebook we'll explore how to evaluate RAG pipelines using a powerful open-source tool called \"Ragas\". This will give us tools to evaluate component-wise metrics, as well as end-to-end metrics about the performance of our RAG pipelines.\n",
        "\n",
        "In the following notebook we'll complete the following tasks:\n",
        "\n",
        "The only way to get started is to get started - so let's grab our dependencies for the day!\n",
        "\n",
        "> NOTE: Using this notebook as presented will incur a charge of ~$3USD from OpenAI usage.\n",
        "\n",
        "- 🤝 Breakout Room #1\n",
        "  1. Task 1: Installing Required Libraries\n",
        "  2. Task 2: Set Environment Variables\n",
        "  3. Task 3: Creating a Simple RAG Pipeline with LangChain v.0.2.0\n",
        "  4. Task 4: Synthetic Dataset Generation for Evaluation using Ragas (Optional)\n",
        "\n",
        "- 🤝 Breakout Room #2\n",
        "  1. Task 1: Evaluating our Pipeline with Ragas\n",
        "  2. Task 2: Testing OpenAI's Claim\n",
        "  3. Task 3: Selecting an Advanced Retriever and Evaluating\n",
        "\n",
        "> NOTE: This Notebook *does* contain a bonus challenge, outlined at the bottom of the notebook, which you can complete instead of the notebook for full marks on the assignment."
      ]
    },
    {
      "cell_type": "markdown",
      "metadata": {
        "id": "8h4yh6f7q9uN"
      },
      "source": [
        "## Motivation\n",
        "\n",
        "A claim, made by OpenAI, is that their `text-embedding-3-small` is better (generally) than their `text-embedding-ada-002` model.\n",
        "\n",
        "Here's some passages from their [blog](https://openai.com/blog/new-embedding-models-and-api-updates) about the `text-embedding-3` release:\n",
        "\n",
        "> `text-embedding-3-small` is our new highly efficient embedding model and provides a significant upgrade over its predecessor, the `text-embedding-ada-002` model...\n",
        "\n",
        "> **Stronger performance.** Comparing `text-embedding-ada-002` to `text-embedding-3-small`, the average score on a commonly used benchmark for multi-language retrieval ([MIRACL](https://github.com/project-miracl/miracl)) has increased from 31.4% to 44.0%, while the average score on a commonly used benchmark for English tasks ([MTEB](https://github.com/embeddings-benchmark/mteb)) has increased from 61.0% to 62.3%.\n",
        "\n",
        "Well, with a library like Ragas - we can put that claim to the test!\n",
        "\n",
        "If what they claim is true - we should see an increase on related metrics by using the new embedding model!"
      ]
    },
    {
      "cell_type": "markdown",
      "metadata": {
        "id": "wAH1znJ2pIp3"
      },
      "source": [
        "# 🤝 Breakout Room Part #1"
      ]
    },
    {
      "cell_type": "markdown",
      "metadata": {
        "id": "hpkXAmMZpLhm"
      },
      "source": [
        "## Task 1: Installing Required Libraries\n",
        "\n",
        "A reminder that one of the [key features](https://python.langchain.com/v0.2/docs/versions/v0_2/) of LangChain v0.2.0 is the compartmentalization of the various LangChain ecosystem packages!\n",
        "\n",
        "So let's begin grabbing all of our LangChain related packages!"
      ]
    },
    {
      "cell_type": "code",
      "execution_count": 1,
      "metadata": {
        "colab": {
          "base_uri": "https://localhost:8080/"
        },
        "id": "5BN13TZlSCv4",
        "outputId": "424a6920-0cea-4e28-dce0-3de6f0a4cc3c"
      },
      "outputs": [],
      "source": [
        "# !pip install -U -q langchain langchain-openai langchain_core langchain-community langchainhub openai langchain-qdrant"
      ]
    },
    {
      "cell_type": "markdown",
      "metadata": {
        "id": "fm7gXsD6pqG0"
      },
      "source": [
        "We'll also get the \"star of the show\" today, which is Ragas!"
      ]
    },
    {
      "cell_type": "code",
      "execution_count": 2,
      "metadata": {
        "colab": {
          "base_uri": "https://localhost:8080/"
        },
        "id": "zvAvDNWBpjQ1",
        "outputId": "af63e166-d8b2-4c1d-ae92-9c9583b17cd8"
      },
      "outputs": [],
      "source": [
        "# !pip install -qU ragas"
      ]
    },
    {
      "cell_type": "markdown",
      "metadata": {
        "id": "L9q6Z9oTpw3X"
      },
      "source": [
        "We'll be leveraging [QDrant](https://qdrant.tech/) again as our LangChain `VectorStore`.\n",
        "\n",
        "We'll also install `pymupdf` and its dependencies which will allow us to load PDFs using the `PyMuPDFLoader` in the `langchain-community` package!"
      ]
    },
    {
      "cell_type": "code",
      "execution_count": 3,
      "metadata": {
        "colab": {
          "base_uri": "https://localhost:8080/"
        },
        "id": "sAJK95napn8I",
        "outputId": "8143e80f-aaed-4c32-968f-2668ccdd61af"
      },
      "outputs": [],
      "source": [
        "# !pip install -qU qdrant-client pymupdf pandas"
      ]
    },
    {
      "cell_type": "markdown",
      "metadata": {
        "id": "0_C2JvG1qO3h"
      },
      "source": [
        "## Task 2: Set Environment Variables\n",
        "\n",
        "Let's set up our OpenAI API key so we can leverage their API later on."
      ]
    },
    {
      "cell_type": "code",
      "execution_count": 1,
      "metadata": {
        "colab": {
          "base_uri": "https://localhost:8080/"
        },
        "id": "8Lhqp5rUThG-",
        "outputId": "324720ff-e540-4608-ebe7-a64dddd24e13"
      },
      "outputs": [],
      "source": [
        "import os\n",
        "import openai\n",
        "import getpass\n",
        "from langchain_core.tracers.context import tracing_v2_enabled\n",
        "\n",
        "os.environ[\"LANGCHAIN_TRACING_V2\"] = \"true\"\n",
        "os.environ[\"LANGCHAIN_PROJECT\"] = f\"AIM-WEEK4-DAY2-SDG-AND-EVAL\"\n",
        "os.environ[\"LANGCHAIN_API_KEY\"] = getpass.getpass(\"LangChain API Key:\")\n",
        "os.environ[\"OPENAI_API_KEY\"] = getpass.getpass(\"OpenAI API Key:\")"
      ]
    },
    {
      "cell_type": "markdown",
      "metadata": {
        "id": "TFbWNvo3rZ4H"
      },
      "source": [
        "## Task 3: Creating a Simple RAG Pipeline with LangChain v0.2.0\n",
        "\n",
        "Building on what we've been learning, we'll be leveraging LangChain v0.2.0 and LCEL to build a simple RAG pipeline that we can baseline with Ragas."
      ]
    },
    {
      "cell_type": "markdown",
      "metadata": {
        "id": "DV_BOewX8CW0"
      },
      "source": [
        "## Building our RAG pipeline\n",
        "\n",
        "Let's review the basic steps of RAG again:\n",
        "\n",
        "- Create an Index\n",
        "- Use retrieval to obtain pieces of context from our Index that are similar to our query\n",
        "- Use a LLM to generate responses based on the retrieved context\n",
        "\n",
        "Let's get started by creating our index.\n",
        "\n",
        "> NOTE: We're going to start leaning on the term \"index\" to refer to our `VectorStore`, `VectorDatabase`, etc. We can think of \"index\" as the catch-all term, whereas `VectorStore` and the like relate to the specific technologies used to create, store, and interact with the index."
      ]
    },
    {
      "cell_type": "markdown",
      "metadata": {
        "id": "1VDGJdxCJEVc"
      },
      "source": [
        "### Creating an Index\n",
        "\n",
        "You'll notice that the largest changes (outside of some import changes) are that our old favourite chains are back to being bundled in an easily usable abstraction.\n",
        "\n",
        "We can still create custom chains using LCEL - but we can also be more confident that our pre-packaged chains are creating using LCEL under the hood."
      ]
    },
    {
      "cell_type": "markdown",
      "metadata": {
        "id": "RmFFThawK8lO"
      },
      "source": [
        "#### Loading Data\n",
        "\n",
        "Let's start by loading some data!\n",
        "\n",
        "- [`PyMuPDFLoader`](https://api.python.langchain.com/en/latest/document_loaders/langchain_community.document_loaders.pdf.PyMuPDFLoader.html)\n",
        "\n",
        "> NOTE: You'll notice that we're using a document loader from the community package of LangChain. This is part of the v0.2.0 changes that make the base (`langchain-core`) package remain lightweight while still providing access to some of the more powerful community integrations."
      ]
    },
    {
      "cell_type": "code",
      "execution_count": 2,
      "metadata": {
        "id": "DTDNFXaBSO2j"
      },
      "outputs": [
        {
          "name": "stdout",
          "output_type": "stream",
          "text": [
            "195\n"
          ]
        }
      ],
      "source": [
        "from langchain_community.document_loaders import PyMuPDFLoader\n",
        "\n",
        "PDF_LINK = \"https://d1lamhf6l6yk6d.cloudfront.net/uploads/2021/08/The-pmarca-Blog-Archives.pdf\"\n",
        "\n",
        "loader = PyMuPDFLoader(\n",
        "    ### YOUR CODE HERE\n",
        "    file_path = PDF_LINK\n",
        ")\n",
        "\n",
        "# documents = ### YOUR CODE HERE\n",
        "documents = loader.load()\n",
        "print(len(documents))"
      ]
    },
    {
      "cell_type": "code",
      "execution_count": 3,
      "metadata": {},
      "outputs": [
        {
          "name": "stdout",
          "output_type": "stream",
          "text": [
            "id: None\n",
            "metadata: {'source': 'https://d1lamhf6l6yk6d.cloudfront.net/uploads/2021/08/The-pmarca-Blog-Archives.pdf', 'file_path': 'https://d1lamhf6l6yk6d.cloudfront.net/uploads/2021/08/The-pmarca-Blog-Archives.pdf', 'page': 0, 'total_pages': 195, 'format': 'PDF 1.3', 'title': 'The Pmarca Blog Archives', 'author': '', 'subject': '', 'keywords': '', 'creator': '', 'producer': 'Mac OS X 10.10 Quartz PDFContext', 'creationDate': \"D:20150110020418Z00'00'\", 'modDate': \"D:20150110020418Z00'00'\", 'trapped': ''}\n",
            "type: Document\n",
            "--------------------------------------------------------------------------------\n",
            "The Pmarca Blog Archives\n",
            "(select posts from 2007-2009)\n",
            "Marc Andreessen\n",
            "\n"
          ]
        }
      ],
      "source": [
        "# 🚀 My own cell\n",
        "\n",
        "for field in documents[0].__fields__:\n",
        "    if field == \"page_content\": continue\n",
        "    print(f\"{field}: {getattr(documents[0], field)}\")\n",
        "\n",
        "\n",
        "print('-'*80)\n",
        "print(documents[1].page_content[:1000])"
      ]
    },
    {
      "cell_type": "markdown",
      "metadata": {
        "id": "oQUl3sbZK4_1"
      },
      "source": [
        "#### Transforming Data\n",
        "\n",
        "Now that we've got our single document - let's split it into smaller pieces so we can more effectively leverage it with our retrieval chain!\n",
        "\n",
        "We'll start with the classic: `RecursiveCharacterTextSplitter`.\n",
        "\n",
        "- [`RecursiveCharacterTextSplitter`](https://api.python.langchain.com/en/latest/character/langchain_text_splitters.character.RecursiveCharacterTextSplitter.html#langchain-text-splitters-character-recursivecharactertextsplitter)"
      ]
    },
    {
      "cell_type": "code",
      "execution_count": 4,
      "metadata": {
        "id": "6Nt2E1xnLNgr"
      },
      "outputs": [],
      "source": [
        "from langchain.text_splitter import RecursiveCharacterTextSplitter\n",
        "\n",
        "CHUNK_SIZE = 200\n",
        "CHUNK_OVERLAP = 50\n",
        "\n",
        "text_splitter = RecursiveCharacterTextSplitter(\n",
        "    chunk_size = CHUNK_SIZE,\n",
        "    chunk_overlap = CHUNK_OVERLAP\n",
        ")\n",
        "\n",
        "# documents = ### YOUR CODE HERE\n",
        "documents = text_splitter.split_documents(documents)"
      ]
    },
    {
      "cell_type": "markdown",
      "metadata": {
        "id": "ilzwQxhiLcVV"
      },
      "source": [
        "Let's confirm we've split our document."
      ]
    },
    {
      "cell_type": "code",
      "execution_count": 5,
      "metadata": {
        "colab": {
          "base_uri": "https://localhost:8080/"
        },
        "id": "4wRw6a4aLfWh",
        "outputId": "cc81e601-0c24-48a8-929d-6503ce135d0f"
      },
      "outputs": [
        {
          "data": {
            "text/plain": [
              "1864"
            ]
          },
          "execution_count": 5,
          "metadata": {},
          "output_type": "execute_result"
        }
      ],
      "source": [
        "len(documents)"
      ]
    },
    {
      "cell_type": "markdown",
      "metadata": {
        "id": "eZ93HkYcMJwW"
      },
      "source": [
        "#### Loading OpenAI Embeddings Model\n",
        "\n",
        "We'll need a process by which we can convert our text into vectors that allow us to compare to our query vector.\n",
        "\n",
        "Let's use OpenAI's `text-embedding-ada-002` for this task!\n",
        "\n",
        "- [`OpenAIEmbeddings`](https://api.python.langchain.com/en/latest/embeddings/langchain_openai.embeddings.base.OpenAIEmbeddings.html#langchain-openai-embeddings-base-openaiembeddings)\n",
        "\n",
        "> NOTE: We are purposefully using an older embedding model to try and answer the guiding question: Is TE3 better than Ada-002?"
      ]
    },
    {
      "cell_type": "code",
      "execution_count": 6,
      "metadata": {
        "id": "JU6CrDVZMgKe"
      },
      "outputs": [],
      "source": [
        "from langchain_openai import OpenAIEmbeddings\n",
        "\n",
        "EMBEDDING_MODEL = \"text-embedding-ada-002\"\n",
        "\n",
        "embeddings = OpenAIEmbeddings(\n",
        "    ### YOUR CODE HERE\n",
        "    model = EMBEDDING_MODEL\n",
        ")"
      ]
    },
    {
      "cell_type": "markdown",
      "metadata": {
        "id": "rVtZR9JPLtR4"
      },
      "source": [
        "#### Creating a QDrant VectorStore\n",
        "\n",
        "Now that we have documents - we'll need a place to store them alongside their embeddings.\n",
        "\n",
        "- [`Qdrant`](https://api.python.langchain.com/en/latest/qdrant/langchain_qdrant.qdrant.QdrantVectorStore.html#langchain_qdrant.qdrant.QdrantVectorStore)\n",
        "\n",
        "> NOTE: You'll need to provide the embedding dimension for Ada-002!"
      ]
    },
    {
      "cell_type": "code",
      "execution_count": 7,
      "metadata": {
        "id": "978TWiCtMA0B"
      },
      "outputs": [],
      "source": [
        "from langchain_qdrant import QdrantVectorStore\n",
        "from qdrant_client import QdrantClient\n",
        "from qdrant_client.http.models import Distance, VectorParams\n",
        "\n",
        "LOCATION = \":memory:\"\n",
        "COLLECTION_NAME = \"PMarca Blogs\"\n",
        "VECTOR_SIZE = 1536"
      ]
    },
    {
      "cell_type": "code",
      "execution_count": 8,
      "metadata": {
        "colab": {
          "base_uri": "https://localhost:8080/"
        },
        "id": "drC1jM3pwmEN",
        "outputId": "8b50044c-7cd4-495c-ae2d-a89cdef9dc47"
      },
      "outputs": [],
      "source": [
        "# qdrant_client = ### YOUR CODE HERE\n",
        "qdrant_client = QdrantClient(location = LOCATION)\n",
        "\n",
        "qdrant_client.create_collection(\n",
        "    ### YOUR CODE HERE\n",
        "    collection_name = COLLECTION_NAME,\n",
        "    vectors_config = VectorParams(size=VECTOR_SIZE, distance=Distance.COSINE)\n",
        ")\n",
        "\n",
        "qdrant_vector_store = QdrantVectorStore(\n",
        "    ### YOUR CODE HERE\n",
        "    client = qdrant_client,\n",
        "    collection_name=COLLECTION_NAME,\n",
        "    embedding=embeddings\n",
        ")\n",
        "\n",
        "ids = qdrant_vector_store.add_documents(documents)"
      ]
    },
    {
      "cell_type": "markdown",
      "metadata": {
        "id": "Vk50NmrMDlWu"
      },
      "source": [
        "#### ❓ Question #1:\n",
        "\n",
        "List out a few of the techniques that Qdrant uses that make it performant.\n",
        "\n",
        "> NOTE: Check the [documentation](https://qdrant.tech/documentation/overview/) for more information about QDrant!"
      ]
    },
    {
      "cell_type": "markdown",
      "metadata": {},
      "source": [
        "#### 🚀 Answer to Question #1:"
      ]
    },
    {
      "cell_type": "code",
      "execution_count": 9,
      "metadata": {},
      "outputs": [
        {
          "name": "stdout",
          "output_type": "stream",
          "text": [
            "Five: Inconsistency-Avoidance Tendency\n",
            "[People are] reluctant to change, which is a form of inconsistency\n",
            "avoidance. We see this in all human habits, constructive and\n",
            "--------------------------------------------------------------------------------\n",
            "less brain-blocked by its previous conclusions…\n",
            "One corollary of Inconsistency-Avoidance Tendency is that a per-\n",
            "son making big sacriXces in the course of assuming a new identity\n",
            "--------------------------------------------------------------------------------\n",
            "[T]ending to be maintained in place by the anti-change tendency\n",
            "of the brain are one’s previous conclusions, human loyalties, repu-\n",
            "tational identity, commitments…\n",
            "--------------------------------------------------------------------------------\n"
          ]
        }
      ],
      "source": [
        "# 🚀 Similarity search\n",
        "\n",
        "query = \"How does the tendency to avoid inconsistency contribute to people being reluctant to change?\"\n",
        "results = qdrant_vector_store.similarity_search(query, k=3)\n",
        "for result in results:\n",
        "    print(result.page_content[:1000])\n",
        "    print('-'*80)\n"
      ]
    },
    {
      "cell_type": "code",
      "execution_count": 11,
      "metadata": {},
      "outputs": [
        {
          "data": {
            "application/vnd.jupyter.widget-view+json": {
              "model_id": "557713a781db4100aef1e4575d33b2c1",
              "version_major": 2,
              "version_minor": 0
            },
            "text/plain": [
              "Fetching 29 files:   0%|          | 0/29 [00:00<?, ?it/s]"
            ]
          },
          "metadata": {},
          "output_type": "display_data"
        },
        {
          "data": {
            "application/vnd.jupyter.widget-view+json": {
              "model_id": "37ad5d2947984528b12fccbb93ca4667",
              "version_major": 2,
              "version_minor": 0
            },
            "text/plain": [
              "danish.txt:   0%|          | 0.00/424 [00:00<?, ?B/s]"
            ]
          },
          "metadata": {},
          "output_type": "display_data"
        },
        {
          "data": {
            "application/vnd.jupyter.widget-view+json": {
              "model_id": "f1576d8629604afeba7d090328efee52",
              "version_major": 2,
              "version_minor": 0
            },
            "text/plain": [
              "arabic.txt:   0%|          | 0.00/6.35k [00:00<?, ?B/s]"
            ]
          },
          "metadata": {},
          "output_type": "display_data"
        },
        {
          "data": {
            "application/vnd.jupyter.widget-view+json": {
              "model_id": "b1c6336c670d4da382edde9fa41c6907",
              "version_major": 2,
              "version_minor": 0
            },
            "text/plain": [
              "bengali.txt:   0%|          | 0.00/5.44k [00:00<?, ?B/s]"
            ]
          },
          "metadata": {},
          "output_type": "display_data"
        },
        {
          "data": {
            "application/vnd.jupyter.widget-view+json": {
              "model_id": "7e316c2b8ead4b16ae2833e2262f9fdd",
              "version_major": 2,
              "version_minor": 0
            },
            "text/plain": [
              "azerbaijani.txt:   0%|          | 0.00/967 [00:00<?, ?B/s]"
            ]
          },
          "metadata": {},
          "output_type": "display_data"
        },
        {
          "data": {
            "application/vnd.jupyter.widget-view+json": {
              "model_id": "224cd1e479fa40209c9d9ee858e6c84b",
              "version_major": 2,
              "version_minor": 0
            },
            "text/plain": [
              "catalan.txt:   0%|          | 0.00/1.56k [00:00<?, ?B/s]"
            ]
          },
          "metadata": {},
          "output_type": "display_data"
        },
        {
          "data": {
            "application/vnd.jupyter.widget-view+json": {
              "model_id": "985c69b5659f468da6d280548512453f",
              "version_major": 2,
              "version_minor": 0
            },
            "text/plain": [
              "dutch.txt:   0%|          | 0.00/453 [00:00<?, ?B/s]"
            ]
          },
          "metadata": {},
          "output_type": "display_data"
        },
        {
          "data": {
            "application/vnd.jupyter.widget-view+json": {
              "model_id": "f7cf38dbf5d94da3853d8f02fa437546",
              "version_major": 2,
              "version_minor": 0
            },
            "text/plain": [
              "chinese.txt:   0%|          | 0.00/5.56k [00:00<?, ?B/s]"
            ]
          },
          "metadata": {},
          "output_type": "display_data"
        },
        {
          "data": {
            "application/vnd.jupyter.widget-view+json": {
              "model_id": "24d83f44f702440d9355a46b8edeff5d",
              "version_major": 2,
              "version_minor": 0
            },
            "text/plain": [
              "basque.txt:   0%|          | 0.00/2.20k [00:00<?, ?B/s]"
            ]
          },
          "metadata": {},
          "output_type": "display_data"
        },
        {
          "data": {
            "application/vnd.jupyter.widget-view+json": {
              "model_id": "d81da1928b2a4e23b5098e2f07f12e86",
              "version_major": 2,
              "version_minor": 0
            },
            "text/plain": [
              "english.txt:   0%|          | 0.00/936 [00:00<?, ?B/s]"
            ]
          },
          "metadata": {},
          "output_type": "display_data"
        },
        {
          "data": {
            "application/vnd.jupyter.widget-view+json": {
              "model_id": "7abf1282697e4acba63c39d6b266b461",
              "version_major": 2,
              "version_minor": 0
            },
            "text/plain": [
              "finnish.txt:   0%|          | 0.00/1.58k [00:00<?, ?B/s]"
            ]
          },
          "metadata": {},
          "output_type": "display_data"
        },
        {
          "data": {
            "application/vnd.jupyter.widget-view+json": {
              "model_id": "9cc490037b2643359ed2a80bef7cc54a",
              "version_major": 2,
              "version_minor": 0
            },
            "text/plain": [
              "hebrew.txt:   0%|          | 0.00/1.84k [00:00<?, ?B/s]"
            ]
          },
          "metadata": {},
          "output_type": "display_data"
        },
        {
          "data": {
            "application/vnd.jupyter.widget-view+json": {
              "model_id": "cc8734c0ff244d35af4a6b8d3fe6dac0",
              "version_major": 2,
              "version_minor": 0
            },
            "text/plain": [
              "hinglish.txt:   0%|          | 0.00/5.96k [00:00<?, ?B/s]"
            ]
          },
          "metadata": {},
          "output_type": "display_data"
        },
        {
          "data": {
            "application/vnd.jupyter.widget-view+json": {
              "model_id": "9894df8e96a54c68a14449084516bb11",
              "version_major": 2,
              "version_minor": 0
            },
            "text/plain": [
              "hungarian.txt:   0%|          | 0.00/1.23k [00:00<?, ?B/s]"
            ]
          },
          "metadata": {},
          "output_type": "display_data"
        },
        {
          "data": {
            "application/vnd.jupyter.widget-view+json": {
              "model_id": "40716f2d3e654891896c56515ae0ee59",
              "version_major": 2,
              "version_minor": 0
            },
            "text/plain": [
              "french.txt:   0%|          | 0.00/813 [00:00<?, ?B/s]"
            ]
          },
          "metadata": {},
          "output_type": "display_data"
        },
        {
          "data": {
            "application/vnd.jupyter.widget-view+json": {
              "model_id": "dfb5cd8046ff4593a66be1e7028b8090",
              "version_major": 2,
              "version_minor": 0
            },
            "text/plain": [
              "greek.txt:   0%|          | 0.00/2.17k [00:00<?, ?B/s]"
            ]
          },
          "metadata": {},
          "output_type": "display_data"
        },
        {
          "data": {
            "application/vnd.jupyter.widget-view+json": {
              "model_id": "9d0a9fcc7de1494a94d70dbbb3b31f89",
              "version_major": 2,
              "version_minor": 0
            },
            "text/plain": [
              "german.txt:   0%|          | 0.00/1.36k [00:00<?, ?B/s]"
            ]
          },
          "metadata": {},
          "output_type": "display_data"
        },
        {
          "data": {
            "application/vnd.jupyter.widget-view+json": {
              "model_id": "4a8c29f4c9c042b7aa5082f8a7a8cee8",
              "version_major": 2,
              "version_minor": 0
            },
            "text/plain": [
              "indonesian.txt:   0%|          | 0.00/6.45k [00:00<?, ?B/s]"
            ]
          },
          "metadata": {},
          "output_type": "display_data"
        },
        {
          "data": {
            "application/vnd.jupyter.widget-view+json": {
              "model_id": "c1d4e13c74c34943bb0d1ffcc8e3a6da",
              "version_major": 2,
              "version_minor": 0
            },
            "text/plain": [
              "kazakh.txt:   0%|          | 0.00/3.88k [00:00<?, ?B/s]"
            ]
          },
          "metadata": {},
          "output_type": "display_data"
        },
        {
          "data": {
            "application/vnd.jupyter.widget-view+json": {
              "model_id": "7fd90284bc434c3d975e6a34c0739301",
              "version_major": 2,
              "version_minor": 0
            },
            "text/plain": [
              "italian.txt:   0%|          | 0.00/1.65k [00:00<?, ?B/s]"
            ]
          },
          "metadata": {},
          "output_type": "display_data"
        },
        {
          "data": {
            "application/vnd.jupyter.widget-view+json": {
              "model_id": "fcb96ca6158c4ddb84c8abd416da741c",
              "version_major": 2,
              "version_minor": 0
            },
            "text/plain": [
              "nepali.txt:   0%|          | 0.00/3.61k [00:00<?, ?B/s]"
            ]
          },
          "metadata": {},
          "output_type": "display_data"
        },
        {
          "data": {
            "application/vnd.jupyter.widget-view+json": {
              "model_id": "d40a00d2d15b4d1798c2290af306ae5b",
              "version_major": 2,
              "version_minor": 0
            },
            "text/plain": [
              "norwegian.txt:   0%|          | 0.00/851 [00:00<?, ?B/s]"
            ]
          },
          "metadata": {},
          "output_type": "display_data"
        },
        {
          "data": {
            "application/vnd.jupyter.widget-view+json": {
              "model_id": "0d9ac2096050405e943b8fc5742c4331",
              "version_major": 2,
              "version_minor": 0
            },
            "text/plain": [
              "portuguese.txt:   0%|          | 0.00/1.29k [00:00<?, ?B/s]"
            ]
          },
          "metadata": {},
          "output_type": "display_data"
        },
        {
          "data": {
            "application/vnd.jupyter.widget-view+json": {
              "model_id": "68a5c1e634fa4730a980c4998f55986e",
              "version_major": 2,
              "version_minor": 0
            },
            "text/plain": [
              "romanian.txt:   0%|          | 0.00/1.91k [00:00<?, ?B/s]"
            ]
          },
          "metadata": {},
          "output_type": "display_data"
        },
        {
          "data": {
            "application/vnd.jupyter.widget-view+json": {
              "model_id": "660f912766254ed095634a411f7460e6",
              "version_major": 2,
              "version_minor": 0
            },
            "text/plain": [
              "slovene.txt:   0%|          | 0.00/16.0k [00:00<?, ?B/s]"
            ]
          },
          "metadata": {},
          "output_type": "display_data"
        },
        {
          "data": {
            "application/vnd.jupyter.widget-view+json": {
              "model_id": "d9d9697ec0c14f108951828cf181da47",
              "version_major": 2,
              "version_minor": 0
            },
            "text/plain": [
              "russian.txt:   0%|          | 0.00/1.24k [00:00<?, ?B/s]"
            ]
          },
          "metadata": {},
          "output_type": "display_data"
        },
        {
          "data": {
            "application/vnd.jupyter.widget-view+json": {
              "model_id": "46cd9d59b2154bf5b36b6fac0b038378",
              "version_major": 2,
              "version_minor": 0
            },
            "text/plain": [
              "spanish.txt:   0%|          | 0.00/2.18k [00:00<?, ?B/s]"
            ]
          },
          "metadata": {},
          "output_type": "display_data"
        },
        {
          "data": {
            "application/vnd.jupyter.widget-view+json": {
              "model_id": "12a3b6efff59409ea62feb3c5de68b39",
              "version_major": 2,
              "version_minor": 0
            },
            "text/plain": [
              "turkish.txt:   0%|          | 0.00/260 [00:00<?, ?B/s]"
            ]
          },
          "metadata": {},
          "output_type": "display_data"
        },
        {
          "data": {
            "application/vnd.jupyter.widget-view+json": {
              "model_id": "c77a14145177441c87c1a52e5033d2ee",
              "version_major": 2,
              "version_minor": 0
            },
            "text/plain": [
              "tajik.txt:   0%|          | 0.00/1.82k [00:00<?, ?B/s]"
            ]
          },
          "metadata": {},
          "output_type": "display_data"
        },
        {
          "data": {
            "application/vnd.jupyter.widget-view+json": {
              "model_id": "e5a6fb9a891f4de6bd8e777b0fc79ed0",
              "version_major": 2,
              "version_minor": 0
            },
            "text/plain": [
              "swedish.txt:   0%|          | 0.00/559 [00:00<?, ?B/s]"
            ]
          },
          "metadata": {},
          "output_type": "display_data"
        },
        {
          "name": "stdout",
          "output_type": "stream",
          "text": [
            "Five: Inconsistency-Avoidance Tendency\n",
            "[People are] reluctant to change, which is a form of inconsistency\n",
            "avoidance. We see this in all human habits, constructive and\n",
            "--------------------------------------------------------------------------------\n",
            "less brain-blocked by its previous conclusions…\n",
            "One corollary of Inconsistency-Avoidance Tendency is that a per-\n",
            "son making big sacriXces in the course of assuming a new identity\n",
            "--------------------------------------------------------------------------------\n",
            "And avoid, avoid, avoid.\n",
            "Unethical people are unethical by nature, and the odds of a\n",
            "metaphorical jailhouse conversion are quite low.\n",
            "Priests, rabbis, and ministers should give people a second\n",
            "--------------------------------------------------------------------------------\n"
          ]
        }
      ],
      "source": [
        "# 🚀 Hybrid search\n",
        "from langchain_qdrant import FastEmbedSparse, RetrievalMode\n",
        "\n",
        "dense_embeddings = OpenAIEmbeddings()\n",
        "sparse_embeddings = FastEmbedSparse(model_name=\"Qdrant/bm25\")\n",
        "\n",
        "\n",
        "hybrid_qdrant_vector_store = QdrantVectorStore.from_documents(\n",
        "    documents = documents,\n",
        "    embedding = dense_embeddings,\n",
        "    sparse_embedding = sparse_embeddings,\n",
        "    location = \":memory:\",\n",
        "    collection_name = \"PMarca Blogs for Hybrid Search\",\n",
        "    retrieval_mode = RetrievalMode.HYBRID,\n",
        ")\n",
        "\n",
        "query = \"How does the tendency to avoid inconsistency contribute to people being reluctant to change?\"\n",
        "results = hybrid_qdrant_vector_store.similarity_search(query, k=3)\n",
        "\n",
        "for result in results:\n",
        "    print(result.page_content[:1000])\n",
        "    print('-'*80)"
      ]
    },
    {
      "cell_type": "code",
      "execution_count": 12,
      "metadata": {},
      "outputs": [
        {
          "name": "stdout",
          "output_type": "stream",
          "text": [
            "comes along. And while you’re at it, stop using most everything\n",
            "else also, please. Cut it out with the fads already. Posthaste. Chop\n",
            "chop.\n",
            "--------------------------------------------------------------------------------\n",
            "one knows that you shouldn’t need to raise more than $5.37 in\n",
            "loose change to start a new web business. I mean, c’mon.\n",
            "Entrepreneurs? Smoking dope. What are they thinking? Why\n",
            "--------------------------------------------------------------------------------\n",
            "In it, I attempted to use “logic” to explain the reasons we are\n",
            "most likely not in another dot com bubble.\n",
            "Since that time, talk of a new dot com bubble or Web 2.0 bubble\n",
            "--------------------------------------------------------------------------------\n"
          ]
        }
      ],
      "source": [
        "# 🚀 Search with filtering\n",
        "from qdrant_client import models\n",
        "\n",
        "query = \"How does the tendency to avoid inconsistency contribute to people being reluctant to change?\"\n",
        "results = qdrant_vector_store.similarity_search(\n",
        "    query = query, \n",
        "    k = 3,\n",
        "    filter = models.Filter( \n",
        "            must=[  models.FieldCondition( key=\"metadata.page\", range=models.Range(gte=190, lte=210) ) ] \n",
        "        )\n",
        "    )\n",
        "\n",
        "for result in results:\n",
        "    print(result.page_content[:1000])\n",
        "    print('-'*80)\n"
      ]
    },
    {
      "cell_type": "markdown",
      "metadata": {
        "id": "Z7ht6bJX9PAY"
      },
      "source": [
        "#### Creating a Retriever\n",
        "\n",
        "To complete our index, all that's left to do is expose our vectorstore as a retriever - which we can do the same way we would in previous version of LangChain!"
      ]
    },
    {
      "cell_type": "code",
      "execution_count": 10,
      "metadata": {
        "id": "xne8P5dQTUiR"
      },
      "outputs": [],
      "source": [
        "# retriever = ### YOUR CODE HERE\n",
        "retriever = qdrant_vector_store.as_retriever().with_config({'run_name':'RETRIEVER'})"
      ]
    },
    {
      "cell_type": "markdown",
      "metadata": {
        "id": "sO_DFBVKNvNm"
      },
      "source": [
        "#### Testing our Retriever\n",
        "\n",
        "Now that we've gone through the trouble of creating our retriever - let's see it in action!"
      ]
    },
    {
      "cell_type": "code",
      "execution_count": 11,
      "metadata": {
        "id": "I9_ONxpnN0n6"
      },
      "outputs": [],
      "source": [
        "retrieved_documents = retriever.invoke(\"What is a rule of thumb for selecting an industry to invest in?\")"
      ]
    },
    {
      "cell_type": "code",
      "execution_count": 12,
      "metadata": {
        "colab": {
          "base_uri": "https://localhost:8080/"
        },
        "id": "-Za12yt4OBy1",
        "outputId": "6ea18d4f-b045-43d4-c597-a13ff5b1c2c4"
      },
      "outputs": [
        {
          "name": "stdout",
          "output_type": "stream",
          "text": [
            "page_content='the existing order — and make sure that those forces of change\n",
            "have a reasonable chance at succeeding.\n",
            "Second rule of thumb:\n",
            "Once you have picked an industry, get right to the center of it' metadata={'source': 'https://d1lamhf6l6yk6d.cloudfront.net/uploads/2021/08/The-pmarca-Blog-Archives.pdf', 'file_path': 'https://d1lamhf6l6yk6d.cloudfront.net/uploads/2021/08/The-pmarca-Blog-Archives.pdf', 'page': 125, 'total_pages': 195, 'format': 'PDF 1.3', 'title': 'The Pmarca Blog Archives', 'author': '', 'subject': '', 'keywords': '', 'creator': '', 'producer': 'Mac OS X 10.10 Quartz PDFContext', 'creationDate': \"D:20150110020418Z00'00'\", 'modDate': \"D:20150110020418Z00'00'\", 'trapped': '', '_id': '55d3819eeff544a08d08456c5dfec7a6', '_collection_name': 'PMarca Blogs'}\n",
            "--------------------------------------------------------------------------------\n",
            "page_content='Third rule:\n",
            "In a rapidly changing Held like technology, the best place to\n",
            "get experience when you’re starting out is in younger, high-\n",
            "growth companies.' metadata={'source': 'https://d1lamhf6l6yk6d.cloudfront.net/uploads/2021/08/The-pmarca-Blog-Archives.pdf', 'file_path': 'https://d1lamhf6l6yk6d.cloudfront.net/uploads/2021/08/The-pmarca-Blog-Archives.pdf', 'page': 127, 'total_pages': 195, 'format': 'PDF 1.3', 'title': 'The Pmarca Blog Archives', 'author': '', 'subject': '', 'keywords': '', 'creator': '', 'producer': 'Mac OS X 10.10 Quartz PDFContext', 'creationDate': \"D:20150110020418Z00'00'\", 'modDate': \"D:20150110020418Z00'00'\", 'trapped': '', '_id': '8a2daa909bb844368766414ec9a9e933', '_collection_name': 'PMarca Blogs'}\n",
            "--------------------------------------------------------------------------------\n",
            "page_content='where the great opportunities can be found.\n",
            "Apply this rule when selecting which company to go to. Go to\n",
            "the company where all the action is happening.' metadata={'source': 'https://d1lamhf6l6yk6d.cloudfront.net/uploads/2021/08/The-pmarca-Blog-Archives.pdf', 'file_path': 'https://d1lamhf6l6yk6d.cloudfront.net/uploads/2021/08/The-pmarca-Blog-Archives.pdf', 'page': 125, 'total_pages': 195, 'format': 'PDF 1.3', 'title': 'The Pmarca Blog Archives', 'author': '', 'subject': '', 'keywords': '', 'creator': '', 'producer': 'Mac OS X 10.10 Quartz PDFContext', 'creationDate': \"D:20150110020418Z00'00'\", 'modDate': \"D:20150110020418Z00'00'\", 'trapped': '', '_id': 'a856ad7a6d084c1db9a7277036ffdace', '_collection_name': 'PMarca Blogs'}\n",
            "--------------------------------------------------------------------------------\n",
            "page_content='growth companies.\n",
            "(This is not necessarily true in older and more established\n",
            "industries, but those aren’t the industries we’re talking about.)' metadata={'source': 'https://d1lamhf6l6yk6d.cloudfront.net/uploads/2021/08/The-pmarca-Blog-Archives.pdf', 'file_path': 'https://d1lamhf6l6yk6d.cloudfront.net/uploads/2021/08/The-pmarca-Blog-Archives.pdf', 'page': 127, 'total_pages': 195, 'format': 'PDF 1.3', 'title': 'The Pmarca Blog Archives', 'author': '', 'subject': '', 'keywords': '', 'creator': '', 'producer': 'Mac OS X 10.10 Quartz PDFContext', 'creationDate': \"D:20150110020418Z00'00'\", 'modDate': \"D:20150110020418Z00'00'\", 'trapped': '', '_id': '6780ffdee69d420c8ecb0496c64db171', '_collection_name': 'PMarca Blogs'}\n",
            "--------------------------------------------------------------------------------\n"
          ]
        }
      ],
      "source": [
        "for doc in retrieved_documents:\n",
        "  print(doc)\n",
        "  print('-'*80)"
      ]
    },
    {
      "cell_type": "markdown",
      "metadata": {
        "id": "D8MKsT6JTgCU"
      },
      "source": [
        "### Creating a RAG Chain\n",
        "\n",
        "Now that we have the \"R\" in RAG taken care of - let's look at creating the \"AG\"!"
      ]
    },
    {
      "cell_type": "markdown",
      "metadata": {
        "id": "zs7qBLaEQEic"
      },
      "source": [
        "#### Creating a Prompt Template\n",
        "\n",
        "There are a few different ways we could create our prompt template - we could create a custom template, as seen in the code below, or we could simply pull a prompt from the prompt hub! Let's look at an example of that!"
      ]
    },
    {
      "cell_type": "code",
      "execution_count": 13,
      "metadata": {
        "colab": {
          "base_uri": "https://localhost:8080/"
        },
        "id": "eRCq_OKUQbKk",
        "outputId": "97851c02-4a8b-4aaf-e132-0fc5c7450c92"
      },
      "outputs": [
        {
          "name": "stdout",
          "output_type": "stream",
          "text": [
            "<class 'langchain_core.prompts.chat.ChatPromptTemplate'>\n"
          ]
        },
        {
          "name": "stderr",
          "output_type": "stream",
          "text": [
            "/home/jetlee/anaconda3/envs/AIE4/lib/python3.11/site-packages/langsmith/client.py:5515: LangChainBetaWarning: The function `loads` is in beta. It is actively being worked on, so the API may change.\n",
            "  prompt = loads(json.dumps(prompt_object.manifest))\n"
          ]
        }
      ],
      "source": [
        "from langchain import hub\n",
        "\n",
        "retrieval_qa_prompt = hub.pull(\"langchain-ai/retrieval-qa-chat\")\n",
        "print(type(retrieval_qa_prompt))"
      ]
    },
    {
      "cell_type": "code",
      "execution_count": 14,
      "metadata": {
        "colab": {
          "base_uri": "https://localhost:8080/"
        },
        "id": "FziTftV5Q1H-",
        "outputId": "79de32d3-7f04-4fde-971e-b420c57a774a"
      },
      "outputs": [
        {
          "name": "stdout",
          "output_type": "stream",
          "text": [
            "Answer any use questions based solely on the context below:\n",
            "\n",
            "<context>\n",
            "{context}\n",
            "</context>\n"
          ]
        }
      ],
      "source": [
        "print(retrieval_qa_prompt.messages[0].prompt.template)"
      ]
    },
    {
      "cell_type": "markdown",
      "metadata": {
        "id": "iyq88IPFRGoT"
      },
      "source": [
        "As you can see - the prompt template is simple (and has a small error) - so we'll create our own to be a bit more specific!"
      ]
    },
    {
      "cell_type": "code",
      "execution_count": 15,
      "metadata": {
        "id": "ijSNkTAjTsep"
      },
      "outputs": [],
      "source": [
        "from langchain.prompts import ChatPromptTemplate\n",
        "\n",
        "template = \"\"\"\n",
        "### Anwer the following Question based soly on the Context provided. If you are unable to find the answer from Context, just say \"I don't know\".\n",
        "\n",
        "Question:\n",
        "{question}\n",
        "\n",
        "Context:\n",
        "{context}\n",
        "\"\"\"\n",
        "\n",
        "prompt = ChatPromptTemplate([('human', template)])"
      ]
    },
    {
      "cell_type": "markdown",
      "metadata": {
        "id": "BYHnPaXl-cvJ"
      },
      "source": [
        "#### Setting Up our Basic QA Chain\n",
        "\n",
        "Now we can instantiate our basic RAG chain!\n",
        "\n",
        "We'll use LCEL directly just to see an example of it - but you could just as easily use an abstraction here to achieve the same goal!\n",
        "\n",
        "We'll also ensure to pass-through our context - which is critical for RAGAS."
      ]
    },
    {
      "cell_type": "code",
      "execution_count": 16,
      "metadata": {
        "id": "-TsjUWjbUfbW"
      },
      "outputs": [],
      "source": [
        "from operator import itemgetter\n",
        "\n",
        "from langchain_openai import ChatOpenAI\n",
        "from langchain_core.output_parsers import StrOutputParser\n",
        "from langchain_core.runnables import RunnablePassthrough\n",
        "\n",
        "primary_qa_llm = ChatOpenAI(model_name=\"gpt-4o-mini\", temperature=0)\n",
        "\n",
        "retrieval_augmented_qa_chain = (\n",
        "    # INVOKE CHAIN WITH: {\"question\" : \"<<SOME USER QUESTION>>\"}\n",
        "    # \"question\" : populated by getting the value of the \"question\" key\n",
        "    # \"context\"  : populated by getting the value of the \"question\" key and chaining it into the base_retriever\n",
        "    {\"context\": itemgetter(\"question\") | retriever, \"question\": itemgetter(\"question\")}\n",
        "    # \"context\"  : is assigned to a RunnablePassthrough object (will not be called or considered in the next step)\n",
        "    #              by getting the value of the \"context\" key from the previous step\n",
        "    | RunnablePassthrough.assign(context=itemgetter(\"context\"))\n",
        "    # \"response\" : the \"context\" and \"question\" values are used to format our prompt object and then piped\n",
        "    #              into the LLM and stored in a key called \"response\"\n",
        "    # \"context\"  : populated by getting the value of the \"context\" key from the previous step\n",
        "    | {\"response\": prompt | primary_qa_llm, \"context\": itemgetter(\"context\")}\n",
        ")\n",
        "\n",
        "retrieval_augmented_qa_chain = (\n",
        "    RunnablePassthrough.assign(\n",
        "        context = itemgetter(\"question\") | retriever\n",
        "        ).with_config({'run_name': 'R_FOR_RAG'})\n",
        "    | RunnablePassthrough.assign(\n",
        "        response = prompt.with_config({'run_name':'A_FOR_RAG'}) | primary_qa_llm.with_config({'run_name':'G_FOR_RAG'})\n",
        "        ).with_config({'run_name': 'AG_FOR_RAG'})\n",
        "    | {\"response\": itemgetter(\"response\"), \"context\": itemgetter(\"context\")} \n",
        ").with_config({'run_name': 'RAG'})\n",
        "\n"
      ]
    },
    {
      "cell_type": "markdown",
      "metadata": {
        "id": "zO69de-F-oMD"
      },
      "source": [
        "Let's test it out!"
      ]
    },
    {
      "cell_type": "code",
      "execution_count": 17,
      "metadata": {
        "colab": {
          "base_uri": "https://localhost:8080/"
        },
        "id": "2FS5NxC6UyU2",
        "outputId": "3111dd33-30fa-4bcf-e40f-ed99b6fab66b"
      },
      "outputs": [
        {
          "name": "stdout",
          "output_type": "stream",
          "text": [
            "A rule of thumb for selecting an industry to invest in is to ensure that the forces of change within that industry have a reasonable chance of succeeding.\n"
          ]
        }
      ],
      "source": [
        "question = \"What is a rule of thumb for selecting an industry to invest in?\"\n",
        "\n",
        "result = retrieval_augmented_qa_chain.invoke({\"question\" : question})\n",
        "\n",
        "print(result[\"response\"].content)"
      ]
    },
    {
      "cell_type": "code",
      "execution_count": 18,
      "metadata": {
        "colab": {
          "base_uri": "https://localhost:8080/"
        },
        "id": "tIuHVGPOO9P2",
        "outputId": "750c920f-bc29-4397-91a8-f6e08045481d"
      },
      "outputs": [
        {
          "name": "stdout",
          "output_type": "stream",
          "text": [
            "I don't know.\n",
            "[Document(metadata={'source': 'https://d1lamhf6l6yk6d.cloudfront.net/uploads/2021/08/The-pmarca-Blog-Archives.pdf', 'file_path': 'https://d1lamhf6l6yk6d.cloudfront.net/uploads/2021/08/The-pmarca-Blog-Archives.pdf', 'page': 15, 'total_pages': 195, 'format': 'PDF 1.3', 'title': 'The Pmarca Blog Archives', 'author': '', 'subject': '', 'keywords': '', 'creator': '', 'producer': 'Mac OS X 10.10 Quartz PDFContext', 'creationDate': \"D:20150110020418Z00'00'\", 'modDate': \"D:20150110020418Z00'00'\", 'trapped': '', '_id': 'cb296ecf644a4e8781635b6647fc570f', '_collection_name': 'PMarca Blogs'}, page_content='ask if you can call them again if things change.\\nTrust me — they’d much rather be saying “yes” than “no” —\\nthey need all the good investments they can get.\\nSecond, consider the environment.'), Document(metadata={'source': 'https://d1lamhf6l6yk6d.cloudfront.net/uploads/2021/08/The-pmarca-Blog-Archives.pdf', 'file_path': 'https://d1lamhf6l6yk6d.cloudfront.net/uploads/2021/08/The-pmarca-Blog-Archives.pdf', 'page': 152, 'total_pages': 195, 'format': 'PDF 1.3', 'title': 'The Pmarca Blog Archives', 'author': '', 'subject': '', 'keywords': '', 'creator': '', 'producer': 'Mac OS X 10.10 Quartz PDFContext', 'creationDate': \"D:20150110020418Z00'00'\", 'modDate': \"D:20150110020418Z00'00'\", 'trapped': '', '_id': '22df44406b6242d8b8e26eee5c374379', '_collection_name': 'PMarca Blogs'}, page_content='watching carefully — if everyone agrees right up front that\\nwhatever you are doing makes total sense, it probably isn’t a new\\nand radical enough idea to justify a new company.'), Document(metadata={'source': 'https://d1lamhf6l6yk6d.cloudfront.net/uploads/2021/08/The-pmarca-Blog-Archives.pdf', 'file_path': 'https://d1lamhf6l6yk6d.cloudfront.net/uploads/2021/08/The-pmarca-Blog-Archives.pdf', 'page': 127, 'total_pages': 195, 'format': 'PDF 1.3', 'title': 'The Pmarca Blog Archives', 'author': '', 'subject': '', 'keywords': '', 'creator': '', 'producer': 'Mac OS X 10.10 Quartz PDFContext', 'creationDate': \"D:20150110020418Z00'00'\", 'modDate': \"D:20150110020418Z00'00'\", 'trapped': '', '_id': '8a2daa909bb844368766414ec9a9e933', '_collection_name': 'PMarca Blogs'}, page_content='Third rule:\\nIn a rapidly changing Held like technology, the best place to\\nget experience when you’re starting out is in younger, high-\\ngrowth companies.'), Document(metadata={'source': 'https://d1lamhf6l6yk6d.cloudfront.net/uploads/2021/08/The-pmarca-Blog-Archives.pdf', 'file_path': 'https://d1lamhf6l6yk6d.cloudfront.net/uploads/2021/08/The-pmarca-Blog-Archives.pdf', 'page': 125, 'total_pages': 195, 'format': 'PDF 1.3', 'title': 'The Pmarca Blog Archives', 'author': '', 'subject': '', 'keywords': '', 'creator': '', 'producer': 'Mac OS X 10.10 Quartz PDFContext', 'creationDate': \"D:20150110020418Z00'00'\", 'modDate': \"D:20150110020418Z00'00'\", 'trapped': '', '_id': '55d3819eeff544a08d08456c5dfec7a6', '_collection_name': 'PMarca Blogs'}, page_content='the existing order — and make sure that those forces of change\\nhave a reasonable chance at succeeding.\\nSecond rule of thumb:\\nOnce you have picked an industry, get right to the center of it')]\n"
          ]
        }
      ],
      "source": [
        "question = \"What did Pink Floyd have to say about how to proceed when investing in a new industry?\"\n",
        "\n",
        "result = retrieval_augmented_qa_chain.invoke({\"question\" : question})\n",
        "\n",
        "print(result[\"response\"].content)\n",
        "print(result[\"context\"])"
      ]
    },
    {
      "cell_type": "markdown",
      "metadata": {
        "id": "a-XYZueEP42k"
      },
      "source": [
        "We can already see that there are some improvements we could make here.\n",
        "\n",
        "For now, let's switch gears to RAGAS to see how we can leverage that tool to provide us insight into how our pipeline is performing!"
      ]
    },
    {
      "cell_type": "markdown",
      "metadata": {
        "id": "EOECHyzHRqDw"
      },
      "source": [
        "## Task 4: Synthetic Dataset Generation for Evaluation using Ragas\n",
        "\n",
        "Ragas is a powerful library that lets us evaluate our RAG pipeline by collecting input/output/context triplets and obtaining metrics relating to a number of different aspects of our RAG pipeline.\n",
        "\n",
        "We'll be evaluating on every core metric today, but in order to do that - we'll need to create a test set. Luckily for us, Ragas can do that directly!"
      ]
    },
    {
      "cell_type": "markdown",
      "metadata": {
        "id": "KqXQ0jweWJOu"
      },
      "source": [
        "### Synthetic Test Set Generation\n",
        "\n",
        "We can leverage Ragas' [`Synthetic Test Data generation`](https://docs.ragas.io/en/stable/concepts/testset_generation.html) functionality to generate our own synthetic QC pairs - as well as a synthetic ground truth - quite easily!"
      ]
    },
    {
      "cell_type": "code",
      "execution_count": 19,
      "metadata": {
        "id": "nVk5SlU9znXe"
      },
      "outputs": [],
      "source": [
        "loader = PyMuPDFLoader(\n",
        "    \"https://d1lamhf6l6yk6d.cloudfront.net/uploads/2021/08/The-pmarca-Blog-Archives.pdf\",\n",
        ")\n",
        "\n",
        "eval_documents = loader.load()\n",
        "\n",
        "text_splitter_eval = RecursiveCharacterTextSplitter(\n",
        "    chunk_size = 600,\n",
        "    chunk_overlap = 50\n",
        ")\n",
        "\n",
        "eval_documents = text_splitter_eval.split_documents(eval_documents)"
      ]
    },
    {
      "cell_type": "markdown",
      "metadata": {
        "id": "K7rOQkxhzrq3"
      },
      "source": [
        "####❓ Question #2:\n",
        "\n",
        "Why is it important to split our documents using different parameters when creating our synthetic data?"
      ]
    },
    {
      "cell_type": "code",
      "execution_count": 20,
      "metadata": {
        "colab": {
          "base_uri": "https://localhost:8080/"
        },
        "id": "hiAPYw-hz-zo",
        "outputId": "f66c8b72-37f6-4069-eb1f-415b8d78d6e6"
      },
      "outputs": [
        {
          "data": {
            "text/plain": [
              "624"
            ]
          },
          "execution_count": 20,
          "metadata": {},
          "output_type": "execute_result"
        }
      ],
      "source": [
        "len(eval_documents)"
      ]
    },
    {
      "cell_type": "markdown",
      "metadata": {
        "id": "HYCrVMW9Blda"
      },
      "source": [
        "> NOTE: 🛑 Running this cell as presented will incur a charge of ~$3USD from OpenAI usage. Most of this cost is produced by the Synthetic Data Generation step. **YOU CAN SKIP THIS STEP BY LOADING THE `.csv` DIRECTLY FROM OUR REPOSITORY.** 🛑"
      ]
    },
    {
      "cell_type": "markdown",
      "metadata": {
        "id": "Clyykfe6xOIo"
      },
      "source": [
        "#### Optional: SDG for Evaluation"
      ]
    },
    {
      "cell_type": "code",
      "execution_count": 21,
      "metadata": {
        "colab": {
          "background_save": true,
          "base_uri": "https://localhost:8080/",
          "height": 1000,
          "referenced_widgets": [
            "c3d31c6cf07143aea1bbe76aa13fbca8",
            "754827da55fa4240bce3710048d1645b",
            "7b61421d62964b00ba440ecba21f4b52",
            "c67b66e1f2d34ce4b10789fc2fca5843",
            "9ccac42dd9f04713b0ed9fe09c35b5b0",
            "bd96dd318c1b4e1481c039321e052081",
            "3b2e50139c234d19ac3e32515e575883",
            "353b6b9a974048499d854774fe4c882c",
            "09c3173c05f54539ae025937b1525e90",
            "faa998b429774e4eb6aaaa5477bb6977",
            "7ab80823e1344b638ddd1646367a6ce6",
            "9a40d4ba626f4563b062a5765325d8e4",
            "1c0f9aeab5de4e32af8bfef423a64f3b",
            "0be98b57b4894cf9a92818ae1dd72976",
            "c7550f460273484a913d211381630626",
            "ba8f638b7f6343d9b07cce6e54e9be1c",
            "0267d8c4d9cc48b0a4d60d206de62a91",
            "126c30cc07c4452ab73fefce09dab617",
            "bda4d1ec0f0043c8b4d254a4ada3e9bf",
            "1b24ed8b36764c39aef39c92430fdc1d",
            "1535c2c75a104f3abb262c5fb7859c14",
            "92f2e2d3123c4cd88d7c5755342ae154"
          ]
        },
        "id": "IXc6sMglSej_",
        "outputId": "8ed337f0-9029-4ece-9381-9e4356dedca7"
      },
      "outputs": [],
      "source": [
        "from ragas.testset.generator import TestsetGenerator\n",
        "from ragas.testset.evolutions import simple, reasoning, multi_context\n",
        "from langchain_openai import ChatOpenAI, OpenAIEmbeddings\n",
        "\n",
        "generator_llm = ChatOpenAI(model=\"gpt-3.5-turbo\")\n",
        "critic_llm = ChatOpenAI(model=\"gpt-4o-mini\")\n",
        "embeddings = OpenAIEmbeddings()\n",
        "\n",
        "generator = TestsetGenerator.from_langchain(\n",
        "    generator_llm,\n",
        "    critic_llm,\n",
        "    embeddings\n",
        ")\n",
        "\n",
        "distributions = {\n",
        "    simple: 0.5,\n",
        "    multi_context: 0.4,\n",
        "    reasoning: 0.1\n",
        "}\n",
        "\n",
        "num_qa_pairs = 20 # You can reduce the number of QA pairs to 5 if you're experiencing rate-limiting issues\n",
        "\n",
        "# testset = generator.generate_with_langchain_docs(eval_documents, num_qa_pairs, distributions)\n",
        "# testset.to_pandas()"
      ]
    },
    {
      "cell_type": "markdown",
      "metadata": {
        "id": "MemL406rUzBu"
      },
      "source": [
        "Let's look at the output and see what we can learn about it!"
      ]
    },
    {
      "cell_type": "code",
      "execution_count": 22,
      "metadata": {
        "colab": {
          "base_uri": "https://localhost:8080/"
        },
        "id": "RaCDdImVU15s",
        "outputId": "31efbb94-f09d-4d50-8c6e-59202aaeb5c9"
      },
      "outputs": [],
      "source": [
        "# testset.test_data[0]"
      ]
    },
    {
      "cell_type": "code",
      "execution_count": 23,
      "metadata": {
        "id": "1iZ0_GTEp9bd"
      },
      "outputs": [],
      "source": [
        "# testset_df = testset.to_pandas()\n",
        "# testset_df.to_csv(\"testset.csv\")\n"
      ]
    },
    {
      "cell_type": "markdown",
      "metadata": {
        "id": "ITOQFNxdxS6n"
      },
      "source": [
        "#### PREFERRED: Download `.csv` from DataRepository"
      ]
    },
    {
      "cell_type": "code",
      "execution_count": 24,
      "metadata": {
        "colab": {
          "base_uri": "https://localhost:8080/"
        },
        "id": "N6mmr2hyxW_i",
        "outputId": "83727d02-2b34-403a-b1c4-16a98994c020"
      },
      "outputs": [],
      "source": [
        "# !git clone https://github.com/AI-Maker-Space/DataRepository.git"
      ]
    },
    {
      "cell_type": "code",
      "execution_count": 25,
      "metadata": {
        "id": "u2PpgX-RxnlW"
      },
      "outputs": [],
      "source": [
        "# !mv DataRepository/testset.csv ."
      ]
    },
    {
      "cell_type": "markdown",
      "metadata": {
        "id": "vrPsVwUAWFWB"
      },
      "source": [
        "### Generating Responses with RAG Pipeline\n",
        "\n",
        "Now that we have some QC pairs, and some ground truths, let's evaluate our RAG pipeline using Ragas.\n",
        "\n",
        "The process is, again, quite straightforward - thanks to Ragas and LangChain!\n",
        "\n",
        "Let's start by extracting our questions and ground truths from our create testset.\n",
        "\n",
        "We can start by converting our test dataset into a Pandas DataFrame."
      ]
    },
    {
      "cell_type": "code",
      "execution_count": 26,
      "metadata": {
        "id": "frvzu1YxX8kY"
      },
      "outputs": [],
      "source": [
        "import pandas as pd\n",
        "\n",
        "test_df = pd.read_csv(\"testset.csv\")"
      ]
    },
    {
      "cell_type": "code",
      "execution_count": 27,
      "metadata": {
        "colab": {
          "base_uri": "https://localhost:8080/",
          "height": 1000
        },
        "id": "GFKMIY8IZU8m",
        "outputId": "42652c9f-9e6f-41a1-b63d-d7faa23fe275"
      },
      "outputs": [
        {
          "data": {
            "text/html": [
              "<div>\n",
              "<style scoped>\n",
              "    .dataframe tbody tr th:only-of-type {\n",
              "        vertical-align: middle;\n",
              "    }\n",
              "\n",
              "    .dataframe tbody tr th {\n",
              "        vertical-align: top;\n",
              "    }\n",
              "\n",
              "    .dataframe thead th {\n",
              "        text-align: right;\n",
              "    }\n",
              "</style>\n",
              "<table border=\"1\" class=\"dataframe\">\n",
              "  <thead>\n",
              "    <tr style=\"text-align: right;\">\n",
              "      <th></th>\n",
              "      <th>question</th>\n",
              "      <th>contexts</th>\n",
              "      <th>ground_truth</th>\n",
              "      <th>evolution_type</th>\n",
              "      <th>metadata</th>\n",
              "      <th>episode_done</th>\n",
              "    </tr>\n",
              "  </thead>\n",
              "  <tbody>\n",
              "    <tr>\n",
              "      <th>0</th>\n",
              "      <td>How does the tendency to avoid inconsistency c...</td>\n",
              "      <td>['Five: Inconsistency-Avoidance Tendency\\n[Peo...</td>\n",
              "      <td>The tendency to avoid inconsistency contribute...</td>\n",
              "      <td>simple</td>\n",
              "      <td>[{'source': 'https://d1lamhf6l6yk6d.cloudfront...</td>\n",
              "      <td>True</td>\n",
              "    </tr>\n",
              "    <tr>\n",
              "      <th>1</th>\n",
              "      <td>What are some of the challenges faced by start...</td>\n",
              "      <td>['structure that any established company has.\\...</td>\n",
              "      <td>In a startup, it is easy for the code not to g...</td>\n",
              "      <td>simple</td>\n",
              "      <td>[{'source': 'https://d1lamhf6l6yk6d.cloudfront...</td>\n",
              "      <td>True</td>\n",
              "    </tr>\n",
              "    <tr>\n",
              "      <th>2</th>\n",
              "      <td>What factors should be considered when decidin...</td>\n",
              "      <td>['Part 2: Skills and education\\n[Please read m...</td>\n",
              "      <td>The answer to given question is not present in...</td>\n",
              "      <td>simple</td>\n",
              "      <td>[{'source': 'https://d1lamhf6l6yk6d.cloudfront...</td>\n",
              "      <td>True</td>\n",
              "    </tr>\n",
              "    <tr>\n",
              "      <th>3</th>\n",
              "      <td>What should be valued when evaluating candidat...</td>\n",
              "      <td>[\"How to hire the best people you've\\never wor...</td>\n",
              "      <td>The answer to given question is not present in...</td>\n",
              "      <td>simple</td>\n",
              "      <td>[{'source': 'https://d1lamhf6l6yk6d.cloudfront...</td>\n",
              "      <td>True</td>\n",
              "    </tr>\n",
              "    <tr>\n",
              "      <th>4</th>\n",
              "      <td>What are the consequences of not raising enoug...</td>\n",
              "      <td>['Here’s why you shouldn’t do that:\\nWhat are ...</td>\n",
              "      <td>Not raising enough money risks the survival of...</td>\n",
              "      <td>simple</td>\n",
              "      <td>[{'source': 'https://d1lamhf6l6yk6d.cloudfront...</td>\n",
              "      <td>True</td>\n",
              "    </tr>\n",
              "    <tr>\n",
              "      <th>5</th>\n",
              "      <td>How does Structured Procrastination suggest us...</td>\n",
              "      <td>['like?\\nStructured procrastination\\nThis is a...</td>\n",
              "      <td>Structured Procrastination suggests that inste...</td>\n",
              "      <td>simple</td>\n",
              "      <td>[{'source': 'https://d1lamhf6l6yk6d.cloudfront...</td>\n",
              "      <td>True</td>\n",
              "    </tr>\n",
              "    <tr>\n",
              "      <th>6</th>\n",
              "      <td>What analogy is used to describe the layers of...</td>\n",
              "      <td>['as if it’s an onion. Just like you peel an o...</td>\n",
              "      <td>The analogy used to describe the layers of ris...</td>\n",
              "      <td>simple</td>\n",
              "      <td>[{'source': 'https://d1lamhf6l6yk6d.cloudfront...</td>\n",
              "      <td>True</td>\n",
              "    </tr>\n",
              "    <tr>\n",
              "      <th>7</th>\n",
              "      <td>How can Structured Procrastination be used to ...</td>\n",
              "      <td>['like?\\nStructured procrastination\\nThis is a...</td>\n",
              "      <td>Structured Procrastination suggests that inste...</td>\n",
              "      <td>simple</td>\n",
              "      <td>[{'source': 'https://d1lamhf6l6yk6d.cloudfront...</td>\n",
              "      <td>True</td>\n",
              "    </tr>\n",
              "    <tr>\n",
              "      <th>8</th>\n",
              "      <td>How is the quality of a startup's product defi...</td>\n",
              "      <td>['Let’s start by deXning terms.\\nThe caliber o...</td>\n",
              "      <td>The quality of a startup's product in the tech...</td>\n",
              "      <td>simple</td>\n",
              "      <td>[{'source': 'https://d1lamhf6l6yk6d.cloudfront...</td>\n",
              "      <td>True</td>\n",
              "    </tr>\n",
              "    <tr>\n",
              "      <th>9</th>\n",
              "      <td>What role can a campus computer lab play in he...</td>\n",
              "      <td>['undergrads to do some of the work, and being...</td>\n",
              "      <td>A campus computer lab can play a role in helpi...</td>\n",
              "      <td>simple</td>\n",
              "      <td>[{'source': 'https://d1lamhf6l6yk6d.cloudfront...</td>\n",
              "      <td>True</td>\n",
              "    </tr>\n",
              "    <tr>\n",
              "      <th>10</th>\n",
              "      <td>Who said, 'This task isn't easy'?</td>\n",
              "      <td>['coherent message and strategy.\\nThen go dark...</td>\n",
              "      <td>The answer to given question is not present in...</td>\n",
              "      <td>multi_context</td>\n",
              "      <td>[{'source': 'https://d1lamhf6l6yk6d.cloudfront...</td>\n",
              "      <td>True</td>\n",
              "    </tr>\n",
              "    <tr>\n",
              "      <th>11</th>\n",
              "      <td>What significant event involving Microsoft and...</td>\n",
              "      <td>['always be ready to have the conversation jus...</td>\n",
              "      <td>The answer to given question is not present in...</td>\n",
              "      <td>multi_context</td>\n",
              "      <td>[{'source': 'https://d1lamhf6l6yk6d.cloudfront...</td>\n",
              "      <td>True</td>\n",
              "    </tr>\n",
              "    <tr>\n",
              "      <th>12</th>\n",
              "      <td>What undergrad degrees are valuable in the rea...</td>\n",
              "      <td>['workforce in a high-impact way when you grad...</td>\n",
              "      <td>Engineering and math undergraduate degrees are...</td>\n",
              "      <td>multi_context</td>\n",
              "      <td>[{'source': 'https://d1lamhf6l6yk6d.cloudfront...</td>\n",
              "      <td>True</td>\n",
              "    </tr>\n",
              "    <tr>\n",
              "      <th>13</th>\n",
              "      <td>How does the shift to online impact traditiona...</td>\n",
              "      <td>['billion people online now. That is a very la...</td>\n",
              "      <td>The shift to online has led to a significant i...</td>\n",
              "      <td>multi_context</td>\n",
              "      <td>[{'source': 'https://d1lamhf6l6yk6d.cloudfront...</td>\n",
              "      <td>True</td>\n",
              "    </tr>\n",
              "    <tr>\n",
              "      <th>14</th>\n",
              "      <td>How does the three-folder email system help ma...</td>\n",
              "      <td>['keep three standing email folders: Pending, ...</td>\n",
              "      <td>The three-folder email system helps manage imp...</td>\n",
              "      <td>multi_context</td>\n",
              "      <td>[{'source': 'https://d1lamhf6l6yk6d.cloudfront...</td>\n",
              "      <td>True</td>\n",
              "    </tr>\n",
              "    <tr>\n",
              "      <th>15</th>\n",
              "      <td>What's the argument against prioritizing intel...</td>\n",
              "      <td>['Criteria 7rst\\nLots of people will tell you ...</td>\n",
              "      <td>The argument against prioritizing intelligence...</td>\n",
              "      <td>multi_context</td>\n",
              "      <td>[{'source': 'https://d1lamhf6l6yk6d.cloudfront...</td>\n",
              "      <td>True</td>\n",
              "    </tr>\n",
              "    <tr>\n",
              "      <th>16</th>\n",
              "      <td>How does planning interviews affect a marketer...</td>\n",
              "      <td>['For a marketing person — have them whiteboar...</td>\n",
              "      <td>Planning interviews ahead of time allows for t...</td>\n",
              "      <td>multi_context</td>\n",
              "      <td>[{'source': 'https://d1lamhf6l6yk6d.cloudfront...</td>\n",
              "      <td>True</td>\n",
              "    </tr>\n",
              "    <tr>\n",
              "      <th>17</th>\n",
              "      <td>How does faster cycle time impact entrepreneur...</td>\n",
              "      <td>['would have spent 10 or 20 or 30 years buildi...</td>\n",
              "      <td>The faster cycle time allows entrepreneurs to ...</td>\n",
              "      <td>reasoning</td>\n",
              "      <td>[{'source': 'https://d1lamhf6l6yk6d.cloudfront...</td>\n",
              "      <td>True</td>\n",
              "    </tr>\n",
              "    <tr>\n",
              "      <th>18</th>\n",
              "      <td>What key factor guides the CEO in the turnarou...</td>\n",
              "      <td>['coherent message and strategy.\\nThen go dark...</td>\n",
              "      <td>The key factor that guides the CEO in the turn...</td>\n",
              "      <td>reasoning</td>\n",
              "      <td>[{'source': 'https://d1lamhf6l6yk6d.cloudfront...</td>\n",
              "      <td>True</td>\n",
              "    </tr>\n",
              "  </tbody>\n",
              "</table>\n",
              "</div>"
            ],
            "text/plain": [
              "                                             question  \\\n",
              "0   How does the tendency to avoid inconsistency c...   \n",
              "1   What are some of the challenges faced by start...   \n",
              "2   What factors should be considered when decidin...   \n",
              "3   What should be valued when evaluating candidat...   \n",
              "4   What are the consequences of not raising enoug...   \n",
              "5   How does Structured Procrastination suggest us...   \n",
              "6   What analogy is used to describe the layers of...   \n",
              "7   How can Structured Procrastination be used to ...   \n",
              "8   How is the quality of a startup's product defi...   \n",
              "9   What role can a campus computer lab play in he...   \n",
              "10                  Who said, 'This task isn't easy'?   \n",
              "11  What significant event involving Microsoft and...   \n",
              "12  What undergrad degrees are valuable in the rea...   \n",
              "13  How does the shift to online impact traditiona...   \n",
              "14  How does the three-folder email system help ma...   \n",
              "15  What's the argument against prioritizing intel...   \n",
              "16  How does planning interviews affect a marketer...   \n",
              "17  How does faster cycle time impact entrepreneur...   \n",
              "18  What key factor guides the CEO in the turnarou...   \n",
              "\n",
              "                                             contexts  \\\n",
              "0   ['Five: Inconsistency-Avoidance Tendency\\n[Peo...   \n",
              "1   ['structure that any established company has.\\...   \n",
              "2   ['Part 2: Skills and education\\n[Please read m...   \n",
              "3   [\"How to hire the best people you've\\never wor...   \n",
              "4   ['Here’s why you shouldn’t do that:\\nWhat are ...   \n",
              "5   ['like?\\nStructured procrastination\\nThis is a...   \n",
              "6   ['as if it’s an onion. Just like you peel an o...   \n",
              "7   ['like?\\nStructured procrastination\\nThis is a...   \n",
              "8   ['Let’s start by deXning terms.\\nThe caliber o...   \n",
              "9   ['undergrads to do some of the work, and being...   \n",
              "10  ['coherent message and strategy.\\nThen go dark...   \n",
              "11  ['always be ready to have the conversation jus...   \n",
              "12  ['workforce in a high-impact way when you grad...   \n",
              "13  ['billion people online now. That is a very la...   \n",
              "14  ['keep three standing email folders: Pending, ...   \n",
              "15  ['Criteria 7rst\\nLots of people will tell you ...   \n",
              "16  ['For a marketing person — have them whiteboar...   \n",
              "17  ['would have spent 10 or 20 or 30 years buildi...   \n",
              "18  ['coherent message and strategy.\\nThen go dark...   \n",
              "\n",
              "                                         ground_truth evolution_type  \\\n",
              "0   The tendency to avoid inconsistency contribute...         simple   \n",
              "1   In a startup, it is easy for the code not to g...         simple   \n",
              "2   The answer to given question is not present in...         simple   \n",
              "3   The answer to given question is not present in...         simple   \n",
              "4   Not raising enough money risks the survival of...         simple   \n",
              "5   Structured Procrastination suggests that inste...         simple   \n",
              "6   The analogy used to describe the layers of ris...         simple   \n",
              "7   Structured Procrastination suggests that inste...         simple   \n",
              "8   The quality of a startup's product in the tech...         simple   \n",
              "9   A campus computer lab can play a role in helpi...         simple   \n",
              "10  The answer to given question is not present in...  multi_context   \n",
              "11  The answer to given question is not present in...  multi_context   \n",
              "12  Engineering and math undergraduate degrees are...  multi_context   \n",
              "13  The shift to online has led to a significant i...  multi_context   \n",
              "14  The three-folder email system helps manage imp...  multi_context   \n",
              "15  The argument against prioritizing intelligence...  multi_context   \n",
              "16  Planning interviews ahead of time allows for t...  multi_context   \n",
              "17  The faster cycle time allows entrepreneurs to ...      reasoning   \n",
              "18  The key factor that guides the CEO in the turn...      reasoning   \n",
              "\n",
              "                                             metadata  episode_done  \n",
              "0   [{'source': 'https://d1lamhf6l6yk6d.cloudfront...          True  \n",
              "1   [{'source': 'https://d1lamhf6l6yk6d.cloudfront...          True  \n",
              "2   [{'source': 'https://d1lamhf6l6yk6d.cloudfront...          True  \n",
              "3   [{'source': 'https://d1lamhf6l6yk6d.cloudfront...          True  \n",
              "4   [{'source': 'https://d1lamhf6l6yk6d.cloudfront...          True  \n",
              "5   [{'source': 'https://d1lamhf6l6yk6d.cloudfront...          True  \n",
              "6   [{'source': 'https://d1lamhf6l6yk6d.cloudfront...          True  \n",
              "7   [{'source': 'https://d1lamhf6l6yk6d.cloudfront...          True  \n",
              "8   [{'source': 'https://d1lamhf6l6yk6d.cloudfront...          True  \n",
              "9   [{'source': 'https://d1lamhf6l6yk6d.cloudfront...          True  \n",
              "10  [{'source': 'https://d1lamhf6l6yk6d.cloudfront...          True  \n",
              "11  [{'source': 'https://d1lamhf6l6yk6d.cloudfront...          True  \n",
              "12  [{'source': 'https://d1lamhf6l6yk6d.cloudfront...          True  \n",
              "13  [{'source': 'https://d1lamhf6l6yk6d.cloudfront...          True  \n",
              "14  [{'source': 'https://d1lamhf6l6yk6d.cloudfront...          True  \n",
              "15  [{'source': 'https://d1lamhf6l6yk6d.cloudfront...          True  \n",
              "16  [{'source': 'https://d1lamhf6l6yk6d.cloudfront...          True  \n",
              "17  [{'source': 'https://d1lamhf6l6yk6d.cloudfront...          True  \n",
              "18  [{'source': 'https://d1lamhf6l6yk6d.cloudfront...          True  "
            ]
          },
          "execution_count": 27,
          "metadata": {},
          "output_type": "execute_result"
        }
      ],
      "source": [
        "test_df.drop(columns=[\"Unnamed: 0\"], inplace=True)\n",
        "test_df"
      ]
    },
    {
      "cell_type": "code",
      "execution_count": 28,
      "metadata": {
        "id": "xAiXbVmLYSoC"
      },
      "outputs": [
        {
          "name": "stdout",
          "output_type": "stream",
          "text": [
            "How does the tendency to avoid inconsistency contribute to people being reluctant to change?\n",
            "The tendency to avoid inconsistency contributes to people being reluctant to change because individuals are often hesitant to alter their habits, whether constructive or destructive. Many people struggle to eliminate bad habits, even when they are aware of their negative impact. This resistance to change is deeply ingrained, with some early-formed habits being perceived as destiny. Therefore, the fear of inconsistency and the comfort of familiar habits can hinder individuals from embracing change.\n"
          ]
        }
      ],
      "source": [
        "test_questions = test_df[\"question\"].values.tolist()\n",
        "test_groundtruths = test_df[\"ground_truth\"].values.tolist()\n",
        "\n",
        "print(test_questions[0])\n",
        "print(test_groundtruths[0])"
      ]
    },
    {
      "cell_type": "markdown",
      "metadata": {
        "id": "aE5rfMLfbqKH"
      },
      "source": [
        "Now we'll generate responses using our RAG pipeline using the questions we've generated - we'll also need to collect our retrieved contexts for each question.\n",
        "\n",
        "We'll do this in a simple loop to see exactly what's happening!"
      ]
    },
    {
      "cell_type": "code",
      "execution_count": 93,
      "metadata": {
        "id": "9_AayvT1dAQN"
      },
      "outputs": [],
      "source": [
        "answers = []\n",
        "contexts = []\n",
        "\n",
        "for question in test_questions:\n",
        "  response = retrieval_augmented_qa_chain.invoke({\"question\" : question})\n",
        "  answers.append(response[\"response\"].content)\n",
        "  contexts.append([context.page_content for context in response[\"context\"]])"
      ]
    },
    {
      "cell_type": "markdown",
      "metadata": {
        "id": "opHaHmYDeBfC"
      },
      "source": [
        "Now we can wrap our information in a Hugging Face dataset for use in the Ragas library."
      ]
    },
    {
      "cell_type": "code",
      "execution_count": 97,
      "metadata": {
        "id": "fY48YZITeHy-"
      },
      "outputs": [
        {
          "data": {
            "text/plain": [
              "Dataset({\n",
              "    features: ['question', 'answer', 'contexts', 'ground_truth'],\n",
              "    num_rows: 19\n",
              "})"
            ]
          },
          "execution_count": 97,
          "metadata": {},
          "output_type": "execute_result"
        }
      ],
      "source": [
        "from datasets import Dataset\n",
        "\n",
        "#🚀 HuggingFace dataset\n",
        "response_dataset = Dataset.from_dict({\n",
        "    \"question\" : test_questions,\n",
        "    \"answer\" : answers,\n",
        "    \"contexts\" : contexts,\n",
        "    \"ground_truth\" : test_groundtruths\n",
        "})\n",
        "\n",
        "response_dataset"
      ]
    },
    {
      "cell_type": "markdown",
      "metadata": {
        "id": "mmeVvQaZeogE"
      },
      "source": [
        "Let's take a peek and see what that looks like!"
      ]
    },
    {
      "cell_type": "code",
      "execution_count": 98,
      "metadata": {
        "colab": {
          "base_uri": "https://localhost:8080/"
        },
        "id": "pOpydvc8eqNM",
        "outputId": "21eda635-f38c-42c7-adad-9e4667f4bbe0"
      },
      "outputs": [
        {
          "data": {
            "text/plain": [
              "{'question': 'How does the tendency to avoid inconsistency contribute to people being reluctant to change?',\n",
              " 'answer': 'The tendency to avoid inconsistency contributes to people being reluctant to change because change itself is viewed as a form of inconsistency. This avoidance is reflected in human habits and is maintained by previous conclusions, loyalties, reputational identity, and commitments, which create an anti-change tendency in the brain. As a result, individuals may resist new ideas or identities until they are ready to embrace change, often requiring time or a new generation to facilitate this shift.',\n",
              " 'contexts': ['Five: Inconsistency-Avoidance Tendency\\n[People are] reluctant to change, which is a form of inconsistency\\navoidance. We see this in all human habits, constructive and',\n",
              "  'less brain-blocked by its previous conclusions…\\nOne corollary of Inconsistency-Avoidance Tendency is that a per-\\nson making big sacriXces in the course of assuming a new identity',\n",
              "  '[T]ending to be maintained in place by the anti-change tendency\\nof the brain are one’s previous conclusions, human loyalties, repu-\\ntational identity, commitments…',\n",
              "  'if people just aren’t ready for a new idea, you usually can’t make\\nthem ready, and you have to wait for them to change or for a\\nnew generation of customers to come along.'],\n",
              " 'ground_truth': 'The tendency to avoid inconsistency contributes to people being reluctant to change because individuals are often hesitant to alter their habits, whether constructive or destructive. Many people struggle to eliminate bad habits, even when they are aware of their negative impact. This resistance to change is deeply ingrained, with some early-formed habits being perceived as destiny. Therefore, the fear of inconsistency and the comfort of familiar habits can hinder individuals from embracing change.'}"
            ]
          },
          "execution_count": 98,
          "metadata": {},
          "output_type": "execute_result"
        }
      ],
      "source": [
        "response_dataset[0]"
      ]
    },
    {
      "cell_type": "markdown",
      "metadata": {
        "id": "oM4fmAnsBmL2"
      },
      "source": [
        "# 🤝 Breakout Room Part #2"
      ]
    },
    {
      "cell_type": "markdown",
      "metadata": {
        "id": "xbsFm5FievJI"
      },
      "source": [
        "## Task 1: Evaluating our Pipeline with Ragas\n",
        "\n",
        "Now that we have our response dataset - we can finally get into the \"meat\" of Ragas - evaluation!\n",
        "\n",
        "First, we'll import the desired metrics, then we can use them to evaluate our created dataset!\n",
        "\n",
        "Check out the specific metrics we'll be using in the Ragas documentation:\n",
        "\n",
        "- [Faithfulness](https://docs.ragas.io/en/stable/concepts/metrics/faithfulness.html)\n",
        "- [Answer Relevancy](https://docs.ragas.io/en/stable/concepts/metrics/answer_relevance.html)\n",
        "- [Context Precision](https://docs.ragas.io/en/stable/concepts/metrics/context_precision.html)\n",
        "- [Context Recall](https://docs.ragas.io/en/stable/concepts/metrics/context_recall.html)\n",
        "- [Answer Correctness](https://docs.ragas.io/en/stable/concepts/metrics/answer_correctness.html)\n",
        "\n",
        "See the accompanied presentation for more in-depth explanations about each of the metrics!"
      ]
    },
    {
      "cell_type": "code",
      "execution_count": 29,
      "metadata": {
        "id": "R2PXwyt8e5aW"
      },
      "outputs": [],
      "source": [
        "from ragas import evaluate\n",
        "\n",
        "from ragas.metrics import (\n",
        "    faithfulness,\n",
        "    answer_relevancy,\n",
        "    answer_correctness,\n",
        "    context_recall,\n",
        "    context_precision,\n",
        ")\n",
        "\n",
        "metrics = [\n",
        "    faithfulness,\n",
        "    answer_relevancy,\n",
        "    context_recall,\n",
        "    context_precision,\n",
        "    answer_correctness,\n",
        "]"
      ]
    },
    {
      "cell_type": "markdown",
      "metadata": {
        "id": "Kx-vlsx_hrtV"
      },
      "source": [
        "All that's left to do is call \"evaluate\" and away we go!"
      ]
    },
    {
      "cell_type": "code",
      "execution_count": 104,
      "metadata": {
        "colab": {
          "base_uri": "https://localhost:8080/",
          "height": 49,
          "referenced_widgets": [
            "4d9ba78dc78040f494df9122ddc7ba1d",
            "e4e76e5d4fba404a9ed4ff059f3a0c04",
            "1e2026abc1314d3caf37d74af7a407e7",
            "fb306876e3244dc69312e2af46c4da02",
            "b319ae78e30d437c81f07d5a062ba805",
            "22c5f6324de545ba814402c3f71d84f1",
            "764b7b6827c9437b90c9c948b9f1037b",
            "e32bc4bb09af4ac5a608e56f87317596",
            "b53095cea92740dfb967120a77310283",
            "d020211480b149cab1761b14ae631eb1",
            "63d6044414e24c5ea55efa925f7a3b56"
          ]
        },
        "id": "DhlcfJ4lgYVI",
        "outputId": "77bfa68b-ddff-47f6-8ebf-e726c5ba8c1f"
      },
      "outputs": [
        {
          "data": {
            "application/vnd.jupyter.widget-view+json": {
              "model_id": "11955cfcc53b493bb2192023960e796f",
              "version_major": 2,
              "version_minor": 0
            },
            "text/plain": [
              "Evaluating:   0%|          | 0/95 [00:00<?, ?it/s]"
            ]
          },
          "metadata": {},
          "output_type": "display_data"
        }
      ],
      "source": [
        "with tracing_v2_enabled('AIM-WEEK4-DAY2-RAGAS-EVAL'):\n",
        "    results = evaluate(\n",
        "        dataset = response_dataset, \n",
        "        metrics = metrics\n",
        "        # 🚀 If 'llm' is not set, then Ragas takes the default llm -> 'gpt-4o-mini'\n",
        "        )"
      ]
    },
    {
      "attachments": {
        "image.png": {
          "image/png": "[encoded data removed]"
        }
      },
      "cell_type": "markdown",
      "metadata": {},
      "source": [
        "![image.png](attachment:image.png)"
      ]
    },
    {
      "cell_type": "code",
      "execution_count": 105,
      "metadata": {
        "colab": {
          "base_uri": "https://localhost:8080/"
        },
        "id": "UqPArpSrgwDD",
        "outputId": "93940cfe-3750-41aa-9c20-1fc1eaf37287"
      },
      "outputs": [
        {
          "data": {
            "text/plain": [
              "{'faithfulness': 0.6544, 'answer_relevancy': 0.7225, 'context_recall': 0.6096, 'context_precision': 0.6550, 'answer_correctness': 0.5590}"
            ]
          },
          "execution_count": 105,
          "metadata": {},
          "output_type": "execute_result"
        }
      ],
      "source": [
        "results"
      ]
    },
    {
      "cell_type": "code",
      "execution_count": 106,
      "metadata": {
        "colab": {
          "base_uri": "https://localhost:8080/",
          "height": 1000
        },
        "id": "2nsGzj8DhP9E",
        "outputId": "cf47bdeb-c3ba-456a-9231-d08105c68f4c"
      },
      "outputs": [
        {
          "data": {
            "text/html": [
              "<div>\n",
              "<style scoped>\n",
              "    .dataframe tbody tr th:only-of-type {\n",
              "        vertical-align: middle;\n",
              "    }\n",
              "\n",
              "    .dataframe tbody tr th {\n",
              "        vertical-align: top;\n",
              "    }\n",
              "\n",
              "    .dataframe thead th {\n",
              "        text-align: right;\n",
              "    }\n",
              "</style>\n",
              "<table border=\"1\" class=\"dataframe\">\n",
              "  <thead>\n",
              "    <tr style=\"text-align: right;\">\n",
              "      <th></th>\n",
              "      <th>question</th>\n",
              "      <th>answer</th>\n",
              "      <th>contexts</th>\n",
              "      <th>ground_truth</th>\n",
              "      <th>faithfulness</th>\n",
              "      <th>answer_relevancy</th>\n",
              "      <th>context_recall</th>\n",
              "      <th>context_precision</th>\n",
              "      <th>answer_correctness</th>\n",
              "    </tr>\n",
              "  </thead>\n",
              "  <tbody>\n",
              "    <tr>\n",
              "      <th>0</th>\n",
              "      <td>How does the tendency to avoid inconsistency c...</td>\n",
              "      <td>The tendency to avoid inconsistency contribute...</td>\n",
              "      <td>[Five: Inconsistency-Avoidance Tendency\\n[Peop...</td>\n",
              "      <td>The tendency to avoid inconsistency contribute...</td>\n",
              "      <td>0.909091</td>\n",
              "      <td>0.936709</td>\n",
              "      <td>0.500000</td>\n",
              "      <td>0.805556</td>\n",
              "      <td>0.462359</td>\n",
              "    </tr>\n",
              "    <tr>\n",
              "      <th>1</th>\n",
              "      <td>What are some of the challenges faced by start...</td>\n",
              "      <td>Some of the challenges faced by startups in es...</td>\n",
              "      <td>[ied and determined. Sales calls get made. The...</td>\n",
              "      <td>In a startup, it is easy for the code not to g...</td>\n",
              "      <td>1.000000</td>\n",
              "      <td>0.991209</td>\n",
              "      <td>0.666667</td>\n",
              "      <td>1.000000</td>\n",
              "      <td>0.460683</td>\n",
              "    </tr>\n",
              "    <tr>\n",
              "      <th>2</th>\n",
              "      <td>What factors should be considered when decidin...</td>\n",
              "      <td>I don't know.</td>\n",
              "      <td>[including your formal education. So I will st...</td>\n",
              "      <td>The answer to given question is not present in...</td>\n",
              "      <td>0.000000</td>\n",
              "      <td>0.000000</td>\n",
              "      <td>1.000000</td>\n",
              "      <td>0.000000</td>\n",
              "      <td>0.195200</td>\n",
              "    </tr>\n",
              "    <tr>\n",
              "      <th>3</th>\n",
              "      <td>What should be valued when evaluating candidat...</td>\n",
              "      <td>When evaluating candidates for a startup, it i...</td>\n",
              "      <td>[priate for your particular startup.\\nWith a w...</td>\n",
              "      <td>The answer to given question is not present in...</td>\n",
              "      <td>0.500000</td>\n",
              "      <td>1.000000</td>\n",
              "      <td>1.000000</td>\n",
              "      <td>0.000000</td>\n",
              "      <td>0.179588</td>\n",
              "    </tr>\n",
              "    <tr>\n",
              "      <th>4</th>\n",
              "      <td>What are the consequences of not raising enoug...</td>\n",
              "      <td>Not raising enough money risks the survival of...</td>\n",
              "      <td>[Here’s why you shouldn’t do that:\\nWhat are t...</td>\n",
              "      <td>Not raising enough money risks the survival of...</td>\n",
              "      <td>0.666667</td>\n",
              "      <td>0.966323</td>\n",
              "      <td>0.333333</td>\n",
              "      <td>0.833333</td>\n",
              "      <td>0.518752</td>\n",
              "    </tr>\n",
              "    <tr>\n",
              "      <th>5</th>\n",
              "      <td>How does Structured Procrastination suggest us...</td>\n",
              "      <td>Structured Procrastination suggests that inste...</td>\n",
              "      <td>[standing.)\\nThe gist of Structured Procrastin...</td>\n",
              "      <td>Structured Procrastination suggests that inste...</td>\n",
              "      <td>1.000000</td>\n",
              "      <td>0.957872</td>\n",
              "      <td>1.000000</td>\n",
              "      <td>0.916667</td>\n",
              "      <td>0.996909</td>\n",
              "    </tr>\n",
              "    <tr>\n",
              "      <th>6</th>\n",
              "      <td>What analogy is used to describe the layers of...</td>\n",
              "      <td>The analogy used to describe the layers of ris...</td>\n",
              "      <td>[as if it’s an onion. Just like you peel an on...</td>\n",
              "      <td>The analogy used to describe the layers of ris...</td>\n",
              "      <td>1.000000</td>\n",
              "      <td>1.000000</td>\n",
              "      <td>1.000000</td>\n",
              "      <td>0.750000</td>\n",
              "      <td>0.891537</td>\n",
              "    </tr>\n",
              "    <tr>\n",
              "      <th>7</th>\n",
              "      <td>How can Structured Procrastination be used to ...</td>\n",
              "      <td>Structured Procrastination can be used to one'...</td>\n",
              "      <td>[standing.)\\nThe gist of Structured Procrastin...</td>\n",
              "      <td>Structured Procrastination suggests that inste...</td>\n",
              "      <td>1.000000</td>\n",
              "      <td>0.987980</td>\n",
              "      <td>0.500000</td>\n",
              "      <td>0.805556</td>\n",
              "      <td>0.992850</td>\n",
              "    </tr>\n",
              "    <tr>\n",
              "      <th>8</th>\n",
              "      <td>How is the quality of a startup's product defi...</td>\n",
              "      <td>The quality of a startup's product in the cont...</td>\n",
              "      <td>[The quality of a startup’s pr\\nproduct\\noduct...</td>\n",
              "      <td>The quality of a startup's product in the tech...</td>\n",
              "      <td>1.000000</td>\n",
              "      <td>0.993584</td>\n",
              "      <td>0.000000</td>\n",
              "      <td>1.000000</td>\n",
              "      <td>0.651053</td>\n",
              "    </tr>\n",
              "    <tr>\n",
              "      <th>9</th>\n",
              "      <td>What role can a campus computer lab play in he...</td>\n",
              "      <td>A campus computer lab can provide undergraduat...</td>\n",
              "      <td>[What should I do while I’m in school?\\nI’m a ...</td>\n",
              "      <td>A campus computer lab can play a role in helpi...</td>\n",
              "      <td>1.000000</td>\n",
              "      <td>0.972730</td>\n",
              "      <td>0.666667</td>\n",
              "      <td>0.750000</td>\n",
              "      <td>0.871039</td>\n",
              "    </tr>\n",
              "    <tr>\n",
              "      <th>10</th>\n",
              "      <td>Who said, 'This task isn't easy'?</td>\n",
              "      <td>I don't know.</td>\n",
              "      <td>[we’re going to do it. It won’t be easy, but w...</td>\n",
              "      <td>The answer to given question is not present in...</td>\n",
              "      <td>0.000000</td>\n",
              "      <td>0.000000</td>\n",
              "      <td>1.000000</td>\n",
              "      <td>0.000000</td>\n",
              "      <td>0.195204</td>\n",
              "    </tr>\n",
              "    <tr>\n",
              "      <th>11</th>\n",
              "      <td>What significant event involving Microsoft and...</td>\n",
              "      <td>I don't know.</td>\n",
              "      <td>[cess, or lack thereof leads to huge failure.\\...</td>\n",
              "      <td>The answer to given question is not present in...</td>\n",
              "      <td>0.000000</td>\n",
              "      <td>0.000000</td>\n",
              "      <td>1.000000</td>\n",
              "      <td>0.000000</td>\n",
              "      <td>0.195204</td>\n",
              "    </tr>\n",
              "    <tr>\n",
              "      <th>12</th>\n",
              "      <td>What undergrad degrees are valuable in the rea...</td>\n",
              "      <td>The context suggests that undergraduate degree...</td>\n",
              "      <td>[Which undergraduate degrees are useful in\\nth...</td>\n",
              "      <td>Engineering and math undergraduate degrees are...</td>\n",
              "      <td>1.000000</td>\n",
              "      <td>0.000000</td>\n",
              "      <td>0.500000</td>\n",
              "      <td>1.000000</td>\n",
              "      <td>0.529501</td>\n",
              "    </tr>\n",
              "    <tr>\n",
              "      <th>13</th>\n",
              "      <td>How does the shift to online impact traditiona...</td>\n",
              "      <td>The shift to online impacts traditional media ...</td>\n",
              "      <td>[Which makes total sense, amid the enormous ma...</td>\n",
              "      <td>The shift to online has led to a significant i...</td>\n",
              "      <td>0.857143</td>\n",
              "      <td>0.995864</td>\n",
              "      <td>0.500000</td>\n",
              "      <td>1.000000</td>\n",
              "      <td>0.657188</td>\n",
              "    </tr>\n",
              "    <tr>\n",
              "      <th>14</th>\n",
              "      <td>How does the three-folder email system help ma...</td>\n",
              "      <td>The three-folder email system helps manage imp...</td>\n",
              "      <td>[the normal course of your day.\\nFourth, aside...</td>\n",
              "      <td>The three-folder email system helps manage imp...</td>\n",
              "      <td>0.400000</td>\n",
              "      <td>1.000000</td>\n",
              "      <td>0.250000</td>\n",
              "      <td>1.000000</td>\n",
              "      <td>0.674776</td>\n",
              "    </tr>\n",
              "    <tr>\n",
              "      <th>15</th>\n",
              "      <td>What's the argument against prioritizing intel...</td>\n",
              "      <td>The argument against prioritizing intelligence...</td>\n",
              "      <td>[Especially in this industry.\\nYou will read, ...</td>\n",
              "      <td>The argument against prioritizing intelligence...</td>\n",
              "      <td>1.000000</td>\n",
              "      <td>0.953085</td>\n",
              "      <td>1.000000</td>\n",
              "      <td>1.000000</td>\n",
              "      <td>0.844658</td>\n",
              "    </tr>\n",
              "    <tr>\n",
              "      <th>16</th>\n",
              "      <td>How does planning interviews affect a marketer...</td>\n",
              "      <td>Planning interviews helps a marketer prepare f...</td>\n",
              "      <td>[For a marketing person — have them whiteboard...</td>\n",
              "      <td>Planning interviews ahead of time allows for t...</td>\n",
              "      <td>0.600000</td>\n",
              "      <td>0.975632</td>\n",
              "      <td>0.000000</td>\n",
              "      <td>1.000000</td>\n",
              "      <td>0.648396</td>\n",
              "    </tr>\n",
              "    <tr>\n",
              "      <th>17</th>\n",
              "      <td>How does faster cycle time impact entrepreneur...</td>\n",
              "      <td>I don't know.</td>\n",
              "      <td>[the time cycles further.\\nThird, all that sai...</td>\n",
              "      <td>The faster cycle time allows entrepreneurs to ...</td>\n",
              "      <td>0.000000</td>\n",
              "      <td>0.000000</td>\n",
              "      <td>0.666667</td>\n",
              "      <td>0.583333</td>\n",
              "      <td>0.179303</td>\n",
              "    </tr>\n",
              "    <tr>\n",
              "      <th>18</th>\n",
              "      <td>What key factor guides the CEO in the turnarou...</td>\n",
              "      <td>The key factor that guides the CEO in the turn...</td>\n",
              "      <td>[clearly in charge.\\nA company that requires a...</td>\n",
              "      <td>The key factor that guides the CEO in the turn...</td>\n",
              "      <td>0.500000</td>\n",
              "      <td>0.996403</td>\n",
              "      <td>0.000000</td>\n",
              "      <td>0.000000</td>\n",
              "      <td>0.477281</td>\n",
              "    </tr>\n",
              "  </tbody>\n",
              "</table>\n",
              "</div>"
            ],
            "text/plain": [
              "                                             question  \\\n",
              "0   How does the tendency to avoid inconsistency c...   \n",
              "1   What are some of the challenges faced by start...   \n",
              "2   What factors should be considered when decidin...   \n",
              "3   What should be valued when evaluating candidat...   \n",
              "4   What are the consequences of not raising enoug...   \n",
              "5   How does Structured Procrastination suggest us...   \n",
              "6   What analogy is used to describe the layers of...   \n",
              "7   How can Structured Procrastination be used to ...   \n",
              "8   How is the quality of a startup's product defi...   \n",
              "9   What role can a campus computer lab play in he...   \n",
              "10                  Who said, 'This task isn't easy'?   \n",
              "11  What significant event involving Microsoft and...   \n",
              "12  What undergrad degrees are valuable in the rea...   \n",
              "13  How does the shift to online impact traditiona...   \n",
              "14  How does the three-folder email system help ma...   \n",
              "15  What's the argument against prioritizing intel...   \n",
              "16  How does planning interviews affect a marketer...   \n",
              "17  How does faster cycle time impact entrepreneur...   \n",
              "18  What key factor guides the CEO in the turnarou...   \n",
              "\n",
              "                                               answer  \\\n",
              "0   The tendency to avoid inconsistency contribute...   \n",
              "1   Some of the challenges faced by startups in es...   \n",
              "2                                       I don't know.   \n",
              "3   When evaluating candidates for a startup, it i...   \n",
              "4   Not raising enough money risks the survival of...   \n",
              "5   Structured Procrastination suggests that inste...   \n",
              "6   The analogy used to describe the layers of ris...   \n",
              "7   Structured Procrastination can be used to one'...   \n",
              "8   The quality of a startup's product in the cont...   \n",
              "9   A campus computer lab can provide undergraduat...   \n",
              "10                                      I don't know.   \n",
              "11                                      I don't know.   \n",
              "12  The context suggests that undergraduate degree...   \n",
              "13  The shift to online impacts traditional media ...   \n",
              "14  The three-folder email system helps manage imp...   \n",
              "15  The argument against prioritizing intelligence...   \n",
              "16  Planning interviews helps a marketer prepare f...   \n",
              "17                                      I don't know.   \n",
              "18  The key factor that guides the CEO in the turn...   \n",
              "\n",
              "                                             contexts  \\\n",
              "0   [Five: Inconsistency-Avoidance Tendency\\n[Peop...   \n",
              "1   [ied and determined. Sales calls get made. The...   \n",
              "2   [including your formal education. So I will st...   \n",
              "3   [priate for your particular startup.\\nWith a w...   \n",
              "4   [Here’s why you shouldn’t do that:\\nWhat are t...   \n",
              "5   [standing.)\\nThe gist of Structured Procrastin...   \n",
              "6   [as if it’s an onion. Just like you peel an on...   \n",
              "7   [standing.)\\nThe gist of Structured Procrastin...   \n",
              "8   [The quality of a startup’s pr\\nproduct\\noduct...   \n",
              "9   [What should I do while I’m in school?\\nI’m a ...   \n",
              "10  [we’re going to do it. It won’t be easy, but w...   \n",
              "11  [cess, or lack thereof leads to huge failure.\\...   \n",
              "12  [Which undergraduate degrees are useful in\\nth...   \n",
              "13  [Which makes total sense, amid the enormous ma...   \n",
              "14  [the normal course of your day.\\nFourth, aside...   \n",
              "15  [Especially in this industry.\\nYou will read, ...   \n",
              "16  [For a marketing person — have them whiteboard...   \n",
              "17  [the time cycles further.\\nThird, all that sai...   \n",
              "18  [clearly in charge.\\nA company that requires a...   \n",
              "\n",
              "                                         ground_truth  faithfulness  \\\n",
              "0   The tendency to avoid inconsistency contribute...      0.909091   \n",
              "1   In a startup, it is easy for the code not to g...      1.000000   \n",
              "2   The answer to given question is not present in...      0.000000   \n",
              "3   The answer to given question is not present in...      0.500000   \n",
              "4   Not raising enough money risks the survival of...      0.666667   \n",
              "5   Structured Procrastination suggests that inste...      1.000000   \n",
              "6   The analogy used to describe the layers of ris...      1.000000   \n",
              "7   Structured Procrastination suggests that inste...      1.000000   \n",
              "8   The quality of a startup's product in the tech...      1.000000   \n",
              "9   A campus computer lab can play a role in helpi...      1.000000   \n",
              "10  The answer to given question is not present in...      0.000000   \n",
              "11  The answer to given question is not present in...      0.000000   \n",
              "12  Engineering and math undergraduate degrees are...      1.000000   \n",
              "13  The shift to online has led to a significant i...      0.857143   \n",
              "14  The three-folder email system helps manage imp...      0.400000   \n",
              "15  The argument against prioritizing intelligence...      1.000000   \n",
              "16  Planning interviews ahead of time allows for t...      0.600000   \n",
              "17  The faster cycle time allows entrepreneurs to ...      0.000000   \n",
              "18  The key factor that guides the CEO in the turn...      0.500000   \n",
              "\n",
              "    answer_relevancy  context_recall  context_precision  answer_correctness  \n",
              "0           0.936709        0.500000           0.805556            0.462359  \n",
              "1           0.991209        0.666667           1.000000            0.460683  \n",
              "2           0.000000        1.000000           0.000000            0.195200  \n",
              "3           1.000000        1.000000           0.000000            0.179588  \n",
              "4           0.966323        0.333333           0.833333            0.518752  \n",
              "5           0.957872        1.000000           0.916667            0.996909  \n",
              "6           1.000000        1.000000           0.750000            0.891537  \n",
              "7           0.987980        0.500000           0.805556            0.992850  \n",
              "8           0.993584        0.000000           1.000000            0.651053  \n",
              "9           0.972730        0.666667           0.750000            0.871039  \n",
              "10          0.000000        1.000000           0.000000            0.195204  \n",
              "11          0.000000        1.000000           0.000000            0.195204  \n",
              "12          0.000000        0.500000           1.000000            0.529501  \n",
              "13          0.995864        0.500000           1.000000            0.657188  \n",
              "14          1.000000        0.250000           1.000000            0.674776  \n",
              "15          0.953085        1.000000           1.000000            0.844658  \n",
              "16          0.975632        0.000000           1.000000            0.648396  \n",
              "17          0.000000        0.666667           0.583333            0.179303  \n",
              "18          0.996403        0.000000           0.000000            0.477281  "
            ]
          },
          "execution_count": 106,
          "metadata": {},
          "output_type": "execute_result"
        }
      ],
      "source": [
        "results_df = results.to_pandas()\n",
        "results_df"
      ]
    },
    {
      "cell_type": "markdown",
      "metadata": {
        "id": "GJKEOLNs5v0R"
      },
      "source": [
        "## Task : Testing OpenAI's Claim\n",
        "\n",
        "Now that we've seen how our retriever can impact the performance of our RAG pipeline - let's see how changing our embedding model impacts performance."
      ]
    },
    {
      "cell_type": "markdown",
      "metadata": {
        "id": "MM4KRhJYEL-h"
      },
      "source": [
        "####🏗️ Activity #1:\n",
        "\n",
        "Please provide markdown, or code comments, to explain which each of the following steps are doing!"
      ]
    },
    {
      "cell_type": "code",
      "execution_count": 31,
      "metadata": {
        "id": "Gv_tv4w86bPb"
      },
      "outputs": [],
      "source": [
        "te3_embeddings = OpenAIEmbeddings(model=\"text-embedding-3-small\")\n",
        "\n",
        "#🚀 We're going to use \"text-embedding-3-small\" embedding model which is a newer model than \"text-embedding-ada-002\".\n",
        "#🚀 OpenAI clains that \"text-embedding-3-small\" has the same dimension as \"text-embedding-ada-002\" but more performant."
      ]
    },
    {
      "cell_type": "code",
      "execution_count": 32,
      "metadata": {
        "colab": {
          "base_uri": "https://localhost:8080/"
        },
        "id": "-JPe1_Jx6Rnw",
        "outputId": "9f552c17-dea5-4b87-a609-7f8bc37f82bd"
      },
      "outputs": [],
      "source": [
        "qdrant_client.create_collection(\n",
        "    collection_name=COLLECTION_NAME+\"TE3\",\n",
        "    vectors_config=VectorParams(size=1536, distance=Distance.COSINE),\n",
        ")\n",
        "\n",
        "qdrant_vector_store = QdrantVectorStore(\n",
        "    client=qdrant_client,\n",
        "    collection_name=COLLECTION_NAME+\"TE3\",\n",
        "    embedding=te3_embeddings,\n",
        ")\n",
        "\n",
        "ids = qdrant_vector_store.add_documents(documents)\n",
        "\n",
        "#🚀 Create a new collection in Qdrant. The only difference here is that the new collection is populated with te3_embeddings."
      ]
    },
    {
      "cell_type": "code",
      "execution_count": 33,
      "metadata": {
        "id": "H-HuozNf6muZ"
      },
      "outputs": [
        {
          "data": {
            "text/plain": [
              "[Document(metadata={'source': 'https://d1lamhf6l6yk6d.cloudfront.net/uploads/2021/08/The-pmarca-Blog-Archives.pdf', 'file_path': 'https://d1lamhf6l6yk6d.cloudfront.net/uploads/2021/08/The-pmarca-Blog-Archives.pdf', 'page': 155, 'total_pages': 195, 'format': 'PDF 1.3', 'title': 'The Pmarca Blog Archives', 'author': '', 'subject': '', 'keywords': '', 'creator': '', 'producer': 'Mac OS X 10.10 Quartz PDFContext', 'creationDate': \"D:20150110020418Z00'00'\", 'modDate': \"D:20150110020418Z00'00'\", 'trapped': '', '_id': '0c24c543f54a4804907ce85dea8125c5', '_collection_name': 'PMarca BlogsTE3'}, page_content='Five: Inconsistency-Avoidance Tendency\\n[People are] reluctant to change, which is a form of inconsistency\\navoidance. We see this in all human habits, constructive and'),\n",
              " Document(metadata={'source': 'https://d1lamhf6l6yk6d.cloudfront.net/uploads/2021/08/The-pmarca-Blog-Archives.pdf', 'file_path': 'https://d1lamhf6l6yk6d.cloudfront.net/uploads/2021/08/The-pmarca-Blog-Archives.pdf', 'page': 155, 'total_pages': 195, 'format': 'PDF 1.3', 'title': 'The Pmarca Blog Archives', 'author': '', 'subject': '', 'keywords': '', 'creator': '', 'producer': 'Mac OS X 10.10 Quartz PDFContext', 'creationDate': \"D:20150110020418Z00'00'\", 'modDate': \"D:20150110020418Z00'00'\", 'trapped': '', '_id': '8986cfc16979450aba1711ab61a091a4', '_collection_name': 'PMarca BlogsTE3'}, page_content='less brain-blocked by its previous conclusions…\\nOne corollary of Inconsistency-Avoidance Tendency is that a per-\\nson making big sacriXces in the course of assuming a new identity'),\n",
              " Document(metadata={'source': 'https://d1lamhf6l6yk6d.cloudfront.net/uploads/2021/08/The-pmarca-Blog-Archives.pdf', 'file_path': 'https://d1lamhf6l6yk6d.cloudfront.net/uploads/2021/08/The-pmarca-Blog-Archives.pdf', 'page': 155, 'total_pages': 195, 'format': 'PDF 1.3', 'title': 'The Pmarca Blog Archives', 'author': '', 'subject': '', 'keywords': '', 'creator': '', 'producer': 'Mac OS X 10.10 Quartz PDFContext', 'creationDate': \"D:20150110020418Z00'00'\", 'modDate': \"D:20150110020418Z00'00'\", 'trapped': '', '_id': '8320996b6390441f9529c145da563ed3', '_collection_name': 'PMarca BlogsTE3'}, page_content='[T]ending to be maintained in place by the anti-change tendency\\nof the brain are one’s previous conclusions, human loyalties, repu-\\ntational identity, commitments…'),\n",
              " Document(metadata={'source': 'https://d1lamhf6l6yk6d.cloudfront.net/uploads/2021/08/The-pmarca-Blog-Archives.pdf', 'file_path': 'https://d1lamhf6l6yk6d.cloudfront.net/uploads/2021/08/The-pmarca-Blog-Archives.pdf', 'page': 155, 'total_pages': 195, 'format': 'PDF 1.3', 'title': 'The Pmarca Blog Archives', 'author': '', 'subject': '', 'keywords': '', 'creator': '', 'producer': 'Mac OS X 10.10 Quartz PDFContext', 'creationDate': \"D:20150110020418Z00'00'\", 'modDate': \"D:20150110020418Z00'00'\", 'trapped': '', '_id': 'd0ec1456e58847e6b05d11ec45314bdb', '_collection_name': 'PMarca BlogsTE3'}, page_content='tational identity, commitments…\\nIt is easy to see that a quickly reached conclusion, triggered by\\nDoubt-Avoidance Tendency, when combined with a tendency to')]"
            ]
          },
          "execution_count": 33,
          "metadata": {},
          "output_type": "execute_result"
        }
      ],
      "source": [
        "te3_retriever = qdrant_vector_store.as_retriever().with_config({'run_name':'RETRIEVER'})\n",
        "\n",
        "#🚀 Get a LangChain retriever from qdrant_vector_store\n",
        "\n",
        "te3_retriever.invoke(\"How does the tendency to avoid inconsistency contribute to people being reluctant to change?\")\n"
      ]
    },
    {
      "cell_type": "code",
      "execution_count": 37,
      "metadata": {
        "id": "HJB1ZIAcss1q"
      },
      "outputs": [
        {
          "data": {
            "text/plain": [
              "RunnableBinding(bound=RunnableBinding(bound=RunnableAssign(mapper={\n",
              "  context: RunnableLambda(format_docs)\n",
              "}), config={'run_name': 'format_inputs'})\n",
              "| ChatPromptTemplate(input_variables=['context', 'input'], optional_variables=['chat_history'], input_types={'chat_history': typing.List[typing.Union[langchain_core.messages.ai.AIMessage, langchain_core.messages.human.HumanMessage, langchain_core.messages.chat.ChatMessage, langchain_core.messages.system.SystemMessage, langchain_core.messages.function.FunctionMessage, langchain_core.messages.tool.ToolMessage]]}, partial_variables={'chat_history': []}, metadata={'lc_hub_owner': 'langchain-ai', 'lc_hub_repo': 'retrieval-qa-chat', 'lc_hub_commit_hash': 'b60afb6297176b022244feb83066e10ecadcda7b90423654c4a9d45e7a73cebc'}, messages=[SystemMessagePromptTemplate(prompt=PromptTemplate(input_variables=['context'], template='Answer any use questions based solely on the context below:\\n\\n<context>\\n{context}\\n</context>')), MessagesPlaceholder(variable_name='chat_history', optional=True), HumanMessagePromptTemplate(prompt=PromptTemplate(input_variables=['input'], template='{input}'))])\n",
              "| ChatOpenAI(client=<openai.resources.chat.completions.Completions object at 0x7f52e35005d0>, async_client=<openai.resources.chat.completions.AsyncCompletions object at 0x7f52e5aa05d0>, root_client=<openai.OpenAI object at 0x7f52e5aa1b50>, root_async_client=<openai.AsyncOpenAI object at 0x7f52e3501ed0>, model_name='gpt-4o-mini', temperature=0.0, openai_api_key=SecretStr('**********'), openai_proxy='')\n",
              "| StrOutputParser(), config={'run_name': 'stuff_documents_chain'})"
            ]
          },
          "execution_count": 37,
          "metadata": {},
          "output_type": "execute_result"
        }
      ],
      "source": [
        "from langchain.chains.combine_documents import create_stuff_documents_chain\n",
        "\n",
        "document_chain = create_stuff_documents_chain(primary_qa_llm, retrieval_qa_prompt)\n",
        "document_chain\n",
        "\n",
        "#🚀 This out-of-the-box chain is to pass a list of Documents to a model.\n",
        "#🚀 It corresponds to \"Runnable part 2 + Runnable part 3\" in the code below\n",
        "\n",
        "# retrieval_augmented_qa_chain = (\n",
        "#     {\"context\": itemgetter(\"question\") | retriever, \"question\": itemgetter(\"question\")}  # Runnable part 1\n",
        "#     | RunnablePassthrough.assign(context=itemgetter(\"context\"))   # Runnable part 2\n",
        "#     | {\"response\": prompt | primary_qa_llm, \"context\": itemgetter(\"context\")}   # Runnable part 3\n",
        "# )\n"
      ]
    },
    {
      "cell_type": "code",
      "execution_count": 38,
      "metadata": {
        "id": "s5QSJIhm7SKr"
      },
      "outputs": [],
      "source": [
        "from langchain.chains import create_retrieval_chain\n",
        "\n",
        "te3_retrieval_chain = create_retrieval_chain( (lambda x: x[\"input\"]) | te3_retriever, document_chain) \n",
        "#🚀 We need to pass lambda x: x[\"input\"] |te3_retriever instead of te3_retriever because of LangChain version \n",
        "\n",
        "\n",
        "#🚀 create_retrieval_chain() returns a RAG chain out of the box.\n",
        "#🚀 It is equivalent to the code below (Sligtly diffent in terms of the output format.)\n",
        "\n",
        "# retrieval_augmented_qa_chain = (\n",
        "#     {\"context\": itemgetter(\"question\") | retriever, \"question\": itemgetter(\"question\")}  # Runnable part 1\n",
        "#     | RunnablePassthrough.assign(context=itemgetter(\"context\"))   # Runnable part 2\n",
        "#     | {\"response\": prompt | primary_qa_llm, \"context\": itemgetter(\"context\")}   # Runnable part 3\n",
        "# )"
      ]
    },
    {
      "cell_type": "code",
      "execution_count": 140,
      "metadata": {
        "id": "MBVjl1UK7fd7"
      },
      "outputs": [],
      "source": [
        "answers = []\n",
        "contexts = []\n",
        "\n",
        "for question in test_questions:\n",
        "  response = te3_retrieval_chain.invoke({\"input\" : question})\n",
        "  answers.append(response[\"answer\"])\n",
        "  contexts.append([context.page_content for context in response[\"context\"]])"
      ]
    },
    {
      "cell_type": "code",
      "execution_count": 142,
      "metadata": {
        "id": "lTBrs0zr7iyG"
      },
      "outputs": [
        {
          "data": {
            "text/plain": [
              "Dataset({\n",
              "    features: ['question', 'answer', 'contexts', 'ground_truth'],\n",
              "    num_rows: 19\n",
              "})"
            ]
          },
          "execution_count": 142,
          "metadata": {},
          "output_type": "execute_result"
        }
      ],
      "source": [
        "te3_response_dataset_advanced_retrieval = Dataset.from_dict({\n",
        "    \"question\" : test_questions,\n",
        "    \"answer\" : answers,\n",
        "    \"contexts\" : contexts,\n",
        "    \"ground_truth\" : test_groundtruths\n",
        "})\n",
        "\n",
        "te3_response_dataset_advanced_retrieval"
      ]
    },
    {
      "cell_type": "code",
      "execution_count": 143,
      "metadata": {
        "colab": {
          "base_uri": "https://localhost:8080/",
          "height": 49,
          "referenced_widgets": [
            "ced3689d335c4f1ca62d39b908d6cb33",
            "824fe37b12d4414a9376e266ddd086f5",
            "00afceb39c074975b6b88d6d0d4d2901",
            "e8c20cb22ecb40dbaf61959fc7d087cb",
            "771597df670f417794f66408b05a7eb9",
            "9496fc3f26cb42ec9ace36175eb14906",
            "8025a0f161d3475794daa9cd88209d5c",
            "9932859168ad436e9aeef09279b534b1",
            "474f44771cb04a4693585273a03a5548",
            "90af75e58cef440a8d38ee6621e0f4d1",
            "ce0b10aca9064bc092cf3305eb0dab04"
          ]
        },
        "id": "hG5h-D8n7sZp",
        "outputId": "54cc5a58-e508-40dc-d3a1-bf7f17917b5b"
      },
      "outputs": [
        {
          "data": {
            "application/vnd.jupyter.widget-view+json": {
              "model_id": "df10861e0ed2472890be3f2e74c68b29",
              "version_major": 2,
              "version_minor": 0
            },
            "text/plain": [
              "Evaluating:   0%|          | 0/95 [00:00<?, ?it/s]"
            ]
          },
          "metadata": {},
          "output_type": "display_data"
        }
      ],
      "source": [
        "with tracing_v2_enabled('AIM-WEEK4-DAY2-RAGAS-EVAL'):\n",
        "    te3_advanced_retrieval_results = evaluate(te3_response_dataset_advanced_retrieval, metrics)"
      ]
    },
    {
      "cell_type": "code",
      "execution_count": 144,
      "metadata": {
        "colab": {
          "base_uri": "https://localhost:8080/"
        },
        "id": "1uHdcpsZ76kj",
        "outputId": "83a68685-68a0-4d73-b00e-6c44f174329b"
      },
      "outputs": [
        {
          "data": {
            "text/plain": [
              "{'faithfulness': 0.8000, 'answer_relevancy': 0.9717, 'context_recall': 0.6228, 'context_precision': 0.6287, 'answer_correctness': 0.6506}"
            ]
          },
          "execution_count": 144,
          "metadata": {},
          "output_type": "execute_result"
        }
      ],
      "source": [
        "te3_advanced_retrieval_results"
      ]
    },
    {
      "cell_type": "code",
      "execution_count": 145,
      "metadata": {
        "colab": {
          "base_uri": "https://localhost:8080/",
          "height": 206
        },
        "id": "s4TyaCUQ79Ke",
        "outputId": "223265df-d87b-4f3f-ddba-039f31c9d73a"
      },
      "outputs": [
        {
          "data": {
            "text/html": [
              "<div>\n",
              "<style scoped>\n",
              "    .dataframe tbody tr th:only-of-type {\n",
              "        vertical-align: middle;\n",
              "    }\n",
              "\n",
              "    .dataframe tbody tr th {\n",
              "        vertical-align: top;\n",
              "    }\n",
              "\n",
              "    .dataframe thead th {\n",
              "        text-align: right;\n",
              "    }\n",
              "</style>\n",
              "<table border=\"1\" class=\"dataframe\">\n",
              "  <thead>\n",
              "    <tr style=\"text-align: right;\">\n",
              "      <th></th>\n",
              "      <th>Metric</th>\n",
              "      <th>ADA</th>\n",
              "      <th>TE3</th>\n",
              "      <th>Baseline -&gt; TE3</th>\n",
              "    </tr>\n",
              "  </thead>\n",
              "  <tbody>\n",
              "    <tr>\n",
              "      <th>0</th>\n",
              "      <td>faithfulness</td>\n",
              "      <td>0.654363</td>\n",
              "      <td>0.800021</td>\n",
              "      <td>0.145658</td>\n",
              "    </tr>\n",
              "    <tr>\n",
              "      <th>1</th>\n",
              "      <td>answer_relevancy</td>\n",
              "      <td>0.722494</td>\n",
              "      <td>0.971692</td>\n",
              "      <td>0.249198</td>\n",
              "    </tr>\n",
              "    <tr>\n",
              "      <th>2</th>\n",
              "      <td>context_recall</td>\n",
              "      <td>0.609649</td>\n",
              "      <td>0.622807</td>\n",
              "      <td>0.013158</td>\n",
              "    </tr>\n",
              "    <tr>\n",
              "      <th>3</th>\n",
              "      <td>context_precision</td>\n",
              "      <td>0.654971</td>\n",
              "      <td>0.628655</td>\n",
              "      <td>-0.026316</td>\n",
              "    </tr>\n",
              "    <tr>\n",
              "      <th>4</th>\n",
              "      <td>answer_correctness</td>\n",
              "      <td>0.559025</td>\n",
              "      <td>0.650568</td>\n",
              "      <td>0.091543</td>\n",
              "    </tr>\n",
              "  </tbody>\n",
              "</table>\n",
              "</div>"
            ],
            "text/plain": [
              "               Metric       ADA       TE3  Baseline -> TE3\n",
              "0        faithfulness  0.654363  0.800021         0.145658\n",
              "1    answer_relevancy  0.722494  0.971692         0.249198\n",
              "2      context_recall  0.609649  0.622807         0.013158\n",
              "3   context_precision  0.654971  0.628655        -0.026316\n",
              "4  answer_correctness  0.559025  0.650568         0.091543"
            ]
          },
          "execution_count": 145,
          "metadata": {},
          "output_type": "execute_result"
        }
      ],
      "source": [
        "df_baseline = pd.DataFrame(list(results.items()), columns=['Metric', 'ADA'])\n",
        "df_comparison = pd.DataFrame(list(te3_advanced_retrieval_results.items()), columns=['Metric', 'TE3'])\n",
        "\n",
        "df_merged = pd.merge(df_baseline, df_comparison, on='Metric')\n",
        "\n",
        "df_merged['Baseline -> TE3'] = df_merged['TE3'] - df_merged['ADA']\n",
        "\n",
        "df_merged"
      ]
    },
    {
      "cell_type": "markdown",
      "metadata": {
        "id": "rRmkcMrxC4Me"
      },
      "source": [
        "#### ❓ Question #3:\n",
        "\n",
        "Do you think, in your opinion, `text-embedding-3-small` is significantly better than `ada`?"
      ]
    },
    {
      "cell_type": "markdown",
      "metadata": {},
      "source": [
        "#### 🚀 Answer to Question #3\n",
        "- The \"text-embedding-3-small\" model shows improvements across all four criteria, except for 'context precision'.\n",
        "- A decrease in 'context precision' indicates that the retriever may fetch slightly less relevant documents.\n",
        "- However, the primary value of the RAG system for end users lies in the quality of the 'answer,' not the 'context.' In this regard, the te3_retrieval_chain is clearly superior to the one using 'text-embedding-ada-002'.\n"
      ]
    },
    {
      "cell_type": "markdown",
      "metadata": {
        "id": "7D-mJuXKytXw"
      },
      "source": [
        "## Task 5: Selecting an Advanced Retriever and Evaluating"
      ]
    },
    {
      "cell_type": "markdown",
      "metadata": {
        "id": "2ac__xQxy11O"
      },
      "source": [
        "#### 🏗️ Activity #2\n",
        "\n",
        "While the changes that occured due to modifying the embedding model were desirable - you're now tasked with improving `context_recall`, or `context_precision` (or both!).\n",
        "\n",
        "You'll follow these steps:\n",
        "\n",
        "1. Reason about this list of Advanced Retrieval methods:\n",
        "  - [Contextual Compression (Reranker)](https://python.langchain.com/v0.1/docs/modules/data_connection/retrievers/contextual_compression/)\n",
        "    - 🚀 Contextual compression improves retrieval by condensing documents based on query relevance to reduce irrelevant information and optimize responses.\n",
        "  - [MultiQueryRetriever](https://python.langchain.com/v0.1/docs/modules/data_connection/retrievers/MultiQueryRetriever/)\n",
        "    - 🚀 The MultiQueryRetriever enhances distance-based vector retrieval by automatically generating multiple queries from different perspectives, retrieving relevant documents for each, and combining them to provide a more comprehensive set of results.\n",
        "  - [Parent Document Retriever](https://python.langchain.com/v0.1/docs/modules/data_connection/retrievers/parent_document_retriever/)\n",
        "    - 🚀 The ParentDocumentRetriever balances the need for small, accurate document embeddings and sufficient context by retrieving small chunks and then returning the larger parent documents they originated from.\n",
        "2. Select the method you think will be the most performant.\n",
        "  - 🚀 I will try Contextual Compression as my first advanced RAG.\n",
        "3. Implement that method.\n",
        "4. Create a LCEL chain that utlizes the new Retriever method.\n",
        "5. Evaluate this LCEL and compare to the TE3 results.\n",
        "\n",
        "> NOTE: We will spend more time in Session 14 diving into advanced retrieval methods, this activity is only to serve as a basic introduction to the idea of component-wise improvements and how they might impact metrics."
      ]
    },
    {
      "cell_type": "code",
      "execution_count": 189,
      "metadata": {},
      "outputs": [],
      "source": [
        "### YOUR CODE HERE (https://python.langchain.com/v0.1/docs/modules/data_connection/retrievers/contextual_compression/)\n",
        "\n",
        "# 🚀 Step 1) Compose a compressor using LCEL\n",
        "from langchain_core.runnables import RunnableLambda, RunnablePassthrough\n",
        "from langchain_core.documents import Document\n",
        "\n",
        "def make_it_into_batch(input: dict):\n",
        "    return [{'question':input['question'], 'context':c} for c in input['context']]\n",
        "enter_runnable = RunnableLambda(make_it_into_batch)\n",
        "\n",
        "template= (\n",
        "    \"Given the following question and context, extract any part of the context *AS IS* that is relevant to answer the question.\"\n",
        "    \" If none of the context is relevant return NO_OUTPUT. \"\n",
        "    \"\\n\\nRemember, *DO NOT* edit the extracted parts of the context.\\n\\n> Question: {question}\\n> Context:\\n>>>\\n{context}\\n>>>\\nExtracted relevant parts:\"\n",
        ")\n",
        "compression_prompt = ChatPromptTemplate([('human', template)])\n",
        "\n",
        "compression_llm = ChatOpenAI(model_name=\"gpt-4o-mini\", temperature=0)\n",
        "\n",
        "def compressor_parser(responses):\n",
        "    return [Document(page_content=response.content) for response in responses if response.content != \"NO_OUTPUT\"]\n",
        "parser_runnable = RunnableLambda(compressor_parser)\n",
        "\n",
        "compressor = (enter_runnable | (compression_prompt | compression_llm).map() | parser_runnable).with_config({'run_name':'CONTEXT_COMPRESSOR'})\n",
        "\n",
        "\n",
        "# 🚀 Step 2) Upgrade our 'te3_retriever' to 'contextual-compression retriever' using LCEL\n",
        "contextual_compression_retriever = (RunnablePassthrough.assign(context=itemgetter('question') | te3_retriever)  | compressor).with_config({'run_name':'CONTEXT_COMPRESSION_RETRIEVER'}) \n",
        "\n",
        "\n",
        "# # 🚀 Step 3) Implement a RAG\n",
        "\n",
        "template = \"\"\"\n",
        "### Anwer the following Question based soly on the Context provided. If you are unable to find the answer from Context, just say \"I don't know\".\n",
        "\n",
        "Question:\n",
        "{question}\n",
        "\n",
        "Context:\n",
        "{context}\n",
        "\"\"\"\n",
        "rag_prompt = ChatPromptTemplate([('human', template)])\n",
        "rag_llm = ChatOpenAI(model_name=\"gpt-4o-mini\", temperature=0)\n",
        "\n",
        "RAG_with_contextual_compression = (\n",
        "    RunnablePassthrough.assign(context = contextual_compression_retriever).with_config({'run_name':'R_FOR_RAG'})\n",
        "    | RunnablePassthrough.assign(response = rag_prompt.with_config({'run_name':'A_FOR_RAG'}) | rag_llm.with_config({'run_name':'G_FOR_RAG'})).with_config({'run_name': 'AG_FOR_RAG'})\n",
        "    | {\"answer\": itemgetter(\"response\"), \"context\": itemgetter(\"context\")} \n",
        ").with_config({'run_name': 'RAG'})"
      ]
    },
    {
      "cell_type": "code",
      "execution_count": 196,
      "metadata": {},
      "outputs": [
        {
          "data": {
            "application/vnd.jupyter.widget-view+json": {
              "model_id": "2379c041d76c47b0bc0b9d9d1671326c",
              "version_major": 2,
              "version_minor": 0
            },
            "text/plain": [
              "Evaluating:   0%|          | 0/95 [00:00<?, ?it/s]"
            ]
          },
          "metadata": {},
          "output_type": "display_data"
        }
      ],
      "source": [
        "# 🚀 Step 4) Evaluate it!\n",
        "\n",
        "answers = []\n",
        "contexts = []\n",
        "\n",
        "for question in test_questions:\n",
        "  response = RAG_with_contextual_compression.invoke({\"question\" : question})\n",
        "  answers.append(response[\"answer\"].content)\n",
        "  contexts.append([context.page_content for context in response[\"context\"]])\n",
        "\n",
        "from datasets import Dataset\n",
        "RAG_with_contextual_compression_dataset = Dataset.from_dict({\n",
        "    \"question\" : test_questions,\n",
        "    \"answer\" : answers,\n",
        "    \"contexts\" : contexts,\n",
        "    \"ground_truth\" : test_groundtruths\n",
        "})\n",
        "\n",
        "\n",
        "evaluation_llm = ChatOpenAI(model_name=\"gpt-4o-mini-2024-07-18\", temperature=0)\n",
        "with tracing_v2_enabled('AIM-WEEK4-DAY2-RAGAS-EVAL'):\n",
        "    RAG_with_contextual_compression_result = evaluate(RAG_with_contextual_compression_dataset, metrics, llm=evaluation_llm)"
      ]
    },
    {
      "cell_type": "code",
      "execution_count": 199,
      "metadata": {},
      "outputs": [
        {
          "data": {
            "text/plain": [
              "{'faithfulness': 0.5453, 'answer_relevancy': 0.6174, 'context_recall': 0.4035, 'context_precision': 0.6330, 'answer_correctness': 0.4634}"
            ]
          },
          "execution_count": 199,
          "metadata": {},
          "output_type": "execute_result"
        }
      ],
      "source": [
        "RAG_with_contextual_compression_result "
      ]
    },
    {
      "cell_type": "code",
      "execution_count": 200,
      "metadata": {},
      "outputs": [
        {
          "data": {
            "text/html": [
              "<div>\n",
              "<style scoped>\n",
              "    .dataframe tbody tr th:only-of-type {\n",
              "        vertical-align: middle;\n",
              "    }\n",
              "\n",
              "    .dataframe tbody tr th {\n",
              "        vertical-align: top;\n",
              "    }\n",
              "\n",
              "    .dataframe thead th {\n",
              "        text-align: right;\n",
              "    }\n",
              "</style>\n",
              "<table border=\"1\" class=\"dataframe\">\n",
              "  <thead>\n",
              "    <tr style=\"text-align: right;\">\n",
              "      <th></th>\n",
              "      <th>Metric</th>\n",
              "      <th>ADA</th>\n",
              "      <th>TE3</th>\n",
              "      <th>Compression</th>\n",
              "      <th>TE3-&gt;Compression</th>\n",
              "    </tr>\n",
              "  </thead>\n",
              "  <tbody>\n",
              "    <tr>\n",
              "      <th>0</th>\n",
              "      <td>faithfullness</td>\n",
              "      <td>0.654363</td>\n",
              "      <td>0.800021</td>\n",
              "      <td>0.5453</td>\n",
              "      <td>-0.254721</td>\n",
              "    </tr>\n",
              "    <tr>\n",
              "      <th>1</th>\n",
              "      <td>answer_relevancy</td>\n",
              "      <td>0.722494</td>\n",
              "      <td>0.971692</td>\n",
              "      <td>0.6174</td>\n",
              "      <td>-0.354292</td>\n",
              "    </tr>\n",
              "    <tr>\n",
              "      <th>2</th>\n",
              "      <td>context_recall</td>\n",
              "      <td>0.609649</td>\n",
              "      <td>0.622807</td>\n",
              "      <td>0.4035</td>\n",
              "      <td>-0.219307</td>\n",
              "    </tr>\n",
              "    <tr>\n",
              "      <th>3</th>\n",
              "      <td>context_precision</td>\n",
              "      <td>0.654971</td>\n",
              "      <td>0.628655</td>\n",
              "      <td>0.6330</td>\n",
              "      <td>0.004345</td>\n",
              "    </tr>\n",
              "    <tr>\n",
              "      <th>4</th>\n",
              "      <td>answer_correctness</td>\n",
              "      <td>0.559025</td>\n",
              "      <td>0.650568</td>\n",
              "      <td>0.4634</td>\n",
              "      <td>-0.187168</td>\n",
              "    </tr>\n",
              "  </tbody>\n",
              "</table>\n",
              "</div>"
            ],
            "text/plain": [
              "               Metric       ADA       TE3  Compression  TE3->Compression\n",
              "0       faithfullness  0.654363  0.800021       0.5453         -0.254721\n",
              "1    answer_relevancy  0.722494  0.971692       0.6174         -0.354292\n",
              "2      context_recall  0.609649  0.622807       0.4035         -0.219307\n",
              "3   context_precision  0.654971  0.628655       0.6330          0.004345\n",
              "4  answer_correctness  0.559025  0.650568       0.4634         -0.187168"
            ]
          },
          "execution_count": 200,
          "metadata": {},
          "output_type": "execute_result"
        }
      ],
      "source": [
        "# 🚀 Step 5) Visualize it with pandas\n",
        "\n",
        "df = pd.DataFrame(columns=['Metric', 'ADA', 'TE3', 'Compression'])\n",
        "\n",
        "Metric = ['faithfullness', 'answer_relevancy', 'context_recall', 'context_precision', 'answer_correctness']\n",
        "ADA = [0.654363, 0.722494, 0.609649, 0.654971, 0.559025]\n",
        "TE3 = [0.800021, 0.971692, 0.622807, 0.628655, 0.650568]\n",
        "Compression = [0.5453, 0.6174,  0.4035, 0.6330, 0.4634]\n",
        "df['Metric'] = Metric\n",
        "df['ADA'] = ADA\n",
        "df['TE3'] = TE3\n",
        "df['Compression'] = Compression\n",
        "df['TE3->Compression'] = df['Compression'] - df['TE3'] \n",
        "\n",
        "df"
      ]
    },
    {
      "cell_type": "markdown",
      "metadata": {},
      "source": [
        "##### 🚀 Step 5) Review the result\n",
        "- Only context_precision get advantages of contextual compression. Maybe it was because the compressor discards seemingly unrelavant documents...\n",
        "- Aggresively compressing documents resulted in some loss of information passed into the llm. That's possible reason for the poor performance."
      ]
    },
    {
      "cell_type": "markdown",
      "metadata": {
        "id": "y-YMk7zQ174y"
      },
      "source": [
        "#### 🚧 BONUS CHALLENGE 🚧\n",
        "\n",
        "> NOTE: Completing this challenge will provide full marks on the assignment, regardless of the complete of the notebook. You do not need to complete this in the notebook for full marks.\n",
        "\n",
        "##### **MINIMUM REQUIREMENTS**:\n",
        "\n",
        "1. Baseline `LCEL RAG` Application using `NAIVE RETRIEVAL`\n",
        "2. Baseline Evaluation using `RAGAS METRICS`\n",
        "  - [Faithfulness](https://docs.ragas.io/en/stable/concepts/metrics/faithfulness.html)\n",
        "  - [Answer Relevancy](https://docs.ragas.io/en/stable/concepts/metrics/answer_relevance.html)\n",
        "  - [Context Precision](https://docs.ragas.io/en/stable/concepts/metrics/context_precision.html)\n",
        "  - [Context Recall](https://docs.ragas.io/en/stable/concepts/metrics/context_recall.html)\n",
        "  - [Answer Correctness](https://docs.ragas.io/en/stable/concepts/metrics/answer_correctness.html)\n",
        "3. Implement a `SEMANTIC CHUNKING STRATEGY`.\n",
        "4. Create an `LCEL RAG` Application using `SEMANTIC CHUNKING` with `NAIVE RETRIEVAL`.\n",
        "5. Compare and contrast results.\n",
        "\n",
        "##### **SEMANTIC CHUNKING REQUIREMENTS**:\n",
        "\n",
        "Chunk semantically similar (based on designed threshold) sentences, and then paragraphs, greedily, up to a maximum chunk size. Minimum chunk size is a single sentence.\n",
        "\n",
        "Have fun!"
      ]
    },
    {
      "cell_type": "code",
      "execution_count": 221,
      "metadata": {},
      "outputs": [],
      "source": [
        "# 🚀 Step 1) Define helper functions\n",
        "\n",
        "from operator import itemgetter\n",
        "from langchain_openai import ChatOpenAI\n",
        "from langchain_core.output_parsers import StrOutputParser\n",
        "from langchain_core.runnables import RunnablePassthrough\n",
        "from langchain_community.vectorstores import Qdrant\n",
        "from langchain_community.document_loaders import PyMuPDFLoader\n",
        "from langchain.text_splitter import RecursiveCharacterTextSplitter\n",
        "from ragas import evaluate\n",
        "from ragas.metrics import faithfulness, answer_relevancy, answer_correctness, context_recall, context_precision\n",
        "from datasets import Dataset\n",
        "from tqdm.notebook import tqdm\n",
        "import pickle\n",
        "from typing import Literal\n",
        "from langchain_experimental.text_splitter import SemanticChunker\n",
        "from langchain_openai.embeddings import OpenAIEmbeddings\n",
        "\n",
        "\n",
        "\n",
        "def get_chunked_documents(strategy: Literal['recursive', 'semantic'], document_path=\"https://d1lamhf6l6yk6d.cloudfront.net/uploads/2021/08/The-pmarca-Blog-Archives.pdf\"):\n",
        "    documents  = PyMuPDFLoader(file_path = document_path).load()\n",
        "    if strategy == 'recursive':\n",
        "        text_splitter = RecursiveCharacterTextSplitter(chunk_size = 200, chunk_overlap = 50)\n",
        "        documents = text_splitter.split_documents(documents)\n",
        "    elif strategy == 'semantic':\n",
        "        embeddings = OpenAIEmbeddings(model=\"text-embedding-3-large\")\n",
        "        semantic_chunker = SemanticChunker(embeddings = embeddings)\n",
        "        documents = semantic_chunker.split_documents(documents)\n",
        "    return documents\n",
        "\n",
        "\n",
        "\n",
        "def get_base_retriever(chunking_strategy: Literal['recursive', 'semantic'], embeddings = OpenAIEmbeddings(model=\"text-embedding-3-small\"), document_path=\"https://d1lamhf6l6yk6d.cloudfront.net/uploads/2021/08/The-pmarca-Blog-Archives.pdf\"):\n",
        "    documents = get_chunked_documents(strategy=chunking_strategy)\n",
        "\n",
        "    vectorstore = Qdrant.from_documents(\n",
        "        documents=documents,\n",
        "        embedding=embeddings,\n",
        "        location=\":memory:\"\n",
        "    )\n",
        "    return vectorstore.as_retriever()\n",
        "\n",
        "\n",
        "def get_lcel_rag(retriever, rag_name: str):\n",
        "    template = \"\"\"\n",
        "    ### Anwer the following Question based soly on the Context provided. If you are unable to find the answer from Context, just say \"I don't know\".\n",
        "\n",
        "    Question:\n",
        "    {question}\n",
        "\n",
        "    Context:\n",
        "    {context}\n",
        "    \"\"\"\n",
        "    prompt = ChatPromptTemplate([('human', template)])\n",
        "\n",
        "    rag_chain = (\n",
        "        RunnablePassthrough.assign(\n",
        "            context = itemgetter(\"question\") | retriever\n",
        "            ).with_config({'run_name': 'R_FOR_RAG'})\n",
        "        | RunnablePassthrough.assign(\n",
        "            answer = prompt.with_config({'run_name':'A_FOR_RAG'}) | primary_qa_llm.with_config({'run_name':'G_FOR_RAG'})\n",
        "            ).with_config({'run_name': 'AG_FOR_RAG'})\n",
        "        | {\"answer\": itemgetter(\"answer\"), \"context\": itemgetter(\"context\")} \n",
        "    ).with_config({'run_name': rag_name})\n",
        "    return rag_chain \n",
        "\n",
        "\n",
        "def evaluate_rag_with_ragas(rag_chain, test_questions: list[str], test_groundtruths: list[str]):\n",
        "\n",
        "    answers = []\n",
        "    contexts = []\n",
        "    with tracing_v2_enabled('GET-PREDICTIONS'):\n",
        "        for question in tqdm(test_questions):\n",
        "            response = rag_chain.invoke({\"question\" : question})\n",
        "            answers.append(response[\"answer\"].content)\n",
        "            contexts.append([context.page_content for context in response[\"context\"]])\n",
        "\n",
        "\n",
        "    dataset = Dataset.from_dict({\n",
        "        \"question\" : test_questions,\n",
        "        \"answer\" : answers,\n",
        "        \"contexts\" : contexts,\n",
        "        \"ground_truth\" : test_groundtruths\n",
        "    })\n",
        "\n",
        "    metrics = [faithfulness, answer_relevancy, context_recall, context_precision, answer_correctness]\n",
        "    evaluation_llm = ChatOpenAI(model_name=\"gpt-4o-mini-2024-07-18\", temperature=0)\n",
        "    with tracing_v2_enabled('RAGAS-EVAL'):\n",
        "        results = evaluate(dataset=dataset, metrics=metrics, llm=evaluation_llm)\n",
        "    return results\n",
        "   "
      ]
    },
    {
      "cell_type": "code",
      "execution_count": 201,
      "metadata": {},
      "outputs": [
        {
          "name": "stdout",
          "output_type": "stream",
          "text": [
            "{'faithfulness': 0.6773, 'answer_relevancy': 0.8203, 'context_recall': 0.6228, 'context_precision': 0.6287, 'answer_correctness': 0.5658}\n"
          ]
        }
      ],
      "source": [
        "# 🚀 Step 2) Get a naive LCEL RAG and evaluate it.\n",
        "base_retriever = get_base_retriever(chunking_strategy='recursive')\n",
        "base_rag_chain = get_lcel_rag(base_retriever, 'BASE_RETRIEVER_RAG')\n",
        "\n",
        "with open('test_questions.pkl', 'rb') as f:\n",
        "    test_questions = pickle.load(f)\n",
        "with open('test_groundtruths.pkl', 'rb') as f:\n",
        "    test_groundtruths = pickle.load(f)\n",
        "    \n",
        "base_rag_chain_results = evaluate_rag_with_ragas(base_rag_chain, test_questions, test_groundtruths)\n",
        "with open('base_rag_chain_results.pkl', 'wb') as f:\n",
        "    pickle.dump(base_rag_chain_results, f)\n",
        "\n",
        "print(base_rag_chain_results)"
      ]
    },
    {
      "cell_type": "code",
      "execution_count": 228,
      "metadata": {},
      "outputs": [
        {
          "data": {
            "application/vnd.jupyter.widget-view+json": {
              "model_id": "0ca7030533684c8fa9d39b50253a7e56",
              "version_major": 2,
              "version_minor": 0
            },
            "text/plain": [
              "  0%|          | 0/19 [00:00<?, ?it/s]"
            ]
          },
          "metadata": {},
          "output_type": "display_data"
        },
        {
          "data": {
            "application/vnd.jupyter.widget-view+json": {
              "model_id": "5fac5abd81564812b0d4ff24ede1cf99",
              "version_major": 2,
              "version_minor": 0
            },
            "text/plain": [
              "Evaluating:   0%|          | 0/95 [00:00<?, ?it/s]"
            ]
          },
          "metadata": {},
          "output_type": "display_data"
        },
        {
          "name": "stdout",
          "output_type": "stream",
          "text": [
            "{'faithfulness': 0.7967, 'answer_relevancy': 0.8650, 'context_recall': 0.9561, 'context_precision': 0.7193, 'answer_correctness': 0.5630}\n"
          ]
        }
      ],
      "source": [
        "# 🚀 Step 3) SEMANTIC CHUNKING!!\n",
        "semantic_chunking_retriever = get_base_retriever(chunking_strategy='semantic')\n",
        "semantic_chunking_retriever_rag_chain = get_lcel_rag(semantic_chunking_retriever, 'SEMANTIC_CHUNKING_RETRIEVER_RAG')\n",
        "\n",
        "with open('test_questions.pkl', 'rb') as f:\n",
        "    test_questions = pickle.load(f)\n",
        "with open('test_groundtruths.pkl', 'rb') as f:\n",
        "    test_groundtruths = pickle.load(f)\n",
        "    \n",
        "semantic_chunking_retriever_rag_results = evaluate_rag_with_ragas(semantic_chunking_retriever_rag_chain, test_questions, test_groundtruths)\n",
        "with open('semantic_chunking_retriever_rag_results.pkl', 'wb') as f:\n",
        "    pickle.dump(semantic_chunking_retriever_rag_results, f)\n",
        "\n",
        "print(semantic_chunking_retriever_rag_results)"
      ]
    },
    {
      "cell_type": "code",
      "execution_count": 234,
      "metadata": {},
      "outputs": [
        {
          "data": {
            "text/html": [
              "<div>\n",
              "<style scoped>\n",
              "    .dataframe tbody tr th:only-of-type {\n",
              "        vertical-align: middle;\n",
              "    }\n",
              "\n",
              "    .dataframe tbody tr th {\n",
              "        vertical-align: top;\n",
              "    }\n",
              "\n",
              "    .dataframe thead th {\n",
              "        text-align: right;\n",
              "    }\n",
              "</style>\n",
              "<table border=\"1\" class=\"dataframe\">\n",
              "  <thead>\n",
              "    <tr style=\"text-align: right;\">\n",
              "      <th></th>\n",
              "      <th>Metric</th>\n",
              "      <th>ADA</th>\n",
              "      <th>TE3</th>\n",
              "      <th>Compression</th>\n",
              "      <th>Semantic</th>\n",
              "      <th>TE3-&gt;Compression</th>\n",
              "      <th>TE3-&gt;Semantic</th>\n",
              "    </tr>\n",
              "  </thead>\n",
              "  <tbody>\n",
              "    <tr>\n",
              "      <th>0</th>\n",
              "      <td>faithfullness</td>\n",
              "      <td>0.654363</td>\n",
              "      <td>0.800021</td>\n",
              "      <td>0.5453</td>\n",
              "      <td>0.7967</td>\n",
              "      <td>-0.254721</td>\n",
              "      <td>-0.003321</td>\n",
              "    </tr>\n",
              "    <tr>\n",
              "      <th>1</th>\n",
              "      <td>answer_relevancy</td>\n",
              "      <td>0.722494</td>\n",
              "      <td>0.971692</td>\n",
              "      <td>0.6174</td>\n",
              "      <td>0.8650</td>\n",
              "      <td>-0.354292</td>\n",
              "      <td>-0.106692</td>\n",
              "    </tr>\n",
              "    <tr>\n",
              "      <th>2</th>\n",
              "      <td>context_recall</td>\n",
              "      <td>0.609649</td>\n",
              "      <td>0.622807</td>\n",
              "      <td>0.4035</td>\n",
              "      <td>0.9561</td>\n",
              "      <td>-0.219307</td>\n",
              "      <td>0.333293</td>\n",
              "    </tr>\n",
              "    <tr>\n",
              "      <th>3</th>\n",
              "      <td>context_precision</td>\n",
              "      <td>0.654971</td>\n",
              "      <td>0.628655</td>\n",
              "      <td>0.6330</td>\n",
              "      <td>0.7193</td>\n",
              "      <td>0.004345</td>\n",
              "      <td>0.090645</td>\n",
              "    </tr>\n",
              "    <tr>\n",
              "      <th>4</th>\n",
              "      <td>answer_correctness</td>\n",
              "      <td>0.559025</td>\n",
              "      <td>0.650568</td>\n",
              "      <td>0.4634</td>\n",
              "      <td>0.5630</td>\n",
              "      <td>-0.187168</td>\n",
              "      <td>-0.087568</td>\n",
              "    </tr>\n",
              "  </tbody>\n",
              "</table>\n",
              "</div>"
            ],
            "text/plain": [
              "               Metric       ADA       TE3  Compression  Semantic  \\\n",
              "0       faithfullness  0.654363  0.800021       0.5453    0.7967   \n",
              "1    answer_relevancy  0.722494  0.971692       0.6174    0.8650   \n",
              "2      context_recall  0.609649  0.622807       0.4035    0.9561   \n",
              "3   context_precision  0.654971  0.628655       0.6330    0.7193   \n",
              "4  answer_correctness  0.559025  0.650568       0.4634    0.5630   \n",
              "\n",
              "   TE3->Compression  TE3->Semantic  \n",
              "0         -0.254721      -0.003321  \n",
              "1         -0.354292      -0.106692  \n",
              "2         -0.219307       0.333293  \n",
              "3          0.004345       0.090645  \n",
              "4         -0.187168      -0.087568  "
            ]
          },
          "execution_count": 234,
          "metadata": {},
          "output_type": "execute_result"
        }
      ],
      "source": [
        "# 🚀 Step 4) Compare the result!\n",
        "\n",
        "df = pd.DataFrame(columns=['Metric', 'ADA', 'TE3', 'Compression', 'Semantic'])\n",
        "\n",
        "Metric = ['faithfullness', 'answer_relevancy', 'context_recall', 'context_precision', 'answer_correctness']\n",
        "ADA = [0.654363, 0.722494, 0.609649, 0.654971, 0.559025]\n",
        "TE3 = [0.800021, 0.971692, 0.622807, 0.628655, 0.650568]\n",
        "Compression = [0.5453, 0.6174,  0.4035, 0.6330, 0.4634]\n",
        "Semantic = [0.7967, 0.8650,  0.9561, 0.7193, 0.5630]\n",
        "df['Metric'] = Metric\n",
        "df['ADA'] = ADA\n",
        "df['TE3'] = TE3\n",
        "df['Compression'] = Compression\n",
        "df['Semantic'] = Semantic\n",
        "df['TE3->Compression'] = df['Compression'] - df['TE3'] \n",
        "df['TE3->Semantic'] = df['Semantic'] - df['TE3'] \n",
        "df"
      ]
    }
  ],
  "metadata": {
    "colab": {
      "collapsed_sections": [
        "Clyykfe6xOIo"
      ],
      "provenance": [],
      "toc_visible": true
    },
    "kernelspec": {
      "display_name": "Python 3",
      "name": "python3"
    },
    "language_info": {
      "codemirror_mode": {
        "name": "ipython",
        "version": 3
      },
      "file_extension": ".py",
      "mimetype": "text/x-python",
      "name": "python",
      "nbconvert_exporter": "python",
      "pygments_lexer": "ipython3",
      "version": "3.11.9"
    },
    "widgets": {
      "application/vnd.jupyter.widget-state+json": {
        "00afceb39c074975b6b88d6d0d4d2901": {
          "model_module": "@jupyter-widgets/controls",
          "model_module_version": "1.5.0",
          "model_name": "FloatProgressModel",
          "state": {
            "_dom_classes": [],
            "_model_module": "@jupyter-widgets/controls",
            "_model_module_version": "1.5.0",
            "_model_name": "FloatProgressModel",
            "_view_count": null,
            "_view_module": "@jupyter-widgets/controls",
            "_view_module_version": "1.5.0",
            "_view_name": "ProgressView",
            "bar_style": "success",
            "description": "",
            "description_tooltip": null,
            "layout": "IPY_MODEL_9932859168ad436e9aeef09279b534b1",
            "max": 95,
            "min": 0,
            "orientation": "horizontal",
            "style": "IPY_MODEL_474f44771cb04a4693585273a03a5548",
            "value": 95
          }
        },
        "0267d8c4d9cc48b0a4d60d206de62a91": {
          "model_module": "@jupyter-widgets/base",
          "model_module_version": "1.2.0",
          "model_name": "LayoutModel",
          "state": {
            "_model_module": "@jupyter-widgets/base",
            "_model_module_version": "1.2.0",
            "_model_name": "LayoutModel",
            "_view_count": null,
            "_view_module": "@jupyter-widgets/base",
            "_view_module_version": "1.2.0",
            "_view_name": "LayoutView",
            "align_content": null,
            "align_items": null,
            "align_self": null,
            "border": null,
            "bottom": null,
            "display": null,
            "flex": null,
            "flex_flow": null,
            "grid_area": null,
            "grid_auto_columns": null,
            "grid_auto_flow": null,
            "grid_auto_rows": null,
            "grid_column": null,
            "grid_gap": null,
            "grid_row": null,
            "grid_template_areas": null,
            "grid_template_columns": null,
            "grid_template_rows": null,
            "height": null,
            "justify_content": null,
            "justify_items": null,
            "left": null,
            "margin": null,
            "max_height": null,
            "max_width": null,
            "min_height": null,
            "min_width": null,
            "object_fit": null,
            "object_position": null,
            "order": null,
            "overflow": null,
            "overflow_x": null,
            "overflow_y": null,
            "padding": null,
            "right": null,
            "top": null,
            "visibility": null,
            "width": null
          }
        },
        "09c3173c05f54539ae025937b1525e90": {
          "model_module": "@jupyter-widgets/controls",
          "model_module_version": "1.5.0",
          "model_name": "ProgressStyleModel",
          "state": {
            "_model_module": "@jupyter-widgets/controls",
            "_model_module_version": "1.5.0",
            "_model_name": "ProgressStyleModel",
            "_view_count": null,
            "_view_module": "@jupyter-widgets/base",
            "_view_module_version": "1.2.0",
            "_view_name": "StyleView",
            "bar_color": null,
            "description_width": ""
          }
        },
        "0be98b57b4894cf9a92818ae1dd72976": {
          "model_module": "@jupyter-widgets/controls",
          "model_module_version": "1.5.0",
          "model_name": "FloatProgressModel",
          "state": {
            "_dom_classes": [],
            "_model_module": "@jupyter-widgets/controls",
            "_model_module_version": "1.5.0",
            "_model_name": "FloatProgressModel",
            "_view_count": null,
            "_view_module": "@jupyter-widgets/controls",
            "_view_module_version": "1.5.0",
            "_view_name": "ProgressView",
            "bar_style": "success",
            "description": "",
            "description_tooltip": null,
            "layout": "IPY_MODEL_bda4d1ec0f0043c8b4d254a4ada3e9bf",
            "max": 20,
            "min": 0,
            "orientation": "horizontal",
            "style": "IPY_MODEL_1b24ed8b36764c39aef39c92430fdc1d",
            "value": 20
          }
        },
        "126c30cc07c4452ab73fefce09dab617": {
          "model_module": "@jupyter-widgets/controls",
          "model_module_version": "1.5.0",
          "model_name": "DescriptionStyleModel",
          "state": {
            "_model_module": "@jupyter-widgets/controls",
            "_model_module_version": "1.5.0",
            "_model_name": "DescriptionStyleModel",
            "_view_count": null,
            "_view_module": "@jupyter-widgets/base",
            "_view_module_version": "1.2.0",
            "_view_name": "StyleView",
            "description_width": ""
          }
        },
        "1535c2c75a104f3abb262c5fb7859c14": {
          "model_module": "@jupyter-widgets/base",
          "model_module_version": "1.2.0",
          "model_name": "LayoutModel",
          "state": {
            "_model_module": "@jupyter-widgets/base",
            "_model_module_version": "1.2.0",
            "_model_name": "LayoutModel",
            "_view_count": null,
            "_view_module": "@jupyter-widgets/base",
            "_view_module_version": "1.2.0",
            "_view_name": "LayoutView",
            "align_content": null,
            "align_items": null,
            "align_self": null,
            "border": null,
            "bottom": null,
            "display": null,
            "flex": null,
            "flex_flow": null,
            "grid_area": null,
            "grid_auto_columns": null,
            "grid_auto_flow": null,
            "grid_auto_rows": null,
            "grid_column": null,
            "grid_gap": null,
            "grid_row": null,
            "grid_template_areas": null,
            "grid_template_columns": null,
            "grid_template_rows": null,
            "height": null,
            "justify_content": null,
            "justify_items": null,
            "left": null,
            "margin": null,
            "max_height": null,
            "max_width": null,
            "min_height": null,
            "min_width": null,
            "object_fit": null,
            "object_position": null,
            "order": null,
            "overflow": null,
            "overflow_x": null,
            "overflow_y": null,
            "padding": null,
            "right": null,
            "top": null,
            "visibility": null,
            "width": null
          }
        },
        "1b24ed8b36764c39aef39c92430fdc1d": {
          "model_module": "@jupyter-widgets/controls",
          "model_module_version": "1.5.0",
          "model_name": "ProgressStyleModel",
          "state": {
            "_model_module": "@jupyter-widgets/controls",
            "_model_module_version": "1.5.0",
            "_model_name": "ProgressStyleModel",
            "_view_count": null,
            "_view_module": "@jupyter-widgets/base",
            "_view_module_version": "1.2.0",
            "_view_name": "StyleView",
            "bar_color": null,
            "description_width": ""
          }
        },
        "1c0f9aeab5de4e32af8bfef423a64f3b": {
          "model_module": "@jupyter-widgets/controls",
          "model_module_version": "1.5.0",
          "model_name": "HTMLModel",
          "state": {
            "_dom_classes": [],
            "_model_module": "@jupyter-widgets/controls",
            "_model_module_version": "1.5.0",
            "_model_name": "HTMLModel",
            "_view_count": null,
            "_view_module": "@jupyter-widgets/controls",
            "_view_module_version": "1.5.0",
            "_view_name": "HTMLView",
            "description": "",
            "description_tooltip": null,
            "layout": "IPY_MODEL_0267d8c4d9cc48b0a4d60d206de62a91",
            "placeholder": "​",
            "style": "IPY_MODEL_126c30cc07c4452ab73fefce09dab617",
            "value": "Generating: 100%"
          }
        },
        "1e2026abc1314d3caf37d74af7a407e7": {
          "model_module": "@jupyter-widgets/controls",
          "model_module_version": "1.5.0",
          "model_name": "FloatProgressModel",
          "state": {
            "_dom_classes": [],
            "_model_module": "@jupyter-widgets/controls",
            "_model_module_version": "1.5.0",
            "_model_name": "FloatProgressModel",
            "_view_count": null,
            "_view_module": "@jupyter-widgets/controls",
            "_view_module_version": "1.5.0",
            "_view_name": "ProgressView",
            "bar_style": "success",
            "description": "",
            "description_tooltip": null,
            "layout": "IPY_MODEL_e32bc4bb09af4ac5a608e56f87317596",
            "max": 95,
            "min": 0,
            "orientation": "horizontal",
            "style": "IPY_MODEL_b53095cea92740dfb967120a77310283",
            "value": 95
          }
        },
        "22c5f6324de545ba814402c3f71d84f1": {
          "model_module": "@jupyter-widgets/base",
          "model_module_version": "1.2.0",
          "model_name": "LayoutModel",
          "state": {
            "_model_module": "@jupyter-widgets/base",
            "_model_module_version": "1.2.0",
            "_model_name": "LayoutModel",
            "_view_count": null,
            "_view_module": "@jupyter-widgets/base",
            "_view_module_version": "1.2.0",
            "_view_name": "LayoutView",
            "align_content": null,
            "align_items": null,
            "align_self": null,
            "border": null,
            "bottom": null,
            "display": null,
            "flex": null,
            "flex_flow": null,
            "grid_area": null,
            "grid_auto_columns": null,
            "grid_auto_flow": null,
            "grid_auto_rows": null,
            "grid_column": null,
            "grid_gap": null,
            "grid_row": null,
            "grid_template_areas": null,
            "grid_template_columns": null,
            "grid_template_rows": null,
            "height": null,
            "justify_content": null,
            "justify_items": null,
            "left": null,
            "margin": null,
            "max_height": null,
            "max_width": null,
            "min_height": null,
            "min_width": null,
            "object_fit": null,
            "object_position": null,
            "order": null,
            "overflow": null,
            "overflow_x": null,
            "overflow_y": null,
            "padding": null,
            "right": null,
            "top": null,
            "visibility": null,
            "width": null
          }
        },
        "353b6b9a974048499d854774fe4c882c": {
          "model_module": "@jupyter-widgets/base",
          "model_module_version": "1.2.0",
          "model_name": "LayoutModel",
          "state": {
            "_model_module": "@jupyter-widgets/base",
            "_model_module_version": "1.2.0",
            "_model_name": "LayoutModel",
            "_view_count": null,
            "_view_module": "@jupyter-widgets/base",
            "_view_module_version": "1.2.0",
            "_view_name": "LayoutView",
            "align_content": null,
            "align_items": null,
            "align_self": null,
            "border": null,
            "bottom": null,
            "display": null,
            "flex": null,
            "flex_flow": null,
            "grid_area": null,
            "grid_auto_columns": null,
            "grid_auto_flow": null,
            "grid_auto_rows": null,
            "grid_column": null,
            "grid_gap": null,
            "grid_row": null,
            "grid_template_areas": null,
            "grid_template_columns": null,
            "grid_template_rows": null,
            "height": null,
            "justify_content": null,
            "justify_items": null,
            "left": null,
            "margin": null,
            "max_height": null,
            "max_width": null,
            "min_height": null,
            "min_width": null,
            "object_fit": null,
            "object_position": null,
            "order": null,
            "overflow": null,
            "overflow_x": null,
            "overflow_y": null,
            "padding": null,
            "right": null,
            "top": null,
            "visibility": null,
            "width": null
          }
        },
        "3b2e50139c234d19ac3e32515e575883": {
          "model_module": "@jupyter-widgets/controls",
          "model_module_version": "1.5.0",
          "model_name": "DescriptionStyleModel",
          "state": {
            "_model_module": "@jupyter-widgets/controls",
            "_model_module_version": "1.5.0",
            "_model_name": "DescriptionStyleModel",
            "_view_count": null,
            "_view_module": "@jupyter-widgets/base",
            "_view_module_version": "1.2.0",
            "_view_name": "StyleView",
            "description_width": ""
          }
        },
        "474f44771cb04a4693585273a03a5548": {
          "model_module": "@jupyter-widgets/controls",
          "model_module_version": "1.5.0",
          "model_name": "ProgressStyleModel",
          "state": {
            "_model_module": "@jupyter-widgets/controls",
            "_model_module_version": "1.5.0",
            "_model_name": "ProgressStyleModel",
            "_view_count": null,
            "_view_module": "@jupyter-widgets/base",
            "_view_module_version": "1.2.0",
            "_view_name": "StyleView",
            "bar_color": null,
            "description_width": ""
          }
        },
        "4d9ba78dc78040f494df9122ddc7ba1d": {
          "model_module": "@jupyter-widgets/controls",
          "model_module_version": "1.5.0",
          "model_name": "HBoxModel",
          "state": {
            "_dom_classes": [],
            "_model_module": "@jupyter-widgets/controls",
            "_model_module_version": "1.5.0",
            "_model_name": "HBoxModel",
            "_view_count": null,
            "_view_module": "@jupyter-widgets/controls",
            "_view_module_version": "1.5.0",
            "_view_name": "HBoxView",
            "box_style": "",
            "children": [
              "IPY_MODEL_e4e76e5d4fba404a9ed4ff059f3a0c04",
              "IPY_MODEL_1e2026abc1314d3caf37d74af7a407e7",
              "IPY_MODEL_fb306876e3244dc69312e2af46c4da02"
            ],
            "layout": "IPY_MODEL_b319ae78e30d437c81f07d5a062ba805"
          }
        },
        "63d6044414e24c5ea55efa925f7a3b56": {
          "model_module": "@jupyter-widgets/controls",
          "model_module_version": "1.5.0",
          "model_name": "DescriptionStyleModel",
          "state": {
            "_model_module": "@jupyter-widgets/controls",
            "_model_module_version": "1.5.0",
            "_model_name": "DescriptionStyleModel",
            "_view_count": null,
            "_view_module": "@jupyter-widgets/base",
            "_view_module_version": "1.2.0",
            "_view_name": "StyleView",
            "description_width": ""
          }
        },
        "754827da55fa4240bce3710048d1645b": {
          "model_module": "@jupyter-widgets/controls",
          "model_module_version": "1.5.0",
          "model_name": "HTMLModel",
          "state": {
            "_dom_classes": [],
            "_model_module": "@jupyter-widgets/controls",
            "_model_module_version": "1.5.0",
            "_model_name": "HTMLModel",
            "_view_count": null,
            "_view_module": "@jupyter-widgets/controls",
            "_view_module_version": "1.5.0",
            "_view_name": "HTMLView",
            "description": "",
            "description_tooltip": null,
            "layout": "IPY_MODEL_bd96dd318c1b4e1481c039321e052081",
            "placeholder": "​",
            "style": "IPY_MODEL_3b2e50139c234d19ac3e32515e575883",
            "value": "embedding nodes: 100%"
          }
        },
        "764b7b6827c9437b90c9c948b9f1037b": {
          "model_module": "@jupyter-widgets/controls",
          "model_module_version": "1.5.0",
          "model_name": "DescriptionStyleModel",
          "state": {
            "_model_module": "@jupyter-widgets/controls",
            "_model_module_version": "1.5.0",
            "_model_name": "DescriptionStyleModel",
            "_view_count": null,
            "_view_module": "@jupyter-widgets/base",
            "_view_module_version": "1.2.0",
            "_view_name": "StyleView",
            "description_width": ""
          }
        },
        "771597df670f417794f66408b05a7eb9": {
          "model_module": "@jupyter-widgets/base",
          "model_module_version": "1.2.0",
          "model_name": "LayoutModel",
          "state": {
            "_model_module": "@jupyter-widgets/base",
            "_model_module_version": "1.2.0",
            "_model_name": "LayoutModel",
            "_view_count": null,
            "_view_module": "@jupyter-widgets/base",
            "_view_module_version": "1.2.0",
            "_view_name": "LayoutView",
            "align_content": null,
            "align_items": null,
            "align_self": null,
            "border": null,
            "bottom": null,
            "display": null,
            "flex": null,
            "flex_flow": null,
            "grid_area": null,
            "grid_auto_columns": null,
            "grid_auto_flow": null,
            "grid_auto_rows": null,
            "grid_column": null,
            "grid_gap": null,
            "grid_row": null,
            "grid_template_areas": null,
            "grid_template_columns": null,
            "grid_template_rows": null,
            "height": null,
            "justify_content": null,
            "justify_items": null,
            "left": null,
            "margin": null,
            "max_height": null,
            "max_width": null,
            "min_height": null,
            "min_width": null,
            "object_fit": null,
            "object_position": null,
            "order": null,
            "overflow": null,
            "overflow_x": null,
            "overflow_y": null,
            "padding": null,
            "right": null,
            "top": null,
            "visibility": null,
            "width": null
          }
        },
        "7ab80823e1344b638ddd1646367a6ce6": {
          "model_module": "@jupyter-widgets/controls",
          "model_module_version": "1.5.0",
          "model_name": "DescriptionStyleModel",
          "state": {
            "_model_module": "@jupyter-widgets/controls",
            "_model_module_version": "1.5.0",
            "_model_name": "DescriptionStyleModel",
            "_view_count": null,
            "_view_module": "@jupyter-widgets/base",
            "_view_module_version": "1.2.0",
            "_view_name": "StyleView",
            "description_width": ""
          }
        },
        "7b61421d62964b00ba440ecba21f4b52": {
          "model_module": "@jupyter-widgets/controls",
          "model_module_version": "1.5.0",
          "model_name": "FloatProgressModel",
          "state": {
            "_dom_classes": [],
            "_model_module": "@jupyter-widgets/controls",
            "_model_module_version": "1.5.0",
            "_model_name": "FloatProgressModel",
            "_view_count": null,
            "_view_module": "@jupyter-widgets/controls",
            "_view_module_version": "1.5.0",
            "_view_name": "ProgressView",
            "bar_style": "",
            "description": "",
            "description_tooltip": null,
            "layout": "IPY_MODEL_353b6b9a974048499d854774fe4c882c",
            "max": 1248,
            "min": 0,
            "orientation": "horizontal",
            "style": "IPY_MODEL_09c3173c05f54539ae025937b1525e90",
            "value": 1248
          }
        },
        "8025a0f161d3475794daa9cd88209d5c": {
          "model_module": "@jupyter-widgets/controls",
          "model_module_version": "1.5.0",
          "model_name": "DescriptionStyleModel",
          "state": {
            "_model_module": "@jupyter-widgets/controls",
            "_model_module_version": "1.5.0",
            "_model_name": "DescriptionStyleModel",
            "_view_count": null,
            "_view_module": "@jupyter-widgets/base",
            "_view_module_version": "1.2.0",
            "_view_name": "StyleView",
            "description_width": ""
          }
        },
        "824fe37b12d4414a9376e266ddd086f5": {
          "model_module": "@jupyter-widgets/controls",
          "model_module_version": "1.5.0",
          "model_name": "HTMLModel",
          "state": {
            "_dom_classes": [],
            "_model_module": "@jupyter-widgets/controls",
            "_model_module_version": "1.5.0",
            "_model_name": "HTMLModel",
            "_view_count": null,
            "_view_module": "@jupyter-widgets/controls",
            "_view_module_version": "1.5.0",
            "_view_name": "HTMLView",
            "description": "",
            "description_tooltip": null,
            "layout": "IPY_MODEL_9496fc3f26cb42ec9ace36175eb14906",
            "placeholder": "​",
            "style": "IPY_MODEL_8025a0f161d3475794daa9cd88209d5c",
            "value": "Evaluating: 100%"
          }
        },
        "90af75e58cef440a8d38ee6621e0f4d1": {
          "model_module": "@jupyter-widgets/base",
          "model_module_version": "1.2.0",
          "model_name": "LayoutModel",
          "state": {
            "_model_module": "@jupyter-widgets/base",
            "_model_module_version": "1.2.0",
            "_model_name": "LayoutModel",
            "_view_count": null,
            "_view_module": "@jupyter-widgets/base",
            "_view_module_version": "1.2.0",
            "_view_name": "LayoutView",
            "align_content": null,
            "align_items": null,
            "align_self": null,
            "border": null,
            "bottom": null,
            "display": null,
            "flex": null,
            "flex_flow": null,
            "grid_area": null,
            "grid_auto_columns": null,
            "grid_auto_flow": null,
            "grid_auto_rows": null,
            "grid_column": null,
            "grid_gap": null,
            "grid_row": null,
            "grid_template_areas": null,
            "grid_template_columns": null,
            "grid_template_rows": null,
            "height": null,
            "justify_content": null,
            "justify_items": null,
            "left": null,
            "margin": null,
            "max_height": null,
            "max_width": null,
            "min_height": null,
            "min_width": null,
            "object_fit": null,
            "object_position": null,
            "order": null,
            "overflow": null,
            "overflow_x": null,
            "overflow_y": null,
            "padding": null,
            "right": null,
            "top": null,
            "visibility": null,
            "width": null
          }
        },
        "92f2e2d3123c4cd88d7c5755342ae154": {
          "model_module": "@jupyter-widgets/controls",
          "model_module_version": "1.5.0",
          "model_name": "DescriptionStyleModel",
          "state": {
            "_model_module": "@jupyter-widgets/controls",
            "_model_module_version": "1.5.0",
            "_model_name": "DescriptionStyleModel",
            "_view_count": null,
            "_view_module": "@jupyter-widgets/base",
            "_view_module_version": "1.2.0",
            "_view_name": "StyleView",
            "description_width": ""
          }
        },
        "9496fc3f26cb42ec9ace36175eb14906": {
          "model_module": "@jupyter-widgets/base",
          "model_module_version": "1.2.0",
          "model_name": "LayoutModel",
          "state": {
            "_model_module": "@jupyter-widgets/base",
            "_model_module_version": "1.2.0",
            "_model_name": "LayoutModel",
            "_view_count": null,
            "_view_module": "@jupyter-widgets/base",
            "_view_module_version": "1.2.0",
            "_view_name": "LayoutView",
            "align_content": null,
            "align_items": null,
            "align_self": null,
            "border": null,
            "bottom": null,
            "display": null,
            "flex": null,
            "flex_flow": null,
            "grid_area": null,
            "grid_auto_columns": null,
            "grid_auto_flow": null,
            "grid_auto_rows": null,
            "grid_column": null,
            "grid_gap": null,
            "grid_row": null,
            "grid_template_areas": null,
            "grid_template_columns": null,
            "grid_template_rows": null,
            "height": null,
            "justify_content": null,
            "justify_items": null,
            "left": null,
            "margin": null,
            "max_height": null,
            "max_width": null,
            "min_height": null,
            "min_width": null,
            "object_fit": null,
            "object_position": null,
            "order": null,
            "overflow": null,
            "overflow_x": null,
            "overflow_y": null,
            "padding": null,
            "right": null,
            "top": null,
            "visibility": null,
            "width": null
          }
        },
        "9932859168ad436e9aeef09279b534b1": {
          "model_module": "@jupyter-widgets/base",
          "model_module_version": "1.2.0",
          "model_name": "LayoutModel",
          "state": {
            "_model_module": "@jupyter-widgets/base",
            "_model_module_version": "1.2.0",
            "_model_name": "LayoutModel",
            "_view_count": null,
            "_view_module": "@jupyter-widgets/base",
            "_view_module_version": "1.2.0",
            "_view_name": "LayoutView",
            "align_content": null,
            "align_items": null,
            "align_self": null,
            "border": null,
            "bottom": null,
            "display": null,
            "flex": null,
            "flex_flow": null,
            "grid_area": null,
            "grid_auto_columns": null,
            "grid_auto_flow": null,
            "grid_auto_rows": null,
            "grid_column": null,
            "grid_gap": null,
            "grid_row": null,
            "grid_template_areas": null,
            "grid_template_columns": null,
            "grid_template_rows": null,
            "height": null,
            "justify_content": null,
            "justify_items": null,
            "left": null,
            "margin": null,
            "max_height": null,
            "max_width": null,
            "min_height": null,
            "min_width": null,
            "object_fit": null,
            "object_position": null,
            "order": null,
            "overflow": null,
            "overflow_x": null,
            "overflow_y": null,
            "padding": null,
            "right": null,
            "top": null,
            "visibility": null,
            "width": null
          }
        },
        "9a40d4ba626f4563b062a5765325d8e4": {
          "model_module": "@jupyter-widgets/controls",
          "model_module_version": "1.5.0",
          "model_name": "HBoxModel",
          "state": {
            "_dom_classes": [],
            "_model_module": "@jupyter-widgets/controls",
            "_model_module_version": "1.5.0",
            "_model_name": "HBoxModel",
            "_view_count": null,
            "_view_module": "@jupyter-widgets/controls",
            "_view_module_version": "1.5.0",
            "_view_name": "HBoxView",
            "box_style": "",
            "children": [
              "IPY_MODEL_1c0f9aeab5de4e32af8bfef423a64f3b",
              "IPY_MODEL_0be98b57b4894cf9a92818ae1dd72976",
              "IPY_MODEL_c7550f460273484a913d211381630626"
            ],
            "layout": "IPY_MODEL_ba8f638b7f6343d9b07cce6e54e9be1c"
          }
        },
        "9ccac42dd9f04713b0ed9fe09c35b5b0": {
          "model_module": "@jupyter-widgets/base",
          "model_module_version": "1.2.0",
          "model_name": "LayoutModel",
          "state": {
            "_model_module": "@jupyter-widgets/base",
            "_model_module_version": "1.2.0",
            "_model_name": "LayoutModel",
            "_view_count": null,
            "_view_module": "@jupyter-widgets/base",
            "_view_module_version": "1.2.0",
            "_view_name": "LayoutView",
            "align_content": null,
            "align_items": null,
            "align_self": null,
            "border": null,
            "bottom": null,
            "display": null,
            "flex": null,
            "flex_flow": null,
            "grid_area": null,
            "grid_auto_columns": null,
            "grid_auto_flow": null,
            "grid_auto_rows": null,
            "grid_column": null,
            "grid_gap": null,
            "grid_row": null,
            "grid_template_areas": null,
            "grid_template_columns": null,
            "grid_template_rows": null,
            "height": null,
            "justify_content": null,
            "justify_items": null,
            "left": null,
            "margin": null,
            "max_height": null,
            "max_width": null,
            "min_height": null,
            "min_width": null,
            "object_fit": null,
            "object_position": null,
            "order": null,
            "overflow": null,
            "overflow_x": null,
            "overflow_y": null,
            "padding": null,
            "right": null,
            "top": null,
            "visibility": "hidden",
            "width": null
          }
        },
        "b319ae78e30d437c81f07d5a062ba805": {
          "model_module": "@jupyter-widgets/base",
          "model_module_version": "1.2.0",
          "model_name": "LayoutModel",
          "state": {
            "_model_module": "@jupyter-widgets/base",
            "_model_module_version": "1.2.0",
            "_model_name": "LayoutModel",
            "_view_count": null,
            "_view_module": "@jupyter-widgets/base",
            "_view_module_version": "1.2.0",
            "_view_name": "LayoutView",
            "align_content": null,
            "align_items": null,
            "align_self": null,
            "border": null,
            "bottom": null,
            "display": null,
            "flex": null,
            "flex_flow": null,
            "grid_area": null,
            "grid_auto_columns": null,
            "grid_auto_flow": null,
            "grid_auto_rows": null,
            "grid_column": null,
            "grid_gap": null,
            "grid_row": null,
            "grid_template_areas": null,
            "grid_template_columns": null,
            "grid_template_rows": null,
            "height": null,
            "justify_content": null,
            "justify_items": null,
            "left": null,
            "margin": null,
            "max_height": null,
            "max_width": null,
            "min_height": null,
            "min_width": null,
            "object_fit": null,
            "object_position": null,
            "order": null,
            "overflow": null,
            "overflow_x": null,
            "overflow_y": null,
            "padding": null,
            "right": null,
            "top": null,
            "visibility": null,
            "width": null
          }
        },
        "b53095cea92740dfb967120a77310283": {
          "model_module": "@jupyter-widgets/controls",
          "model_module_version": "1.5.0",
          "model_name": "ProgressStyleModel",
          "state": {
            "_model_module": "@jupyter-widgets/controls",
            "_model_module_version": "1.5.0",
            "_model_name": "ProgressStyleModel",
            "_view_count": null,
            "_view_module": "@jupyter-widgets/base",
            "_view_module_version": "1.2.0",
            "_view_name": "StyleView",
            "bar_color": null,
            "description_width": ""
          }
        },
        "ba8f638b7f6343d9b07cce6e54e9be1c": {
          "model_module": "@jupyter-widgets/base",
          "model_module_version": "1.2.0",
          "model_name": "LayoutModel",
          "state": {
            "_model_module": "@jupyter-widgets/base",
            "_model_module_version": "1.2.0",
            "_model_name": "LayoutModel",
            "_view_count": null,
            "_view_module": "@jupyter-widgets/base",
            "_view_module_version": "1.2.0",
            "_view_name": "LayoutView",
            "align_content": null,
            "align_items": null,
            "align_self": null,
            "border": null,
            "bottom": null,
            "display": null,
            "flex": null,
            "flex_flow": null,
            "grid_area": null,
            "grid_auto_columns": null,
            "grid_auto_flow": null,
            "grid_auto_rows": null,
            "grid_column": null,
            "grid_gap": null,
            "grid_row": null,
            "grid_template_areas": null,
            "grid_template_columns": null,
            "grid_template_rows": null,
            "height": null,
            "justify_content": null,
            "justify_items": null,
            "left": null,
            "margin": null,
            "max_height": null,
            "max_width": null,
            "min_height": null,
            "min_width": null,
            "object_fit": null,
            "object_position": null,
            "order": null,
            "overflow": null,
            "overflow_x": null,
            "overflow_y": null,
            "padding": null,
            "right": null,
            "top": null,
            "visibility": null,
            "width": null
          }
        },
        "bd96dd318c1b4e1481c039321e052081": {
          "model_module": "@jupyter-widgets/base",
          "model_module_version": "1.2.0",
          "model_name": "LayoutModel",
          "state": {
            "_model_module": "@jupyter-widgets/base",
            "_model_module_version": "1.2.0",
            "_model_name": "LayoutModel",
            "_view_count": null,
            "_view_module": "@jupyter-widgets/base",
            "_view_module_version": "1.2.0",
            "_view_name": "LayoutView",
            "align_content": null,
            "align_items": null,
            "align_self": null,
            "border": null,
            "bottom": null,
            "display": null,
            "flex": null,
            "flex_flow": null,
            "grid_area": null,
            "grid_auto_columns": null,
            "grid_auto_flow": null,
            "grid_auto_rows": null,
            "grid_column": null,
            "grid_gap": null,
            "grid_row": null,
            "grid_template_areas": null,
            "grid_template_columns": null,
            "grid_template_rows": null,
            "height": null,
            "justify_content": null,
            "justify_items": null,
            "left": null,
            "margin": null,
            "max_height": null,
            "max_width": null,
            "min_height": null,
            "min_width": null,
            "object_fit": null,
            "object_position": null,
            "order": null,
            "overflow": null,
            "overflow_x": null,
            "overflow_y": null,
            "padding": null,
            "right": null,
            "top": null,
            "visibility": null,
            "width": null
          }
        },
        "bda4d1ec0f0043c8b4d254a4ada3e9bf": {
          "model_module": "@jupyter-widgets/base",
          "model_module_version": "1.2.0",
          "model_name": "LayoutModel",
          "state": {
            "_model_module": "@jupyter-widgets/base",
            "_model_module_version": "1.2.0",
            "_model_name": "LayoutModel",
            "_view_count": null,
            "_view_module": "@jupyter-widgets/base",
            "_view_module_version": "1.2.0",
            "_view_name": "LayoutView",
            "align_content": null,
            "align_items": null,
            "align_self": null,
            "border": null,
            "bottom": null,
            "display": null,
            "flex": null,
            "flex_flow": null,
            "grid_area": null,
            "grid_auto_columns": null,
            "grid_auto_flow": null,
            "grid_auto_rows": null,
            "grid_column": null,
            "grid_gap": null,
            "grid_row": null,
            "grid_template_areas": null,
            "grid_template_columns": null,
            "grid_template_rows": null,
            "height": null,
            "justify_content": null,
            "justify_items": null,
            "left": null,
            "margin": null,
            "max_height": null,
            "max_width": null,
            "min_height": null,
            "min_width": null,
            "object_fit": null,
            "object_position": null,
            "order": null,
            "overflow": null,
            "overflow_x": null,
            "overflow_y": null,
            "padding": null,
            "right": null,
            "top": null,
            "visibility": null,
            "width": null
          }
        },
        "c3d31c6cf07143aea1bbe76aa13fbca8": {
          "model_module": "@jupyter-widgets/controls",
          "model_module_version": "1.5.0",
          "model_name": "HBoxModel",
          "state": {
            "_dom_classes": [],
            "_model_module": "@jupyter-widgets/controls",
            "_model_module_version": "1.5.0",
            "_model_name": "HBoxModel",
            "_view_count": null,
            "_view_module": "@jupyter-widgets/controls",
            "_view_module_version": "1.5.0",
            "_view_name": "HBoxView",
            "box_style": "",
            "children": [
              "IPY_MODEL_754827da55fa4240bce3710048d1645b",
              "IPY_MODEL_7b61421d62964b00ba440ecba21f4b52",
              "IPY_MODEL_c67b66e1f2d34ce4b10789fc2fca5843"
            ],
            "layout": "IPY_MODEL_9ccac42dd9f04713b0ed9fe09c35b5b0"
          }
        },
        "c67b66e1f2d34ce4b10789fc2fca5843": {
          "model_module": "@jupyter-widgets/controls",
          "model_module_version": "1.5.0",
          "model_name": "HTMLModel",
          "state": {
            "_dom_classes": [],
            "_model_module": "@jupyter-widgets/controls",
            "_model_module_version": "1.5.0",
            "_model_name": "HTMLModel",
            "_view_count": null,
            "_view_module": "@jupyter-widgets/controls",
            "_view_module_version": "1.5.0",
            "_view_name": "HTMLView",
            "description": "",
            "description_tooltip": null,
            "layout": "IPY_MODEL_faa998b429774e4eb6aaaa5477bb6977",
            "placeholder": "​",
            "style": "IPY_MODEL_7ab80823e1344b638ddd1646367a6ce6",
            "value": " 1248/1248 [07:00&lt;00:00, 49.86s/it]"
          }
        },
        "c7550f460273484a913d211381630626": {
          "model_module": "@jupyter-widgets/controls",
          "model_module_version": "1.5.0",
          "model_name": "HTMLModel",
          "state": {
            "_dom_classes": [],
            "_model_module": "@jupyter-widgets/controls",
            "_model_module_version": "1.5.0",
            "_model_name": "HTMLModel",
            "_view_count": null,
            "_view_module": "@jupyter-widgets/controls",
            "_view_module_version": "1.5.0",
            "_view_name": "HTMLView",
            "description": "",
            "description_tooltip": null,
            "layout": "IPY_MODEL_1535c2c75a104f3abb262c5fb7859c14",
            "placeholder": "​",
            "style": "IPY_MODEL_92f2e2d3123c4cd88d7c5755342ae154",
            "value": " 20/20 [01:17&lt;00:00, 12.75s/it]"
          }
        },
        "ce0b10aca9064bc092cf3305eb0dab04": {
          "model_module": "@jupyter-widgets/controls",
          "model_module_version": "1.5.0",
          "model_name": "DescriptionStyleModel",
          "state": {
            "_model_module": "@jupyter-widgets/controls",
            "_model_module_version": "1.5.0",
            "_model_name": "DescriptionStyleModel",
            "_view_count": null,
            "_view_module": "@jupyter-widgets/base",
            "_view_module_version": "1.2.0",
            "_view_name": "StyleView",
            "description_width": ""
          }
        },
        "ced3689d335c4f1ca62d39b908d6cb33": {
          "model_module": "@jupyter-widgets/controls",
          "model_module_version": "1.5.0",
          "model_name": "HBoxModel",
          "state": {
            "_dom_classes": [],
            "_model_module": "@jupyter-widgets/controls",
            "_model_module_version": "1.5.0",
            "_model_name": "HBoxModel",
            "_view_count": null,
            "_view_module": "@jupyter-widgets/controls",
            "_view_module_version": "1.5.0",
            "_view_name": "HBoxView",
            "box_style": "",
            "children": [
              "IPY_MODEL_824fe37b12d4414a9376e266ddd086f5",
              "IPY_MODEL_00afceb39c074975b6b88d6d0d4d2901",
              "IPY_MODEL_e8c20cb22ecb40dbaf61959fc7d087cb"
            ],
            "layout": "IPY_MODEL_771597df670f417794f66408b05a7eb9"
          }
        },
        "d020211480b149cab1761b14ae631eb1": {
          "model_module": "@jupyter-widgets/base",
          "model_module_version": "1.2.0",
          "model_name": "LayoutModel",
          "state": {
            "_model_module": "@jupyter-widgets/base",
            "_model_module_version": "1.2.0",
            "_model_name": "LayoutModel",
            "_view_count": null,
            "_view_module": "@jupyter-widgets/base",
            "_view_module_version": "1.2.0",
            "_view_name": "LayoutView",
            "align_content": null,
            "align_items": null,
            "align_self": null,
            "border": null,
            "bottom": null,
            "display": null,
            "flex": null,
            "flex_flow": null,
            "grid_area": null,
            "grid_auto_columns": null,
            "grid_auto_flow": null,
            "grid_auto_rows": null,
            "grid_column": null,
            "grid_gap": null,
            "grid_row": null,
            "grid_template_areas": null,
            "grid_template_columns": null,
            "grid_template_rows": null,
            "height": null,
            "justify_content": null,
            "justify_items": null,
            "left": null,
            "margin": null,
            "max_height": null,
            "max_width": null,
            "min_height": null,
            "min_width": null,
            "object_fit": null,
            "object_position": null,
            "order": null,
            "overflow": null,
            "overflow_x": null,
            "overflow_y": null,
            "padding": null,
            "right": null,
            "top": null,
            "visibility": null,
            "width": null
          }
        },
        "e32bc4bb09af4ac5a608e56f87317596": {
          "model_module": "@jupyter-widgets/base",
          "model_module_version": "1.2.0",
          "model_name": "LayoutModel",
          "state": {
            "_model_module": "@jupyter-widgets/base",
            "_model_module_version": "1.2.0",
            "_model_name": "LayoutModel",
            "_view_count": null,
            "_view_module": "@jupyter-widgets/base",
            "_view_module_version": "1.2.0",
            "_view_name": "LayoutView",
            "align_content": null,
            "align_items": null,
            "align_self": null,
            "border": null,
            "bottom": null,
            "display": null,
            "flex": null,
            "flex_flow": null,
            "grid_area": null,
            "grid_auto_columns": null,
            "grid_auto_flow": null,
            "grid_auto_rows": null,
            "grid_column": null,
            "grid_gap": null,
            "grid_row": null,
            "grid_template_areas": null,
            "grid_template_columns": null,
            "grid_template_rows": null,
            "height": null,
            "justify_content": null,
            "justify_items": null,
            "left": null,
            "margin": null,
            "max_height": null,
            "max_width": null,
            "min_height": null,
            "min_width": null,
            "object_fit": null,
            "object_position": null,
            "order": null,
            "overflow": null,
            "overflow_x": null,
            "overflow_y": null,
            "padding": null,
            "right": null,
            "top": null,
            "visibility": null,
            "width": null
          }
        },
        "e4e76e5d4fba404a9ed4ff059f3a0c04": {
          "model_module": "@jupyter-widgets/controls",
          "model_module_version": "1.5.0",
          "model_name": "HTMLModel",
          "state": {
            "_dom_classes": [],
            "_model_module": "@jupyter-widgets/controls",
            "_model_module_version": "1.5.0",
            "_model_name": "HTMLModel",
            "_view_count": null,
            "_view_module": "@jupyter-widgets/controls",
            "_view_module_version": "1.5.0",
            "_view_name": "HTMLView",
            "description": "",
            "description_tooltip": null,
            "layout": "IPY_MODEL_22c5f6324de545ba814402c3f71d84f1",
            "placeholder": "​",
            "style": "IPY_MODEL_764b7b6827c9437b90c9c948b9f1037b",
            "value": "Evaluating: 100%"
          }
        },
        "e8c20cb22ecb40dbaf61959fc7d087cb": {
          "model_module": "@jupyter-widgets/controls",
          "model_module_version": "1.5.0",
          "model_name": "HTMLModel",
          "state": {
            "_dom_classes": [],
            "_model_module": "@jupyter-widgets/controls",
            "_model_module_version": "1.5.0",
            "_model_name": "HTMLModel",
            "_view_count": null,
            "_view_module": "@jupyter-widgets/controls",
            "_view_module_version": "1.5.0",
            "_view_name": "HTMLView",
            "description": "",
            "description_tooltip": null,
            "layout": "IPY_MODEL_90af75e58cef440a8d38ee6621e0f4d1",
            "placeholder": "​",
            "style": "IPY_MODEL_ce0b10aca9064bc092cf3305eb0dab04",
            "value": " 95/95 [00:30&lt;00:00,  1.25it/s]"
          }
        },
        "faa998b429774e4eb6aaaa5477bb6977": {
          "model_module": "@jupyter-widgets/base",
          "model_module_version": "1.2.0",
          "model_name": "LayoutModel",
          "state": {
            "_model_module": "@jupyter-widgets/base",
            "_model_module_version": "1.2.0",
            "_model_name": "LayoutModel",
            "_view_count": null,
            "_view_module": "@jupyter-widgets/base",
            "_view_module_version": "1.2.0",
            "_view_name": "LayoutView",
            "align_content": null,
            "align_items": null,
            "align_self": null,
            "border": null,
            "bottom": null,
            "display": null,
            "flex": null,
            "flex_flow": null,
            "grid_area": null,
            "grid_auto_columns": null,
            "grid_auto_flow": null,
            "grid_auto_rows": null,
            "grid_column": null,
            "grid_gap": null,
            "grid_row": null,
            "grid_template_areas": null,
            "grid_template_columns": null,
            "grid_template_rows": null,
            "height": null,
            "justify_content": null,
            "justify_items": null,
            "left": null,
            "margin": null,
            "max_height": null,
            "max_width": null,
            "min_height": null,
            "min_width": null,
            "object_fit": null,
            "object_position": null,
            "order": null,
            "overflow": null,
            "overflow_x": null,
            "overflow_y": null,
            "padding": null,
            "right": null,
            "top": null,
            "visibility": null,
            "width": null
          }
        },
        "fb306876e3244dc69312e2af46c4da02": {
          "model_module": "@jupyter-widgets/controls",
          "model_module_version": "1.5.0",
          "model_name": "HTMLModel",
          "state": {
            "_dom_classes": [],
            "_model_module": "@jupyter-widgets/controls",
            "_model_module_version": "1.5.0",
            "_model_name": "HTMLModel",
            "_view_count": null,
            "_view_module": "@jupyter-widgets/controls",
            "_view_module_version": "1.5.0",
            "_view_name": "HTMLView",
            "description": "",
            "description_tooltip": null,
            "layout": "IPY_MODEL_d020211480b149cab1761b14ae631eb1",
            "placeholder": "​",
            "style": "IPY_MODEL_63d6044414e24c5ea55efa925f7a3b56",
            "value": " 95/95 [00:24&lt;00:00,  1.20it/s]"
          }
        }
      }
    }
  },
  "nbformat": 4,
  "nbformat_minor": 0
}
