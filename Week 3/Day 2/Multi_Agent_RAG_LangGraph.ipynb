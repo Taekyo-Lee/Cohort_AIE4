{
  "cells": [
    {
      "cell_type": "markdown",
      "metadata": {
        "id": "KxpWDFG11o3G"
      },
      "source": [
        "# Multi-Agent Workflows + RAG - LangGraph\n",
        "\n",
        "Today we'll be looking at an example of a Multi-Agent workflow that's powered by LangGraph, LCEL, and more!\n",
        "\n",
        "We're going to be, more specifically, looking at a \"heirarchical agent teams\" from the [AutoGen: Enabling Next-Gen LLM\n",
        "Applications via Multi-Agent Conversation](https://arxiv.org/pdf/2308.08155) paper.\n",
        "\n",
        "This will be the final \"graph\" of our system:\n",
        "\n",
        "![image](https://i.imgur.com/Bhc7RVE.png)\n",
        "\n",
        "It's important to keep in mind that the actual implementation will be constructed of 3 separate graphs, the final one having 2 graphs as nodes! LangGraph is a heckuva tool!\n",
        "\n",
        "> NOTE: We'll be following along with the official LangGraph implementation very closely, which you can find [here](https://github.com/langchain-ai/langgraph/blob/main/examples/multi_agent/hierarchical_agent_teams.ipynb), with some minor modifications and extensions to showcase just how straightforward it is to modify LangGraph implementations to suit your own needs!\n",
        "\n"
      ]
    },
    {
      "cell_type": "markdown",
      "metadata": {
        "id": "mx3oaVoX5cA2"
      },
      "source": [
        "## Dependencies\n",
        "\n",
        "We'll start, as we normally do, by grabbing our dependencies.\n",
        "\n",
        "We'll be using LangChain and LangGraph to power our application, so let's start by grabbing those!"
      ]
    },
    {
      "cell_type": "code",
      "execution_count": 1,
      "metadata": {
        "id": "cs6HUTgecbzW"
      },
      "outputs": [],
      "source": [
        "!pip install -qU  langchain langchain_openai langgraph langchain_experimental"
      ]
    },
    {
      "cell_type": "markdown",
      "metadata": {
        "id": "BMzWFUc25oqT"
      },
      "source": [
        "We're going to be showing a simple RAG chain as part of our LangGraph - and so we'll need specific dependencies for that as well!"
      ]
    },
    {
      "cell_type": "code",
      "execution_count": 2,
      "metadata": {
        "id": "qEUBCOdukjwc"
      },
      "outputs": [],
      "source": [
        "!pip install -qU --disable-pip-version-check qdrant-client pymupdf tiktoken"
      ]
    },
    {
      "cell_type": "markdown",
      "metadata": {
        "id": "Zpv2MWqu5vS9"
      },
      "source": [
        "Since we'll be relying on OpenAI's suite of models to power our agents today, we'll want to provide our OpenAI API Key.\n",
        "\n",
        "We're also going to be using the Tavily search tool - so we'll want to provide that API key as well!\n",
        "\n",
        "Instruction for how to obtain the Tavily API key can be found:\n",
        "\n",
        "1. [Tavily API Key](https://app.tavily.com/sign-in)\n",
        "\n"
      ]
    },
    {
      "cell_type": "code",
      "execution_count": 3,
      "metadata": {
        "colab": {
          "base_uri": "https://localhost:8080/"
        },
        "id": "h30OjkLfeR2Y",
        "outputId": "9b1275c1-bf33-4984-ab6f-e27080ef494e"
      },
      "outputs": [],
      "source": [
        "import os\n",
        "import getpass\n",
        "\n",
        "os.environ[\"OPENAI_API_KEY\"] = getpass.getpass(\"OpenAI API Key:\")\n",
        "os.environ[\"TAVILY_API_KEY\"] = getpass.getpass(\"TAVILY_API_KEY\")"
      ]
    },
    {
      "cell_type": "markdown",
      "metadata": {},
      "source": [
        "##### 😀😀😀 Let's trace our graph with LangSmith"
      ]
    },
    {
      "cell_type": "code",
      "execution_count": 4,
      "metadata": {},
      "outputs": [],
      "source": [
        "# 😀 my own cell\n",
        "\n",
        "os.environ[\"LANGCHAIN_TRACING_V2\"] = 'true'\n",
        "os.environ[\"LANGSMITH_PROJECT\"] = \"AIE4_WEEK3_DAY2\"\n",
        "os.environ[\"LANGCHAIN_API_KEY\"] = getpass.getpass(\"LANGSMITH API Key:\")"
      ]
    },
    {
      "cell_type": "markdown",
      "metadata": {
        "id": "M_LD7rwT6PbO"
      },
      "source": [
        "## Simple LCEL RAG\n",
        "\n",
        "Now that we have our dependencies set-up - let's create a simple RAG chain that works over a single PDF.\n",
        "\n",
        "> NOTE: While this particular example is very straight forward - you can \"plug in\" any complexity of chain you desire as a node in a LangGraph."
      ]
    },
    {
      "cell_type": "markdown",
      "metadata": {
        "id": "JY7T5kxJ6jGn"
      },
      "source": [
        "## Retrieval\n",
        "\n",
        "The 'R' in 'RAG' - this is, at this point, fairly straightforward!"
      ]
    },
    {
      "cell_type": "markdown",
      "metadata": {
        "id": "DGuPxSCk7Ztz"
      },
      "source": [
        "#### Data Collection and Processing\n",
        "\n",
        "A classic first step, at this point, let's grab our desired document!"
      ]
    },
    {
      "cell_type": "code",
      "execution_count": 5,
      "metadata": {
        "id": "LfuoEYRCln3H"
      },
      "outputs": [],
      "source": [
        "from langchain.document_loaders import PyMuPDFLoader\n",
        "\n",
        "docs = PyMuPDFLoader(\"https://arxiv.org/pdf/2404.19553\").load()"
      ]
    },
    {
      "cell_type": "code",
      "execution_count": 6,
      "metadata": {},
      "outputs": [
        {
          "name": "stdout",
          "output_type": "stream",
          "text": [
            "<class 'list'>\n",
            "5\n",
            "<class 'langchain_core.documents.base.Document'>\n",
            "====================\n",
            "{'source': 'https://arxiv.org/pdf/2404.19553', 'file_path': 'https://arxiv.org/pdf/2404.19553', 'page': 0, 'total_pages': 5, 'format': 'PDF 1.5', 'title': '', 'author': '', 'subject': '', 'keywords': '', 'creator': 'LaTeX with hyperref', 'producer': 'pdfTeX-1.40.25', 'creationDate': 'D:20240501003931Z', 'modDate': 'D:20240501003931Z', 'trapped': ''}\n",
            "====================\n",
            "Extending Llama-3’s Context Ten-Fold Overnight\n",
            "Peitian Zhang1,2, Ninglu Shao1,2, Zheng Liu1∗\n",
            ", Shita\n"
          ]
        }
      ],
      "source": [
        "# 😀 my own cell\n",
        "\n",
        "print(type(docs))\n",
        "print(len(docs))\n",
        "print(type(docs[0]))\n",
        "print(\"=\"*20)\n",
        "\n",
        "print(docs[0].metadata)\n",
        "print(\"=\"*20)\n",
        "print(docs[0].page_content[:100])"
      ]
    },
    {
      "cell_type": "markdown",
      "metadata": {
        "id": "r_t_F1zG6vXa"
      },
      "source": [
        "Now we can chunk it down to size!"
      ]
    },
    {
      "cell_type": "code",
      "execution_count": 7,
      "metadata": {
        "id": "5R7A_z8CgL79"
      },
      "outputs": [],
      "source": [
        "import tiktoken\n",
        "from langchain.text_splitter import RecursiveCharacterTextSplitter\n",
        "\n",
        "def tiktoken_len(text):\n",
        "    tokens = tiktoken.encoding_for_model(\"gpt-4o-mini\").encode(\n",
        "        text,\n",
        "    )\n",
        "    return len(tokens)\n",
        "\n",
        "text_splitter = RecursiveCharacterTextSplitter(\n",
        "    chunk_size = 300,\n",
        "    chunk_overlap = 0,\n",
        "    length_function = tiktoken_len,\n",
        ")\n",
        "\n",
        "split_chunks = text_splitter.split_documents(docs)"
      ]
    },
    {
      "cell_type": "code",
      "execution_count": 8,
      "metadata": {},
      "outputs": [
        {
          "name": "stdout",
          "output_type": "stream",
          "text": [
            "<class 'list'>\n",
            "15\n",
            "<class 'langchain_core.documents.base.Document'>\n",
            "====================\n",
            "{'source': 'https://arxiv.org/pdf/2404.19553', 'file_path': 'https://arxiv.org/pdf/2404.19553', 'page': 0, 'total_pages': 5, 'format': 'PDF 1.5', 'title': '', 'author': '', 'subject': '', 'keywords': '', 'creator': 'LaTeX with hyperref', 'producer': 'pdfTeX-1.40.25', 'creationDate': 'D:20240501003931Z', 'modDate': 'D:20240501003931Z', 'trapped': ''}\n",
            "====================\n",
            "Extending Llama-3’s Context Ten-Fold Overnight\n",
            "Peitian Zhang1,2, Ninglu Shao1,2, Zheng Liu1∗\n",
            ", Shita\n",
            "294\n"
          ]
        }
      ],
      "source": [
        "# 😀 my own cell\n",
        "\n",
        "print(type(split_chunks))\n",
        "print(len(split_chunks))\n",
        "print(type(split_chunks[0]))\n",
        "print(\"=\"*20)\n",
        "\n",
        "print(split_chunks[0].metadata)\n",
        "print(\"=\"*20)\n",
        "print(split_chunks[0].page_content[:100])\n",
        "print(tiktoken_len(split_chunks[0].page_content))"
      ]
    },
    {
      "cell_type": "markdown",
      "metadata": {
        "id": "lGE-VuMc7AKv"
      },
      "source": [
        "Now we've successfully split our single PDF into..."
      ]
    },
    {
      "cell_type": "code",
      "execution_count": 9,
      "metadata": {
        "colab": {
          "base_uri": "https://localhost:8080/"
        },
        "id": "pgYBHsdWmLvW",
        "outputId": "16d5e6f1-46ff-428f-870b-2df570065171"
      },
      "outputs": [
        {
          "data": {
            "text/plain": [
              "15"
            ]
          },
          "execution_count": 9,
          "metadata": {},
          "output_type": "execute_result"
        }
      ],
      "source": [
        "len(split_chunks)"
      ]
    },
    {
      "cell_type": "markdown",
      "metadata": {
        "id": "lxaKmmyh7DHD"
      },
      "source": [
        "documents!"
      ]
    },
    {
      "cell_type": "markdown",
      "metadata": {
        "id": "cGWs7KTd7QPS"
      },
      "source": [
        "#### Embedding Model and Vector Store\n",
        "\n",
        "Now that we have our chunked document - lets create a vector store, which will first require us to create an embedding model to get the vector representations of our text!\n",
        "\n",
        "We'll use OpenAI's [`text-embedding-3-small`](https://platform.openai.com/docs/guides/embeddings/embedding-models) model - as it's cheap, and performant."
      ]
    },
    {
      "cell_type": "code",
      "execution_count": 10,
      "metadata": {
        "id": "xLIWMMZCmfrj"
      },
      "outputs": [],
      "source": [
        "from langchain_openai.embeddings import OpenAIEmbeddings\n",
        "\n",
        "embedding_model = OpenAIEmbeddings(model=\"text-embedding-3-small\")"
      ]
    },
    {
      "cell_type": "markdown",
      "metadata": {
        "id": "lTEi7Ww573sc"
      },
      "source": [
        "Now we can create our QDrant backed vector store!"
      ]
    },
    {
      "cell_type": "code",
      "execution_count": null,
      "metadata": {
        "id": "Xct51f8omVAU"
      },
      "outputs": [],
      "source": [
        "# from langchain_community.vectorstores import Qdrant\n",
        "\n",
        "# qdrant_vectorstore = Qdrant.from_documents(\n",
        "#     split_chunks,\n",
        "#     embedding_model,\n",
        "#     location=\":memory:\",\n",
        "#     collection_name=\"extending_context_window_llama_3\",\n",
        "# )"
      ]
    },
    {
      "cell_type": "markdown",
      "metadata": {},
      "source": [
        "##### 😀😀😀 Deprecation warning!\n",
        "I found out that \"from langchain_community.vectorstores import Qdrant\" is deprecated. \\\n",
        "So I will try \"from langchain_qdrant.qdrant import QdrantVectorStore\" instead."
      ]
    },
    {
      "cell_type": "code",
      "execution_count": 11,
      "metadata": {},
      "outputs": [],
      "source": [
        "# 😀 my own cell\n",
        "\n",
        "# https://api.python.langchain.com/en/latest/_modules/langchain_qdrant/qdrant.html#QdrantVectorStore\n",
        "\n",
        "from langchain_qdrant.qdrant import QdrantVectorStore\n",
        "\n",
        "qdrant_vectorstore = QdrantVectorStore.from_documents(\n",
        "    split_chunks,\n",
        "    embedding_model,\n",
        "    location=\":memory:\",\n",
        "    collection_name=\"extending_context_window_llama_3\",\n",
        ")"
      ]
    },
    {
      "cell_type": "markdown",
      "metadata": {
        "id": "wzGq6o4s79Ar"
      },
      "source": [
        "Let's make sure we can access it as a retriever."
      ]
    },
    {
      "cell_type": "code",
      "execution_count": 12,
      "metadata": {
        "id": "OTnQZbWymi4K"
      },
      "outputs": [],
      "source": [
        "qdrant_retriever = qdrant_vectorstore.as_retriever()\n",
        "qdrant_retriever = qdrant_retriever.with_config({'run_name':\"Retriever\"}) # 😀 I bind run_name"
      ]
    },
    {
      "cell_type": "markdown",
      "metadata": {
        "id": "aU8qSrMS7_D7"
      },
      "source": [
        "### Augmented\n",
        "\n",
        "Now that we have our retrieval process set-up, we need to set up our \"augmentation\" process - AKA a prompt template."
      ]
    },
    {
      "cell_type": "code",
      "execution_count": 13,
      "metadata": {
        "id": "lezTN0zCmk46"
      },
      "outputs": [],
      "source": [
        "from langchain_core.prompts import ChatPromptTemplate\n",
        "\n",
        "RAG_PROMPT = \"\"\"\n",
        "CONTEXT:\n",
        "{context}\n",
        "\n",
        "QUERY:\n",
        "{question}\n",
        "\n",
        "You are a helpful assistant. Use the available context to answer the question. If you can't answer the question, say you don't know.\n",
        "\"\"\"\n",
        "\n",
        "# rag_prompt = ChatPromptTemplate.from_template(RAG_PROMPT)\n",
        "\n",
        "\n",
        "rag_prompt = ChatPromptTemplate([('human', RAG_PROMPT)]) # 😀 I prefer this way"
      ]
    },
    {
      "cell_type": "markdown",
      "metadata": {
        "id": "Y9fa63nM7IKK"
      },
      "source": [
        "### Generation\n",
        "\n",
        "Last, but certainly not least, let's put the 'G' in 'RAG' by adding our generator - in this case, we can rely on OpenAI's [`gpt-4o-mini`](https://platform.openai.com/docs/models/gpt-4o-mini) model!"
      ]
    },
    {
      "cell_type": "code",
      "execution_count": 14,
      "metadata": {
        "id": "AwEi29-Jo3a8"
      },
      "outputs": [],
      "source": [
        "from langchain_openai import ChatOpenAI\n",
        "\n",
        "openai_chat_model = ChatOpenAI(model=\"gpt-4o-mini\", name=\"RAG_LLM\")\n",
        "openai_chat_model = openai_chat_model.with_config({'run_name':\"RAG_LLM\"}) # 😀 I bind run_name"
      ]
    },
    {
      "cell_type": "markdown",
      "metadata": {
        "id": "qO-ZC0T98XJJ"
      },
      "source": [
        "### RAG - Retrieval Augmented Generation\n",
        "\n",
        "All that's left to do is combine our R, A, and G into a single chain - and we're off!"
      ]
    },
    {
      "cell_type": "code",
      "execution_count": 15,
      "metadata": {},
      "outputs": [
        {
          "data": {
            "text/plain": [
              "True"
            ]
          },
          "execution_count": 15,
          "metadata": {},
          "output_type": "execute_result"
        }
      ],
      "source": [
        "from langchain.schema.output_parser import StrOutputParser\n",
        "from langchain_core.runnables import Runnable\n",
        "\n",
        "isinstance( StrOutputParser(), Runnable)"
      ]
    },
    {
      "cell_type": "code",
      "execution_count": 16,
      "metadata": {
        "id": "nlOJrPm_oT3S"
      },
      "outputs": [],
      "source": [
        "# from operator import itemgetter\n",
        "# from langchain.schema.output_parser import StrOutputParser\n",
        "\n",
        "# rag_chain = (\n",
        "#     {\"context\": itemgetter(\"question\") | qdrant_retriever, \"question\": itemgetter(\"question\")}\n",
        "#     | rag_prompt | openai_chat_model | StrOutputParser()\n",
        "# )\n",
        "\n",
        "\n",
        "# 😀 I prefer this way of implementing a RAG\n",
        "from langchain.schema.output_parser import StrOutputParser\n",
        "from langchain_core.runnables import RunnablePassthrough, RunnableLambda\n",
        "from operator import itemgetter\n",
        "\n",
        "rag_chain = (\n",
        "    RunnablePassthrough().assign(context= itemgetter('question') | qdrant_retriever | RunnableLambda(lambda x: '\\n\\n'.join([doc.page_content for doc in x]))).with_config({'run_name':\"[RetrievingContext]\"})  |\n",
        "    rag_prompt.with_config({'run_name':\"[RAGPrompt]\"}) | \n",
        "    ChatOpenAI(model=\"gpt-4o-mini\", name=\"[RAG_LLM]\").with_config({'run_name':\"[RAGLLM]\"}) | \n",
        "    StrOutputParser()\n",
        ").with_config({'run_name':'[RAGChain]'})"
      ]
    },
    {
      "cell_type": "markdown",
      "metadata": {
        "id": "qiWrbXpu8ggz"
      },
      "source": [
        "Let's test this out and make sure it works."
      ]
    },
    {
      "cell_type": "code",
      "execution_count": 17,
      "metadata": {
        "colab": {
          "base_uri": "https://localhost:8080/",
          "height": 104
        },
        "id": "gJhFlW32pBPe",
        "outputId": "9847e13d-7435-4224-d3e5-ac04f8a6f868"
      },
      "outputs": [
        {
          "data": {
            "text/plain": [
              "\"In the context of 'long context' as mentioned in the provided text, 'context' refers to the amount of textual information (such as a book or a long paper) that a large language model (LLM) can process and analyze. Specifically, it pertains to the length of the input data that the model can handle at one time, which in this case has been extended from 8,000 tokens to 80,000 tokens for the Llama-3-8B-Instruct model.\""
            ]
          },
          "execution_count": 17,
          "metadata": {},
          "output_type": "execute_result"
        }
      ],
      "source": [
        "rag_chain.invoke({\"question\" : \"What does the 'context' in 'long context' refer to?\"})"
      ]
    },
    {
      "cell_type": "markdown",
      "metadata": {
        "id": "gReMizYk8qd-"
      },
      "source": [
        "### RAG Limitation\n",
        "\n",
        "Notice how we're hard-coding our data, while this is simply meant to be an illustrative example - you could easily extend this to work with any provied paper or document in order to have a more dynamic system.\n",
        "\n",
        "For now, we'll stick with this single hard-coded example in order to keep complexity down in an already very long notebook!"
      ]
    },
    {
      "cell_type": "markdown",
      "metadata": {
        "id": "oxkbuir-H5rE"
      },
      "source": [
        "##### 🏗️ Activity #1 (Bonus Marks)\n",
        "\n",
        "Allow the system to dynamically fetch Arxiv papers instead of hard coding them.\n",
        "\n",
        "> HINT: Tuesday's assignment will be very useful here."
      ]
    },
    {
      "cell_type": "markdown",
      "metadata": {},
      "source": [
        "##### 😀😀😀 🏗️ Activity #1  Let's leverage the arxiv agent"
      ]
    },
    {
      "cell_type": "code",
      "execution_count": 18,
      "metadata": {},
      "outputs": [
        {
          "data": {
            "image/jpeg": "[encoded data removed]",
            "text/plain": [
              "<IPython.core.display.Image object>"
            ]
          },
          "metadata": {},
          "output_type": "display_data"
        },
        {
          "data": {
            "text/plain": [
              "'The term \"long context\" typically refers to the amount of information or data that is considered when processing or understanding a particular situation, text, or conversation. In various fields, such as natural language processing (NLP), \"long context\" can mean the ability of a model or system to take into account a larger span of text or previous interactions to generate more coherent and contextually relevant responses.\\n\\nIn the context of language models, for example, a \"long context\" allows the model to remember and utilize information from earlier parts of a conversation or document, which can lead to better understanding and more accurate outputs. This is particularly important in tasks that require maintaining coherence over longer dialogues or texts, where earlier information is crucial for interpreting later content. \\n\\nIf you have a specific context or field in mind where \"long context\" is used, please provide more details for a more tailored explanation.'"
            ]
          },
          "execution_count": 18,
          "metadata": {},
          "output_type": "execute_result"
        }
      ],
      "source": [
        "# 😀 my own cell\n",
        "\n",
        "## Set up AgentState\n",
        "from typing import TypedDict, Annotated\n",
        "from langchain_core.messages import BaseMessage\n",
        "from langgraph.graph.message import add_messages \n",
        "class AgentState(TypedDict):\n",
        "    messages: Annotated[list[BaseMessage], add_messages]\n",
        "\n",
        "## Set up an uncompiled graph\n",
        "from langgraph.graph import StateGraph, END\n",
        "uncompiled_graph = StateGraph(AgentState)\n",
        "\n",
        "## Set up the tool belt (arvix tool)\n",
        "from langgraph.prebuilt import ToolNode\n",
        "from langchain_community.tools.arxiv.tool import ArxivQueryRun\n",
        "tools = [ArxivQueryRun()]\n",
        "uncompiled_graph.add_node('arxiv_tool_node', ToolNode(tools))\n",
        "\n",
        "## Set up an llm node\n",
        "from langchain_core.prompts import ChatPromptTemplate\n",
        "from langchain_openai import ChatOpenAI\n",
        "reasoning_engine = ChatOpenAI(model=\"gpt-4o-mini\", temperature=0, name=\"reasoning_engine\").bind_tools(tools)\n",
        "\n",
        "def llm_node(agent_state: AgentState):\n",
        "    messages = agent_state['messages']\n",
        "    response = reasoning_engine.invoke(messages)\n",
        "    return {\"messages\": [response]}\n",
        "\n",
        "uncompiled_graph.add_node('llm_node', llm_node)\n",
        "\n",
        "\n",
        "## Set up entrypoint\n",
        "uncompiled_graph.set_entry_point('llm_node')\n",
        "\n",
        "\n",
        "## Set up conditional edge\n",
        "def is_tool_called(agent_state: AgentState):\n",
        "    return True if agent_state['messages'][-1].tool_calls else False\n",
        "\n",
        "uncompiled_graph.add_conditional_edges('llm_node', is_tool_called, {True:'arxiv_tool_node', False:END})\n",
        "\n",
        "\n",
        "## Set up an cycle\n",
        "uncompiled_graph.add_edge('arxiv_tool_node', 'llm_node')\n",
        "\n",
        "\n",
        "## Compile the graph\n",
        "compiled_graph = uncompiled_graph.compile()\n",
        "\n",
        "# Let's visualize the graph\n",
        "from IPython.display import display, Image\n",
        "display(Image( compiled_graph.get_graph().draw_mermaid_png() ))\n",
        "\n",
        "## Wrap the graph for the sake of convenience\n",
        "from langchain_core.runnables import RunnableLambda\n",
        "from langchain_core.messages import HumanMessage\n",
        "\n",
        "state_machine = RunnableLambda(lambda x: {'messages':[HumanMessage(content=x)]}) | compiled_graph | RunnableLambda(lambda x: x['messages'][-1].content)\n",
        "state_machine = state_machine.with_config({'run_name':'RAG_chain_by_LangGraph'})\n",
        "state_machine.invoke(\"What does the 'context' in 'long context' refer to?\")"
      ]
    },
    {
      "cell_type": "markdown",
      "metadata": {
        "id": "7U6a_pqQ9uWf"
      },
      "source": [
        "## Helper Functions for Agent Graphs\n",
        "\n",
        "We'll be using a number of agents, nodes, and supervisors in the rest of the notebook - and so it will help to have a collection of useful helper functions that we can leverage to make our lives easier going forward.\n",
        "\n",
        "Let's start with the most simple one!"
      ]
    },
    {
      "cell_type": "markdown",
      "metadata": {
        "id": "IDUnpEEl-L_F"
      },
      "source": [
        "#### Import Wall\n",
        "\n",
        "Here's a wall of imports we'll be needing going forward!"
      ]
    },
    {
      "cell_type": "code",
      "execution_count": 19,
      "metadata": {
        "id": "TbzoL3Q3-SG1"
      },
      "outputs": [],
      "source": [
        "from typing import Any, Callable, List, Optional, TypedDict, Union, Literal\n",
        "\n",
        "from langchain.agents import AgentExecutor, create_openai_functions_agent\n",
        "from langchain.output_parsers.openai_functions import JsonOutputFunctionsParser\n",
        "from langchain_core.prompts import ChatPromptTemplate, MessagesPlaceholder\n",
        "from langchain_core.messages import AIMessage, BaseMessage, HumanMessage\n",
        "from langchain_core.runnables import Runnable\n",
        "from langchain_core.tools import BaseTool\n",
        "from langchain_openai import ChatOpenAI\n",
        "\n",
        "from langgraph.graph import END, StateGraph"
      ]
    },
    {
      "cell_type": "markdown",
      "metadata": {
        "id": "qb6Z3EEz-Asi"
      },
      "source": [
        "### Agent Node Helper\n",
        "\n",
        "Since we're going to be wrapping each of our agents into a node - it will help to have an easy way to create the node!"
      ]
    },
    {
      "cell_type": "markdown",
      "metadata": {},
      "source": [
        "##### 😀😀😀 My opinions\n",
        "- 'node' for LangGraph should be a callable which takes in 'state (dictonary)' and returns a Dictionay where the keys of the returning dictionary are subset of the keys of 'state' \n",
        "- The following function 'agent_node' is to be converted into a callable with only one input argument 'state' by functools.partial()"
      ]
    },
    {
      "cell_type": "code",
      "execution_count": 73,
      "metadata": {
        "id": "5IF7KWfS-JKd"
      },
      "outputs": [],
      "source": [
        "# 😀 Modification_1: I changed the function name from 'agent_node' to 'member_node'.\n",
        "# 😀 Modification_2: I made some modification on arguments\n",
        "\n",
        "def member_node(state: dict, team: Literal['ResearchTeam', 'DocumentTeam'], member: AgentExecutor, name: str):\n",
        "    result = member.invoke(state)\n",
        "    if team=='ResearchTeam':\n",
        "        return {\"messages_for_research_team\": [HumanMessage(content=result[\"output\"], name=name)]}\n",
        "    elif team=='DocumentTeam':    \n",
        "        state['per_member_messages_for_document_team'] = []\n",
        "        return {\"messages_for_document_team\": [HumanMessage(content= f\"[Work from {name}]: \" + result[\"output\"], name=name)], \"per_member_messages_for_document_team\": []}  \n",
        "    else:\n",
        "        raise ValueError(\"Invalid team\")"
      ]
    },
    {
      "cell_type": "markdown",
      "metadata": {
        "id": "fwND2teK-WHm"
      },
      "source": [
        "### Agent Creation Helper Function\n",
        "\n",
        "Since we know we'll need to create agents to populate our agent nodes, let's use a helper function for that as well!\n",
        "\n",
        "Notice a few things:\n",
        "\n",
        "1. We have a standard suffix to append to our system messages for each agent to handle the tool calling and boilerplate prompting.\n",
        "2. Each agent has its our scratchpad.\n",
        "3. We're relying on OpenAI's function-calling API for tool selection\n",
        "4. Each agent is its own executor."
      ]
    },
    {
      "cell_type": "markdown",
      "metadata": {},
      "source": [
        "##### 😀😀😀 My opinions\n",
        "- 'AgentExecutor' is an old way of creating an agent in LangChain.\n",
        "- It is not as powerful as LangGraph but is simple enough to use as a component agent."
      ]
    },
    {
      "cell_type": "code",
      "execution_count": 21,
      "metadata": {
        "id": "NxLyHJt5-eUx"
      },
      "outputs": [
        {
          "data": {
            "text/plain": [
              "RunnableBinding(bound=AgentExecutor(agent=RunnableAgent(runnable=RunnableAssign(mapper={\n",
              "  agent_scratchpad: RunnableLambda(lambda x: format_to_openai_function_messages(x['intermediate_steps']))\n",
              "})\n",
              "| RunnableBinding(bound=ChatPromptTemplate(input_variables=['agent_scratchpad', 'messages_for_research_team', 'team_members'], input_types={'messages_for_research_team': typing.List[typing.Union[langchain_core.messages.ai.AIMessage, langchain_core.messages.human.HumanMessage, langchain_core.messages.chat.ChatMessage, langchain_core.messages.system.SystemMessage, langchain_core.messages.function.FunctionMessage, langchain_core.messages.tool.ToolMessage]], 'agent_scratchpad': typing.List[typing.Union[langchain_core.messages.ai.AIMessage, langchain_core.messages.human.HumanMessage, langchain_core.messages.chat.ChatMessage, langchain_core.messages.system.SystemMessage, langchain_core.messages.function.FunctionMessage, langchain_core.messages.tool.ToolMessage]]}, messages=[SystemMessagePromptTemplate(prompt=PromptTemplate(input_variables=['team_members'], template='\\nWork autonomously according to your specialty, using the tools available to you. Do not ask for clarification. Your other team members (and other teams) will collaborate with you with their own specialties. You are chosen for a reason! You are one of the following team members: {team_members}.')), MessagesPlaceholder(variable_name='messages_for_research_team'), MessagesPlaceholder(variable_name='agent_scratchpad')]), config={'run_name': '[SearchPrompt]'})\n",
              "| RunnableBinding(bound=ChatOpenAI(client=<openai.resources.chat.completions.Completions object at 0x7f53a0b32710>, async_client=<openai.resources.chat.completions.AsyncCompletions object at 0x7f53a0c938d0>, root_client=<openai.OpenAI object at 0x7f53a4a3ca10>, root_async_client=<openai.AsyncOpenAI object at 0x7f53a0b32810>, model_name='gpt-4o-mini', openai_api_key=SecretStr('**********'), openai_proxy=''), kwargs={'functions': [{'name': 'arxiv', 'description': 'A wrapper around Arxiv.org Useful for when you need to answer questions about Physics, Mathematics, Computer Science, Quantitative Biology, Quantitative Finance, Statistics, Electrical Engineering, and Economics from scientific articles on arxiv.org. Input should be a search query.', 'parameters': {'type': 'object', 'properties': {'query': {'description': 'search query to look up', 'type': 'string'}}, 'required': ['query']}}]})\n",
              "| OpenAIFunctionsAgentOutputParser(), input_keys_arg=[], return_keys_arg=[], stream_runnable=True), tools=[ArxivQueryRun()]), config={'run_name': 'SearchAgent'})"
            ]
          },
          "execution_count": 21,
          "metadata": {},
          "output_type": "execute_result"
        }
      ],
      "source": [
        "# 😀 I changed the function name from 'create_agent' to 'get_member' for better understaning\n",
        "\n",
        "def get_member(\n",
        "    team: Literal['ResearchTeam', 'DocumentTeam'], # 😀 added this\n",
        "    name: str, # 😀 added this\n",
        "    llm: ChatOpenAI,\n",
        "    tools: list,\n",
        "    system_prompt: str,\n",
        ") -> AgentExecutor:\n",
        "    \"\"\"Create a function-calling agent and add it to the graph.\"\"\"\n",
        "    \n",
        "    system_prompt += (\"\\nWork autonomously according to your specialty, using the tools available to you.\"\n",
        "    \" Do not ask for clarification.\"\n",
        "    \" Your other team members (and other teams) will collaborate with you with their own specialties.\"\n",
        "    \" You are chosen for a reason! You are one of the following team members: {team_members}.\")\n",
        "    prompt = ChatPromptTemplate.from_messages(\n",
        "        [\n",
        "            (\"system\", system_prompt),\n",
        "            MessagesPlaceholder(variable_name=\"messages_for_research_team\" if team=='ResearchTeam' else \"per_member_messages_for_document_team\"), # 😀 modified this\n",
        "            MessagesPlaceholder(variable_name=\"agent_scratchpad\"),  \n",
        "        ]\n",
        "    ).with_config({'run_name': f'[{name}Prompt]'})\n",
        "\n",
        "    agent = create_openai_functions_agent(llm, tools, prompt)\n",
        "    executor = AgentExecutor(agent=agent, tools=tools).with_config({'run_name': f'{name}Agent'})\n",
        "    \n",
        "    # 😀 For an agent executor, the variable 'agent_scratchpad' or 'intermediate_steps' are not something we manually pass. \n",
        "    return executor\n",
        "\n",
        "sample_member = get_member(team='ResearchTeam', name='Search', llm=ChatOpenAI(model=\"gpt-4o-mini\"), tools=[ArxivQueryRun()], system_prompt=\"\")\n",
        "sample_member"
      ]
    },
    {
      "cell_type": "markdown",
      "metadata": {
        "id": "S6kmlR9d-1K5"
      },
      "source": [
        "### Supervisor Helper Function\n",
        "\n",
        "Finally, we need a \"supervisor\" that decides and routes tasks to specific agents.\n",
        "\n",
        "Since each \"team\" will have a collection of potential agents - this \"supervisor\" will act as an \"intelligent\" router to make sure that the right agent is selected for the right task.\n",
        "\n",
        "Notice that, at the end of the day, this \"supervisor\" is simply directing who acts next - or if the state is considered \"done\"."
      ]
    },
    {
      "cell_type": "code",
      "execution_count": 22,
      "metadata": {
        "id": "S2MXA83mrYE2"
      },
      "outputs": [
        {
          "data": {
            "text/plain": [
              "RunnableBinding(bound=RunnableBinding(bound=ChatPromptTemplate(input_variables=['messages_for_research_team', 'team_members'], input_types={'messages_for_research_team': typing.List[typing.Union[langchain_core.messages.ai.AIMessage, langchain_core.messages.human.HumanMessage, langchain_core.messages.chat.ChatMessage, langchain_core.messages.system.SystemMessage, langchain_core.messages.function.FunctionMessage, langchain_core.messages.tool.ToolMessage]]}, partial_variables={'options': \"['FINISH', 'Search', 'PaperInformationRetriever']\"}, messages=[SystemMessagePromptTemplate(prompt=PromptTemplate(input_variables=['team_members'], template='You are the supervisor of the Research Team. The members are: {team_members}.')), MessagesPlaceholder(variable_name='messages_for_research_team'), SystemMessagePromptTemplate(prompt=PromptTemplate(input_variables=['options'], template='Given the conversation above, who should act next? Or should we FINISH? Select one of: {options}'))]), config={'run_name': '[ResearchTeamSupervisorPrompt]'})\n",
              "| RunnableBinding(bound=ChatOpenAI(client=<openai.resources.chat.completions.Completions object at 0x7f53a716ea90>, async_client=<openai.resources.chat.completions.AsyncCompletions object at 0x7f53a7418ad0>, root_client=<openai.OpenAI object at 0x7f53a4ac9890>, root_async_client=<openai.AsyncOpenAI object at 0x7f53a741d6d0>, model_name='gpt-4o-mini', openai_api_key=SecretStr('**********'), openai_proxy=''), kwargs={'functions': [{'name': 'route', 'description': 'Select the next role.', 'parameters': {'title': 'routeSchema', 'type': 'object', 'properties': {'next': {'title': 'Next', 'anyOf': [{'enum': ['FINISH', 'Search', 'PaperInformationRetriever']}]}}, 'required': ['next']}}], 'function_call': {'name': 'route'}})\n",
              "| JsonOutputFunctionsParser(), config={'run_name': '[ResearchTeamSupervisorChain]'})"
            ]
          },
          "execution_count": 22,
          "metadata": {},
          "output_type": "execute_result"
        }
      ],
      "source": [
        "# 😀 I changed the function name from 'create_team_supervisor' to 'get_supervisor' for better understaning\n",
        "from langchain_core.runnables import RunnableSequence\n",
        "\n",
        "def get_supervisor(team: str, team_members: list[str], llm: ChatOpenAI, system_prompt) -> RunnableSequence: # 😀 Add an additional argument 'team_name'\n",
        "    \"\"\"An LLM-based router.\"\"\"\n",
        "    options = [\"FINISH\"] + team_members\n",
        "    \n",
        "    function_def = {\n",
        "        \"name\": \"route\",\n",
        "        \"description\": \"Select the next role.\",\n",
        "        \"parameters\": {\n",
        "            \"title\": \"routeSchema\",\n",
        "            \"type\": \"object\",\n",
        "            \"properties\": {\n",
        "                \"next\": {\n",
        "                    \"title\": \"Next\",\n",
        "                    \"anyOf\": [\n",
        "                        {\"enum\": options},\n",
        "                    ],\n",
        "                },\n",
        "            },\n",
        "            \"required\": [\"next\"],\n",
        "        },\n",
        "    }\n",
        "    \n",
        "    prompt = ChatPromptTemplate.from_messages(\n",
        "        [\n",
        "            (\"system\", system_prompt),\n",
        "            MessagesPlaceholder(variable_name=\"messages_for_research_team\" if team=='ResearchTeam' else \"messages_for_document_team\" if team=='DocumentTeam' else \"messages\"), # 😀 modified this\n",
        "            (\n",
        "                \"system\", \n",
        "                \"Given the conversation above, who should act next?\" \n",
        "                \" Or should we FINISH? Select one of: {options}\",\n",
        "            ),\n",
        "        ]\n",
        "    # ).partial(options=str(options), team_members=\", \".join(members))\n",
        "    ).partial(options=str(options)).with_config({'run_name':f'[{team}SupervisorPrompt]'}) \n",
        "    \n",
        "    return (\n",
        "            prompt   | \n",
        "            llm.bind_functions(functions=[function_def], function_call=\"route\") | \n",
        "            JsonOutputFunctionsParser() # 😀 This parser makes the output a dictionary {'next': ${next}}\n",
        "    ).with_config({'run_name':f'[{team}SupervisorChain]'})\n",
        "    # 😀 The input of this chain would be {'messages': ${messages}, 'team_members':${team_members}} because of .partial() mothod run.\n",
        "\n",
        "\n",
        "sample_superviosr = get_supervisor(team='ResearchTeam', team_members=['Search', 'PaperInformationRetriever'], llm=ChatOpenAI(model=\"gpt-4o-mini\"), system_prompt=\"You are the supervisor of the Research Team. The members are: {team_members}.\")\n",
        "sample_superviosr    "
      ]
    },
    {
      "cell_type": "markdown",
      "metadata": {
        "id": "jd0zfyq48jKb"
      },
      "source": [
        "## Research Team - A LangGraph for Researching A Specific Topic\n",
        "\n",
        "Now that we have our RAG chain set-up and some awesome helper functions, we want to create a LangGraph related to researching a specific topic.\n",
        "\n",
        "We're going to start by equipping our Research Team with a few tools:\n",
        "\n",
        "1. Tavily Search - aka \"Google\", for the most up to date information possible.\n",
        "2. Our RAG chain - specific and high quality information about our topic.\n",
        "\n",
        "Let's create those tools now!"
      ]
    },
    {
      "cell_type": "markdown",
      "metadata": {
        "id": "VNsVTZrH_alw"
      },
      "source": [
        "### Tool Creation\n",
        "\n",
        "As you can see below, some tools already come pre-packaged ready to use!"
      ]
    },
    {
      "cell_type": "code",
      "execution_count": 23,
      "metadata": {
        "id": "ce7FKTZDgAWG"
      },
      "outputs": [],
      "source": [
        "from langchain_community.tools.tavily_search import TavilySearchResults\n",
        "\n",
        "tavily_tool = TavilySearchResults(max_results=5)"
      ]
    },
    {
      "cell_type": "markdown",
      "metadata": {
        "id": "NIR7cbTL9agM"
      },
      "source": [
        "Creating a custom tool, however, is very straightforward.\n",
        "\n",
        "> NOTE: You *must* include a docstring, as that is what the LLM will consider when deciding when to use this tool."
      ]
    },
    {
      "cell_type": "code",
      "execution_count": 24,
      "metadata": {
        "id": "sSwO2L_UqFhm"
      },
      "outputs": [],
      "source": [
        "from typing import Annotated, List, Tuple, Union\n",
        "from langchain_core.tools import tool\n",
        "\n",
        "# 😀 Convert a chain into a tool \n",
        "@tool\n",
        "def retrieve_information(\n",
        "    query: Annotated[str, \"query to ask the retrieve information tool\"]\n",
        "    )-> Annotated[str, \"answer to the query\"]: \n",
        "  \"\"\"Use Retrieval Augmented Generation to retrieve information about the 'Extending Llama-3’s Context Ten-Fold Overnight' paper.\"\"\"\n",
        "  return rag_chain.invoke({\"question\" : query})"
      ]
    },
    {
      "cell_type": "markdown",
      "metadata": {
        "id": "nxsMnqjpBTCj"
      },
      "source": [
        "> NOTE: We could just as easily use the LCEL chain directly, since nodes can be LCEL objects - but creating a tool helps explain the tool creation process at the same time."
      ]
    },
    {
      "cell_type": "markdown",
      "metadata": {
        "id": "oDHCajO4_gB2"
      },
      "source": [
        "### Research Team State\n",
        "\n",
        "Since we're using LangGraph - we're going to need state!\n",
        "\n",
        "Let's look at how we've created our state below."
      ]
    },
    {
      "cell_type": "code",
      "execution_count": 25,
      "metadata": {
        "id": "mXminK9d_1fa"
      },
      "outputs": [],
      "source": [
        "import functools\n",
        "import operator\n",
        "\n",
        "from langchain_core.messages import AIMessage, BaseMessage, HumanMessage\n",
        "from langchain_openai.chat_models import ChatOpenAI\n",
        "import functools\n",
        "from langgraph.graph.message import add_messages\n",
        "\n",
        "class ResearchTeamState(TypedDict):\n",
        "    messages_for_research_team: Annotated[List[BaseMessage], add_messages] # 😀 Modified the name\n",
        "    team_members: List[str]\n",
        "    next: str"
      ]
    },
    {
      "cell_type": "markdown",
      "metadata": {
        "id": "fvPM5msq_18C"
      },
      "source": [
        "Notice how we've used `messages`, `team_members`, and `next`.\n",
        "\n",
        "These states will help us understand:\n",
        "\n",
        "1. What we've done so far (`messages`)\n",
        "2. Which team members we have access to (`team_members`)\n",
        "3. Which team member is up next! (`next`)"
      ]
    },
    {
      "cell_type": "markdown",
      "metadata": {
        "id": "Mu7B_6qHAFjK"
      },
      "source": [
        "### Research Team LLM\n",
        "\n",
        "We'll be using `gpt-4-turbo` today. This LLM is going to be doing a lot of reasoning - and so using a \"powerful\" LLM is very important here!"
      ]
    },
    {
      "cell_type": "code",
      "execution_count": 26,
      "metadata": {
        "id": "dTNqrip8AcKR"
      },
      "outputs": [],
      "source": [
        "llm = ChatOpenAI(model=\"gpt-4-turbo\")"
      ]
    },
    {
      "cell_type": "markdown",
      "metadata": {
        "id": "pfb_VCNKIy9w"
      },
      "source": [
        "##### ❓ Question #1:\n",
        "\n",
        "Why is a \"powerful\" LLM important for this use-case?\n",
        "\n",
        "What tasks must our Agent perform that make it such that the LLM's reasoning capability is a potential limiter?"
      ]
    },
    {
      "cell_type": "markdown",
      "metadata": {},
      "source": [
        "##### 😀😀😀 Answer to Qeustion #1\n",
        "\n",
        "Agent does its job based on 'routing' and 'cycle' where routing refers to selecting what is next.\n",
        "\n",
        "If routing is not of very high quality, the agent can't make good use of the output from what's next.\n",
        "\n",
        "It might lead either a poor final response of the agent or unnecessary cycling.\n",
        "\n",
        "This is why it would be better to adopt a more powerful llm for routing."
      ]
    },
    {
      "cell_type": "markdown",
      "metadata": {
        "id": "ZR_1LuMKAekf"
      },
      "source": [
        "### Research Team Agents & Nodes\n",
        "\n",
        "Now we can use our helper functions to create our agent nodes, with their related tools.\n",
        "\n",
        "Let's start with our search agent node."
      ]
    },
    {
      "cell_type": "markdown",
      "metadata": {
        "id": "uzx6wuPoAlPq"
      },
      "source": [
        "#### Research Team: Search Agent\n",
        "\n",
        "We're going to give our agent access to the Tavily tool, power it with our GPT-4 Turbo model, and then create its node - and name it `Search`."
      ]
    },
    {
      "cell_type": "code",
      "execution_count": 39,
      "metadata": {
        "id": "FIlLPxj7Atpj"
      },
      "outputs": [],
      "source": [
        "search_agent = get_member(\n",
        "    team = 'ResearchTeam', \n",
        "    name = 'Search',\n",
        "    llm = ChatOpenAI(model=\"gpt-4-turbo\", name='SearchLLM').with_config({'run_name':\"[SearchLLM]\"}), \n",
        "    tools = [tavily_tool],\n",
        "    system_prompt = \"You are a research assistant who can search for up-to-date info using the tavily search engine.\",\n",
        ")\n",
        "\n",
        "search_node = functools.partial(member_node, team='ResearchTeam', member=search_agent, name=\"Search\")"
      ]
    },
    {
      "cell_type": "markdown",
      "metadata": {
        "id": "emLtesudA9Dd"
      },
      "source": [
        "#### Research Team: RAG Agent Node\n",
        "\n",
        "Now we can wrap our LCEL RAG pipeline in an agent node as well, using the LCEL RAG pipeline as the tool, as created above."
      ]
    },
    {
      "cell_type": "code",
      "execution_count": 40,
      "metadata": {
        "id": "z-nnAG9XA_p7"
      },
      "outputs": [],
      "source": [
        "rag_agent = get_member(\n",
        "    team = 'ResearchTeam', \n",
        "    name = 'PaperInformationRetriever',\n",
        "    llm = ChatOpenAI(model=\"gpt-4-turbo\", name='PaperInformationRetrieverLLM').with_config({'run_name':\"[PaperInformationRetrieverLLM]\"}), \n",
        "    tools = [retrieve_information],\n",
        "    system_prompt = \"You are a research assistant who can provide specific information on the provided paper: 'Extending Llama-3’s Context Ten-Fold Overnight'. You must only respond with information about the paper related to the request.\",\n",
        ")\n",
        "\n",
        "PaperInformationRetriever_node = functools.partial(member_node, team='ResearchTeam', member=rag_agent, name=\"PaperInformationRetriever\")"
      ]
    },
    {
      "cell_type": "markdown",
      "metadata": {
        "id": "dA5z6T1CBeSc"
      },
      "source": [
        "### Research Team Supervisor Agent\n",
        "\n",
        "Notice that we're not yet creating our supervisor *node*, simply the agent here.\n",
        "\n",
        "Also notice how we need to provide a few extra pieces of information - including which tools we're using.\n",
        "\n",
        "> NOTE: It's important to use the *exact* tool name, as that is how the LLM will reference the tool. Also, it's important that your tool name is all a single alphanumeric string!\n",
        "\n"
      ]
    },
    {
      "cell_type": "code",
      "execution_count": 41,
      "metadata": {
        "id": "J0g8CQMBrtFs"
      },
      "outputs": [],
      "source": [
        "# 😀 I added [REMEMBER]~~ to the system_prompt \n",
        "\n",
        "ResearchTeamSupervisor_node = get_supervisor(\n",
        "    team=\"ResearchTeam\",\n",
        "    team_members=[\"Search\", \"PaperInformationRetriever\"],\n",
        "    llm=ChatOpenAI(model=\"gpt-4-turbo\", name='ResearchTeamSupervisor_LLM').with_config({'run_name':\"[ResearchTeamSupervisor_LLM]\"}),\n",
        "    system_prompt=(\"You are a supervisor of tasked with managing a conversation between the\"\n",
        "    \" following workers:  {team_members}. Given the following user request,\"\n",
        "    \" determine the subject to be researched and respond with the worker to act next. Each worker will perform a\"\n",
        "    \" task and respond with their results and status. \"\n",
        "    \" You should never ask your team to do anything beyond research. They are not required to write content or posts.\"\n",
        "    \" You should only pass tasks to workers that are specifically research focused.\"\n",
        "    \" When finished, respond with FINISH.\"\n",
        "    \"[REMEMBER] You should ask all of your team members to do their job at least once before finishing.\"\n",
        "    ),\n",
        ")"
      ]
    },
    {
      "cell_type": "markdown",
      "metadata": {
        "id": "qohn0DcgB_U1"
      },
      "source": [
        "### Research Team Graph Creation\n",
        "\n",
        "Now that we have our research team agent nodes created, and our supervisor agent - let's finally construct our graph!\n",
        "\n",
        "We'll start by creating our base graph from our state, and then adding the nodes/agent we've created as nodes on our LangGraph."
      ]
    },
    {
      "cell_type": "code",
      "execution_count": 42,
      "metadata": {
        "id": "p0s2GAgJCN8G"
      },
      "outputs": [],
      "source": [
        "research_graph = StateGraph(ResearchTeamState)\n",
        "\n",
        "# 😀 supervisor \n",
        "research_graph.add_node(\"ResearchTeamSupervisor\", ResearchTeamSupervisor_node)  \n",
        "\n",
        "# 😀 agents\n",
        "research_graph.add_node(\"Search\", search_node)\n",
        "research_graph.add_node(\"PaperInformationRetriever\", PaperInformationRetriever_node)\n"
      ]
    },
    {
      "cell_type": "markdown",
      "metadata": {
        "id": "33qixRGNCaAX"
      },
      "source": [
        "Now we can define our edges - include our conditional edge from our supervisor to our agent nodes.\n",
        "\n",
        "Notice how we're always routing our agent nodes back to our supervisor!"
      ]
    },
    {
      "cell_type": "code",
      "execution_count": 43,
      "metadata": {
        "id": "yYSJIhijsGyg"
      },
      "outputs": [],
      "source": [
        "research_graph.add_edge(\"Search\", \"ResearchTeamSupervisor\")\n",
        "research_graph.add_edge(\"PaperInformationRetriever\", \"ResearchTeamSupervisor\")\n",
        "research_graph.add_conditional_edges(\n",
        "    \"ResearchTeamSupervisor\",\n",
        "    lambda x: x[\"next\"],\n",
        "    {\"Search\": \"Search\", \"PaperInformationRetriever\": \"PaperInformationRetriever\", \"FINISH\": END},\n",
        ")"
      ]
    },
    {
      "cell_type": "markdown",
      "metadata": {
        "id": "hgGcuZzkCj1-"
      },
      "source": [
        "Now we can set our supervisor node as the entry point, and compile our graph!"
      ]
    },
    {
      "cell_type": "markdown",
      "metadata": {},
      "source": [
        "##### 😀😀😀 Let's equip our graph with memory\n",
        "[reference](https://langchain-ai.github.io/langgraph/reference/checkpoints/)"
      ]
    },
    {
      "cell_type": "code",
      "execution_count": 44,
      "metadata": {},
      "outputs": [],
      "source": [
        "import sqlite3\n",
        "from langgraph.checkpoint.sqlite import SqliteSaver\n",
        "\n",
        "connect = sqlite3.connect(\":memory:\", check_same_thread=False)\n",
        "checkpointer = SqliteSaver(connect)"
      ]
    },
    {
      "cell_type": "code",
      "execution_count": 45,
      "metadata": {
        "id": "1l-1I2Z3CnPX"
      },
      "outputs": [],
      "source": [
        "research_graph.set_entry_point(\"ResearchTeamSupervisor\")\n",
        "research_graph = research_graph.compile(checkpointer=checkpointer).with_config({'run_name': '[ResarchTeamGraph]' }) # 😀 add checkpointer!!!"
      ]
    },
    {
      "cell_type": "markdown",
      "metadata": {
        "id": "GDwQpYTSEY13"
      },
      "source": [
        "#### Display Graph"
      ]
    },
    {
      "cell_type": "code",
      "execution_count": null,
      "metadata": {
        "id": "pzRE5ldzFlLQ"
      },
      "outputs": [],
      "source": [
        "# !pip install -qU python_mermaid"
      ]
    },
    {
      "cell_type": "code",
      "execution_count": 46,
      "metadata": {
        "colab": {
          "base_uri": "https://localhost:8080/",
          "height": 423
        },
        "id": "l8n6SXhpEa2b",
        "outputId": "7bdb0c10-9bfe-4b5b-a812-0b01ba66dda9"
      },
      "outputs": [
        {
          "data": {
            "image/jpeg": "[encoded data removed]",
            "text/plain": [
              "<IPython.core.display.Image object>"
            ]
          },
          "metadata": {},
          "output_type": "display_data"
        }
      ],
      "source": [
        "from IPython.display import Image, display\n",
        "\n",
        "try:\n",
        "    display(Image(research_graph.get_graph(xray=True).draw_mermaid_png()))\n",
        "except:\n",
        "    pass"
      ]
    },
    {
      "cell_type": "markdown",
      "metadata": {
        "id": "bfRvA2QfCqFL"
      },
      "source": [
        "The next part is key - since we need to \"wrap\" our LangGraph in order for it to be compatible in the following steps - let's create an LCEL chain out of it!\n",
        "\n",
        "This allows us to \"broadcast\" messages down to our Research Team LangGraph!"
      ]
    },
    {
      "cell_type": "markdown",
      "metadata": {},
      "source": [
        "##### 😀😀😀 Looking at 'enter_chain' function below, we can see that Research Team does not see other messages coming from outside of itself at all ('messages' is initialized from the input message string.)"
      ]
    },
    {
      "cell_type": "code",
      "execution_count": 47,
      "metadata": {
        "id": "1G7hmEINCx3i"
      },
      "outputs": [],
      "source": [
        "from langchain_core.runnables import RunnableLambda\n",
        "\n",
        "\n",
        "def enter_chain(message: str):\n",
        "    input_to_graph = {\n",
        "        \"messages_for_research_team\": [HumanMessage(content=message)],\n",
        "        \"team_members\": \", \".join([node for node in research_graph.nodes if node not in [ '__start__', 'ResearchTeamSupervisor']] ),\n",
        "    }\n",
        "    return input_to_graph\n",
        "\n",
        "\n",
        "research_e2e_chain = RunnableLambda(enter_chain).with_config({'run_name':'[PreludeToGraph]'}) | research_graph\n",
        "research_e2e_chain = research_e2e_chain.with_config({'run_name':'[ResearchTeamE2EChain]'})"
      ]
    },
    {
      "cell_type": "markdown",
      "metadata": {
        "id": "EGdoCdXWC7Pi"
      },
      "source": [
        "Now, finally, we can take it for a spin!"
      ]
    },
    {
      "cell_type": "code",
      "execution_count": 48,
      "metadata": {
        "colab": {
          "base_uri": "https://localhost:8080/"
        },
        "id": "xIDpFIg2sRUl",
        "outputId": "8cf7eb77-d6bb-4646-b45d-35c04cbd3cbe"
      },
      "outputs": [
        {
          "name": "stdout",
          "output_type": "stream",
          "text": [
            "{'ResearchTeamSupervisor': {'next': 'Search'}}\n",
            "---\n",
            "{'Search': {'messages_for_research_team': [HumanMessage(content='The main takeaways from the paper \"Extending Llama-3\\'s Context Ten-Fold Overnight\" are as follows:\\n\\n1. **Context Extension**: The paper reports on the successful extension of the context length of the Llama-3-8B-Instruct model from 8,000 tokens to 80,000 tokens. This was achieved through a technique called QLoRA fine-tuning.\\n\\n2. **Efficiency of Training**: The training process described in the paper was highly efficient, completing within just 8 hours using a single machine equipped with 8xA800 (80G) GPUs.\\n\\n3. **Performance**: Despite the significant increase in context length, the resulting model maintained decent performance on tasks involving long contexts.\\n\\nThis research demonstrates a significant advancement in the capabilities of language models, particularly in handling much longer contexts than previously possible, which can greatly enhance their utility in real-world applications.', name='Search')]}}\n",
            "---\n",
            "{'ResearchTeamSupervisor': {'next': 'PaperInformationRetriever'}}\n",
            "---\n",
            "{'PaperInformationRetriever': {'messages_for_research_team': [HumanMessage(content='The main takeaways from the paper \"Extending Llama-3’s Context Ten-Fold Overnight\" include the following points:\\n\\n1. **Context Extension**: The Llama-3-8B-Instruct model\\'s context length was successfully extended from 8,000 tokens to 80,000 tokens through QLoRA fine-tuning, significantly expanding its ability to handle longer contexts.\\n\\n2. **Efficiency of Training**: The training was completed in just 8 hours using a single machine equipped with 8xA800 (80G) GPUs, demonstrating a highly efficient process.\\n\\n3. **Performance**: The extended model maintains robust performance on tasks requiring long contexts, and has shown improvements across various benchmarks including NIHS, topic retrieval, and long-context language understanding.\\n\\n4. **Use of Synthetic Data**: The enhancement was partly achieved using 3.5K synthetic training samples generated by GPT-4, highlighting the potential of large language models in extending context lengths.\\n\\n5. **Dataset Composition**: The training set included a mix of data from RedPajama and LongAlpaca, which helps in preventing the forgetting of previous capabilities and enhances performance.\\n\\n6. **Details on QLoRA Fine-Tuning**: The paper provides specifics on the QLoRA fine-tuning methodology, including model architecture adjustments and training parameters.\\n\\n7. **Comparative Analysis**: The paper compares their model\\'s zero-shot performance with other models, noting that while the extended context models do not outperform the original Llama-3-8B-Instruct in shorter contexts, they still fare better than similar scale open-source models.\\n\\n8. **Future Implications**: The research suggests that with more computational resources, it might be possible to push context lengths even beyond 80,000 tokens.\\n\\n9. **Resource Release**: The research team intends to release all related resources publicly, including the data, model, data generation pipeline, and training code.\\n\\nThis paper presents a significant advancement in the capabilities of language models to handle extended contexts efficiently while maintaining or improving performance across various challenging tasks.', name='PaperInformationRetriever')]}}\n",
            "---\n",
            "{'ResearchTeamSupervisor': {'next': 'FINISH'}}\n",
            "---\n"
          ]
        }
      ],
      "source": [
        "# 😀 Slightly modified. \n",
        "\n",
        "thread_info = {'configurable': {'thread_id': 'Research_checkpoint_1'}} # 😀 this is for a checkpoint!!\n",
        "\n",
        "\n",
        "for s in research_e2e_chain.stream(\n",
        "    \"What are the main takeaways from the paper `Extending Llama-3's Context Ten-Fold Overnight'? Please use both Search and PaperInformationRetriever!\", config={\"recursion_limit\": 100, **thread_info}\n",
        "):  \n",
        "    if \"__end__\" not in s:\n",
        "        print(s)\n",
        "        print(\"---\")\n"
      ]
    },
    {
      "cell_type": "markdown",
      "metadata": {},
      "source": [
        "##### 😀😀😀 Let's take a look at our state stored as a checkpoint!!"
      ]
    },
    {
      "cell_type": "code",
      "execution_count": 49,
      "metadata": {},
      "outputs": [
        {
          "data": {
            "text/plain": [
              "{'messages_for_research_team': [HumanMessage(content=\"What are the main takeaways from the paper `Extending Llama-3's Context Ten-Fold Overnight'? Please use both Search and PaperInformationRetriever!\", id='7ea1eaaa-3bc6-47b4-b643-cdde0f49b040'),\n",
              "  HumanMessage(content='The main takeaways from the paper \"Extending Llama-3\\'s Context Ten-Fold Overnight\" are as follows:\\n\\n1. **Context Extension**: The paper reports on the successful extension of the context length of the Llama-3-8B-Instruct model from 8,000 tokens to 80,000 tokens. This was achieved through a technique called QLoRA fine-tuning.\\n\\n2. **Efficiency of Training**: The training process described in the paper was highly efficient, completing within just 8 hours using a single machine equipped with 8xA800 (80G) GPUs.\\n\\n3. **Performance**: Despite the significant increase in context length, the resulting model maintained decent performance on tasks involving long contexts.\\n\\nThis research demonstrates a significant advancement in the capabilities of language models, particularly in handling much longer contexts than previously possible, which can greatly enhance their utility in real-world applications.', name='Search', id='9e9a3863-75e5-4aa5-95b7-6ddf1b4ddfb8'),\n",
              "  HumanMessage(content='The main takeaways from the paper \"Extending Llama-3’s Context Ten-Fold Overnight\" include the following points:\\n\\n1. **Context Extension**: The Llama-3-8B-Instruct model\\'s context length was successfully extended from 8,000 tokens to 80,000 tokens through QLoRA fine-tuning, significantly expanding its ability to handle longer contexts.\\n\\n2. **Efficiency of Training**: The training was completed in just 8 hours using a single machine equipped with 8xA800 (80G) GPUs, demonstrating a highly efficient process.\\n\\n3. **Performance**: The extended model maintains robust performance on tasks requiring long contexts, and has shown improvements across various benchmarks including NIHS, topic retrieval, and long-context language understanding.\\n\\n4. **Use of Synthetic Data**: The enhancement was partly achieved using 3.5K synthetic training samples generated by GPT-4, highlighting the potential of large language models in extending context lengths.\\n\\n5. **Dataset Composition**: The training set included a mix of data from RedPajama and LongAlpaca, which helps in preventing the forgetting of previous capabilities and enhances performance.\\n\\n6. **Details on QLoRA Fine-Tuning**: The paper provides specifics on the QLoRA fine-tuning methodology, including model architecture adjustments and training parameters.\\n\\n7. **Comparative Analysis**: The paper compares their model\\'s zero-shot performance with other models, noting that while the extended context models do not outperform the original Llama-3-8B-Instruct in shorter contexts, they still fare better than similar scale open-source models.\\n\\n8. **Future Implications**: The research suggests that with more computational resources, it might be possible to push context lengths even beyond 80,000 tokens.\\n\\n9. **Resource Release**: The research team intends to release all related resources publicly, including the data, model, data generation pipeline, and training code.\\n\\nThis paper presents a significant advancement in the capabilities of language models to handle extended contexts efficiently while maintaining or improving performance across various challenging tasks.', name='PaperInformationRetriever', id='d0e5821b-063b-412e-b123-e2f8d5ba1b86')],\n",
              " 'team_members': 'Search, PaperInformationRetriever',\n",
              " 'next': 'FINISH'}"
            ]
          },
          "execution_count": 49,
          "metadata": {},
          "output_type": "execute_result"
        }
      ],
      "source": [
        "lateset_state = research_graph.get_state(thread_info).values\n",
        "\n",
        "lateset_state"
      ]
    },
    {
      "cell_type": "markdown",
      "metadata": {
        "id": "DHAgsbwIIhwj"
      },
      "source": [
        "##### 🏗️ Activity #2:\n",
        "\n",
        "Using whatever drawing application you wish - please label the flow above on a diagram of your graph."
      ]
    },
    {
      "cell_type": "markdown",
      "metadata": {},
      "source": [
        "### 😀 Activity #2\n",
        "\n",
        "![ls](collapsed_langsmith.png)\n",
        "![flow](flow.png)"
      ]
    },
    {
      "cell_type": "markdown",
      "metadata": {
        "id": "eH70eHGlJbq4"
      },
      "source": [
        "##### ❓ Question #2:\n",
        "\n",
        "How could you make sure your Agent uses specific tools that you wish it to use? Are there any ways to concretely set a flow through tools?"
      ]
    },
    {
      "cell_type": "markdown",
      "metadata": {},
      "source": [
        "### 😀 Answer to Question #2\n",
        "\n",
        "One thing I found challenging is that sometimes 'supervisor' calls only one agent (either 'Search' or 'RAG'). In order to keep if from doing so, I added a single word 'both' to the system prompt for 'supervisor'.\\\n",
        "Instead of \"Please use Search and PaperInformationRetriever!\", I passed in \"Please use **'both'** Search and PaperInformationRetriever!\". In that way, I could see 'supervisor' call both agents more. "
      ]
    },
    {
      "cell_type": "markdown",
      "metadata": {
        "id": "ejsHCZZ2EmwM"
      },
      "source": [
        "## Document Writing Team - A LangGraph for Writing, Editing, and Planning a LinkedIn post.\n",
        "\n",
        "Let's run it all back, this time specifically creating tools, agent nodes, and a graph for planning, writing, and editing a LinkedIn post!"
      ]
    },
    {
      "cell_type": "markdown",
      "metadata": {
        "id": "4awQtZ-oFUN-"
      },
      "source": [
        "### Tool Creation\n",
        "\n",
        "Let's create some tools that will help us understand, open, work with, and edit documents to our liking!"
      ]
    },
    {
      "cell_type": "code",
      "execution_count": 85,
      "metadata": {
        "id": "ptXilgparOkq"
      },
      "outputs": [],
      "source": [
        "from pathlib import Path\n",
        "from tempfile import TemporaryDirectory\n",
        "from typing import Dict, Optional\n",
        "from typing_extensions import TypedDict\n",
        "import uuid\n",
        "import os\n",
        "\n",
        "os.makedirs('data', exist_ok=True)\n",
        "\n",
        "# 😀 generates a new subdirectory within the 'data' directory, named using the first 8 characters of a UUID, and ensures its creation if it doesn't already exist.\n",
        "def create_random_subdirectory():\n",
        "    random_id = str(uuid.uuid4())[:8]  # Use first 8 characters of a UUID\n",
        "    subdirectory_path = os.path.join('data', random_id)\n",
        "    os.makedirs(subdirectory_path, exist_ok=True)\n",
        "    return subdirectory_path\n",
        "WORKING_DIRECTORY = Path(create_random_subdirectory())\n",
        "\n",
        "\n",
        "# 😀 takes a list of main points and a file path, writes the points as a numbered outline to the specified file, and returns a confirmation message with the file path.\n",
        "@tool\n",
        "def create_outline(\n",
        "    points: Annotated[List[str], \"List of main points or sections.\"],\n",
        "    file_name: Annotated[str, \"File path to save the outline.\"],\n",
        ") -> Annotated[str, \"Path of the saved outline file.\"]:\n",
        "    \"\"\"Create and save an outline.\"\"\"\n",
        "    with (WORKING_DIRECTORY / file_name).open(\"w\") as file:\n",
        "        for i, point in enumerate(points):\n",
        "            file.write(f\"{i + 1}. {point}\\n\")\n",
        "    return f\"Outline saved to {file_name}\"\n",
        "\n",
        "\n",
        "# 😀 reads a specified document from a given file path, optionally from a specified start line to an end line, and returns the content as a single string.\n",
        "@tool\n",
        "def read_document(\n",
        "    file_name: Annotated[str, \"File path to load the document.\"],  # 😀 Correct a type: save -> load\n",
        "    start: Annotated[Optional[int], \"The start line. Default is 0\"] = None,\n",
        "    end: Annotated[Optional[int], \"The end line. Default is None\"] = None,\n",
        ") -> str:\n",
        "    \"\"\"Read the specified document.\"\"\"\n",
        "    with (WORKING_DIRECTORY / file_name).open(\"r\") as file:\n",
        "        lines = file.readlines()\n",
        "    if start is not None:\n",
        "        start = 0\n",
        "    return \"\\n\".join(lines[start:end])\n",
        "\n",
        "\n",
        "@tool\n",
        "# 😀 writes a given string of content to a specified file path, creating the file if it does not exist and overwriting it if it does.\n",
        "def write_document(\n",
        "    content: Annotated[str, \"Text content to be written into the document.\"],\n",
        "    file_name: Annotated[str, \"File path to save the document.\"],\n",
        ") -> Annotated[str, \"Path of the saved document file.\"]:\n",
        "    \"\"\"Create and save a text document.\"\"\"\n",
        "    with (WORKING_DIRECTORY / file_name).open(\"w\") as file:\n",
        "        file.write(content)\n",
        "    return f\"Document saved to {file_name}\"\n",
        "\n",
        "\n",
        "@tool\n",
        "# 😀 modifies the content of a specified document by applying a series of edits, such as insertions, deletions, or replacements.\n",
        "def edit_document(\n",
        "    file_name: Annotated[str, \"Path of the document to be edited.\"],\n",
        "    inserts: Annotated[\n",
        "        Dict[int, str],\n",
        "        \"Dictionary where key is the line number (1-indexed) and value is the text to be inserted at that line.\",\n",
        "    ] = {},\n",
        ") -> Annotated[str, \"Path of the edited document file.\"]:\n",
        "    \"\"\"Edit a document by inserting text at specific line numbers.\"\"\"\n",
        "\n",
        "    with (WORKING_DIRECTORY / file_name).open(\"r\") as file:\n",
        "        lines = file.readlines()\n",
        "\n",
        "    sorted_inserts = sorted(inserts.items())\n",
        "\n",
        "    for line_number, text in sorted_inserts:\n",
        "        if 1 <= line_number <= len(lines) + 1:\n",
        "            lines.insert(line_number - 1, text + \"\\n\")\n",
        "        else:\n",
        "            return f\"Error: Line number {line_number} is out of range.\"\n",
        "\n",
        "    with (WORKING_DIRECTORY / file_name).open(\"w\") as file:\n",
        "        file.writelines(lines)\n",
        "\n",
        "    return f\"Document edited and saved to {file_name}\""
      ]
    },
    {
      "cell_type": "markdown",
      "metadata": {
        "id": "n8yH1IAYK7nL"
      },
      "source": [
        "##### 🏗️ Activity #3:\n",
        "\n",
        "Describe, briefly, what each of these tools is doing in your own words."
      ]
    },
    {
      "cell_type": "markdown",
      "metadata": {},
      "source": [
        "##### 😀😀😀 Activity #3\n",
        "- create_random_subdirectory(): [Just a helper function] Generates a new subdirectory within the 'data' directory, named using the first 8 characters of a UUID, and ensures its creation if it doesn't already exist.\n",
        "- create_outline(): [Used as a tool for an agent] Takes a list of main points from and a file path from `**llm**`, writes the points as a numbered outline to the specified file, and returns a confirmation message with the file path.\n",
        "- read_document(): [Used as a tool for an agent] Reads a specified document from a given file path, optionally from a specified start line to an end line, and returns the content as a single string. Maybe it will be taken by `**llm**`\n",
        "- write_document(): [Used as a tool for an agent] Writes a given string of content passed from `**llm**` to a specified file path, creating the file if it does not exist and overwriting it if it does.\n",
        "- edit_document(): [Used as a tool for an agent] Reads a specified document from a given file path, modifies the content of a specified document by applying a series of edits, such as insertions, deletions, or replacements from `**llm**`."
      ]
    },
    {
      "cell_type": "markdown",
      "metadata": {
        "id": "__Jw_XBIFwwa"
      },
      "source": [
        "### Document Writing State\n",
        "\n",
        "Just like with our Research Team state - we want to keep track of a few things, however this time - we also want to keep track of which files we've created - so let's add that here!"
      ]
    },
    {
      "cell_type": "code",
      "execution_count": 86,
      "metadata": {
        "id": "DoU2YwJRu7wD"
      },
      "outputs": [],
      "source": [
        "import operator\n",
        "from pathlib import Path\n",
        "\n",
        "class DocWritingState(TypedDict):\n",
        "    messages_for_document_team: Annotated[List[BaseMessage], add_messages] # 😀 modified the key from messages to messages_for_writing_team, # 😀 this state is updated by appending\n",
        "    per_member_messages_for_document_team: Annotated[List[BaseMessage], add_messages] # 😀 Added this state for context efficiency!!!\n",
        "    team_members: str # 😀 this state is updated by overwriting\n",
        "    next: str # 😀 this state is updated by overwriting\n",
        "    current_files: str # 😀 this state is updated by overwriting"
      ]
    },
    {
      "cell_type": "code",
      "execution_count": 87,
      "metadata": {
        "id": "G79mUggQGLVq"
      },
      "outputs": [],
      "source": [
        "# 😀 prelude() is used as kind of 'entrypoint' for each agent node since any agent node in LangGraph takes in a dictionary (state) as the input.  \n",
        "\n",
        "def prelude(state):\n",
        "    written_files = []\n",
        "    if not WORKING_DIRECTORY.exists():\n",
        "        WORKING_DIRECTORY.mkdir()\n",
        "    try:\n",
        "        written_files = [\n",
        "            f.relative_to(WORKING_DIRECTORY) for f in WORKING_DIRECTORY.rglob(\"*\")\n",
        "        ]\n",
        "    except:\n",
        "        pass\n",
        "    state['per_member_messages_for_document_team'] = [state['messages_for_document_team'][0].copy(deep=True)]\n",
        "    if not written_files: \n",
        "        return {**state, \"current_files\": \"No files written.\\n\\n\"}   # 😀 the state 'current_files' is updated to \"No files written.\" \n",
        "    return {\n",
        "        **state,\n",
        "        \"current_files\": \"\\nBelow are files your team has written to the directory:\\n\"\n",
        "        + \"\\n\".join([f\" - {f}\" for f in written_files])+ '\\n\\n', # 😀 the state 'current_files' is updated to the concatenated string listing the file paths.\n",
        "    }"
      ]
    },
    {
      "cell_type": "markdown",
      "metadata": {
        "id": "wbSre9agT9Gb"
      },
      "source": [
        "### Document Writing Node Creation\n",
        "\n"
      ]
    },
    {
      "cell_type": "code",
      "execution_count": 88,
      "metadata": {
        "id": "v7oso327T_wa"
      },
      "outputs": [
        {
          "data": {
            "text/plain": [
              "RunnableBinding(bound=RunnableBinding(bound=ChatPromptTemplate(input_variables=['messages_for_research_team', 'team_members'], input_types={'messages_for_research_team': typing.List[typing.Union[langchain_core.messages.ai.AIMessage, langchain_core.messages.human.HumanMessage, langchain_core.messages.chat.ChatMessage, langchain_core.messages.system.SystemMessage, langchain_core.messages.function.FunctionMessage, langchain_core.messages.tool.ToolMessage]]}, partial_variables={'options': \"['FINISH', 'Search', 'PaperInformationRetriever']\"}, messages=[SystemMessagePromptTemplate(prompt=PromptTemplate(input_variables=['team_members'], template='You are a supervisor of tasked with managing a conversation between the following workers:  {team_members}. Given the following user request, determine the subject to be researched and respond with the worker to act next. Each worker will perform a task and respond with their results and status.  You should never ask your team to do anything beyond research. They are not required to write content or posts. You should only pass tasks to workers that are specifically research focused. When finished, respond with FINISH.[REMEMBER] You should ask all of your team members to do their job at least once before finishing.')), MessagesPlaceholder(variable_name='messages_for_research_team'), SystemMessagePromptTemplate(prompt=PromptTemplate(input_variables=['options'], template='Given the conversation above, who should act next? Or should we FINISH? Select one of: {options}'))]), config={'run_name': '[ResearchTeamSupervisorPrompt]'})\n",
              "| RunnableBinding(bound=ChatOpenAI(name='ResearchTeamSupervisor_LLM', client=<openai.resources.chat.completions.Completions object at 0x7f539be703d0>, async_client=<openai.resources.chat.completions.AsyncCompletions object at 0x7f539bea1c10>, root_client=<openai.OpenAI object at 0x7f539be4c950>, root_async_client=<openai.AsyncOpenAI object at 0x7f539be70110>, model_name='gpt-4-turbo', openai_api_key=SecretStr('**********'), openai_proxy=''), kwargs={'functions': [{'name': 'route', 'description': 'Select the next role.', 'parameters': {'title': 'routeSchema', 'type': 'object', 'properties': {'next': {'title': 'Next', 'anyOf': [{'enum': ['FINISH', 'Search', 'PaperInformationRetriever']}]}}, 'required': ['next']}}], 'function_call': {'name': 'route'}})\n",
              "| JsonOutputFunctionsParser(), config={'run_name': '[ResearchTeamSupervisorChain]'})"
            ]
          },
          "execution_count": 88,
          "metadata": {},
          "output_type": "execute_result"
        }
      ],
      "source": [
        "# 😀 doc_writing_node, system_prompt has been tweaked.\n",
        "doc_writer_agent = get_member(\n",
        "    team='DocumentTeam',\n",
        "    name='DocWriter',\n",
        "    llm=ChatOpenAI(model=\"gpt-4-turbo\", name=\"DocWriterLLM\").with_config({'run_name':\"DocWriterLLM\"}),\n",
        "    tools = [write_document, edit_document, read_document], # 😀 Multiple tools to choose\n",
        "    system_prompt= (\"You are an expert writing technical LinkedIn posts.\"\n",
        "    \"\\n\\n{current_files}Your job consists of three steps.\\n\\n Step1) Read the *outline* file.\\nStep2) Write a draft for the LinkedIn post based on the outline.\\nStep3) After writing the post, save it as a new file.  File name must include 'draft_1'.\\n[REMEMBER] Never overwrite an existing file.\\n\"),\n",
        ")\n",
        "context_aware_doc_writer_agent = prelude | doc_writer_agent\n",
        "DocWriter_node = functools.partial(member_node, team='DocumentTeam', member=context_aware_doc_writer_agent, name=\"DocWriter\")\n",
        "\n",
        "# 😀 note_taking_node, system_prompt has been tweaked.\n",
        "note_taking_agent = get_member(\n",
        "    team='DocumentTeam',\n",
        "    name='NoteTaker',\n",
        "    llm=ChatOpenAI(model=\"gpt-4-turbo\", name=\"NoteTakerLLM\").with_config({'run_name':\"NoteTakerLLM\"}),\n",
        "    tools = [create_outline, read_document], \n",
        "    system_prompt= (\"You are an expert senior researcher tasked with writing a LinkedIn post outline and taking notes to craft a LinkedIn post based on given outline. \"\n",
        "    \"First read the document if exists, then do your job.\\n\\n{current_files}\\nAfter writing the outline, save it as a new file. File name must include 'outline'.\\n[REMEMBER] Never overwrite an existing file.\\n\"),\n",
        ")\n",
        "context_aware_note_taking_agent = prelude | note_taking_agent\n",
        "NoteTaker_node = functools.partial(member_node, team='DocumentTeam', member=context_aware_note_taking_agent, name=\"NoteTaker\")\n",
        "\n",
        "# 😀 copy_editing_node, system_prompt has been tweaked.\n",
        "copy_editor_agent = get_member(\n",
        "    team='DocumentTeam',\n",
        "    name='CopyEditor',\n",
        "    llm=ChatOpenAI(model=\"gpt-4-turbo\", name=\"CopyEditorLLM\").with_config({'run_name':\"CopyEditorLLM\"}),\n",
        "    tools = [write_document, edit_document, read_document], \n",
        "    system_prompt= (\"You are an expert copy editor who focuses on fixing grammar, spelling, and tone issues.\"\n",
        "    \"\\n\\n{current_files}Your job consists of three steps.\\n\\n Step1) Read the first draft (draft_1)\\nStep2) Edit it.\\n\\nAfter editing the document\\nStep3) After editing the post, save it as a new file. File name must include 'draft_2'.\\n\\n[REMEMBER] Never overwrite an existing file.\\n\"),\n",
        ")\n",
        "context_aware_copy_editor_agent = prelude | copy_editor_agent\n",
        "CopyEditor_node = functools.partial(member_node, team='DocumentTeam', member=context_aware_copy_editor_agent, name=\"CopyEditor\")\n",
        "\n",
        "# 😀 dopeness_node, system_prompt has been tweaked.\n",
        "dopeness_editor_agent = get_member(\n",
        "    team='DocumentTeam',\n",
        "    name='DopenessEditor',\n",
        "    llm=ChatOpenAI(model=\"gpt-4-turbo\", name=\"DopenessEditorLLM\").with_config({'run_name':\"DopenessEditorLLM\"}),\n",
        "    tools = [write_document, edit_document, read_document],\n",
        "    system_prompt= (\"You are an expert in dopeness, litness, coolness, etc - you edit the document to make sure it's dope.\"\n",
        "    \"\\n\\n{current_files}Your job consists of three steps.\\n\\n Step1) Read the second draft (draft_2)\\nStep2) Edit it. After editing the document.\\nStep3) After writing the post, save it as a new file. File name must include 'final_LinkIn_post'.\\n[REMEMBER] Never overwrite an existing file.\\n\"),\n",
        ")\n",
        "context_aware_dopeness_editor_agent = prelude | dopeness_editor_agent\n",
        "DopenessEditor_node = functools.partial(member_node, team='DocumentTeam', member=context_aware_dopeness_editor_agent, name=\"DopenessEditor\")\n",
        "\n",
        "# 😀 doc_writing_supervisor (I added [REMEMBER] ~~~ to the system prompt)\n",
        "DocumentTeamSupervisor_node = get_supervisor(\n",
        "    team='DocumentTeam',\n",
        "    team_members=[\"DocWriter\", \"NoteTaker\", \"CopyEditor\", \"DopenessEditor\"],\n",
        "    llm=ChatOpenAI(model=\"gpt-4-turbo\", name=\"DocumentTeamSupervisor\").with_config({'run_name':\"DocumentTeamSupervisor\"}),\n",
        "    system_prompt=(\"You are a supervisor tasked with managing a conversation between the\"\n",
        "    \" following workers: {team_members}. You should always verify the technical\"\n",
        "    \" contents after any edits are made. \"\n",
        "    \"Given the following user request,\"\n",
        "    \" respond with the worker to act next. Each worker will perform a\"\n",
        "    \" task and respond with their results and status. When each team is finished,\"\n",
        "    \" you must respond with FINISH.\"\n",
        "    \"[REMEMBER] You should ask for all of your team members to do their job before finishing in the following order [NoteTaker-> DocWriter-> CopyEditor->DopenessEditor].\"\n",
        "    ),\n",
        ")\n",
        "\n",
        "ResearchTeamSupervisor_node"
      ]
    },
    {
      "cell_type": "markdown",
      "metadata": {
        "id": "AUiNMpJBGXN0"
      },
      "source": [
        "### Document Writing Team LangGraph Construction\n",
        "\n",
        "This part is almost exactly the same (with a few extra nodes) as our Research Team LangGraph construction - so we'll leave it as one block!"
      ]
    },
    {
      "cell_type": "code",
      "execution_count": 89,
      "metadata": {
        "id": "Q6n8A1ytxVTv"
      },
      "outputs": [],
      "source": [
        "authoring_graph = StateGraph(DocWritingState)\n",
        "authoring_graph.add_node(\"DocWriter\", DocWriter_node)\n",
        "authoring_graph.add_node(\"NoteTaker\", NoteTaker_node)\n",
        "authoring_graph.add_node(\"CopyEditor\", CopyEditor_node)\n",
        "authoring_graph.add_node(\"DopenessEditor\", DopenessEditor_node)\n",
        "authoring_graph.add_node(\"DocumentTeamSupervisor\", DocumentTeamSupervisor_node)\n",
        "\n",
        "authoring_graph.add_edge(\"DocWriter\", \"DocumentTeamSupervisor\")\n",
        "authoring_graph.add_edge(\"NoteTaker\", \"DocumentTeamSupervisor\")\n",
        "authoring_graph.add_edge(\"CopyEditor\", \"DocumentTeamSupervisor\")\n",
        "authoring_graph.add_edge(\"DopenessEditor\", \"DocumentTeamSupervisor\")\n",
        "\n",
        "authoring_graph.add_conditional_edges(\n",
        "    \"DocumentTeamSupervisor\",\n",
        "    lambda x: x[\"next\"],\n",
        "    {\n",
        "        \"DocWriter\": \"DocWriter\",\n",
        "        \"NoteTaker\": \"NoteTaker\",\n",
        "        \"CopyEditor\" : \"CopyEditor\",\n",
        "        \"DopenessEditor\" : \"DopenessEditor\",\n",
        "        \"FINISH\": END,\n",
        "    },\n",
        ")\n",
        "\n",
        "authoring_graph.set_entry_point(\"DocumentTeamSupervisor\")\n",
        "authoring_graph = authoring_graph.compile(checkpointer=checkpointer).with_config({'run_name':'[DocumentTeamGraph]'})"
      ]
    },
    {
      "cell_type": "markdown",
      "metadata": {
        "id": "Zx-EKGkHKUBO"
      },
      "source": [
        "#### Display Graph"
      ]
    },
    {
      "cell_type": "code",
      "execution_count": 90,
      "metadata": {
        "colab": {
          "base_uri": "https://localhost:8080/",
          "height": 423
        },
        "id": "AZdOb3GZKSM7",
        "outputId": "74490792-5ba5-43fd-e28d-28c4740c52a8"
      },
      "outputs": [
        {
          "data": {
            "image/jpeg": "[encoded data removed]",
            "text/plain": [
              "<IPython.core.display.Image object>"
            ]
          },
          "metadata": {},
          "output_type": "display_data"
        }
      ],
      "source": [
        "from IPython.display import Image, display\n",
        "\n",
        "try:\n",
        "    display(Image(authoring_graph.get_graph(xray=True).draw_mermaid_png()))\n",
        "except:\n",
        "    pass"
      ]
    },
    {
      "cell_type": "markdown",
      "metadata": {
        "id": "yB_rOw1hGpwd"
      },
      "source": [
        "Just as before - we'll need to create an \"interface\" between the level above, and our graph."
      ]
    },
    {
      "cell_type": "code",
      "execution_count": 91,
      "metadata": {
        "id": "G-RbbCKoG_nt"
      },
      "outputs": [],
      "source": [
        "def enter_chain(message: str, team_members: List[str]):\n",
        "    results = {\n",
        "        \"messages_for_document_team\": [HumanMessage(content=message)],\n",
        "        \"team_members\": \", \".join([node for node in authoring_graph.nodes if node not in [ '__start__', 'DocumentTeamSupervisor']] ),\n",
        "    }\n",
        "    return results\n",
        "\n",
        "authoring_e2e_chain = (\n",
        "    functools.partial(enter_chain, team_members=authoring_graph.nodes)\n",
        "    | authoring_graph\n",
        ").with_config({'run_name':'[DocumentTeamE2EChain]'})"
      ]
    },
    {
      "cell_type": "markdown",
      "metadata": {
        "id": "GgyhpTrRNgQd"
      },
      "source": [
        "Now we can test this out!\n",
        "\n",
        "> NOTE: It is possible you may see an error here - rerun the cell to clear."
      ]
    },
    {
      "cell_type": "code",
      "execution_count": 92,
      "metadata": {
        "colab": {
          "base_uri": "https://localhost:8080/"
        },
        "id": "IWUxv4XDx3kg",
        "outputId": "1d626a44-3ad2-44dc-fe12-7850777d062f"
      },
      "outputs": [
        {
          "name": "stdout",
          "output_type": "stream",
          "text": [
            "{'DocumentTeamSupervisor': {'next': 'NoteTaker'}}\n",
            "---\n",
            "{'NoteTaker': {'messages_for_document_team': [HumanMessage(content='[Work from NoteTaker]: The outline for the LinkedIn post on Linear Regression has been successfully created and saved.', name='NoteTaker')], 'per_member_messages_for_document_team': []}}\n",
            "---\n",
            "{'DocumentTeamSupervisor': {'next': 'DocWriter'}}\n",
            "---\n",
            "{'DocWriter': {'messages_for_document_team': [HumanMessage(content='[Work from DocWriter]: The draft for the LinkedIn post on Linear Regression has been successfully written and saved as \"LinkedIn_post_draft_1_on_Linear_Regression\".', name='DocWriter')], 'per_member_messages_for_document_team': []}}\n",
            "---\n",
            "{'DocumentTeamSupervisor': {'next': 'CopyEditor'}}\n",
            "---\n",
            "{'CopyEditor': {'messages_for_document_team': [HumanMessage(content='[Work from CopyEditor]: The edited LinkedIn post on Linear Regression has been successfully saved as \"LinkedIn_post_draft_2_on_Linear_Regression\". This version includes improvements in clarity, engagement, and structure to better suit the LinkedIn audience.', name='CopyEditor')], 'per_member_messages_for_document_team': []}}\n",
            "---\n",
            "{'DocumentTeamSupervisor': {'next': 'DopenessEditor'}}\n",
            "---\n",
            "{'DopenessEditor': {'messages_for_document_team': [HumanMessage(content='[Work from DopenessEditor]: The LinkedIn post on Linear Regression has been spiced up and saved successfully as \"final_LinkIn_post_on_Linear_Regression\". It\\'s ready to captivate and educate your network with its cool, insightful content! 🚀💥', name='DopenessEditor')], 'per_member_messages_for_document_team': []}}\n",
            "---\n",
            "{'DocumentTeamSupervisor': {'next': 'FINISH'}}\n",
            "---\n"
          ]
        }
      ],
      "source": [
        "thread_info = {'configurable': {'thread_id': 'Document_checkpoint_1'}} # 😀 this is for a checkpoint!!\n",
        "\n",
        "for s in authoring_e2e_chain.stream(\n",
        "    # \"Write an outline for for a short LinkedIn post on Linear Regression and write it to disk.\",\n",
        "    \"Write a short LinkedIn post on Linear Regression and write it to disk.\",\n",
        "    {\"recursion_limit\": 100, **thread_info},\n",
        "):  \n",
        "    if \"__end__\" not in s:\n",
        "        print(s)\n",
        "        print(\"---\")"
      ]
    },
    {
      "cell_type": "code",
      "execution_count": 93,
      "metadata": {},
      "outputs": [
        {
          "data": {
            "text/plain": [
              "{'messages_for_document_team': [HumanMessage(content='Write a short LinkedIn post on Linear Regression and write it to disk.', id='932f0932-1f90-42d6-83ff-3a3eae48b37f'),\n",
              "  HumanMessage(content='[Work from NoteTaker]: The outline for the LinkedIn post on Linear Regression has been successfully created and saved.', name='NoteTaker', id='50905b98-c288-46d8-bf48-5e378487ffe5'),\n",
              "  HumanMessage(content='[Work from DocWriter]: The draft for the LinkedIn post on Linear Regression has been successfully written and saved as \"LinkedIn_post_draft_1_on_Linear_Regression\".', name='DocWriter', id='8d751f90-0c48-4f9c-846a-1c77a9ec2a41'),\n",
              "  HumanMessage(content='[Work from CopyEditor]: The edited LinkedIn post on Linear Regression has been successfully saved as \"LinkedIn_post_draft_2_on_Linear_Regression\". This version includes improvements in clarity, engagement, and structure to better suit the LinkedIn audience.', name='CopyEditor', id='cc58c31e-c1d4-4922-9499-eed3c919d15a'),\n",
              "  HumanMessage(content='[Work from DopenessEditor]: The LinkedIn post on Linear Regression has been spiced up and saved successfully as \"final_LinkIn_post_on_Linear_Regression\". It\\'s ready to captivate and educate your network with its cool, insightful content! 🚀💥', name='DopenessEditor', id='6e686fa7-dcff-4ab8-b51f-0d52b94b668e')],\n",
              " 'per_member_messages_for_document_team': [],\n",
              " 'team_members': 'DocWriter, NoteTaker, CopyEditor, DopenessEditor',\n",
              " 'next': 'FINISH'}"
            ]
          },
          "execution_count": 93,
          "metadata": {},
          "output_type": "execute_result"
        }
      ],
      "source": [
        "lateset_state = authoring_graph.get_state(thread_info).values\n",
        "\n",
        "lateset_state"
      ]
    },
    {
      "cell_type": "markdown",
      "metadata": {
        "id": "zpW2R9SUHGUq"
      },
      "source": [
        "## Meta-Supervisor\n",
        "\n",
        "Finally, now that we have our two LangGraph agents (some of which are already multi-agent), we can build a supervisor that sits above all of them!\n",
        "\n",
        "The final process, surprisingly, is quite straight forward!\n",
        "\n",
        "Let's jump in!\n",
        "\n",
        "First off - we'll need to create our supervisor agent node."
      ]
    },
    {
      "cell_type": "code",
      "execution_count": 129,
      "metadata": {
        "id": "wkpxeUf9ygKp"
      },
      "outputs": [
        {
          "data": {
            "text/plain": [
              "RunnableBinding(bound=RunnableBinding(bound=ChatPromptTemplate(input_variables=['messages', 'team_members'], input_types={'messages': typing.List[typing.Union[langchain_core.messages.ai.AIMessage, langchain_core.messages.human.HumanMessage, langchain_core.messages.chat.ChatMessage, langchain_core.messages.system.SystemMessage, langchain_core.messages.function.FunctionMessage, langchain_core.messages.tool.ToolMessage]]}, partial_variables={'options': '[\\'FINISH\\', \\'ResearchTeam\", \"LinkedInTeam\\']'}, messages=[SystemMessagePromptTemplate(prompt=PromptTemplate(input_variables=['team_members'], template='You are a supervisor tasked with managing a conversation between the following teams: {team_members}. Given the following user request, respond with the worker to act next. Each worker will perform a task and respond with their results and status. When all workers are finished, you must respond with FINISH.')), MessagesPlaceholder(variable_name='messages'), SystemMessagePromptTemplate(prompt=PromptTemplate(input_variables=['options'], template='Given the conversation above, who should act next? Or should we FINISH? Select one of: {options}'))]), config={'run_name': '[MetaSupervisorPrompt]'})\n",
              "| RunnableBinding(bound=ChatOpenAI(name='MetaSupervisorLLM', client=<openai.resources.chat.completions.Completions object at 0x7f539888d890>, async_client=<openai.resources.chat.completions.AsyncCompletions object at 0x7f53980fc190>, root_client=<openai.OpenAI object at 0x7f537cd5d3d0>, root_async_client=<openai.AsyncOpenAI object at 0x7f53985811d0>, model_name='gpt-4', openai_api_key=SecretStr('**********'), openai_proxy=''), kwargs={'functions': [{'name': 'route', 'description': 'Select the next role.', 'parameters': {'title': 'routeSchema', 'type': 'object', 'properties': {'next': {'title': 'Next', 'anyOf': [{'enum': ['FINISH', 'ResearchTeam\", \"LinkedInTeam']}]}}, 'required': ['next']}}], 'function_call': {'name': 'route'}})\n",
              "| JsonOutputFunctionsParser(), config={'run_name': '[MetaSupervisorChain]'})"
            ]
          },
          "execution_count": 129,
          "metadata": {},
          "output_type": "execute_result"
        }
      ],
      "source": [
        "from langchain_core.messages import AIMessage, BaseMessage, HumanMessage\n",
        "from langchain_openai.chat_models import ChatOpenAI\n",
        "\n",
        "\n",
        "llm = ChatOpenAI(model=\"gpt-4\", name=\"MetaSupervisorLLM\").with_config({'run_name':\"MetaSupervisorLLM\"})\n",
        "\n",
        "MetaSupervisor_node = get_supervisor(\n",
        "    team=\"Meta\",\n",
        "    team_members=['ResearchTeam\", \"LinkedInTeam'],\n",
        "    llm = llm,\n",
        "    system_prompt=\"You are a supervisor tasked with managing a conversation between the\"\n",
        "    \" following teams: {team_members}. Given the following user request,\"\n",
        "    \" respond with the worker to act next. Each worker will perform a\"\n",
        "    \" task and respond with their results and status. When all workers are finished,\"\n",
        "    \" you must respond with FINISH.\",\n",
        ")\n",
        "\n",
        "MetaSupervisor_node"
      ]
    },
    {
      "cell_type": "markdown",
      "metadata": {
        "id": "hUvOh_xWIKig"
      },
      "source": [
        "We'll also create our new state - as well as some methods to help us navigate the new state and the subgraphs.\n",
        "\n",
        "> NOTE: We only pass the most recent message from the parent graph to the subgraph, and we only extract the most recent message from the subgraph to include in the state of the parent graph."
      ]
    },
    {
      "cell_type": "markdown",
      "metadata": {},
      "source": [
        "##### 😀😀😀 The need for get_last_message and join_graph is that node needs to be a callable taking a dictionary as input and returning a dictionary as output"
      ]
    },
    {
      "cell_type": "code",
      "execution_count": 130,
      "metadata": {
        "id": "O7HJ8MF0yh_i"
      },
      "outputs": [],
      "source": [
        "class State(TypedDict):\n",
        "    messages: Annotated[List[BaseMessage], add_messages] # 😀 I prefer this!\n",
        "    next: str\n",
        "    team_members:List[str] # 😀 We need this!!\n",
        "\n",
        "def get_last_message(state: State) -> str:\n",
        "    if len(state[\"messages\"])<2:\n",
        "        return state[\"messages\"][0].content\n",
        "    else:\n",
        "        return state[\"messages\"][0].content + '\\n\\n' + state[\"messages\"][-1].content\n",
        "\n",
        "# 😀 Modified!!\n",
        "def join_graph(response: dict):\n",
        "    try:\n",
        "        return {\"messages\": [ HumanMessage(content = '[Work from ResearchTeam]:\\n' + response[\"messages_for_research_team\"][-1].content)  ] }\n",
        "    except KeyError:\n",
        "        return {\"messages\": [ HumanMessage(content = '[Work from LinkedInTeam]:\\n' + response[\"messages_for_document_team\"][-1].content)  ] }\n",
        "    "
      ]
    },
    {
      "cell_type": "markdown",
      "metadata": {
        "id": "B5RHao1sIanG"
      },
      "source": [
        "Next, we'll create our base graph.\n",
        "\n",
        "Notice how each node we're adding is *AN ENTIRE LANGGRAPH AGENT* (wrapped into an LCEL chain with our helper functions above)."
      ]
    },
    {
      "cell_type": "code",
      "execution_count": 131,
      "metadata": {
        "id": "PfCWABCMIaFy"
      },
      "outputs": [],
      "source": [
        "super_graph = StateGraph(State)\n",
        "\n",
        "super_graph.add_node(\"MetaSupervisor\", MetaSupervisor_node)\n",
        "\n",
        "super_graph.add_node(\"ResearchTeam\", get_last_message | research_e2e_chain | join_graph)\n",
        "super_graph.add_node(\n",
        "    \"LinkedInTeam\", get_last_message | authoring_e2e_chain | join_graph\n",
        ")"
      ]
    },
    {
      "cell_type": "markdown",
      "metadata": {
        "id": "dpwpUXMtI62E"
      },
      "source": [
        "Next, we'll create our edges!\n",
        "\n",
        "This process is completely idenctical to what we've seen before - just addressing the LangGraph subgraph nodes instead of individual nodes."
      ]
    },
    {
      "cell_type": "code",
      "execution_count": 132,
      "metadata": {
        "id": "tLtjRuUYI-fx"
      },
      "outputs": [],
      "source": [
        "super_graph.add_edge(\"ResearchTeam\", \"MetaSupervisor\")\n",
        "super_graph.add_edge(\"LinkedInTeam\", \"MetaSupervisor\")\n",
        "super_graph.add_conditional_edges(\n",
        "    \"MetaSupervisor\",\n",
        "    lambda x: x[\"next\"],\n",
        "    {\n",
        "        \"LinkedInTeam\": \"LinkedInTeam\",\n",
        "        \"ResearchTeam\": \"ResearchTeam\",\n",
        "        \"FINISH\": END,\n",
        "    },\n",
        ")\n",
        "super_graph.set_entry_point(\"MetaSupervisor\")\n",
        "super_graph = super_graph.compile(checkpointer=checkpointer)"
      ]
    },
    {
      "cell_type": "markdown",
      "metadata": {
        "id": "K1KMfFqgJKw8"
      },
      "source": [
        "That's it!\n",
        "\n",
        "Now we can finally use our full agent!"
      ]
    },
    {
      "cell_type": "code",
      "execution_count": 133,
      "metadata": {},
      "outputs": [
        {
          "data": {
            "text/plain": [
              "{'next': 'ResearchTeam'}"
            ]
          },
          "execution_count": 133,
          "metadata": {},
          "output_type": "execute_result"
        }
      ],
      "source": [
        "MetaSupervisor_node.invoke(\n",
        "    input = {\n",
        "                'messages': [HumanMessage(content=\"Write a LinkedIn post on the paper 'Extending Llama-3’s Context Ten-Fold Overnight'. First consult the research team. Then make sure you consult the LinkedIn team, and check for copy editing and dopeness, and write the file to disk.\")],\n",
        "                'team_members':['ResearchTeam', 'LinkedInTeam']\n",
        "            },    \n",
        ")"
      ]
    },
    {
      "cell_type": "code",
      "execution_count": 134,
      "metadata": {
        "colab": {
          "base_uri": "https://localhost:8080/"
        },
        "id": "3M6wUDR-yk8s",
        "outputId": "c21fbc33-1031-400b-aaa2-ec799a23a682"
      },
      "outputs": [
        {
          "name": "stdout",
          "output_type": "stream",
          "text": [
            "{'MetaSupervisor': {'next': 'ResearchTeam'}}\n",
            "---\n",
            "{'ResearchTeam': {'messages': [HumanMessage(content='[Work from ResearchTeam]:\\n### LinkedIn Post Draft: Introducing a Breakthrough in AI Context Length\\n\\n🚀 **Exciting News from the AI Frontier!** 🚀\\n\\nWe\\'re thrilled to share a groundbreaking advancement in AI technology detailed in the recent paper, \"Extending Llama-3’s Context Ten-Fold Overnight,\" authored by an impressive team including Peitian Zhang, Ninglu Shao, Zheng Liu, Shitao Xiao, Hongjin Qian, Qiwei Ye, and Zhicheng Dou from the Beijing Academy of Artificial Intelligence and Renmin University of China.\\n\\n🔍 **What\\'s the Big Deal?**\\nThe team has successfully expanded the context length capability of the Llama-3-8B-Instruct model from 8,000 to an astonishing 80,000 tokens. This ten-fold increase was achieved through a method called QLoRA fine-tuning, all within a super-efficient eight-hour training cycle on an 8xA800 (80G) GPU machine.\\n\\n🌟 **Why This Matters**\\nThis enhancement means that Llama-3 can now handle much longer contexts, significantly improving its performance across a wide array of tasks, from NIH\\'s health summaries to complex topic retrieval and long-context language understanding. This breakthrough is not just a technical improvement; it\\'s a leap forward that could revolutionize how AI understands and processes large volumes of information.\\n\\n👩\\u200d🔬 **A Shoutout to the Team**\\nA huge congratulations to the researchers for their innovative work and dedication. Your contributions keep pushing the boundaries of what AI can achieve!\\n\\n🔗 **Dive Deeper**\\nFor a more detailed read on this transformative development, check out the full paper [here](https://arxiv.org/abs/2404.19553).\\n\\n#ArtificialIntelligence #MachineLearning #AIResearch #Innovation #TechnologyNews\\n\\n---\\n\\nI have confirmed the details and main findings from the research team. Next, I will forward this draft to the LinkedIn team for their input and check for copy editing and dopeness before writing the file to disk.')]}}\n",
            "---\n",
            "{'MetaSupervisor': {'next': 'LinkedInTeam'}}\n",
            "---\n",
            "{'LinkedInTeam': {'messages': [HumanMessage(content='[Work from LinkedInTeam]:\\n[Work from DopenessEditor]: The final LinkedIn post on \"Extending Llama-3\\'s Context Ten-Fold Overnight\" has been jazzed up and saved as \"final_LinkIn_post_on_Extending_Llama-3s_Context\". It\\'s been tailored to not only inform but also engage and excite the LinkedIn audience with its dopeness. 🚀💥')]}}\n",
            "---\n",
            "{'MetaSupervisor': {'next': 'FINISH'}}\n",
            "---\n"
          ]
        }
      ],
      "source": [
        "thread_info = {'configurable': {'thread_id': 'Overall_checkpoint_1'}} # 😀 this is for a checkpoint!!\n",
        "\n",
        "for s in super_graph.stream(\n",
        "    input = {\n",
        "                'messages': [HumanMessage(content=\"Write a LinkedIn post on the paper 'Extending Llama-3’s Context Ten-Fold Overnight'. First consult the research team. Then make sure you consult the LinkedIn team, and check for copy editing and dopeness, and write the file to disk.\")],\n",
        "                'team_members':['ResearchTeam', 'LinkedInTeam']\n",
        "            },\n",
        "    config = {\"recursion_limit\": 30, **thread_info},\n",
        "):\n",
        "    if \"__end__\" not in s:\n",
        "        print(s)\n",
        "        print(\"---\")"
      ]
    },
    {
      "cell_type": "code",
      "execution_count": 135,
      "metadata": {},
      "outputs": [
        {
          "data": {
            "text/plain": [
              "{'messages': [HumanMessage(content=\"Write a LinkedIn post on the paper 'Extending Llama-3’s Context Ten-Fold Overnight'. First consult the research team. Then make sure you consult the LinkedIn team, and check for copy editing and dopeness, and write the file to disk.\", id='082a6d81-abc7-4c26-a92d-6150c552df40'),\n",
              "  HumanMessage(content='[Work from ResearchTeam]:\\n### LinkedIn Post Draft: Introducing a Breakthrough in AI Context Length\\n\\n🚀 **Exciting News from the AI Frontier!** 🚀\\n\\nWe\\'re thrilled to share a groundbreaking advancement in AI technology detailed in the recent paper, \"Extending Llama-3’s Context Ten-Fold Overnight,\" authored by an impressive team including Peitian Zhang, Ninglu Shao, Zheng Liu, Shitao Xiao, Hongjin Qian, Qiwei Ye, and Zhicheng Dou from the Beijing Academy of Artificial Intelligence and Renmin University of China.\\n\\n🔍 **What\\'s the Big Deal?**\\nThe team has successfully expanded the context length capability of the Llama-3-8B-Instruct model from 8,000 to an astonishing 80,000 tokens. This ten-fold increase was achieved through a method called QLoRA fine-tuning, all within a super-efficient eight-hour training cycle on an 8xA800 (80G) GPU machine.\\n\\n🌟 **Why This Matters**\\nThis enhancement means that Llama-3 can now handle much longer contexts, significantly improving its performance across a wide array of tasks, from NIH\\'s health summaries to complex topic retrieval and long-context language understanding. This breakthrough is not just a technical improvement; it\\'s a leap forward that could revolutionize how AI understands and processes large volumes of information.\\n\\n👩\\u200d🔬 **A Shoutout to the Team**\\nA huge congratulations to the researchers for their innovative work and dedication. Your contributions keep pushing the boundaries of what AI can achieve!\\n\\n🔗 **Dive Deeper**\\nFor a more detailed read on this transformative development, check out the full paper [here](https://arxiv.org/abs/2404.19553).\\n\\n#ArtificialIntelligence #MachineLearning #AIResearch #Innovation #TechnologyNews\\n\\n---\\n\\nI have confirmed the details and main findings from the research team. Next, I will forward this draft to the LinkedIn team for their input and check for copy editing and dopeness before writing the file to disk.', id='954735e2-4f7a-47b8-9643-4c3501464eff'),\n",
              "  HumanMessage(content='[Work from LinkedInTeam]:\\n[Work from DopenessEditor]: The final LinkedIn post on \"Extending Llama-3\\'s Context Ten-Fold Overnight\" has been jazzed up and saved as \"final_LinkIn_post_on_Extending_Llama-3s_Context\". It\\'s been tailored to not only inform but also engage and excite the LinkedIn audience with its dopeness. 🚀💥', id='9a5670ca-5d66-4ec0-9b1d-d510884bef25')],\n",
              " 'next': 'FINISH',\n",
              " 'team_members': ['ResearchTeam', 'LinkedInTeam']}"
            ]
          },
          "execution_count": 135,
          "metadata": {},
          "output_type": "execute_result"
        }
      ],
      "source": [
        "lateset_state = super_graph.get_state(thread_info).values\n",
        "\n",
        "lateset_state"
      ]
    },
    {
      "cell_type": "markdown",
      "metadata": {},
      "source": [
        "### 😀😀😀 My Post!!!\n",
        "\n",
        "### Revolutionizing AI with Llama-3's Extended Context\n",
        "\n",
        "🚀 **Groundbreaking News from AI's Cutting Edge!** 🚀\n",
        "\n",
        "🎉 We are beyond pumped to unveil an epic leap in AI tech, detailed in the fresh study, \"Extending Llama-3’s Context Ten-Fold Overnight.\" Spearheaded by a top-tier crew including Peitian Zhang, Ninglu Shao, Zheng Liu, Shitao Xiao, Hongjin Qian, Qiwei Ye, and Zhicheng Dou at the Beijing Academy of Artificial Intelligence and Renmin University of China, this is a game-changer in our grasp of AI's capabilities.\n",
        "\n",
        "🔍 **Why This Is a Big Deal**\n",
        "\n",
        "The squad has massively bumped up the context length capacity of the Llama-3-8B-Instruct model from a mere 8,000 to a jaw-dropping 80,000 tokens. Achieved through a slick QLoRA fine-tuning method, this was pulled off in just an eight-hour power training session on an 8xA800 (80G) GPU beast.\n",
        "\n",
        "🌟 **Why You Should Care**\n",
        "\n",
        "This isn’t just an upgrade—it’s a revolution! Llama-3 now handles longer contexts, massively boosting its chops across tasks from health summaries to complex language puzzles. This shift isn’t just technical—it’s a radical change that could redefine how AI processes our world's data.\n",
        "\n",
        "👩‍🔬 **Props to the Pioneers**\n",
        "\n",
        "Big shoutout to the brainiacs behind this! Your grit and genius continue to redefine AI’s frontiers!\n",
        "\n",
        "🔗 **Dive Into the Details**\n",
        "\n",
        "Craving more dope insights? Check the full paper [here](https://arxiv.org/abs/2404.19553).\n",
        "\n",
        "🤔 **What’s Next for AI?**\n",
        "\n",
        "What do you think this means for the future of AI? Drop your thoughts below! 🚀\n",
        "\n",
        "#ArtificialIntelligence #MachineLearning #AIResearch #Innovation #TechTrends"
      ]
    },
    {
      "cell_type": "markdown",
      "metadata": {
        "id": "PuZAvSlJJpPP"
      },
      "source": [
        "## SAMPLE POST!"
      ]
    },
    {
      "cell_type": "markdown",
      "metadata": {
        "id": "lOEMCrXTJaxW"
      },
      "source": [
        "```\n",
        "A game-changing breakthrough in AI just touched down! The Llama-3-8B-Instruct model just went from cool to ultra-cool, extending its context length from 8K to a mind-blowing 80K. And guess what? It kept all its original capabilities for shorter contexts.\n",
        "\n",
        "Talk about speed? This upgrade was pulled off in only 8 hours using an 8xA800 (80G) GPU machine. Big ups to the 3.5K synthetic training samples generated by GPT-4 that made this possible. This shows how large language models are pushing boundaries and taking giant leaps in the game.\n",
        "\n",
        "Here's the dopest part: the squad is going all out, releasing all related resources including data, model, and training code, for everyone. This is how we move the needle, with open collaboration.\n",
        "\n",
        "For more deets on this cutting-edge breakthrough and further upgrades, hit up our dedicated teams. We've got the info, you bring the curiosity.\n",
        "\n",
        "#AI #MachineLearning #OpenSource #Innovation #Collaboration #Advancement\n",
        "```"
      ]
    }
  ],
  "metadata": {
    "colab": {
      "collapsed_sections": [
        "IDUnpEEl-L_F"
      ],
      "provenance": []
    },
    "kernelspec": {
      "display_name": "AIE4",
      "language": "python",
      "name": "python3"
    },
    "language_info": {
      "codemirror_mode": {
        "name": "ipython",
        "version": 3
      },
      "file_extension": ".py",
      "mimetype": "text/x-python",
      "name": "python",
      "nbconvert_exporter": "python",
      "pygments_lexer": "ipython3",
      "version": "3.11.9"
    }
  },
  "nbformat": 4,
  "nbformat_minor": 0
}
