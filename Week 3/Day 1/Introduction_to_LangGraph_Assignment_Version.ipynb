{
  "cells": [
    {
      "cell_type": "markdown",
      "metadata": {
        "id": "gJXW_DgiSebM"
      },
      "source": [
        "# LangGraph and LangSmith - Agentic RAG Powered by LangChain\n",
        "\n",
        "In the following notebook we'll complete the following tasks:\n",
        "\n",
        "- 🤝 Breakout Room #1:\n",
        "  1. Install required libraries\n",
        "  2. Set Environment Variables\n",
        "  3. Creating our Tool Belt\n",
        "  4. Creating Our State\n",
        "  5. Creating and Compiling A Graph!\n",
        "\n",
        "  - 🤝 Breakout Room #2:\n",
        "  1. Evaluating the LangGraph Application with LangSmith\n",
        "  2. Adding Helpfulness Check and \"Loop\" Limits\n",
        "  3. LangGraph for the \"Patterns\" of GenAI"
      ]
    },
    {
      "cell_type": "markdown",
      "metadata": {
        "id": "djQ3nRAgoF67"
      },
      "source": [
        "# 🤝 Breakout Room #1"
      ]
    },
    {
      "cell_type": "markdown",
      "metadata": {
        "id": "e7pQDUhUnIo8"
      },
      "source": [
        "## Part 1: LangGraph - Building Cyclic Applications with LangChain\n",
        "\n",
        "LangGraph is a tool that leverages LangChain Expression Language to build coordinated multi-actor and stateful applications that includes cyclic behaviour.\n",
        "\n",
        "### Why Cycles?\n",
        "\n",
        "In essence, we can think of a cycle in our graph as a more robust and customizable loop. It allows us to keep our application agent-forward while still giving the powerful functionality of traditional loops.\n",
        "\n",
        "Due to the inclusion of cycles over loops, we can also compose rather complex flows through our graph in a much more readable and natural fashion. Effectively allowing us to recreate application flowcharts in code in an almost 1-to-1 fashion.\n",
        "\n",
        "### Why LangGraph?\n",
        "\n",
        "Beyond the agent-forward approach - we can easily compose and combine traditional \"DAG\" (directed acyclic graph) chains with powerful cyclic behaviour due to the tight integration with LCEL. This means it's a natural extension to LangChain's core offerings!"
      ]
    },
    {
      "cell_type": "markdown",
      "metadata": {
        "id": "3_fLDElOVoop"
      },
      "source": [
        "## Task 1:  Dependencies\n",
        "\n",
        "We'll first install all our required libraries."
      ]
    },
    {
      "cell_type": "code",
      "execution_count": 1,
      "metadata": {
        "id": "KaVwN269EttM"
      },
      "outputs": [],
      "source": [
        "!pip install -qU langchain langchain_openai langchain-community langgraph arxiv duckduckgo_search==5.3.1b1"
      ]
    },
    {
      "cell_type": "markdown",
      "metadata": {
        "id": "wujPjGJuoPwg"
      },
      "source": [
        "## Task 2: Environment Variables\n",
        "\n",
        "We'll want to set both our OpenAI API key and our LangSmith environment variables."
      ]
    },
    {
      "cell_type": "code",
      "execution_count": 1,
      "metadata": {
        "colab": {
          "base_uri": "https://localhost:8080/"
        },
        "id": "Jdh8CoVWHRvs",
        "outputId": "42b2ba5e-11ae-4f4d-e68e-77607bb794ad"
      },
      "outputs": [],
      "source": [
        "import os\n",
        "import getpass\n",
        "\n",
        "os.environ[\"OPENAI_API_KEY\"] = getpass.getpass(\"OpenAI API Key:\")"
      ]
    },
    {
      "cell_type": "code",
      "execution_count": 2,
      "metadata": {
        "colab": {
          "base_uri": "https://localhost:8080/"
        },
        "id": "Nv0glIDyHmRt",
        "outputId": "30aa2260-50f1-4abf-b305-eed0ee1b9008"
      },
      "outputs": [],
      "source": [
        "from uuid import uuid4\n",
        "\n",
        "os.environ[\"LANGCHAIN_TRACING_V2\"] = \"true\"\n",
        "os.environ[\"LANGCHAIN_PROJECT\"] = f\"AIE4 - LangGraph - {uuid4().hex[0:8]}\"\n",
        "os.environ[\"LANGCHAIN_API_KEY\"] = getpass.getpass(\"LangSmith API Key: \")"
      ]
    },
    {
      "cell_type": "markdown",
      "metadata": {
        "id": "sBRyQmEAVzua"
      },
      "source": [
        "## Task 3: Creating our Tool Belt\n",
        "\n",
        "As is usually the case, we'll want to equip our agent with a toolbelt to help answer questions and add external knowledge.\n",
        "\n",
        "There's a tonne of tools in the [LangChain Community Repo](https://github.com/langchain-ai/langchain/tree/master/libs/community/langchain_community/tools) but we'll stick to a couple just so we can observe the cyclic nature of LangGraph in action!\n",
        "\n",
        "We'll leverage:\n",
        "\n",
        "- [Duck Duck Go Web Search](https://github.com/langchain-ai/langchain/tree/master/libs/community/langchain_community/tools/ddg_search)\n",
        "- [Arxiv](https://github.com/langchain-ai/langchain/tree/master/libs/community/langchain_community/tools/arxiv)"
      ]
    },
    {
      "cell_type": "markdown",
      "metadata": {
        "id": "2k6n_Dob2F46"
      },
      "source": [
        "####🏗️ Activity #1:\n",
        "\n",
        "Please add the tools to use into our toolbelt.\n",
        "\n",
        "> NOTE: Each tool in our toolbelt should be a method."
      ]
    },
    {
      "cell_type": "code",
      "execution_count": 3,
      "metadata": {},
      "outputs": [
        {
          "name": "stdout",
          "output_type": "stream",
          "text": [
            "True\n",
            "True\n",
            "typing.Union[str, typing.Dict, langchain_core.messages.tool.ToolCall]\n",
            "typing.Union[str, typing.Dict, langchain_core.messages.tool.ToolCall]\n"
          ]
        }
      ],
      "source": [
        "# 😀 my own cell\n",
        "\n",
        "from langchain_core.runnables import Runnable\n",
        "from langchain_community.tools.ddg_search import DuckDuckGoSearchRun\n",
        "from langchain_community.tools.arxiv.tool import ArxivQueryRun\n",
        "\n",
        "ddg_tool = DuckDuckGoSearchRun()\n",
        "arxiv_tool = ArxivQueryRun()\n",
        "\n",
        "# Is LangChain tool a Runnable?\n",
        "print(isinstance(ddg_tool, Runnable))\n",
        "print(isinstance(arxiv_tool, Runnable))\n",
        "\n",
        "# What about the input types?\n",
        "print(ddg_tool.InputType)\n",
        "print(arxiv_tool.InputType)"
      ]
    },
    {
      "cell_type": "code",
      "execution_count": 4,
      "metadata": {
        "id": "lAxaSvlfIeOg"
      },
      "outputs": [],
      "source": [
        "from langchain_community.tools.ddg_search import DuckDuckGoSearchRun\n",
        "from langchain_community.tools.arxiv.tool import ArxivQueryRun\n",
        "\n",
        "# 😀 Activity #1\n",
        "tool_belt = [\n",
        "    DuckDuckGoSearchRun(), ArxivQueryRun()\n",
        "]"
      ]
    },
    {
      "cell_type": "markdown",
      "metadata": {
        "id": "VI-C669ZYVI5"
      },
      "source": [
        "### Model\n",
        "\n",
        "Now we can set-up our model! We'll leverage the familiar OpenAI model suite for this example - but it's not *necessary* to use with LangGraph. LangGraph supports all models - though you might not find success with smaller models - as such, they recommend you stick with:\n",
        "\n",
        "- OpenAI's GPT-3.5 and GPT-4\n",
        "- Anthropic's Claude\n",
        "- Google's Gemini\n",
        "\n",
        "> NOTE: Because we're leveraging the OpenAI function calling API - we'll need to use OpenAI *for this specific example* (or any other service that exposes an OpenAI-style function calling API."
      ]
    },
    {
      "cell_type": "code",
      "execution_count": 6,
      "metadata": {
        "id": "QkNS8rNZJs4z"
      },
      "outputs": [],
      "source": [
        "from langchain_openai import ChatOpenAI\n",
        "\n",
        "model = ChatOpenAI(model=\"gpt-4o\", temperature=0, name=\"core_llm\")\n",
        "model = ChatOpenAI(model=\"gpt-4o-mini\", temperature=0, name=\"core_llm\")"
      ]
    },
    {
      "cell_type": "markdown",
      "metadata": {
        "id": "Ugkj3GzuZpQv"
      },
      "source": [
        "Now that we have our model set-up, let's \"put on the tool belt\", which is to say: We'll bind our LangChain formatted tools to the model in an OpenAI function calling format."
      ]
    },
    {
      "cell_type": "code",
      "execution_count": 7,
      "metadata": {
        "id": "4OdMqFafZ_0V"
      },
      "outputs": [],
      "source": [
        "model = model.bind_tools(tool_belt)"
      ]
    },
    {
      "cell_type": "code",
      "execution_count": 8,
      "metadata": {},
      "outputs": [
        {
          "name": "stdout",
          "output_type": "stream",
          "text": [
            "bound model:\n",
            "name='core_llm' client=<openai.resources.chat.completions.Completions object at 0x7ff85c09d750> async_client=<openai.resources.chat.completions.AsyncCompletions object at 0x7ff85c0a5690> root_client=<openai.OpenAI object at 0x7ff85c091950> root_async_client=<openai.AsyncOpenAI object at 0x7ff85c09d910> model_name='gpt-4o-mini' temperature=0.0 openai_api_key=SecretStr('**********') openai_proxy=''\n",
            "====================\n",
            "kwargs:\n",
            "{'tools': [{'type': 'function', 'function': {'name': 'duckduckgo_search', 'description': 'A wrapper around DuckDuckGo Search. Useful for when you need to answer questions about current events. Input should be a search query.', 'parameters': {'type': 'object', 'properties': {'query': {'description': 'search query to look up', 'type': 'string'}}, 'required': ['query']}}}, {'type': 'function', 'function': {'name': 'arxiv', 'description': 'A wrapper around Arxiv.org Useful for when you need to answer questions about Physics, Mathematics, Computer Science, Quantitative Biology, Quantitative Finance, Statistics, Electrical Engineering, and Economics from scientific articles on arxiv.org. Input should be a search query.', 'parameters': {'type': 'object', 'properties': {'query': {'description': 'search query to look up', 'type': 'string'}}, 'required': ['query']}}}]}\n"
          ]
        }
      ],
      "source": [
        "# 😀 my own cell\n",
        "\n",
        "# What type is the model obtained from .bind_tools() method?\n",
        "type(model)\n",
        "\n",
        "# What is the bound model?\n",
        "print('bound model:')\n",
        "print(model.bound)\n",
        "\n",
        "# What is the kwargs when being automatically passed in for invocation?\n",
        "print(\"=\"*20)\n",
        "print('kwargs:')\n",
        "print(model.kwargs)\n"
      ]
    },
    {
      "cell_type": "markdown",
      "metadata": {
        "id": "ERzuGo6W18Lr"
      },
      "source": [
        "#### ❓ Question #1:\n",
        "\n",
        "How does the model determine which tool to use?"
      ]
    },
    {
      "cell_type": "markdown",
      "metadata": {},
      "source": [
        "### 😀😀😀 Answer to Qeustion #1\n",
        "- As mentioned above, the information about tools is automatically passed in as a keyword argument by .bind_tools() method. \n",
        "- The information contains what each of the tools is, when to use as well as what are the necessary and optinal parameters for each tool."
      ]
    },
    {
      "cell_type": "code",
      "execution_count": 9,
      "metadata": {},
      "outputs": [
        {
          "name": "stdout",
          "output_type": "stream",
          "text": [
            "name: duckduckgo_search\n",
            "\n",
            "description: A wrapper around DuckDuckGo Search. Useful for when you need to answer questions about current events. Input should be a search query.\n",
            "\n",
            "parameters: {'query': {'description': 'search query to look up', 'type': 'string'}}\n",
            "\n",
            "====================\n",
            "name: arxiv\n",
            "\n",
            "description: A wrapper around Arxiv.org Useful for when you need to answer questions about Physics, Mathematics, Computer Science, Quantitative Biology, Quantitative Finance, Statistics, Electrical Engineering, and Economics from scientific articles on arxiv.org. Input should be a search query.\n",
            "\n",
            "parameters: {'query': {'description': 'search query to look up', 'type': 'string'}}\n",
            "\n",
            "====================\n"
          ]
        }
      ],
      "source": [
        "# 😀 my own cell\n",
        "\n",
        "for tool_info in model.kwargs['tools']:\n",
        "    info = tool_info['function']\n",
        "    print(f\"name: {info['name']}\\n\")\n",
        "    print(f\"description: {info['description']}\\n\")\n",
        "    print(f\"parameters: {info['parameters']['properties']}\\n\")\n",
        "    print(\"=\"*20)\n",
        "\n",
        "# The model is going to look at 'description' to determine the tool to use"
      ]
    },
    {
      "cell_type": "markdown",
      "metadata": {
        "id": "_296Ub96Z_H8"
      },
      "source": [
        "## Task 4: Putting the State in Stateful\n",
        "\n",
        "Earlier we used this phrasing:\n",
        "\n",
        "`coordinated multi-actor and stateful applications`\n",
        "\n",
        "So what does that \"stateful\" mean?\n",
        "\n",
        "To put it simply - we want to have some kind of object which we can pass around our application that holds information about what the current situation (state) is. Since our system will be constructed of many parts moving in a coordinated fashion - we want to be able to ensure we have some commonly understood idea of that state.\n",
        "\n",
        "LangGraph leverages a `StatefulGraph` which uses an `AgentState` object to pass information between the various nodes of the graph.\n",
        "\n",
        "There are more options than what we'll see below - but this `AgentState` object is one that is stored in a `TypedDict` with the key `messages` and the value is a `Sequence` of `BaseMessages` that will be appended to whenever the state changes.\n",
        "\n",
        "Let's think about a simple example to help understand exactly what this means (we'll simplify a great deal to try and clearly communicate what state is doing):\n",
        "\n",
        "1. We initialize our state object:\n",
        "  - `{\"messages\" : []}`\n",
        "2. Our user submits a query to our application.\n",
        "  - New State: `HumanMessage(#1)`\n",
        "  - `{\"messages\" : [HumanMessage(#1)}`\n",
        "3. We pass our state object to an Agent node which is able to read the current state. It will use the last `HumanMessage` as input. It gets some kind of output which it will add to the state.\n",
        "  - New State: `AgentMessage(#1, additional_kwargs {\"function_call\" : \"WebSearchTool\"})`\n",
        "  - `{\"messages\" : [HumanMessage(#1), AgentMessage(#1, ...)]}`\n",
        "4. We pass our state object to a \"conditional node\" (more on this later) which reads the last state to determine if we need to use a tool - which it can determine properly because of our provided object!"
      ]
    },
    {
      "cell_type": "markdown",
      "metadata": {},
      "source": [
        "### 😀😀😀 I will adjust 'AgentState' below so it can be adapted to Question #2 later on "
      ]
    },
    {
      "cell_type": "code",
      "execution_count": 9,
      "metadata": {
        "id": "mxL9b_NZKUdL"
      },
      "outputs": [],
      "source": [
        "from typing import TypedDict, Annotated\n",
        "from langgraph.graph.message import add_messages\n",
        "import operator\n",
        "from langchain_core.messages import BaseMessage\n",
        "\n",
        "# 😀 My version of AgentState \n",
        "class AgentState(TypedDict):\n",
        "  messages: Annotated[list, add_messages]\n",
        "  recursion_num: int # 😀 Add this to keep track of the number of model calls"
      ]
    },
    {
      "cell_type": "code",
      "execution_count": 11,
      "metadata": {},
      "outputs": [
        {
          "name": "stdout",
          "output_type": "stream",
          "text": [
            "[HumanMessage(content='What is the capital of France?', id='f15f1a2f-7b00-47b1-b026-f572c2aa4a31'), AIMessage(content='The capital of France is Paris.', id='1316ca34-a10c-4683-bff7-3febbe0c5b26')]\n",
            "[HumanMessage(content='What is the capital of France?', id='f15f1a2f-7b00-47b1-b026-f572c2aa4a31'), AIMessage(content='The capital of France is Paris.', id='1316ca34-a10c-4683-bff7-3febbe0c5b26'), HumanMessage(content='What is the capital of Germany?', id='17b52d5e-6532-44e3-8898-bf2fa63e3871')]\n",
            "[HumanMessage(content='What is the capital of France?', id='f15f1a2f-7b00-47b1-b026-f572c2aa4a31'), AIMessage(content='The capital of France is Paris.', id='1316ca34-a10c-4683-bff7-3febbe0c5b26'), HumanMessage(content='What is the capital of Germany?', id='17b52d5e-6532-44e3-8898-bf2fa63e3871'), AIMessage(content='The capital of Germany is Berlin.', id='100387ad-9a93-4002-8362-94e77c9f82d1')]\n"
          ]
        }
      ],
      "source": [
        "# 😀 my own cell\n",
        "\n",
        "from langgraph.graph.message import add_messages\n",
        "from langchain_core.messages import HumanMessage, AIMessage\n",
        "\n",
        "msg1 = HumanMessage(content=\"What is the capital of France?\")\n",
        "msg2 = AIMessage(content=\"The capital of France is Paris.\")\n",
        "\n",
        "first_added_msg = add_messages(msg1, msg2)\n",
        "print(first_added_msg)\n",
        "\n",
        "msg3 = HumanMessage(content=\"What is the capital of Germany?\")\n",
        "second_added_msg = add_messages(first_added_msg, msg3)\n",
        "print(second_added_msg)\n",
        "\n",
        "msg4 = AIMessage(content=\"The capital of Germany is Berlin.\")\n",
        "third_added_msg = add_messages(second_added_msg, [msg4])\n",
        "print(third_added_msg)\n",
        "\n",
        "# We can see that add_messages appends the messages to the list and assigns mesaage_id to each message  "
      ]
    },
    {
      "cell_type": "markdown",
      "metadata": {
        "id": "vWsMhfO9grLu"
      },
      "source": [
        "## Task 5: It's Graphing Time!\n",
        "\n",
        "Now that we have state, and we have tools, and we have an LLM - we can finally start making our graph!\n",
        "\n",
        "Let's take a second to refresh ourselves about what a graph is in this context.\n",
        "\n",
        "Graphs, also called networks in some circles, are a collection of connected objects.\n",
        "\n",
        "The objects in question are typically called nodes, or vertices, and the connections are called edges.\n",
        "\n",
        "Let's look at a simple graph.\n",
        "\n",
        "![image](https://i.imgur.com/2NFLnIc.png)\n",
        "\n",
        "Here, we're using the coloured circles to represent the nodes and the yellow lines to represent the edges. In this case, we're looking at a fully connected graph - where each node is connected by an edge to each other node.\n",
        "\n",
        "If we were to think about nodes in the context of LangGraph - we would think of a function, or an LCEL runnable.\n",
        "\n",
        "If we were to think about edges in the context of LangGraph - we might think of them as \"paths to take\" or \"where to pass our state object next\".\n",
        "\n",
        "Let's create some nodes and expand on our diagram.\n",
        "\n",
        "> NOTE: Due to the tight integration with LCEL - we can comfortably create our nodes in an async fashion!"
      ]
    },
    {
      "cell_type": "markdown",
      "metadata": {},
      "source": [
        "### 😀😀😀 I will also adjust 'call_model' below so it can be adapted to Question #2 later on "
      ]
    },
    {
      "cell_type": "code",
      "execution_count": 21,
      "metadata": {
        "id": "91flJWtZLUrl"
      },
      "outputs": [],
      "source": [
        "from langgraph.prebuilt import ToolNode\n",
        "\n",
        "# 😀 I will also adjust call_model so it can be adapted to Question #2 later on \n",
        "def call_model(state: AgentState):\n",
        "\n",
        "  messages = state[\"messages\"]\n",
        "  recursion_num = state.get(\"recursion_num\", 0)\n",
        "  response = model.invoke(messages)\n",
        "  return {\"messages\" : [response], \"recursion_num\": recursion_num + 1}\n",
        "\n",
        "tool_node = ToolNode(tool_belt)"
      ]
    },
    {
      "cell_type": "markdown",
      "metadata": {
        "id": "2bwR7MgWj3Wg"
      },
      "source": [
        "Now we have two total nodes. We have:\n",
        "\n",
        "- `call_model` is a node that will...well...call the model\n",
        "- `tool_node` is a node which can call a tool\n",
        "\n",
        "Let's start adding nodes! We'll update our diagram along the way to keep track of what this looks like!\n"
      ]
    },
    {
      "cell_type": "code",
      "execution_count": 22,
      "metadata": {
        "id": "_vF4_lgtmQNo"
      },
      "outputs": [],
      "source": [
        "from langgraph.graph import StateGraph, END\n",
        "\n",
        "uncompiled_graph = StateGraph(AgentState)\n",
        "\n",
        "uncompiled_graph.add_node(\"agent\", call_model)\n",
        "uncompiled_graph.add_node(\"action\", tool_node)"
      ]
    },
    {
      "cell_type": "markdown",
      "metadata": {
        "id": "b8CjRlbVmRpW"
      },
      "source": [
        "Let's look at what we have so far:\n",
        "\n",
        "![image](https://i.imgur.com/md7inqG.png)"
      ]
    },
    {
      "cell_type": "markdown",
      "metadata": {
        "id": "uaXHpPeSnOWC"
      },
      "source": [
        "Next, we'll add our entrypoint. All our entrypoint does is indicate which node is called first."
      ]
    },
    {
      "cell_type": "code",
      "execution_count": 23,
      "metadata": {
        "id": "YGCbaYqRnmiw"
      },
      "outputs": [],
      "source": [
        "uncompiled_graph.set_entry_point(\"agent\")"
      ]
    },
    {
      "cell_type": "markdown",
      "metadata": {
        "id": "BUsfGoSpoF9U"
      },
      "source": [
        "![image](https://i.imgur.com/wNixpJe.png)"
      ]
    },
    {
      "cell_type": "markdown",
      "metadata": {
        "id": "0Q_pQgHmoW0M"
      },
      "source": [
        "Now we want to build a \"conditional edge\" which will use the output state of a node to determine which path to follow.\n",
        "\n",
        "We can help conceptualize this by thinking of our conditional edge as a conditional in a flowchart!\n",
        "\n",
        "Notice how our function simply checks if there is a \"function_call\" kwarg present.\n",
        "\n",
        "Then we create an edge where the origin node is our agent node and our destination node is *either* the action node or the END (finish the graph).\n",
        "\n",
        "It's important to highlight that the dictionary passed in as the third parameter (the mapping) should be created with the possible outputs of our conditional function in mind. In this case `should_continue` outputs either `\"end\"` or `\"continue\"` which are subsequently mapped to the action node or the END node."
      ]
    },
    {
      "cell_type": "code",
      "execution_count": 24,
      "metadata": {
        "id": "1BZgb81VQf9o"
      },
      "outputs": [],
      "source": [
        "# 😀 I will also adjust should_continue so it can be adapted to Question #2 later on \n",
        "\n",
        "def should_continue(state: AgentState):\n",
        "  last_message = state[\"messages\"][-1]\n",
        "  recursion_num = state.get(\"recursion_num\", 0)\n",
        "\n",
        "  print(f\"Recursion number: {recursion_num}\")\n",
        "\n",
        "  if recursion_num > 10 or not last_message.tool_calls:\n",
        "    return END\n",
        "\n",
        "  return \"action\"\n",
        "\n",
        "uncompiled_graph.add_conditional_edges(\n",
        "    \"agent\",\n",
        "    should_continue,    \n",
        ")"
      ]
    },
    {
      "cell_type": "markdown",
      "metadata": {
        "id": "-Cvhcf4jp0Ce"
      },
      "source": [
        "Let's visualize what this looks like.\n",
        "\n",
        "![image](https://i.imgur.com/8ZNwKI5.png)"
      ]
    },
    {
      "cell_type": "markdown",
      "metadata": {
        "id": "yKCjWJCkrJb9"
      },
      "source": [
        "Finally, we can add our last edge which will connect our action node to our agent node. This is because we *always* want our action node (which is used to call our tools) to return its output to our agent!"
      ]
    },
    {
      "cell_type": "code",
      "execution_count": 25,
      "metadata": {
        "id": "UvcgbHf1rIXZ"
      },
      "outputs": [],
      "source": [
        "uncompiled_graph.add_edge(\"action\", \"agent\")"
      ]
    },
    {
      "cell_type": "markdown",
      "metadata": {
        "id": "EiWDwBQtrw7Z"
      },
      "source": [
        "Let's look at the final visualization.\n",
        "\n",
        "![image](https://i.imgur.com/NWO7usO.png)"
      ]
    },
    {
      "cell_type": "markdown",
      "metadata": {
        "id": "KYqDpErlsCsu"
      },
      "source": [
        "All that's left to do now is to compile our workflow - and we're off!"
      ]
    },
    {
      "cell_type": "code",
      "execution_count": 26,
      "metadata": {
        "id": "zt9-KS8DpzNx"
      },
      "outputs": [],
      "source": [
        "compiled_graph = uncompiled_graph.compile()"
      ]
    },
    {
      "cell_type": "code",
      "execution_count": 27,
      "metadata": {},
      "outputs": [
        {
          "data": {
            "image/jpeg": "[encoded data removed]",
            "text/plain": [
              "<IPython.core.display.Image object>"
            ]
          },
          "metadata": {},
          "output_type": "display_data"
        }
      ],
      "source": [
        "# 😀 My own cell\n",
        "# Let's visualize the compiled graph on my own\n",
        "\n",
        "from IPython.display import Image, display\n",
        "\n",
        "try:\n",
        "    display(Image(compiled_graph.get_graph().draw_mermaid_png()))\n",
        "except:\n",
        "    pass"
      ]
    },
    {
      "cell_type": "markdown",
      "metadata": {
        "id": "xhNWIwBL1W4Q"
      },
      "source": [
        "#### ❓ Question #2:\n",
        "\n",
        "Is there any specific limit to how many times we can cycle?\n",
        "\n",
        "If not, how could we impose a limit to the number of cycles?"
      ]
    },
    {
      "cell_type": "markdown",
      "metadata": {},
      "source": [
        "### 😀😀😀 Answers to Question #2\n",
        "\n",
        "- We can do so by adding a state called 'recursion_num' and modifying the conditional edge."
      ]
    },
    {
      "cell_type": "markdown",
      "metadata": {
        "id": "VEYcTShCsPaa"
      },
      "source": [
        "## Using Our Graph\n",
        "\n",
        "Now that we've created and compiled our graph - we can call it *just as we'd call any other* `Runnable`!\n",
        "\n",
        "Let's try out a few examples to see how it fairs:\n",
        "\n"
      ]
    },
    {
      "cell_type": "markdown",
      "metadata": {},
      "source": [
        "### 😀😀😀 Running the cell below, See 'Recursion number: {num}' which indicates the number of model calls associated Question #2"
      ]
    },
    {
      "cell_type": "code",
      "execution_count": 28,
      "metadata": {
        "colab": {
          "base_uri": "https://localhost:8080/"
        },
        "id": "Qn4n37PQRPII",
        "outputId": "a5d7ef7a-13f2-4066-df52-b0df89eae2ae"
      },
      "outputs": [
        {
          "name": "stdout",
          "output_type": "stream",
          "text": [
            "Recursion number: 1\n",
            "Receiving update from node: 'agent'\n",
            "[AIMessage(content='', additional_kwargs={'tool_calls': [{'id': 'call_0yRyZ02yzcRwwm8IoZXvoovY', 'function': {'arguments': '{\"query\":\"current captain of the Winnipeg Jets 2023\"}', 'name': 'duckduckgo_search'}, 'type': 'function'}], 'refusal': None}, response_metadata={'token_usage': {'completion_tokens': 25, 'prompt_tokens': 156, 'total_tokens': 181}, 'model_name': 'gpt-4o-2024-05-13', 'system_fingerprint': 'fp_157b3831f5', 'finish_reason': 'tool_calls', 'logprobs': None}, id='run-2273a26b-999e-4803-8cb9-b66b8d2b45d9-0', tool_calls=[{'name': 'duckduckgo_search', 'args': {'query': 'current captain of the Winnipeg Jets 2023'}, 'id': 'call_0yRyZ02yzcRwwm8IoZXvoovY', 'type': 'tool_call'}], usage_metadata={'input_tokens': 156, 'output_tokens': 25, 'total_tokens': 181})]\n",
            "\n",
            "\n",
            "\n",
            "Receiving update from node: 'action'\n",
            "[ToolMessage(content='Adam Lowry was named captain of the Winnipeg Jets on Tuesday. ... Sep 20, 2023. Latest News. Inside look at Vegas Golden Knights Aug 30, 2024. Vegas Golden Knights fantasy projections for 2024-25 Lowry will follow Andrew Ladd and Blake Wheeler to serve as the third captain of the new Winnipeg Jets franchise. - Sep 12, 2023. After a season without a captain, the Winnipeg Jets have named ... Posted September 12, 2023 9:29 am. Centre Adam Lowry was named the Winnipeg Jets new captain on Tuesday. Lowry is the third Jets captain since the team moved from Atlanta to Winnipeg in 2011. He follows Andrew Ladd and Blake Wheeler, who served as captain for five and six years respectively. The Winnipeg Jets will have a captain for the 2023-24 season. After going captain-less in 2022-23, the Winnipeg Jets unveiled Adam Lowry as the club\\'s new captain on Tuesday morning. \"When I ... September 12, 2023. There are not many honours in team sports bigger than being named captain. That honour was given to Winnipeg Jet forward Adam Lowry officially Tuesday morning as he becomes the ...', name='duckduckgo_search', tool_call_id='call_0yRyZ02yzcRwwm8IoZXvoovY')]\n",
            "\n",
            "\n",
            "\n",
            "Recursion number: 2\n",
            "Receiving update from node: 'agent'\n",
            "[AIMessage(content='The current captain of the Winnipeg Jets is Adam Lowry, who was named captain on September 12, 2023.', additional_kwargs={'refusal': None}, response_metadata={'token_usage': {'completion_tokens': 26, 'prompt_tokens': 443, 'total_tokens': 469}, 'model_name': 'gpt-4o-2024-05-13', 'system_fingerprint': 'fp_157b3831f5', 'finish_reason': 'stop', 'logprobs': None}, id='run-f3c41d68-deaf-477e-837c-9cd3dc02a6e5-0', usage_metadata={'input_tokens': 443, 'output_tokens': 26, 'total_tokens': 469})]\n",
            "\n",
            "\n",
            "\n"
          ]
        }
      ],
      "source": [
        "from langchain_core.messages import HumanMessage\n",
        "\n",
        "inputs = {\"messages\" : [HumanMessage(content=\"Who is the current captain of the Winnipeg Jets?\")]}\n",
        "\n",
        "async for chunk in compiled_graph.astream(inputs, stream_mode=\"updates\"): # 😀 Since compiled_graph is a Runnable, it has astream method.\n",
        "    # 😀 Each chunk represents 'node name' and 'state(AgentState)'\n",
        "    for node, values in chunk.items():\n",
        "        print(f\"Receiving update from node: '{node}'\")\n",
        "        print(values[\"messages\"])\n",
        "        print(\"\\n\\n\")"
      ]
    },
    {
      "cell_type": "markdown",
      "metadata": {
        "id": "DBHnUtLSscRr"
      },
      "source": [
        "Let's look at what happened:\n",
        "\n",
        "1. Our state object was populated with our request\n",
        "2. The state object was passed into our entry point (agent node) and the agent node added an `AIMessage` to the state object and passed it along the conditional edge\n",
        "3. The conditional edge received the state object, found the \"tool_calls\" `additional_kwarg`, and sent the state object to the action node\n",
        "4. The action node added the response from the OpenAI function calling endpoint to the state object and passed it along the edge to the agent node\n",
        "5. The agent node added a response to the state object and passed it along the conditional edge\n",
        "6. The conditional edge received the state object, could not find the \"tool_calls\" `additional_kwarg` and passed the state object to END where we see it output in the cell above!\n",
        "\n",
        "Now let's look at an example that shows a multiple tool usage - all with the same flow!"
      ]
    },
    {
      "cell_type": "code",
      "execution_count": 30,
      "metadata": {
        "colab": {
          "base_uri": "https://localhost:8080/"
        },
        "id": "afv2BuEsV5JG",
        "outputId": "026a3aa3-1c3e-4016-b0a3-fe98b1d25399"
      },
      "outputs": [
        {
          "name": "stdout",
          "output_type": "stream",
          "text": [
            "Recursion number: 1\n",
            "Receiving update from node: 'agent'\n",
            "[AIMessage(content='', additional_kwargs={'tool_calls': [{'id': 'call_dFsjJX9mhL8ve0TNc9MLeV5w', 'function': {'arguments': '{\"query\": \"QLoRA\"}', 'name': 'arxiv'}, 'type': 'function'}, {'id': 'call_QA2DkpEtb3YpKent3d1gKvUr', 'function': {'arguments': '{\"query\": \"latest Tweet\"}', 'name': 'duckduckgo_search'}, 'type': 'function'}], 'refusal': None}, response_metadata={'token_usage': {'completion_tokens': 50, 'prompt_tokens': 173, 'total_tokens': 223}, 'model_name': 'gpt-4o-2024-05-13', 'system_fingerprint': 'fp_157b3831f5', 'finish_reason': 'tool_calls', 'logprobs': None}, id='run-f8164be4-7016-4e89-97f4-25aec4fafafd-0', tool_calls=[{'name': 'arxiv', 'args': {'query': 'QLoRA'}, 'id': 'call_dFsjJX9mhL8ve0TNc9MLeV5w', 'type': 'tool_call'}, {'name': 'duckduckgo_search', 'args': {'query': 'latest Tweet'}, 'id': 'call_QA2DkpEtb3YpKent3d1gKvUr', 'type': 'tool_call'}], usage_metadata={'input_tokens': 173, 'output_tokens': 50, 'total_tokens': 223})]\n",
            "\n",
            "\n",
            "\n",
            "Receiving update from node: 'action'\n",
            "Tool Used: arxiv\n",
            "[ToolMessage(content='Published: 2023-05-23\\nTitle: QLoRA: Efficient Finetuning of Quantized LLMs\\nAuthors: Tim Dettmers, Artidoro Pagnoni, Ari Holtzman, Luke Zettlemoyer\\nSummary: We present QLoRA, an efficient finetuning approach that reduces memory usage\\nenough to finetune a 65B parameter model on a single 48GB GPU while preserving\\nfull 16-bit finetuning task performance. QLoRA backpropagates gradients through\\na frozen, 4-bit quantized pretrained language model into Low Rank\\nAdapters~(LoRA). Our best model family, which we name Guanaco, outperforms all\\nprevious openly released models on the Vicuna benchmark, reaching 99.3% of the\\nperformance level of ChatGPT while only requiring 24 hours of finetuning on a\\nsingle GPU. QLoRA introduces a number of innovations to save memory without\\nsacrificing performance: (a) 4-bit NormalFloat (NF4), a new data type that is\\ninformation theoretically optimal for normally distributed weights (b) double\\nquantization to reduce the average memory footprint by quantizing the\\nquantization constants, and (c) paged optimziers to manage memory spikes. We\\nuse QLoRA to finetune more than 1,000 models, providing a detailed analysis of\\ninstruction following and chatbot performance across 8 instruction datasets,\\nmultiple model types (LLaMA, T5), and model scales that would be infeasible to\\nrun with regular finetuning (e.g. 33B and 65B parameter models). Our results\\nshow that QLoRA finetuning on a small high-quality dataset leads to\\nstate-of-the-art results, even when using smaller models than the previous\\nSoTA. We provide a detailed analysis of chatbot performance based on both human\\nand GPT-4 evaluations showing that GPT-4 evaluations are a cheap and reasonable\\nalternative to human evaluation. Furthermore, we find that current chatbot\\nbenchmarks are not trustworthy to accurately evaluate the performance levels of\\nchatbots. A lemon-picked analysis demonstrates where Guanaco fails compared to\\nChatGPT. We release all of our models and code, including CUDA kernels for\\n4-bit training.\\n\\nPublished: 2024-05-27\\nTitle: Accurate LoRA-Finetuning Quantization of LLMs via Information Retention\\nAuthors: Haotong Qin, Xudong Ma, Xingyu Zheng, Xiaoyang Li, Yang Zhang, Shouda Liu, Jie Luo, Xianglong Liu, Michele Magno\\nSummary: The LoRA-finetuning quantization of LLMs has been extensively studied to\\nobtain accurate yet compact LLMs for deployment on resource-constrained\\nhardware. However, existing methods cause the quantized LLM to severely degrade\\nand even fail to benefit from the finetuning of LoRA. This paper proposes a\\nnovel IR-QLoRA for pushing quantized LLMs with LoRA to be highly accurate\\nthrough information retention. The proposed IR-QLoRA mainly relies on two\\ntechnologies derived from the perspective of unified information: (1)\\nstatistics-based Information Calibration Quantization allows the quantized\\nparameters of LLM to retain original information accurately; (2)\\nfinetuning-based Information Elastic Connection makes LoRA utilizes elastic\\nrepresentation transformation with diverse information. Comprehensive\\nexperiments show that IR-QLoRA can significantly improve accuracy across LLaMA\\nand LLaMA2 families under 2-4 bit-widths, e.g., 4- bit LLaMA-7B achieves 1.4%\\nimprovement on MMLU compared with the state-of-the-art methods. The significant\\nperformance gain requires only a tiny 0.31% additional time consumption,\\nrevealing the satisfactory efficiency of our IR-QLoRA. We highlight that\\nIR-QLoRA enjoys excellent versatility, compatible with various frameworks\\n(e.g., NormalFloat and Integer quantization) and brings general accuracy gains.\\nThe code is available at https://github.com/htqin/ir-qlora.\\n\\nPublished: 2024-06-12\\nTitle: Exploring Fact Memorization and Style Imitation in LLMs Using QLoRA: An Experimental Study and Quality Assessment Methods\\nAuthors: Eugene Vyborov, Oleksiy Osypenko, Serge Sotnyk\\nSummary: There are various methods for adapting LLMs to different domains. The most\\ncommon methods are prompting, finetuning, and RAG. In this w', name='arxiv', tool_call_id='call_dFsjJX9mhL8ve0TNc9MLeV5w'), ToolMessage(content='Twitter. The latest Twitter news and updates. Twitter is a social networking service, primarily microblogging but also a picture and video sharing service, founded by Jack Dorsey, Noah Glass, Biz ... Breaking Twitter: Elon Musk and the Most Controversial Corporate Takeover in History, by Ben Mezrich, Pan Macmillan £22/Grand Central Publishing $30, 352 pages Hannah Murphy is an FT technology ... Social-media researchers overemphasized the platform now called X for years. But now, as it rapidly changes into something new and frightening, we risk paying too little attention. Sept. 15, 2023. The federal prosecutors who charged former President Donald J. Trump with a criminal conspiracy over his attempts to overturn the 2020 election obtained 32 private messages from ... Musk hinted at Twitter\\'s financial troubles saying, \"I acquired the world\\'s largest non-profit for $44 billion.\" (Twitter had, in fact, reported a profit in 2018 and 2019, prior to Musk ...', name='duckduckgo_search', tool_call_id='call_QA2DkpEtb3YpKent3d1gKvUr')]\n",
            "\n",
            "\n",
            "\n",
            "Recursion number: 2\n",
            "Receiving update from node: 'agent'\n",
            "[AIMessage(content='', additional_kwargs={'tool_calls': [{'id': 'call_yCS7k9AI0w4t71HdJYVYMeWB', 'function': {'arguments': '{\"query\": \"Tim Dettmers latest Tweet\"}', 'name': 'duckduckgo_search'}, 'type': 'function'}, {'id': 'call_5FJEYLhHrSXRC94uuWhSqzXD', 'function': {'arguments': '{\"query\": \"Artidoro Pagnoni latest Tweet\"}', 'name': 'duckduckgo_search'}, 'type': 'function'}, {'id': 'call_a9GyrqxrX47bt8MdZC1c50p4', 'function': {'arguments': '{\"query\": \"Ari Holtzman latest Tweet\"}', 'name': 'duckduckgo_search'}, 'type': 'function'}, {'id': 'call_ICnZGeyQp3TqLcvWx59FNl1P', 'function': {'arguments': '{\"query\": \"Luke Zettlemoyer latest Tweet\"}', 'name': 'duckduckgo_search'}, 'type': 'function'}], 'refusal': None}, response_metadata={'token_usage': {'completion_tokens': 108, 'prompt_tokens': 1411, 'total_tokens': 1519}, 'model_name': 'gpt-4o-2024-05-13', 'system_fingerprint': 'fp_fde2829a40', 'finish_reason': 'tool_calls', 'logprobs': None}, id='run-225dd535-8b72-4276-9447-5819b9ae1401-0', tool_calls=[{'name': 'duckduckgo_search', 'args': {'query': 'Tim Dettmers latest Tweet'}, 'id': 'call_yCS7k9AI0w4t71HdJYVYMeWB', 'type': 'tool_call'}, {'name': 'duckduckgo_search', 'args': {'query': 'Artidoro Pagnoni latest Tweet'}, 'id': 'call_5FJEYLhHrSXRC94uuWhSqzXD', 'type': 'tool_call'}, {'name': 'duckduckgo_search', 'args': {'query': 'Ari Holtzman latest Tweet'}, 'id': 'call_a9GyrqxrX47bt8MdZC1c50p4', 'type': 'tool_call'}, {'name': 'duckduckgo_search', 'args': {'query': 'Luke Zettlemoyer latest Tweet'}, 'id': 'call_ICnZGeyQp3TqLcvWx59FNl1P', 'type': 'tool_call'}], usage_metadata={'input_tokens': 1411, 'output_tokens': 108, 'total_tokens': 1519})]\n",
            "\n",
            "\n",
            "\n",
            "Receiving update from node: 'action'\n",
            "Tool Used: duckduckgo_search\n",
            "[ToolMessage(content='Vice President Kamala Harris on Thursday offered her most expansive explanation to date on why she\\'s changed some of her positions on fracking and immigration, telling CNN\\'s Dana Bash her ... In a \"gotcha\" moment gone wrong, a user on X, formerly Twitter, tried to claim that Minnesota Gov. Tim Walz was lying about owning a dog named Scout. \"Yes, this is Tim Walz tweeting about ... Democratic vice-presidential nominee and Minnesota Governor Tim Walz appeared on the popular social media account \"SubwayTakes\" Monday, marking the latest moment in the social media battle ... Five key takeaways from Kamala Harris, Tim Walz\\'s first major TV interview. The Democratic nominee and her running mate sat down with CNN\\'s Dana Bash to discuss their plans for the presidency. Kamala Harris and Tim Walz sat for a joint interview on Thursday — their first since Joe Biden dropped out of the race. ... asking about her past embrace of the Green New Deal and her support in ...', name='duckduckgo_search', tool_call_id='call_yCS7k9AI0w4t71HdJYVYMeWB'), ToolMessage(content=\"In this paper, we introduce LLaVA-Phi, a compact vision-language assistant powered by a small language model. Our work combines the powerful open-sourced multi-modal model, LLaVA-1.5 [24], with the best-performing open-sourced small language models, Phi-2 [21].We follow a two-stage training pipeline and leverage high-quality visual instruction tuning data from LLaVA. We present QLoRA, an efficient finetuning approach that reduces memory usage enough to finetune a 65B parameter model on a single 48GB GPU while preserving full 16-bit finetuning task performance. QLoRA backpropagates gradients through a frozen, 4-bit quantized pretrained language model into Low Rank Adapters~(LoRA). Our best model family, which we name Guanaco, outperforms all previous openly ... Pagnoni et al. (2021) Artidoro Pagnoni, Vidhisha Balachandran, and Yulia Tsvetkov. 2021. Understanding factuality in abstractive summarization with FRANK: A benchmark for factuality metrics . In Proceedings of the 2021 Conference of the North American Chapter of the Association for Computational Linguistics: Human Language Technologies , pages ... efficient finetuning of quantized LLMs. AUTHORs: Tim Dettmers, Artidoro Pagnoni, Ari Holtzman, Luke Zettlemoyer Authors Info & Claims. NIPS '23: Proceedings of the 37th International Conference on Neural Information Processing Systems. Article No.: 441, Pages 10088 - 10115. Published: 30 May 2024 Publication History. Dettmers et al. (2023) Tim Dettmers, Artidoro Pagnoni, Ari Holtzman, and Luke Zettlemoyer. Qlora: Efficient finetuning of quantized llms. arXiv preprint arXiv:2305.14314, 2023. Elo & Sloan (1978) Arpad E Elo and Sam Sloan. The rating of chessplayers: Past and present. Arco Pub., 1978. ISBN 0668047216 9780668047210.\", name='duckduckgo_search', tool_call_id='call_5FJEYLhHrSXRC94uuWhSqzXD'), ToolMessage(content='MSNBC host Ari Melber, during an interview with Trump campaign adviser Corey Lewandowski on Wednesday, threatened him with a defamation lawsuit for quoting the anchor calling the former President ... The team behind QLoRA includes Allen School Ph.D. student Artidoro Pagnoni; alum Ari Holtzman (Ph.D., \\'23), incoming professor at the University of Chicago; and professor Luke Zettlemoyer, who is also a research manager at Meta. Madrona Prize First Runner Up / Punica: Multi-Tenant LoRA Fine-tuned LLM Serving Jack Hessel † Ari Holtzman ... When uploading an image alongside a tweet, users of Twitter have the option of providing alternative text: while few use this feature (gleason2019s find that fewer than .1% of image tweets have alt-text), its broader adoption might someday make social media more accessible for low vision and blind users. We ... While in Mumbai, Ari would stay at the Holtzman\\'s home each evening. \"Their house was like a second home to me,\" explains Ari, who has travelled to India forty times. The last time that Ari was at the Holtzman\\'s Chabad House was two months ago, where he stayed for a week and participated in prayers and Torah lectures given by Rabbi ... We present QLoRA, an efficient finetuning approach that reduces memory usage enough to finetune a 65B parameter model on a single 48GB GPU while preserving full 16-bit finetuning task performance. QLoRA backpropagates gradients through a frozen, 4-bit quantized pretrained language model into Low Rank Adapters~(LoRA). Our best model family, which we name Guanaco, outperforms all previous openly ...', name='duckduckgo_search', tool_call_id='call_a9GyrqxrX47bt8MdZC1c50p4'), ToolMessage(content=\"In-state guard Luke Ertel became the first pledge in Purdue basketball's 2026 recruiting class on Tuesday night, announcing his commitment to Matt Painter and the Boilermakers on the heels of an unofficial visit the day prior. Ertel spoke to Boiler Upload after the announcement to dive into his decision making process, how he fits with the program and more. Bristol City have signed central defender Luke McNally from Burnley on a four-year deal. The 24-year-old has barely featured for the Clarets since signing two years ago and has moved to Ashton ... Luke Zettlemoyer is a research manager and site lead for FAIR Seattle. He is also a Professor in the Allen School of Computer Science & Engineering at the University of Washington. His research is in empirical computational semantics, where the goal is to build models that recover representations of the meaning of natural language text. Today we're joined by Luke Zettlemoyer, professor at University of Washington and a research manager at Meta. In our conversation with Luke, we cover multimodal generative AI, the effect of data on models, and the significance of open source and open science. We explore the grounding problem, the need for visual grounding and embodiment in We introduce MoMa, a novel modality-aware mixture-of-experts (MoE) architecture designed for pre-training mixed-modal, early-fusion language models. MoMa processes images and text in arbitrary sequences by dividing expert modules into modality-specific groups. These groups exclusively process designated tokens while employing learned routing within each group to maintain semantically informed ...\", name='duckduckgo_search', tool_call_id='call_ICnZGeyQp3TqLcvWx59FNl1P')]\n",
            "\n",
            "\n",
            "\n",
            "Recursion number: 3\n",
            "Receiving update from node: 'agent'\n",
            "[AIMessage(content=\"Here are the details about the QLoRA paper and the latest information on the authors' tweets:\\n\\n### QLoRA Paper\\n- **Title**: QLoRA: Efficient Finetuning of Quantized LLMs\\n- **Authors**: Tim Dettmers, Artidoro Pagnoni, Ari Holtzman, Luke Zettlemoyer\\n- **Summary**: QLoRA is an efficient finetuning approach that reduces memory usage enough to finetune a 65B parameter model on a single 48GB GPU while preserving full 16-bit finetuning task performance. The approach includes innovations like 4-bit NormalFloat (NF4), double quantization, and paged optimizers. The best model family, Guanaco, outperforms previous models on the Vicuna benchmark, reaching 99.3% of ChatGPT's performance level with only 24 hours of finetuning on a single GPU.\\n\\n### Latest Tweets of the Authors\\n\\n1. **Tim Dettmers**\\n   - No specific latest tweet found. The search results included general information about Twitter and some political figures but did not yield a specific tweet from Tim Dettmers.\\n\\n2. **Artidoro Pagnoni**\\n   - No specific latest tweet found. The search results included general information about Twitter and some political figures but did not yield a specific tweet from Artidoro Pagnoni.\\n\\n3. **Ari Holtzman**\\n   - No specific latest tweet found. The search results included general information about Twitter and some political figures but did not yield a specific tweet from Ari Holtzman.\\n\\n4. **Luke Zettlemoyer**\\n   - No specific latest tweet found. The search results included general information about Twitter and some political figures but did not yield a specific tweet from Luke Zettlemoyer.\\n\\nIt appears that the search did not return specific tweets from the authors. If you need more detailed information or specific tweets, you might want to check their individual Twitter profiles directly.\", additional_kwargs={'refusal': None}, response_metadata={'token_usage': {'completion_tokens': 406, 'prompt_tokens': 2868, 'total_tokens': 3274}, 'model_name': 'gpt-4o-2024-05-13', 'system_fingerprint': 'fp_157b3831f5', 'finish_reason': 'stop', 'logprobs': None}, id='run-d56ef356-d9ee-4ef2-8ddb-42a5f93918a6-0', usage_metadata={'input_tokens': 2868, 'output_tokens': 406, 'total_tokens': 3274})]\n",
            "\n",
            "\n",
            "\n"
          ]
        }
      ],
      "source": [
        "inputs = {\"messages\" : [HumanMessage(content=\"Search Arxiv for the QLoRA paper, then search each of the authors to find out their latest Tweet using DuckDuckGo.\")]}\n",
        "\n",
        "async for chunk in compiled_graph.astream(inputs, stream_mode=\"updates\"):\n",
        "    for node, values in chunk.items():\n",
        "        print(f\"Receiving update from node: '{node}'\")\n",
        "        if node == \"action\":\n",
        "          print(f\"Tool Used: {values['messages'][0].name}\")\n",
        "        print(values[\"messages\"])\n",
        "\n",
        "        print(\"\\n\\n\")"
      ]
    },
    {
      "cell_type": "markdown",
      "metadata": {
        "id": "CXzDlZVz1Hnf"
      },
      "source": [
        "####🏗️ Activity #2:\n",
        "\n",
        "Please write out the steps the agent took to arrive at the correct answer.\n"
      ]
    },
    {
      "cell_type": "markdown",
      "metadata": {},
      "source": [
        "### 😀😀😀 Activity #2\n",
        "- I looked throuth the steps by using LangSmith\n",
        "\n",
        "![image](langgraph_steps.png)"
      ]
    },
    {
      "cell_type": "markdown",
      "metadata": {
        "id": "v7c8-Uyarh1v"
      },
      "source": [
        "## Part 1: LangSmith Evaluator"
      ]
    },
    {
      "cell_type": "markdown",
      "metadata": {
        "id": "pV3XeFOT1Sar"
      },
      "source": [
        "### Pre-processing for LangSmith"
      ]
    },
    {
      "cell_type": "markdown",
      "metadata": {
        "id": "wruQCuzewUuO"
      },
      "source": [
        "To do a little bit more preprocessing, let's wrap our LangGraph agent in a simple chain."
      ]
    },
    {
      "cell_type": "code",
      "execution_count": 31,
      "metadata": {
        "id": "oeXdQgbxwhTv"
      },
      "outputs": [],
      "source": [
        "def convert_inputs(input_object: dict): # 😀 Add type hind\n",
        "  return {\"messages\" : [HumanMessage(content=input_object[\"question\"])]}\n",
        "\n",
        "def parse_output(input_state: AgentState): # 😀 Add type hind\n",
        "  return input_state[\"messages\"][-1].content\n",
        "\n",
        "agent_chain = convert_inputs | compiled_graph | parse_output"
      ]
    },
    {
      "cell_type": "code",
      "execution_count": 32,
      "metadata": {
        "colab": {
          "base_uri": "https://localhost:8080/",
          "height": 139
        },
        "id": "orYxBZXSxJjZ",
        "outputId": "b160f3e4-89d1-4411-ed96-fe17b3cad200"
      },
      "outputs": [
        {
          "name": "stdout",
          "output_type": "stream",
          "text": [
            "Recursion number: 1\n"
          ]
        },
        {
          "data": {
            "text/plain": [
              "'RAG stands for Retrieval-Augmented Generation. It is a technique used in natural language processing (NLP) and machine learning to improve the performance of language models by combining retrieval-based methods with generative models. Here’s a brief overview of how it works:\\n\\n1. **Retrieval**: In the first step, the system retrieves relevant documents or pieces of information from a large corpus based on the input query. This is typically done using a retrieval model, such as BM25 or a dense retrieval model like DPR (Dense Passage Retrieval).\\n\\n2. **Augmentation**: The retrieved documents are then used to augment the input query. This means that the information from the retrieved documents is combined with the original query to provide more context and relevant information.\\n\\n3. **Generation**: Finally, a generative model, such as a transformer-based model like GPT-3, uses the augmented input to generate a response. The generative model can produce more accurate and contextually relevant answers because it has access to additional information retrieved in the first step.\\n\\nRAG is particularly useful in scenarios where the model needs to generate responses based on a large and diverse set of information, such as in open-domain question answering, customer support, and conversational AI. By leveraging both retrieval and generation, RAG can provide more accurate and informative responses compared to using a generative model alone.'"
            ]
          },
          "execution_count": 32,
          "metadata": {},
          "output_type": "execute_result"
        }
      ],
      "source": [
        "agent_chain.invoke({\"question\" : \"What is RAG?\"})"
      ]
    },
    {
      "cell_type": "markdown",
      "metadata": {
        "id": "f9UkCIqkpyZu"
      },
      "source": [
        "### Task 1: Creating An Evaluation Dataset\n",
        "\n",
        "Just as we saw last week, we'll want to create a dataset to test our Agent's ability to answer questions.\n",
        "\n",
        "In order to do this - we'll want to provide some questions and some answers. Let's look at how we can create such a dataset below.\n",
        "\n",
        "```python\n",
        "questions = [\n",
        "    \"What optimizer is used in QLoRA?\",\n",
        "    \"What data type was created in the QLoRA paper?\",\n",
        "    \"What is a Retrieval Augmented Generation system?\",\n",
        "    \"Who authored the QLoRA paper?\",\n",
        "    \"What is the most popular deep learning framework?\",\n",
        "    \"What significant improvements does the LoRA system make?\"\n",
        "]\n",
        "\n",
        "answers = [\n",
        "    {\"must_mention\" : [\"paged\", \"optimizer\"]},\n",
        "    {\"must_mention\" : [\"NF4\", \"NormalFloat\"]},\n",
        "    {\"must_mention\" : [\"ground\", \"context\"]},\n",
        "    {\"must_mention\" : [\"Tim\", \"Dettmers\"]},\n",
        "    {\"must_mention\" : [\"PyTorch\", \"TensorFlow\"]},\n",
        "    {\"must_mention\" : [\"reduce\", \"parameters\"]},\n",
        "]\n",
        "```"
      ]
    },
    {
      "cell_type": "markdown",
      "metadata": {
        "id": "VfMXF2KAsQxs"
      },
      "source": [
        "####🏗️ Activity #3:\n",
        "\n",
        "Please create a dataset in the above format with at least 5 questions."
      ]
    },
    {
      "cell_type": "markdown",
      "metadata": {},
      "source": [
        "### 😀😀😀 Activity #3\n",
        "\n",
        "I can do this with the help of our agent chain."
      ]
    },
    {
      "cell_type": "code",
      "execution_count": 33,
      "metadata": {},
      "outputs": [
        {
          "name": "stdout",
          "output_type": "stream",
          "text": [
            "Recursion number: 1\n",
            "Recursion number: 2\n"
          ]
        },
        {
          "data": {
            "text/plain": [
              "'Here are five question-answer pairs based on the QLoRA paper titled \"QLoRA: Efficient Finetuning of Quantized LLMs\":\\n\\n1. **Question:** What is QLoRA?\\n   **Answer:** QLoRA is an efficient finetuning approach that reduces memory usage enough to finetune a 65B parameter model on a single 48GB GPU while preserving full 16-bit finetuning task performance. It backpropagates gradients through a frozen, 4-bit quantized pretrained language model into Low Rank Adapters (LoRA).\\n\\n2. **Question:** What are the key innovations introduced by QLoRA to save memory without sacrificing performance?\\n   **Answer:** QLoRA introduces several innovations to save memory without sacrificing performance: (a) 4-bit NormalFloat (NF4), a new data type that is information theoretically optimal for normally distributed weights, (b) double quantization to reduce the average memory footprint by quantizing the quantization constants, and (c) paged optimizers to manage memory spikes.\\n\\n3. **Question:** How does QLoRA perform compared to previous models on the Vicuna benchmark?\\n   **Answer:** QLoRA\\'s best model family, named Guanaco, outperforms all previous openly released models on the Vicuna benchmark, reaching 99.3% of the performance level of ChatGPT while only requiring 24 hours of finetuning on a single GPU.\\n\\n4. **Question:** What datasets and model types were used in the QLoRA study?\\n   **Answer:** The QLoRA study involved finetuning more than 1,000 models and provided a detailed analysis of instruction following and chatbot performance across 8 instruction datasets, multiple model types (LLaMA, T5), and model scales that would be infeasible to run with regular finetuning (e.g., 33B and 65B parameter models).\\n\\n5. **Question:** What does the paper conclude about the reliability of current chatbot benchmarks?\\n   **Answer:** The paper concludes that current chatbot benchmarks are not trustworthy to accurately evaluate the performance levels of chatbots. It also highlights that GPT-4 evaluations are a cheap and reasonable alternative to human evaluation.'"
            ]
          },
          "execution_count": 33,
          "metadata": {},
          "output_type": "execute_result"
        }
      ],
      "source": [
        "# 😀 My own cell\n",
        "\n",
        "response = agent_chain.invoke({\"question\" : \"Search Arxiv for the QLoRA paper, then provide five question-answer pairs from the paper.\"})\n",
        "\n",
        "response"
      ]
    },
    {
      "cell_type": "code",
      "execution_count": 34,
      "metadata": {
        "id": "CbagRuJop83E"
      },
      "outputs": [],
      "source": [
        "questions = [\n",
        "    ### YOUR CODE HERE\n",
        "    \"What is QLoRA?\",\n",
        "    \"What are the key innovations introduced by QLoRA to save memory without sacrificing performance?\",\n",
        "    \"How does QLoRA perform compared to previous models on the Vicuna benchmark?\",\n",
        "    \"What datasets and model types were used in the QLoRA study?\",\n",
        "    \"What does the paper conclude about the reliability of current chatbot benchmarks?\"\n",
        "]\n",
        "\n",
        "answers = [\n",
        "    ### YOUR CODE HERE\n",
        "    {\"must_mention\" : [\"LoRA\", \"quantization\"]},\n",
        "    {\"must_mention\" : [\"NF4\", \"double quantization\", \"paged optimizers\"]},\n",
        "    {\"must_mention\" : [\"Vicuna\", \"99.3%\"]},\n",
        "    {\"must_mention\" : [\"LLaMA\", \"datasets\"]},\n",
        "    {\"must_mention\" : [\"alternative\", \"cheap\"]},\n",
        "]"
      ]
    },
    {
      "cell_type": "markdown",
      "metadata": {
        "id": "z7QVFuAmsh7L"
      },
      "source": [
        "Now we can add our dataset to our LangSmith project using the following code which we saw last Thursday!"
      ]
    },
    {
      "cell_type": "code",
      "execution_count": 35,
      "metadata": {
        "id": "RLfrZrgSsn85"
      },
      "outputs": [],
      "source": [
        "from langsmith import Client\n",
        "\n",
        "client = Client()\n",
        "dataset_name = f\"Retrieval Augmented Generation - Evaluation Dataset - {uuid4().hex[0:8]}\"\n",
        "\n",
        "dataset = client.create_dataset(\n",
        "    dataset_name=dataset_name,\n",
        "    description=\"Questions about the QLoRA Paper to Evaluate RAG over the same paper.\"\n",
        ")\n",
        "\n",
        "client.create_examples(\n",
        "    inputs=[{\"question\" : q} for q in questions],\n",
        "    outputs=answers,\n",
        "    dataset_id=dataset.id,\n",
        ")"
      ]
    },
    {
      "cell_type": "markdown",
      "metadata": {
        "id": "ciV73F9Q04w0"
      },
      "source": [
        "#### ❓ Question #3:\n",
        "\n",
        "How are the correct answers associated with the questions?\n",
        "\n",
        "> NOTE: Feel free to indicate if this is problematic or not"
      ]
    },
    {
      "cell_type": "markdown",
      "metadata": {},
      "source": [
        "### 😀😀😀 Answer to Question #3\n",
        "\n",
        "- Since this is not a math question, it's difficult to say that there is one correct answer.\n",
        "- The five questions generated by my agent are somewhat related to the summarization of the paper.\n",
        "- Therefore, a qualitative evaluation is needed, but it can be challenging.\n",
        "- A wide range of evaluation criteria can be considered, such as 'LLM_as_a_judge,' 'must_mention,' or even 'human_as_a_judge.'\n",
        "- Naturally, the quality of the dataset is one of the most important factors. Clearly, the dataset I created above is not of high quality; it is just for demonstration purposes. 😀\n",
        "- Setting the temperature to zero might be helpful for evaluating a Q&A agent in this context because it encourages the agent to produce more accurate answers rather than focusing on creativity."
      ]
    },
    {
      "cell_type": "markdown",
      "metadata": {
        "id": "-lRTXUrTtP9Y"
      },
      "source": [
        "### Task 2: Adding Evaluators\n",
        "\n",
        "Now we can add a custom evaluator to see if our responses contain the expected information.\n",
        "\n",
        "We'll be using a fairly naive exact-match process to determine if our response contains specific strings."
      ]
    },
    {
      "cell_type": "code",
      "execution_count": 36,
      "metadata": {
        "id": "QrAUXMFftlAY"
      },
      "outputs": [],
      "source": [
        "from langsmith.evaluation import EvaluationResult, run_evaluator\n",
        "\n",
        "@run_evaluator\n",
        "def must_mention(run, example) -> EvaluationResult:\n",
        "    prediction = run.outputs.get(\"output\") or \"\"\n",
        "    required = example.outputs.get(\"must_mention\") or []\n",
        "    score = all(phrase in prediction for phrase in required)\n",
        "    return EvaluationResult(key=\"must_mention\", score=score)"
      ]
    },
    {
      "cell_type": "markdown",
      "metadata": {
        "id": "PNtHORUh0jZY"
      },
      "source": [
        "#### ❓ Question #4:\n",
        "\n",
        "What are some ways you could improve this metric as-is?\n",
        "\n",
        "> NOTE: Alternatively you can suggest where gaps exist in this method."
      ]
    },
    {
      "cell_type": "markdown",
      "metadata": {},
      "source": [
        "### 😀😀😀 Answer to Question #4\n",
        "\n",
        "- Examining the must_mention(run, example) function, we can see that it relies solely on a naive 'exact match' check.\n",
        "- There is no normalization process, such as decapitalization, removal of whitespace, etc., which may lead to false negatives.\n",
        "    - For example, my agent mentioned 'NF4,' 'Double Quantization,' and 'Paged Optimizers,' but these were judged as 'fail' due to capitalization differences (the references are 'NF4,' 'double quantization,' and 'paged optimizers').\n",
        "- To improve this metric, we should incorporate normalization processes.\n",
        "- It could also be beneficial to use a lightweight LLM to check if the response contains keywords relevant to the reference keywords."
      ]
    },
    {
      "cell_type": "markdown",
      "metadata": {
        "id": "mZ4DVSXl0BX5"
      },
      "source": [
        "Now that we have created our custom evaluator - let's initialize our `RunEvalConfig` with it!"
      ]
    },
    {
      "cell_type": "code",
      "execution_count": 37,
      "metadata": {
        "id": "sL4-XcjytWsu"
      },
      "outputs": [],
      "source": [
        "from langchain.smith import RunEvalConfig, run_on_dataset\n",
        "\n",
        "eval_config = RunEvalConfig(\n",
        "    custom_evaluators=[must_mention],\n",
        ")"
      ]
    },
    {
      "cell_type": "markdown",
      "metadata": {
        "id": "r1RJr349zhv7"
      },
      "source": [
        "Task 3: Evaluating\n",
        "\n",
        "All that is left to do is evaluate our agent's response!"
      ]
    },
    {
      "cell_type": "code",
      "execution_count": 38,
      "metadata": {
        "colab": {
          "base_uri": "https://localhost:8080/"
        },
        "id": "p5TeCUUkuGld",
        "outputId": "8b98fff1-bd75-4dbe-cadc-a76d8a82577c"
      },
      "outputs": [
        {
          "name": "stdout",
          "output_type": "stream",
          "text": [
            "View the evaluation results for project 'RAG Pipeline - Evaluation - 8b0fe0ef' at:\n",
            "https://smith.langchain.com/o/99c107dc-9be4-5ebc-9aee-41fafaa9d426/datasets/cd9bad7d-7624-49b0-aaa1-43af5d1d8f4d/compare?selectedSessions=99086618-ec48-455f-a938-58d4e4ccffac\n",
            "\n",
            "View all tests for Dataset Retrieval Augmented Generation - Evaluation Dataset - bf20a0c5 at:\n",
            "https://smith.langchain.com/o/99c107dc-9be4-5ebc-9aee-41fafaa9d426/datasets/cd9bad7d-7624-49b0-aaa1-43af5d1d8f4d\n",
            "[>                                                 ] 0/5Recursion number: 1\n",
            "Recursion number: 1\n",
            "Recursion number: 1\n",
            "Recursion number: 1\n",
            "Recursion number: 1\n",
            "Recursion number: 2\n",
            "[------------------->                              ] 2/5Recursion number: 2\n",
            "[----------------------------->                    ] 3/5Recursion number: 2\n",
            "Recursion number: 2\n",
            "[------------------------------------------------->] 5/5"
          ]
        },
        {
          "data": {
            "text/html": [
              "<h3>Experiment Results:</h3>"
            ],
            "text/plain": [
              "<IPython.core.display.HTML object>"
            ]
          },
          "metadata": {},
          "output_type": "display_data"
        },
        {
          "data": {
            "text/html": [
              "<div>\n",
              "<style scoped>\n",
              "    .dataframe tbody tr th:only-of-type {\n",
              "        vertical-align: middle;\n",
              "    }\n",
              "\n",
              "    .dataframe tbody tr th {\n",
              "        vertical-align: top;\n",
              "    }\n",
              "\n",
              "    .dataframe thead th {\n",
              "        text-align: right;\n",
              "    }\n",
              "</style>\n",
              "<table border=\"1\" class=\"dataframe\">\n",
              "  <thead>\n",
              "    <tr style=\"text-align: right;\">\n",
              "      <th></th>\n",
              "      <th>feedback.must_mention</th>\n",
              "      <th>error</th>\n",
              "      <th>execution_time</th>\n",
              "      <th>run_id</th>\n",
              "    </tr>\n",
              "  </thead>\n",
              "  <tbody>\n",
              "    <tr>\n",
              "      <th>count</th>\n",
              "      <td>5</td>\n",
              "      <td>0</td>\n",
              "      <td>5.000000</td>\n",
              "      <td>5</td>\n",
              "    </tr>\n",
              "    <tr>\n",
              "      <th>unique</th>\n",
              "      <td>2</td>\n",
              "      <td>0</td>\n",
              "      <td>NaN</td>\n",
              "      <td>5</td>\n",
              "    </tr>\n",
              "    <tr>\n",
              "      <th>top</th>\n",
              "      <td>True</td>\n",
              "      <td>NaN</td>\n",
              "      <td>NaN</td>\n",
              "      <td>d3f8e1ec-8f36-49ae-981d-0b6820377d6e</td>\n",
              "    </tr>\n",
              "    <tr>\n",
              "      <th>freq</th>\n",
              "      <td>3</td>\n",
              "      <td>NaN</td>\n",
              "      <td>NaN</td>\n",
              "      <td>1</td>\n",
              "    </tr>\n",
              "    <tr>\n",
              "      <th>mean</th>\n",
              "      <td>NaN</td>\n",
              "      <td>NaN</td>\n",
              "      <td>5.446346</td>\n",
              "      <td>NaN</td>\n",
              "    </tr>\n",
              "    <tr>\n",
              "      <th>std</th>\n",
              "      <td>NaN</td>\n",
              "      <td>NaN</td>\n",
              "      <td>1.685192</td>\n",
              "      <td>NaN</td>\n",
              "    </tr>\n",
              "    <tr>\n",
              "      <th>min</th>\n",
              "      <td>NaN</td>\n",
              "      <td>NaN</td>\n",
              "      <td>3.522366</td>\n",
              "      <td>NaN</td>\n",
              "    </tr>\n",
              "    <tr>\n",
              "      <th>25%</th>\n",
              "      <td>NaN</td>\n",
              "      <td>NaN</td>\n",
              "      <td>4.039090</td>\n",
              "      <td>NaN</td>\n",
              "    </tr>\n",
              "    <tr>\n",
              "      <th>50%</th>\n",
              "      <td>NaN</td>\n",
              "      <td>NaN</td>\n",
              "      <td>5.445554</td>\n",
              "      <td>NaN</td>\n",
              "    </tr>\n",
              "    <tr>\n",
              "      <th>75%</th>\n",
              "      <td>NaN</td>\n",
              "      <td>NaN</td>\n",
              "      <td>6.861153</td>\n",
              "      <td>NaN</td>\n",
              "    </tr>\n",
              "    <tr>\n",
              "      <th>max</th>\n",
              "      <td>NaN</td>\n",
              "      <td>NaN</td>\n",
              "      <td>7.363568</td>\n",
              "      <td>NaN</td>\n",
              "    </tr>\n",
              "  </tbody>\n",
              "</table>\n",
              "</div>"
            ],
            "text/plain": [
              "       feedback.must_mention error  execution_time  \\\n",
              "count                      5     0        5.000000   \n",
              "unique                     2     0             NaN   \n",
              "top                     True   NaN             NaN   \n",
              "freq                       3   NaN             NaN   \n",
              "mean                     NaN   NaN        5.446346   \n",
              "std                      NaN   NaN        1.685192   \n",
              "min                      NaN   NaN        3.522366   \n",
              "25%                      NaN   NaN        4.039090   \n",
              "50%                      NaN   NaN        5.445554   \n",
              "75%                      NaN   NaN        6.861153   \n",
              "max                      NaN   NaN        7.363568   \n",
              "\n",
              "                                      run_id  \n",
              "count                                      5  \n",
              "unique                                     5  \n",
              "top     d3f8e1ec-8f36-49ae-981d-0b6820377d6e  \n",
              "freq                                       1  \n",
              "mean                                     NaN  \n",
              "std                                      NaN  \n",
              "min                                      NaN  \n",
              "25%                                      NaN  \n",
              "50%                                      NaN  \n",
              "75%                                      NaN  \n",
              "max                                      NaN  "
            ]
          },
          "metadata": {},
          "output_type": "display_data"
        },
        {
          "data": {
            "text/plain": [
              "{'project_name': 'RAG Pipeline - Evaluation - 8b0fe0ef',\n",
              " 'results': {'374aea9c-fec9-4017-9e9c-fbd28064cef3': {'input': {'question': 'What is QLoRA?'},\n",
              "   'feedback': [EvaluationResult(key='must_mention', score=True, value=None, comment=None, correction=None, evaluator_info={}, feedback_config=None, source_run_id=UUID('80eff47c-d47b-4354-a81b-4f7adad9ce34'), target_run_id=None)],\n",
              "   'execution_time': 3.522366,\n",
              "   'run_id': 'd3f8e1ec-8f36-49ae-981d-0b6820377d6e',\n",
              "   'output': \"QLoRA, or Quantized Low-Rank Adaptation, is a technique used in the field of machine learning and natural language processing to fine-tune large language models efficiently. The primary goal of QLoRA is to reduce the computational and memory requirements associated with fine-tuning large models, making it more accessible and feasible for a wider range of applications.\\n\\nHere are some key aspects of QLoRA:\\n\\n1. **Quantization**: This involves reducing the precision of the model's weights, typically from 32-bit floating-point numbers to lower precision formats like 8-bit integers. Quantization helps in reducing the memory footprint and computational load.\\n\\n2. **Low-Rank Adaptation**: This technique involves approximating the weight updates during fine-tuning using low-rank matrices. By doing so, it reduces the number of parameters that need to be updated, further decreasing the computational requirements.\\n\\n3. **Efficiency**: By combining quantization and low-rank adaptation, QLoRA aims to make the fine-tuning process more efficient without significantly compromising the performance of the model. This is particularly useful when working with very large language models that would otherwise require substantial computational resources.\\n\\n4. **Applications**: QLoRA can be applied to various natural language processing tasks, such as text generation, translation, summarization, and more. It allows researchers and practitioners to adapt large pre-trained models to specific tasks or domains with limited resources.\\n\\nOverall, QLoRA is a valuable technique for making the fine-tuning of large language models more practical and accessible, enabling their use in a broader range of applications and settings.\",\n",
              "   'reference': {'must_mention': ['LoRA', 'quantization']}},\n",
              "  '08855aef-259e-4662-bdc6-cc38aa847634': {'input': {'question': 'What are the key innovations introduced by QLoRA to save memory without sacrificing performance?'},\n",
              "   'feedback': [EvaluationResult(key='must_mention', score=False, value=None, comment=None, correction=None, evaluator_info={}, feedback_config=None, source_run_id=UUID('0d46d1aa-bf9a-4ab4-8a72-3e7f3e0274c7'), target_run_id=None)],\n",
              "   'execution_time': 5.445554,\n",
              "   'run_id': '6695ac8a-237a-4ba2-b9f3-f9f277e3d9dd',\n",
              "   'output': 'QLoRA introduces several key innovations to save memory without sacrificing performance:\\n\\n1. **4-bit NormalFloat (NF4)**: This is a new data type that is information-theoretically optimal for normally distributed weights. It allows for efficient quantization of model weights, reducing memory usage significantly.\\n\\n2. **Double Quantization**: This technique reduces the average memory footprint by quantizing the quantization constants themselves. This further compresses the model and saves memory.\\n\\n3. **Paged Optimizers**: These are used to manage memory spikes during the training process. By paging the optimizer states, QLoRA can handle larger models on limited hardware resources.\\n\\nThese innovations enable QLoRA to finetune large language models, such as a 65 billion parameter model, on a single 48GB GPU while maintaining full 16-bit finetuning task performance.',\n",
              "   'reference': {'must_mention': ['NF4',\n",
              "     'double quantization',\n",
              "     'paged optimizers']}},\n",
              "  'fa53df0d-029c-4bbf-9c1f-59a7f9d5b49c': {'input': {'question': 'How does QLoRA perform compared to previous models on the Vicuna benchmark?'},\n",
              "   'feedback': [EvaluationResult(key='must_mention', score=True, value=None, comment=None, correction=None, evaluator_info={}, feedback_config=None, source_run_id=UUID('d64c797b-67ef-480a-99d3-533c52944f3c'), target_run_id=None)],\n",
              "   'execution_time': 4.03909,\n",
              "   'run_id': 'a9d207c4-0602-430a-9c2b-9aa99b3753f5',\n",
              "   'output': \"The QLoRA-tuned model family, named Guanaco, significantly outperforms all previously released open-source models on the Vicuna benchmark. The top-performing model, Guanaco 65B, achieves 99.3% of the performance level of ChatGPT. This high level of performance is achieved with just 24 hours of finetuning on a single professional GPU. Another model in the Guanaco family reaches 97.8% of ChatGPT's performance level and can be trained in less than 12 hours on a single consumer GPU.\",\n",
              "   'reference': {'must_mention': ['Vicuna', '99.3%']}},\n",
              "  '416ec9a0-6134-4b62-b50c-a0d514942e49': {'input': {'question': 'What datasets and model types were used in the QLoRA study?'},\n",
              "   'feedback': [EvaluationResult(key='must_mention', score=True, value=None, comment=None, correction=None, evaluator_info={}, feedback_config=None, source_run_id=UUID('a7d06f3d-02de-45a2-89bf-e9daba5859e1'), target_run_id=None)],\n",
              "   'execution_time': 7.363568,\n",
              "   'run_id': '741d5c88-289e-4d07-80b4-f93514ca9a80',\n",
              "   'output': \"The QLoRA study utilized a variety of datasets and model types. Here are the key details:\\n\\n### Datasets:\\n1. **Instruction Datasets**: The study involved finetuning across 8 different instruction datasets. These datasets are designed to improve the model's ability to follow instructions and perform various tasks.\\n2. **High-Quality Small Datasets**: The study found that finetuning on small, high-quality datasets can lead to state-of-the-art results, even with smaller models.\\n\\n### Model Types:\\n1. **LLaMA (Large Language Model Meta AI)**: This is one of the primary model types used in the study.\\n2. **T5 (Text-To-Text Transfer Transformer)**: Another model type used for finetuning.\\n3. **Model Scales**: The study explored models of various scales, including large models with 33 billion and 65 billion parameters.\\n\\n### Innovations and Techniques:\\n1. **4-bit NormalFloat (NF4)**: A new data type that is optimal for normally distributed weights, used to save memory.\\n2. **Double Quantization**: This technique reduces the average memory footprint by quantizing the quantization constants.\\n3. **Paged Optimizers**: These are used to manage memory spikes during the finetuning process.\\n\\n### Performance:\\n- The best model family, named **Guanaco**, outperformed all previous openly released models on the Vicuna benchmark, achieving 99.3% of the performance level of ChatGPT.\\n- The study demonstrated that QLoRA finetuning on a small high-quality dataset leads to state-of-the-art results, even when using smaller models than the previous state-of-the-art.\\n\\n### Evaluation:\\n- The performance of the models was evaluated based on both human and GPT-4 evaluations, showing that GPT-4 evaluations are a reasonable and cost-effective alternative to human evaluation.\\n\\nThe study also released all models and code, including CUDA kernels for 4-bit training, to facilitate further research and development in this area.\",\n",
              "   'reference': {'must_mention': ['LLaMA', 'datasets']}},\n",
              "  '8ab1d856-8200-455a-9c52-46ead6af4fbd': {'input': {'question': 'What does the paper conclude about the reliability of current chatbot benchmarks?'},\n",
              "   'feedback': [EvaluationResult(key='must_mention', score=False, value=None, comment=None, correction=None, evaluator_info={}, feedback_config=None, source_run_id=UUID('4cc21e9a-3660-4869-a65c-38080fc563ad'), target_run_id=None)],\n",
              "   'execution_time': 6.861153,\n",
              "   'run_id': '06a1a4a9-99a8-4b18-a0d1-b49fba171c8f',\n",
              "   'output': 'The paper titled \"Benchmarking LLM powered Chatbots: Methods and Metrics\" by Debarag Banerjee, Pooja Singh, and others, provides insights into the reliability of current chatbot benchmarks. Here are the key conclusions:\\n\\n1. **Importance of Guidelines and Ground Truth**: The study emphasizes the necessity of having well-defined guidelines and ground truth standards to improve the accuracy of evaluations for large language models (LLMs).\\n\\n2. **Agentic Approach**: The agentic method, which involves dynamically accessing reliable information in real-time, showed the best alignment with human assessments. This approach significantly enhances the reliability of chatbot responses.\\n\\n3. **Standardized Framework**: Adherence to a standardized, expert-validated evaluation framework was found to significantly improve the safety and reliability of chatbot responses.\\n\\n4. **Comprehensive Metrics**: The study highlights the need for comprehensive, expert-tailored safety evaluation metrics, especially for mental health chatbots. This includes extending evaluations to cover aspects like accuracy, bias, empathy, and privacy.\\n\\n5. **Building Trust**: Standardized evaluations are crucial for building trust among users and professionals, which is essential for the broader adoption and improved support through chatbot technology.\\n\\nIn summary, the paper concludes that while current benchmarks are useful, there is a significant need for more comprehensive and standardized evaluation frameworks to ensure the reliability and safety of chatbots, particularly in sensitive applications like mental health.',\n",
              "   'reference': {'must_mention': ['alternative', 'cheap']}}},\n",
              " 'aggregate_metrics': None}"
            ]
          },
          "execution_count": 38,
          "metadata": {},
          "output_type": "execute_result"
        }
      ],
      "source": [
        "client.run_on_dataset(\n",
        "    dataset_name=dataset_name,\n",
        "    llm_or_chain_factory=agent_chain,\n",
        "    evaluation=eval_config,\n",
        "    verbose=True,\n",
        "    project_name=f\"RAG Pipeline - Evaluation - {uuid4().hex[0:8]}\",\n",
        "    project_metadata={\"version\": \"1.0.0\"},\n",
        ")"
      ]
    },
    {
      "cell_type": "markdown",
      "metadata": {
        "id": "jhTNe4kWrplB"
      },
      "source": [
        "## Part 2: LangGraph with Helpfulness:"
      ]
    },
    {
      "cell_type": "markdown",
      "metadata": {
        "id": "w1wKRddbIY_S"
      },
      "source": [
        "### Task 3: Adding Helpfulness Check and \"Loop\" Limits\n",
        "\n",
        "Now that we've done evaluation - let's see if we can add an extra step where we review the content we've generated to confirm if it fully answers the user's query!\n",
        "\n",
        "We're going to make a few key adjustments to account for this:\n",
        "\n",
        "1. We're going to add an artificial limit on how many \"loops\" the agent can go through - this will help us to avoid the potential situation where we never exit the loop.\n",
        "2. We'll add to our existing conditional edge to obtain the behaviour we desire."
      ]
    },
    {
      "cell_type": "markdown",
      "metadata": {
        "id": "npTYJ8ayR5B3"
      },
      "source": [
        "First, let's define our state again - we can check the length of the state object, so we don't need additional state for this."
      ]
    },
    {
      "cell_type": "code",
      "execution_count": 39,
      "metadata": {
        "id": "-LQ84YhyJG0w"
      },
      "outputs": [],
      "source": [
        "class AgentState(TypedDict):\n",
        "  messages: Annotated[list, add_messages]"
      ]
    },
    {
      "cell_type": "markdown",
      "metadata": {
        "id": "sD7EV0HqSQcb"
      },
      "source": [
        "Now we can set our graph up! This process will be almost entirely the same - with the inclusion of one additional node/conditional edge!"
      ]
    },
    {
      "cell_type": "markdown",
      "metadata": {
        "id": "oajBwLkFVi1N"
      },
      "source": [
        "####🏗️ Activity #5:\n",
        "\n",
        "Please write markdown for the following cells to explain what each is doing."
      ]
    },
    {
      "cell_type": "markdown",
      "metadata": {
        "id": "M6rN7feNVn9f"
      },
      "source": [
        "##### 😀 YOUR MARKDOWN HERE\n",
        "\n",
        "- First, instantiate an empty graph with AgentState to be tracked throughout it.\n",
        "- Then, attach two nodes, 'agent (LLM call)' and 'action (tool call)', to the graph."
      ]
    },
    {
      "cell_type": "code",
      "execution_count": 40,
      "metadata": {
        "id": "6r6XXA5FJbVf"
      },
      "outputs": [],
      "source": [
        "graph_with_helpfulness_check = StateGraph(AgentState)\n",
        "\n",
        "graph_with_helpfulness_check.add_node(\"agent\", call_model)\n",
        "graph_with_helpfulness_check.add_node(\"action\", tool_node)"
      ]
    },
    {
      "cell_type": "markdown",
      "metadata": {
        "id": "XZ22o2mWVrfp"
      },
      "source": [
        "##### 😀 YOUR MARKDOWN HERE\n",
        "\n",
        "- Set the agent node as the entry point."
      ]
    },
    {
      "cell_type": "code",
      "execution_count": 41,
      "metadata": {
        "id": "HNWHwWxuRiLY"
      },
      "outputs": [],
      "source": [
        "graph_with_helpfulness_check.set_entry_point(\"agent\")"
      ]
    },
    {
      "cell_type": "markdown",
      "metadata": {
        "id": "rsXeF6xlaXOZ"
      },
      "source": [
        "##### 😀 YOUR MARKDOWN HERE\n",
        "- We define a function for a conditional edge that has an additional feature:\n",
        "    - If the length of messages exceeds 10, it automatically terminates the graph.\n",
        "    - When our agent provides an answer that is not a tool call, it assesses the helpfulness of the answer as 'Y' or 'N' using a third LLM (GPT-4).\n",
        "    - Based on the assessed helpfulness, it determines the next step: either to 'end' or 'continue.'"
      ]
    },
    {
      "cell_type": "code",
      "execution_count": 43,
      "metadata": {
        "id": "z_Sq3A9SaV1O"
      },
      "outputs": [],
      "source": [
        "from langchain_core.prompts import PromptTemplate\n",
        "from langchain_core.output_parsers import StrOutputParser\n",
        "\n",
        "def tool_call_or_helpful(state):\n",
        "  last_message = state[\"messages\"][-1]\n",
        "\n",
        "  if last_message.tool_calls:\n",
        "    return \"action\"\n",
        "\n",
        "  initial_query = state[\"messages\"][0]\n",
        "  final_response = state[\"messages\"][-1]\n",
        "\n",
        "  if len(state[\"messages\"]) > 10:\n",
        "    return \"END\"\n",
        "\n",
        "  prompt_template = \"\"\"\\\n",
        "  Given an initial query and a final response, determine if the final response is extremely helpful or not. Please indicate helpfulness with a 'Y' and unhelpfulness as an 'N'.\n",
        "\n",
        "  Initial Query:\n",
        "  {initial_query}\n",
        "\n",
        "  Final Response:\n",
        "  {final_response}\"\"\"\n",
        "\n",
        "  prompt_template = PromptTemplate.from_template(prompt_template)\n",
        "\n",
        "  helpfulness_check_model = ChatOpenAI(model=\"gpt-4\")\n",
        "\n",
        "  helpfulness_chain = prompt_template | helpfulness_check_model | StrOutputParser()\n",
        "\n",
        "  helpfulness_response = helpfulness_chain.invoke({\"initial_query\" : initial_query.content, \"final_response\" : final_response.content})\n",
        "\n",
        "  if \"Y\" in helpfulness_response:\n",
        "    return \"end\"\n",
        "  else:\n",
        "    return \"continue\""
      ]
    },
    {
      "cell_type": "markdown",
      "metadata": {
        "id": "Fz1u9Vf4SHxJ"
      },
      "source": [
        "####🏗️ Activity #4:\n",
        "\n",
        "Please write what is happening in our `tool_call_or_helpful` function!"
      ]
    },
    {
      "cell_type": "markdown",
      "metadata": {},
      "source": [
        "##### 😀 YOUR MARKDOWN HERE\n",
        "- The AgentState coming out of 'agent' node has there where-to-gos:\n",
        "    - If the LLM returns a tool-call message, it goes to the action node REGARDLESS OF the length of messages.\n",
        "    \n",
        "    - If the LLM returns a normal response, the length of messages is checked:\n",
        "        - If the length exceeds 10, the graph is terminated.\n",
        "        - Otherwise, the helpfulness evaluation chain is invoked for the response:\n",
        "            - 'Y' indicates the response is helpful, and 'N' indicates it is not.\n",
        "            - The graph ends if the response is marked 'Y.'\n",
        "            - If marked 'N,' the message is sent back to the LLM for a modified response."
      ]
    },
    {
      "cell_type": "code",
      "execution_count": 44,
      "metadata": {
        "id": "aVTKnWMbP_8T"
      },
      "outputs": [],
      "source": [
        "graph_with_helpfulness_check.add_conditional_edges(\n",
        "    \"agent\",\n",
        "    tool_call_or_helpful,\n",
        "    {\n",
        "        \"continue\" : \"agent\",\n",
        "        \"action\" : \"action\",\n",
        "        \"end\" : END\n",
        "    }\n",
        ")"
      ]
    },
    {
      "cell_type": "markdown",
      "metadata": {
        "id": "ZGDLEWOIVtK0"
      },
      "source": [
        "##### 😀 YOUR MARKDOWN HERE\n",
        "- Add an edge from the 'action' node to the 'agent' node, meaning that the output of the 'action' node will always be directed back to the 'agent' node."
      ]
    },
    {
      "cell_type": "code",
      "execution_count": 45,
      "metadata": {
        "id": "cbDK2MbuREgU"
      },
      "outputs": [],
      "source": [
        "graph_with_helpfulness_check.add_edge(\"action\", \"agent\")"
      ]
    },
    {
      "cell_type": "markdown",
      "metadata": {
        "id": "rSI8AOaEVvT-"
      },
      "source": [
        "##### 😀 YOUR MARKDOWN HERE\n",
        "- Convert our graph into a LangChain runnable to leverage runnable-related features like .invoke() and .stream()."
      ]
    },
    {
      "cell_type": "code",
      "execution_count": 46,
      "metadata": {
        "id": "oQldl8ERQ8lf"
      },
      "outputs": [],
      "source": [
        "agent_with_helpfulness_check = graph_with_helpfulness_check.compile()"
      ]
    },
    {
      "cell_type": "markdown",
      "metadata": {
        "id": "F67FGCMRVwGz"
      },
      "source": [
        "##### 😀 YOUR MARKDOWN HERE\n",
        "- Invoke our graph with astream method.\n",
        "    - Since AgentState is a dictionary with a key-value pair of 'messages' and a list of LangChain message objects, we pass in {\"messages\": [HumanMessage(content=\"Related to machine learning, what is LoRA? Also, who is Tim Dettmers? Also, what is Attention?\")]}\n",
        "    - Print out the output of each node."
      ]
    },
    {
      "cell_type": "code",
      "execution_count": 47,
      "metadata": {
        "colab": {
          "base_uri": "https://localhost:8080/"
        },
        "id": "B3oo8E-PRK1T",
        "outputId": "22470df4-9aa7-4751-95b6-d30ce71b17db"
      },
      "outputs": [
        {
          "name": "stdout",
          "output_type": "stream",
          "text": [
            "Receiving update from node: 'agent'\n",
            "[AIMessage(content='', additional_kwargs={'tool_calls': [{'id': 'call_jHFofuXGULCLUTygI5dNEd9U', 'function': {'arguments': '{\"query\": \"LoRA machine learning\"}', 'name': 'duckduckgo_search'}, 'type': 'function'}, {'id': 'call_iAo63iTyaDTmB3YzgGiwdwQV', 'function': {'arguments': '{\"query\": \"Tim Dettmers\"}', 'name': 'duckduckgo_search'}, 'type': 'function'}, {'id': 'call_vfUWO1q2zP8LZakBsi3LzKT3', 'function': {'arguments': '{\"query\": \"Attention in machine learning\"}', 'name': 'duckduckgo_search'}, 'type': 'function'}], 'refusal': None}, response_metadata={'token_usage': {'completion_tokens': 76, 'prompt_tokens': 171, 'total_tokens': 247}, 'model_name': 'gpt-4o-2024-05-13', 'system_fingerprint': 'fp_157b3831f5', 'finish_reason': 'tool_calls', 'logprobs': None}, id='run-a70d18fd-10e6-46b7-8eb9-0feecea21b08-0', tool_calls=[{'name': 'duckduckgo_search', 'args': {'query': 'LoRA machine learning'}, 'id': 'call_jHFofuXGULCLUTygI5dNEd9U', 'type': 'tool_call'}, {'name': 'duckduckgo_search', 'args': {'query': 'Tim Dettmers'}, 'id': 'call_iAo63iTyaDTmB3YzgGiwdwQV', 'type': 'tool_call'}, {'name': 'duckduckgo_search', 'args': {'query': 'Attention in machine learning'}, 'id': 'call_vfUWO1q2zP8LZakBsi3LzKT3', 'type': 'tool_call'}], usage_metadata={'input_tokens': 171, 'output_tokens': 76, 'total_tokens': 247})]\n",
            "\n",
            "\n",
            "\n",
            "Receiving update from node: 'action'\n",
            "[ToolMessage(content='Scaling to Larger Models: LoRA facilitates the expansion of AI models without a corresponding increase in computational resources, making the management of growing model sizes more practical. In the context of LoRA, the concept of rank plays a pivotal role in determining the efficiency and effectiveness of the adaptation process. Catastrophic forgetting, in simple terms, is when a machine learning model, like a neural network or artificial intelligence system, forgets how to perform a task it previously learned when it\\'s ... LoRA Learns Less and Forgets Less. Low-Rank Adaptation (LoRA) is a widely-used parameter-efficient finetuning method for large language models. LoRA saves memory by training only low rank perturbations to selected weight matrices. In this work, we compare the performance of LoRA and full finetuning on two target domains, programming and ... A Survey on LoRA of Large Language Models. Yuren Mao, Yuhang Ge, Yijiang Fan, Wenyi Xu, Yu Mi, Zhonghao Hu, Yunjun Gao. View a PDF of the paper titled A Survey on LoRA of Large Language Models, by Yuren Mao and 6 other authors. Low-Rank Adaptation~ (LoRA), which updates the dense neural network layers with pluggable low-rank matrices, is one of ... Fine tuning is the process of tailoring a machine learning model to a specific application, which can be vital in achieving consistent and high quality performance. In this article we\\'ll discuss \"Low-Rank Adaptation\" (LoRA), one of the most popular fine tuning strategies. First we\\'ll cover the theory, then we\\'ll use LoRA to fine tune a language model, improving its question answering ...', name='duckduckgo_search', tool_call_id='call_jHFofuXGULCLUTygI5dNEd9U'), ToolMessage(content=\"Allen School Ph.D. student Tim Dettmers accepted the grand prize for QLoRA, a novel approach to finetuning pretrained models that significantly reduces the amount of GPU memory required — from over 780GB to less than 48GB — to finetune a 65B parameter model. With QLoRA, the largest publicly available models can be finetuned on a single ... — Tim Dettmers is joining Ai2 as an AI researcher. Dettmers specializes in efficient deep learning at the intersection of machine learning, NLP, and computer systems with a focus on quantization ... Its purpose is to make cutting-edge research by Tim Dettmers, a leading academic expert on quantization and the use of deep learning hardware accelerators, accessible to the general public. QLoRA: One of the core contributions of bitsandbytes towards the democratization of AI. If you have a curiosity about how fancy graphics cards actually work, and why they are so well-suited to AI-type applications, then take a few minutes to read [Tim Dettmers] explain why this is so.… Name: Tim Dettmers, Ph.D. student at University of Washington Date: Tuesday, February 20, 2024 at 11:00 am Location: Coda Building, Second Floor, Room 230 (Google Maps link) Link: The recording of this in-person seminar will be uploaded to CSE's MediaSpace Title: Accessible Foundation Models: Systems, Algorithms, and Science Abstract: The ever-increasing scale of foundation models, such as ...\", name='duckduckgo_search', tool_call_id='call_iAo63iTyaDTmB3YzgGiwdwQV'), ToolMessage(content='Learn how attention mechanisms in deep learning enable models to focus on relevant information and improve performance in tasks such as machine translation, image captioning, and speech recognition. Understand the steps and components of attention mechanism architecture and see examples of its applications. Attention mechanism is a fundamental invention in artificial intelligence and machine learning, redefining the capabilities of deep learning models. This mechanism, inspired by the human mental process of selective focus, has emerged as a pillar in a variety of applications, accelerating developments in natural language processing, computer vision, and beyond. They all use transformer architecture with attention mechanisms at their core to solve problems across domains. In the Transformer series, we go over the ingredients that have made Transformers a universal recipe for machine learning. First up, we take a visual dive to understand the attention mechanism: Why transformers and attention took over. There are several types of attention mechanisms, each designed to cater to specific use cases. Here are a few notable ones: 1. Self-Attention Mechanism. Self-attention, also known as intra ... Feb 7, 2024. 122. 2. Transformers and attention mechanisms have revolutionized the field of deep learning, offering a powerful way to process sequential data and capture long-range dependencies ...', name='duckduckgo_search', tool_call_id='call_vfUWO1q2zP8LZakBsi3LzKT3')]\n",
            "\n",
            "\n",
            "\n",
            "Receiving update from node: 'agent'\n",
            "[AIMessage(content='### LoRA in Machine Learning\\n**LoRA (Low-Rank Adaptation)** is a parameter-efficient fine-tuning method for large language models. It works by updating dense neural network layers with pluggable low-rank matrices, which helps in saving memory and computational resources. This method is particularly useful for scaling AI models without a corresponding increase in computational resources, making it easier to manage growing model sizes. LoRA is widely used in fine-tuning large language models to specific applications, improving their performance in tasks like question answering.\\n\\n### Tim Dettmers\\n**Tim Dettmers** is a Ph.D. student at the University of Washington and a researcher specializing in efficient deep learning, particularly at the intersection of machine learning, natural language processing (NLP), and computer systems. He is known for his work on quantization and the use of deep learning hardware accelerators. One of his notable contributions is QLoRA, a novel approach to fine-tuning pretrained models that significantly reduces the amount of GPU memory required. This innovation allows for the fine-tuning of large models on more accessible hardware, democratizing the use of advanced AI models.\\n\\n### Attention in Machine Learning\\n**Attention mechanisms** are a fundamental invention in artificial intelligence and machine learning, enabling models to focus on relevant information and improve performance in various tasks such as machine translation, image captioning, and speech recognition. Inspired by the human mental process of selective focus, attention mechanisms have become a core component of transformer architectures, which are widely used in natural language processing, computer vision, and other domains. There are several types of attention mechanisms, including self-attention (intra-attention), which allows models to capture long-range dependencies and process sequential data more effectively.', additional_kwargs={'refusal': None}, response_metadata={'token_usage': {'completion_tokens': 349, 'prompt_tokens': 1183, 'total_tokens': 1532}, 'model_name': 'gpt-4o-2024-05-13', 'system_fingerprint': 'fp_157b3831f5', 'finish_reason': 'stop', 'logprobs': None}, id='run-8194f214-5520-4378-94ad-eed340786be5-0', usage_metadata={'input_tokens': 1183, 'output_tokens': 349, 'total_tokens': 1532})]\n",
            "\n",
            "\n",
            "\n"
          ]
        }
      ],
      "source": [
        "inputs = {\"messages\" : [HumanMessage(content=\"Related to machine learning, what is LoRA? Also, who is Tim Dettmers? Also, what is Attention?\")]}\n",
        "\n",
        "async for chunk in agent_with_helpfulness_check.astream(inputs, stream_mode=\"updates\"):\n",
        "    for node, values in chunk.items():\n",
        "        print(f\"Receiving update from node: '{node}'\")\n",
        "        print(values[\"messages\"])\n",
        "        print(\"\\n\\n\")"
      ]
    },
    {
      "cell_type": "markdown",
      "metadata": {
        "id": "yVmZPs6lnpsM"
      },
      "source": [
        "### Task 4: LangGraph for the \"Patterns\" of GenAI\n",
        "\n",
        "Let's ask our system about the 4 patterns of Generative AI:\n",
        "\n",
        "1. Prompt Engineering\n",
        "2. RAG\n",
        "3. Fine-tuning\n",
        "4. Agents"
      ]
    },
    {
      "cell_type": "code",
      "execution_count": 48,
      "metadata": {
        "id": "ZoLl7GlXoae-"
      },
      "outputs": [],
      "source": [
        "patterns = [\"prompt engineering\", \"RAG\", \"fine-tuning\", \"LLM-based agents\"]"
      ]
    },
    {
      "cell_type": "code",
      "execution_count": 49,
      "metadata": {
        "colab": {
          "base_uri": "https://localhost:8080/"
        },
        "id": "Zkh0YJuCp3Zl",
        "outputId": "0593c6f5-0a1d-41f6-960b-f32d101b3ade"
      },
      "outputs": [
        {
          "name": "stdout",
          "output_type": "stream",
          "text": [
            "**Prompt Engineering** is the process of designing and refining inputs (prompts) for generative artificial intelligence (AI) models to achieve desired outputs. This practice is crucial for optimizing AI performance in various tasks, such as generating marketing copy, answering customer inquiries, or creating content.\n",
            "\n",
            "### Key Developments in Prompt Engineering:\n",
            "\n",
            "1. **Early Days**: The concept can be traced back to the early days of code generation tools like CodeSmith and MyGeneration, which automated the generation of boilerplate code for common programming tasks.\n",
            "\n",
            "2. **Language Models and Information Retrieval Systems**: The evolution of prompt engineering began with early language models and information retrieval systems.\n",
            "\n",
            "3. **Attention Mechanisms (2015)**: The introduction of attention mechanisms revolutionized language understanding and significantly impacted prompt engineering.\n",
            "\n",
            "4. **Large Language Models (LLMs)**: The development of LLMs like OpenAI's GPT-3, released in 2020, marked a significant milestone. GPT-3's ability to generate human-like text brought prompt engineering into the spotlight, as it required more sophisticated prompts to harness its full potential.\n",
            "\n",
            "5. **InstructGPT**: The rise of models like InstructGPT further emphasized the importance of prompt engineering, as these models were designed to follow instructions more effectively.\n",
            "\n",
            "### When Did Prompt Engineering Break Onto the Scene?\n",
            "\n",
            "Prompt engineering became particularly prominent with the release of GPT-3 in 2020. This model's capabilities highlighted the need for well-crafted prompts to achieve accurate and relevant responses, making prompt engineering a critical skill in the field of AI and natural language processing.\n",
            "\n",
            "\n",
            "\n",
            "Retrieval-Augmented Generation (RAG) was introduced by Facebook AI Research (FAIR) in 2020. This technique has since gained significant attention in the field of natural language processing (NLP) for its ability to combine retrieval-based methods with generative models, thereby enhancing the accuracy and relevance of generated text.\n",
            "\n",
            "\n",
            "\n",
            "Fine-tuning is a process in machine learning where a pre-trained model is further trained on a new dataset to adapt it to a specific task. This approach leverages the knowledge the model has already acquired during its initial training on a large, general dataset, and refines it to perform well on a more specialized task. Fine-tuning is particularly useful in natural language processing (NLP) and computer vision, where large pre-trained models like BERT, GPT, and ResNet can be adapted to specific tasks such as sentiment analysis, text classification, or object detection.\n",
            "\n",
            "The concept of fine-tuning has been around for a while, but it gained significant attention and popularity with the advent of deep learning and the development of large pre-trained models. One of the key moments when fine-tuning became prominent was with the introduction of the ImageNet dataset and the success of models like AlexNet in 2012. In the NLP domain, the release of models like BERT (Bidirectional Encoder Representations from Transformers) by Google in 2018 and GPT (Generative Pre-trained Transformer) by OpenAI in 2018-2019 brought fine-tuning into the spotlight.\n",
            "\n",
            "Would you like more detailed information or specific articles on this topic?\n",
            "\n",
            "\n",
            "\n",
            "LLM-based agents, or Large Language Model-based agents, are artificial intelligence systems that leverage large language models to perform a variety of tasks. These tasks can include natural language understanding, text generation, translation, summarization, question answering, and more. The core technology behind these agents is typically a deep learning model trained on vast amounts of text data to understand and generate human-like text.\n",
            "\n",
            "### Key Characteristics of LLM-based Agents:\n",
            "1. **Natural Language Processing (NLP):** They excel in understanding and generating human language.\n",
            "2. **Contextual Understanding:** They can maintain context over long conversations or documents.\n",
            "3. **Versatility:** They can be fine-tuned for specific tasks or domains.\n",
            "4. **Scalability:** They can handle large-scale data and complex queries.\n",
            "\n",
            "### Breakthrough and Evolution:\n",
            "The concept of LLM-based agents has been evolving over the years, but significant breakthroughs can be traced back to a few key developments:\n",
            "\n",
            "1. **2018 - BERT (Bidirectional Encoder Representations from Transformers):** Developed by Google, BERT was one of the first models to achieve state-of-the-art results on a wide range of NLP tasks by understanding the context of words in search queries.\n",
            "   \n",
            "2. **2018 - GPT (Generative Pre-trained Transformer):** OpenAI's GPT model introduced the idea of pre-training a language model on a large corpus of text and then fine-tuning it for specific tasks. GPT-2, released in 2019, further demonstrated the potential of large-scale language models.\n",
            "\n",
            "3. **2020 - GPT-3:** OpenAI's GPT-3, with 175 billion parameters, marked a significant leap in the capabilities of language models. It could generate coherent and contextually relevant text, perform zero-shot learning, and handle a wide range of tasks without task-specific training.\n",
            "\n",
            "4. **2022 - ChatGPT:** OpenAI's ChatGPT, based on GPT-3, became widely popular for its conversational abilities, making it accessible to the general public and showcasing the practical applications of LLM-based agents.\n",
            "\n",
            "5. **2023 - GPT-4 and Beyond:** The development of even larger and more sophisticated models continues, with improvements in efficiency, accuracy, and the ability to understand and generate more nuanced and contextually appropriate text.\n",
            "\n",
            "### Applications:\n",
            "- **Customer Support:** Automated chatbots and virtual assistants.\n",
            "- **Content Creation:** Writing articles, generating marketing copy, and creative writing.\n",
            "- **Education:** Personalized tutoring and educational content generation.\n",
            "- **Healthcare:** Assisting in medical documentation and patient interaction.\n",
            "- **Research:** Summarizing scientific papers and generating hypotheses.\n",
            "\n",
            "The rise of LLM-based agents has been driven by advancements in computational power, availability of large datasets, and innovations in model architectures. These agents are now integral to many applications, transforming how we interact with technology and access information.\n",
            "\n",
            "\n",
            "\n"
          ]
        }
      ],
      "source": [
        "for pattern in patterns:\n",
        "  what_is_string = f\"What is {pattern} and when did it break onto the scene??\"\n",
        "  inputs = {\"messages\" : [HumanMessage(content=what_is_string)]}\n",
        "  messages = agent_with_helpfulness_check.invoke(inputs)\n",
        "  print(messages[\"messages\"][-1].content)\n",
        "  print(\"\\n\\n\")"
      ]
    },
    {
      "cell_type": "markdown",
      "metadata": {},
      "source": [
        "### 😀😀😀 LangSmith Traces"
      ]
    },
    {
      "cell_type": "markdown",
      "metadata": {},
      "source": [
        "![patten_image1](pattern_of_genai_1.png)\n",
        "![patten_image2](pattern_of_genai_2.png)\n",
        "![patten_image3](pattern_of_genai_3.png)\n",
        "![patten_image4](pattern_of_genai_4.png)"
      ]
    }
  ],
  "metadata": {
    "colab": {
      "provenance": []
    },
    "kernelspec": {
      "display_name": "Python 3",
      "name": "python3"
    },
    "language_info": {
      "codemirror_mode": {
        "name": "ipython",
        "version": 3
      },
      "file_extension": ".py",
      "mimetype": "text/x-python",
      "name": "python",
      "nbconvert_exporter": "python",
      "pygments_lexer": "ipython3",
      "version": "3.11.9"
    }
  },
  "nbformat": 4,
  "nbformat_minor": 0
}
